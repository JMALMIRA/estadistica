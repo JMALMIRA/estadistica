{
 "cells": [
  {
   "cell_type": "markdown",
   "metadata": {},
   "source": [
    "<font color=\"blue\">4. La longitud de tornillo sigue un distribución normal con media m y y desviación típica 0.3. ¿Cuál debe ser el tamaño mínimo de la muestra para que la probabilidad de que la media muestral difiera de la media en (a lo sumo) 0.2 cm sea de 0.99?</font>\n",
    "\n",
    "\n",
    "<h3>Solución. </h3>  Si la muestra tiene tamaño $n$, entonces $$\\overline{X}\\sim N(m,\\frac{0.3}{\\sqrt{n}}).$$\n",
    "Por tanto, \n",
    "$$\\frac{\\overline{X}-m}{\\frac{0.3}{\\sqrt{n}}}\\sim N(1,0).$$\n",
    "Además, \n",
    "$$\\left|\\overline{X}-m\\right|<0.2 \\Leftrightarrow \\left|\\frac{\\overline{X}-m}{\\frac{0.3}{\\sqrt{n}}}\\right|< \\frac{0.2}{\\frac{0.3}{\\sqrt{n}}} = \\frac{0.2\\sqrt{n}}{0.3} = \\frac{2}{3}\\sqrt{n}$$\n",
    "De modo que \n",
    "$$ P\\left(\\left|\\overline{X}-m\\right|<0.2 \\right) = 0.99 \\Leftrightarrow P\\left(\\left|\\frac{\\overline{X}-m}{\\frac{0.3}{\\sqrt{n}}}\\right|< \\frac{2}{3}\\sqrt{n}\\right) = 0.99$$\n",
    "Como la distribución normal $N(0,1)$ es simétrica respecto del origen, podemos concluir que el area que hay en la cola a partir de $\\frac{2}{3}\\sqrt{n}$ es $0.005$, por lo que $\\frac{2}{3}\\sqrt{n}$ debe coincidir con el percentil $0.995$\n"
   ]
  },
  {
   "cell_type": "code",
   "execution_count": 4,
   "metadata": {},
   "outputs": [
    {
     "data": {
      "text/plain": [
       "2.5758293035489004"
      ]
     },
     "execution_count": 4,
     "metadata": {},
     "output_type": "execute_result"
    }
   ],
   "source": [
    "from scipy.stats import norm\n",
    "X=norm(0,1)\n",
    "X.ppf(0.995)"
   ]
  },
  {
   "cell_type": "markdown",
   "metadata": {},
   "source": [
    "\n",
    "\n",
    "De modo que $$\\frac{2}{3}\\sqrt{n}=2.575829$$\n",
    "Equivalentemente, \n",
    "$$\\left(\\frac{3}{2}2.575829\\right)^2=n$$\n"
   ]
  },
  {
   "cell_type": "code",
   "execution_count": 6,
   "metadata": {},
   "outputs": [
    {
     "data": {
      "text/plain": [
       "14.92851735229773"
      ]
     },
     "execution_count": 6,
     "metadata": {},
     "output_type": "execute_result"
    }
   ],
   "source": [
    "n=(3/2*X.ppf(0.995))**2\n",
    "n"
   ]
  },
  {
   "cell_type": "markdown",
   "metadata": {},
   "source": [
    "El tamaño de la muestra debe ser $n=15$. De hecho, cualquier valor entero superior a 14 nos sirve. "
   ]
  },
  {
   "cell_type": "markdown",
   "metadata": {},
   "source": [
    "<font color=\"blue\"> 5. Se sabe que el 45% de una población de votantes está a favor del partido A y el resto a favor del partido B.\n",
    "\n",
    "*    Se hace una encuesta a 100 personas, ¿cuál es la probabilidad de que esta encuesta de como\n",
    "vencedor al partido A? ¿Cuál es la probabilidad de que la proporción de votantes del partido A en esta muestra esté entre 44% y 46%?\n",
    "*     Se hace una encuesta a 1000 personas, ¿cuál es la probabilidad de que esta encuesta de como\n",
    "vencedor al partido A? Comparar con el resultado obtenido en el apartado anterior.</font> \n",
    "\n",
    "\n",
    "<h3>Solución. </h3> Sabemos que la proporción muestral $\\hat{p}$ satisface $$\\hat{p}\\sim N(p,\\sqrt{\\frac{p(1-p)}{n}})$$\n",
    "\n"
   ]
  },
  {
   "cell_type": "code",
   "execution_count": 1,
   "metadata": {},
   "outputs": [
    {
     "data": {
      "text/plain": [
       "0.049749371855331"
      ]
     },
     "execution_count": 1,
     "metadata": {},
     "output_type": "execute_result"
    }
   ],
   "source": [
    "p=0.45\n",
    "n=100\n",
    "(p*(1-p)/n)**0.5"
   ]
  },
  {
   "cell_type": "markdown",
   "metadata": {},
   "source": [
    "\n",
    "Por tanto, $\\hat{p}\\sim N(0.45, 0.04974937)$ y nos piden:\n",
    "\n",
    "*  La probabilidad de que la encuesta de como vencedor a $A$.\n",
    "\n",
    "Esto coincide con $P[\\hat{p}>0.5]=1-P[\\hat{p}\\leq 0.5]$, que es:\n",
    "\n"
   ]
  },
  {
   "cell_type": "code",
   "execution_count": 4,
   "metadata": {},
   "outputs": [
    {
     "data": {
      "text/plain": [
       "0.15743931164448965"
      ]
     },
     "execution_count": 4,
     "metadata": {},
     "output_type": "execute_result"
    }
   ],
   "source": [
    "from scipy.stats import norm\n"
   ]
  },
  {
   "cell_type": "markdown",
   "metadata": {},
   "source": [
    "* La probabilidad de que proporción de votantes de $A$ esté entre 0.44 y 0.46.\n",
    "\n",
    "Esto es, queremos conocer $P(0.44\\leq \\hat{p}\\leq 0.46)$\n"
   ]
  },
  {
   "cell_type": "code",
   "execution_count": 5,
   "metadata": {},
   "outputs": [
    {
     "data": {
      "text/plain": [
       "0.15930734555606652"
      ]
     },
     "execution_count": 5,
     "metadata": {},
     "output_type": "execute_result"
    }
   ],
   "source": [
    "X.cdf(0.46)-X.cdf(0.44)"
   ]
  },
  {
   "cell_type": "markdown",
   "metadata": {},
   "source": [
    "* Se hace una encuesta a 1000 personas, ¿cuál es la probabilidad de que esta encuesta de como\n",
    "vencedor al partido A? Comparar con el resultado obtenido en el apartado anterior.\n",
    "\n",
    "En este caso $n=1000$ de modo que: \n",
    " \n",
    "\n"
   ]
  },
  {
   "cell_type": "code",
   "execution_count": 6,
   "metadata": {},
   "outputs": [
    {
     "data": {
      "text/plain": [
       "0.015732132722552274"
      ]
     },
     "execution_count": 6,
     "metadata": {},
     "output_type": "execute_result"
    }
   ],
   "source": [
    "p=0.45\n",
    "n=1000\n",
    "(p*(1-p)/n)**0.5"
   ]
  },
  {
   "cell_type": "markdown",
   "metadata": {},
   "source": [
    "\n",
    "$$\\hat{p}\\sim N(0.45, 0.01573213)$$\n",
    "y ahora $$P[\\hat{p}>0.5]=1-P[\\hat{p}\\leq 0.5]$$ vale:\n"
   ]
  },
  {
   "cell_type": "code",
   "execution_count": 7,
   "metadata": {},
   "outputs": [
    {
     "data": {
      "text/plain": [
       "0.0007409389817195633"
      ]
     },
     "execution_count": 7,
     "metadata": {},
     "output_type": "execute_result"
    }
   ],
   "source": [
    "X=norm(0.45, 0.01573213)\n",
    "1-X.cdf(0.5)"
   ]
  },
  {
   "cell_type": "markdown",
   "metadata": {},
   "source": [
    "\n",
    "Es evidente que cuanto mayor sea el tamaño de la muestra, más preciso será el resultado de la predicción estimada por $\\hat{p}$ y, por tanto, más improbable será que la encuesta arroje un resultado erróneo.  \n"
   ]
  },
  {
   "cell_type": "code",
   "execution_count": null,
   "metadata": {},
   "outputs": [],
   "source": []
  }
 ],
 "metadata": {
  "kernelspec": {
   "display_name": "Python 3",
   "language": "python",
   "name": "python3"
  },
  "language_info": {
   "codemirror_mode": {
    "name": "ipython",
    "version": 3
   },
   "file_extension": ".py",
   "mimetype": "text/x-python",
   "name": "python",
   "nbconvert_exporter": "python",
   "pygments_lexer": "ipython3",
   "version": "3.7.6"
  }
 },
 "nbformat": 4,
 "nbformat_minor": 4
}
