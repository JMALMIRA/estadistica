{
 "cells": [
  {
   "cell_type": "markdown",
   "metadata": {},
   "source": [
    "## Ej. 1. \n",
    "<font color='blue'> Una urna contiene 10 bolas de las cuales 6 son rojas y 4 negras. Se sacan al azar tres bolas consecutivamente y sin reemplazamiento. Sea X la variable aleatoria ``número de bolas negras obtenidas''. Se pide:\n",
    "</font>    \n",
    "* <font color='blue'>Calcula P(X = 0), P(X = 1), P(X = 2) y P(X = 3)</font>  \n",
    "* <font color='blue'>Calcular la función de probabilidad y la función de distribución de X. Representa ambas funciones gráficamente.</font>  \n",
    "* <font color='blue'>Calcular la esperanza, la varianza y la desviación típica de X.</font>  \n",
    "* <font color='blue'>Haz un programa que simule la variable anterior. Genera 1000 datos y compara sus tablas de frecuencias relativas y relativas acumuladas, barplot, media y varianza con los resultados de los apartados anteriores.\n",
    "</font> \n",
    "\n"
   ]
  },
  {
   "cell_type": "markdown",
   "metadata": {},
   "source": [
    "Antes de empezar, conviene cargar los paquetes que podamos necesitar"
   ]
  },
  {
   "cell_type": "code",
   "execution_count": 1,
   "metadata": {},
   "outputs": [],
   "source": [
    "import pandas as pd\n",
    "import numpy as np\n",
    "import matplotlib.pyplot as plt\n",
    "import random\n",
    "from collections import Counter"
   ]
  },
  {
   "cell_type": "markdown",
   "metadata": {},
   "source": [
    "Lo primero que hacemos es calcular la función densidad de probabilidad de la v.a. X. Esta variable toma valores en $\\{0,1,2,3\\}$ pues a lo sumo habrá tres bolas negras y,mevidentemente, podría no salir ninguna. \n",
    "<<>>=\n",
    "val <- c(0,1,2,3)\n",
    "val\n",
    "@\n",
    "Las probabilidades se calculan contanto caos favorables frente a casos totales. Por ejemplo, $P(X=0)$ es la probabilidad de que todas las bolas extraidas sean rojas, lo que se puede hacer de $\\binom{6}{3}=\\frac{4\\cdot 5\\cdot 6}{1\\cdot 2\\cdot 3}=20$ formas. Mientras que extraer 3 bolas de la urna (de 10) se puede hacer de $\\binom{10}{3}=\\frac{8\\cdot 9\\cdot 10}{1\\cdot 2\\cdot 3}=120$ formas, por lo que $P(X=0)=20/120$. El resto de probabilidades se calculan de forma similar."
   ]
  },
  {
   "cell_type": "code",
   "execution_count": 2,
   "metadata": {},
   "outputs": [
    {
     "data": {
      "text/plain": [
       "array([0, 1, 2, 3])"
      ]
     },
     "execution_count": 2,
     "metadata": {},
     "output_type": "execute_result"
    }
   ],
   "source": [
    "val=np.array([0,1,2,3])\n",
    "val"
   ]
  },
  {
   "cell_type": "code",
   "execution_count": 3,
   "metadata": {},
   "outputs": [
    {
     "data": {
      "text/plain": [
       "array([0.16666667, 0.5       , 0.3       , 0.03333333])"
      ]
     },
     "execution_count": 3,
     "metadata": {},
     "output_type": "execute_result"
    }
   ],
   "source": [
    "prob=np.array([20/120, 60/120, 36/120, 4/120])\n",
    "prob"
   ]
  },
  {
   "cell_type": "code",
   "execution_count": 4,
   "metadata": {},
   "outputs": [
    {
     "name": "stdout",
     "output_type": "stream",
     "text": [
      "Cumulative sum of probabilities: [0.16666667 0.66666667 0.96666667 1.        ]\n"
     ]
    }
   ],
   "source": [
    "cumsum_prob = np.cumsum(prob)\n",
    "print(\"Cumulative sum of probabilities:\", cumsum_prob)"
   ]
  },
  {
   "cell_type": "markdown",
   "metadata": {},
   "source": [
    "Obsérvese que val==h es un vector del mismo tamaño que val, obtenido de averiguar componente a componente cuál vale h, por tanto, como val y prob tienen el mismo tamaño, podemos hacer prob[val==h] para filtrar  la componente de prob donde se da la igualdad,\n",
    "lo cual permite definir la función densidad de probablidad:"
   ]
  },
  {
   "cell_type": "code",
   "execution_count": 5,
   "metadata": {},
   "outputs": [],
   "source": [
    "def f(x):\n",
    "    return np.sum(prob[val == x])"
   ]
  },
  {
   "cell_type": "code",
   "execution_count": 6,
   "metadata": {},
   "outputs": [
    {
     "data": {
      "text/plain": [
       "0.5"
      ]
     },
     "execution_count": 6,
     "metadata": {},
     "output_type": "execute_result"
    }
   ],
   "source": [
    "f(1)"
   ]
  },
  {
   "cell_type": "code",
   "execution_count": 7,
   "metadata": {},
   "outputs": [
    {
     "data": {
      "text/plain": [
       "0.0"
      ]
     },
     "execution_count": 7,
     "metadata": {},
     "output_type": "execute_result"
    }
   ],
   "source": [
    "f(2/3)"
   ]
  },
  {
   "cell_type": "markdown",
   "metadata": {},
   "source": [
    "Resulta muy útil modificar la función f para que esta pueda aplicarse directamente a vectores - de modo que: $$f([x_1,\\cdots,x_k])=[f(x_1),\\cdots,f(x_k)]$$\n",
    "(eso facilita, por ejemplo, dibujar f). \n",
    "\n",
    "Esto se consigue con la orden siguiente:"
   ]
  },
  {
   "cell_type": "code",
   "execution_count": 8,
   "metadata": {},
   "outputs": [],
   "source": [
    "f_vec = np.vectorize(f)"
   ]
  },
  {
   "cell_type": "code",
   "execution_count": 9,
   "metadata": {},
   "outputs": [
    {
     "data": {
      "text/plain": [
       "array([0.5       , 0.03333333])"
      ]
     },
     "execution_count": 9,
     "metadata": {},
     "output_type": "execute_result"
    }
   ],
   "source": [
    "f_vec([1,3])"
   ]
  },
  {
   "cell_type": "markdown",
   "metadata": {},
   "source": [
    "Alternativamente, también podemos programar la vectorización de la función:"
   ]
  },
  {
   "cell_type": "code",
   "execution_count": 10,
   "metadata": {},
   "outputs": [],
   "source": [
    "def f_vec(val):\n",
    "    result=[]\n",
    "    for _ in val:\n",
    "        result.append(f(_))\n",
    "    return result"
   ]
  },
  {
   "cell_type": "code",
   "execution_count": 11,
   "metadata": {},
   "outputs": [
    {
     "data": {
      "text/plain": [
       "[0.5, 0.03333333333333333]"
      ]
     },
     "execution_count": 11,
     "metadata": {},
     "output_type": "execute_result"
    }
   ],
   "source": [
    "f_vec([1,3])"
   ]
  },
  {
   "cell_type": "markdown",
   "metadata": {},
   "source": [
    "Ahora podemos definir la función de distribución:"
   ]
  },
  {
   "cell_type": "code",
   "execution_count": 12,
   "metadata": {},
   "outputs": [],
   "source": [
    "# Define the function F(x) which computes the cumulative sum of probabilities up to x\n",
    "def F(x):\n",
    "    return np.sum(prob[val <= x])\n",
    "\n",
    "# Vectorize the function F for the entire val range\n",
    "F_vec = np.vectorize(F)"
   ]
  },
  {
   "cell_type": "markdown",
   "metadata": {},
   "source": [
    "Ahora pintamos ambas funciones: la Pmf y la función de Distribución:"
   ]
  },
  {
   "cell_type": "code",
   "execution_count": 13,
   "metadata": {},
   "outputs": [
    {
     "data": {
      "image/png": "[encoded data removed]",
      "text/plain": [
       "<Figure size 720x432 with 2 Axes>"
      ]
     },
     "metadata": {
      "needs_background": "light"
     },
     "output_type": "display_data"
    }
   ],
   "source": [
    "# Gráficas \n",
    "\n",
    "plt.figure(figsize=(10, 6))\n",
    "\n",
    "# Gráfica de la función densidad de probabilidad (PMF) f_X\n",
    "plt.subplot(1, 2, 1)\n",
    "plt.stem(val, f_vec(val), basefmt=\" \", use_line_collection=True)\n",
    "plt.title(\"PMF de X\")\n",
    "plt.xlabel(\"k\")\n",
    "plt.ylabel(\"P(X = k)\")\n",
    "plt.grid(True)\n",
    "\n",
    "# Gráfica de la función distribución de probabilidad (CDF) F_X\n",
    "plt.subplot(1, 2, 2)\n",
    "x_vals = np.array([min(val)-1, *val, max(val)+1])  # Auxiliary variable for extended range\n",
    "plt.step(x_vals, F_vec(x_vals), where='post', color='r', linestyle='-')\n",
    "plt.title(\"CDF de X\")\n",
    "plt.xlabel(\"k\")\n",
    "plt.ylabel(\"P(X ≤ k)\")\n",
    "plt.grid(True)\n",
    "\n",
    "# Mostramos las gráficas\n",
    "plt.tight_layout()\n",
    "plt.show()"
   ]
  },
  {
   "cell_type": "markdown",
   "metadata": {},
   "source": [
    "\n",
    "Ahora podemos calcular media, varianza, etc. de la v.a. X. \n",
    "\n"
   ]
  },
  {
   "cell_type": "code",
   "execution_count": 15,
   "metadata": {},
   "outputs": [
    {
     "name": "stdout",
     "output_type": "stream",
     "text": [
      "Media : 1.2000000000000002\n",
      "Varianza : 0.5599999999999999\n",
      "Desviación típica : 0.7483314773547882\n"
     ]
    }
   ],
   "source": [
    "# Cálculo de la media (o esperanza)\n",
    "media_X = np.sum(val * f_vec(val))\n",
    "print(\"Media :\", media_X)\n",
    "\n",
    "# Cálculo de la varianza \n",
    "var_X = np.sum((val - media_X)**2 * f_vec(val))\n",
    "print(\"Varianza :\", var_X)\n",
    "\n",
    "# Cálculo de la desviación típica\n",
    "dt_X = np.sqrt(var_X)\n",
    "print(\"Desviación típica :\", dt_X)"
   ]
  },
  {
   "cell_type": "markdown",
   "metadata": {},
   "source": [
    "Hacemos ahora un programa que simule la variable. Esto se logra usando randon.choice con la distribución de probabilidades de la v.a. \n",
    "\n",
    "Utilizamos el programa que hemos creado para generar 10000 datos y comparamos sus tablas de frecuencias relativas y relativas acumuladas, barplot, media y varianza con los resultados de los apartados anteriores."
   ]
  },
  {
   "cell_type": "code",
   "execution_count": 16,
   "metadata": {},
   "outputs": [
    {
     "name": "stdout",
     "output_type": "stream",
     "text": [
      "Frequency table: 0    0.1678\n",
      "1    0.4894\n",
      "2    0.3067\n",
      "3    0.0361\n",
      "dtype: float64\n",
      "Cumulative frequency table: 0    0.1678\n",
      "1    0.6572\n",
      "2    0.9639\n",
      "3    1.0000\n",
      "dtype: float64\n"
     ]
    }
   ],
   "source": [
    "# Generate 10000 samples from the distribution defined by prob\n",
    "datos = np.random.choice(val, size=10000, p=prob, replace=True)\n",
    "\n",
    "# Frequency table and its cumulative sum\n",
    "tabla_frec = pd.Series(datos).value_counts(normalize=True).sort_index()\n",
    "tabla_frec_acum = tabla_frec.cumsum()\n",
    "\n",
    "print(\"Frequency table:\", tabla_frec)\n",
    "print(\"Cumulative frequency table:\", tabla_frec_acum)"
   ]
  },
  {
   "cell_type": "code",
   "execution_count": 17,
   "metadata": {},
   "outputs": [
    {
     "data": {
      "image/png": "[encoded data removed]",
      "text/plain": [
       "<Figure size 720x432 with 1 Axes>"
      ]
     },
     "metadata": {
      "needs_background": "light"
     },
     "output_type": "display_data"
    }
   ],
   "source": [
    "# Plot the frequency table\n",
    "plt.figure(figsize=(10, 6))\n",
    "tabla_frec.plot(kind='bar', color='skyblue')\n",
    "plt.title('Frequency Table')\n",
    "plt.xlabel('Value')\n",
    "plt.ylabel('Relative Frequency')\n",
    "plt.show()"
   ]
  },
  {
   "cell_type": "code",
   "execution_count": 18,
   "metadata": {},
   "outputs": [
    {
     "data": {
      "image/png": "[encoded data removed]",
      "text/plain": [
       "<Figure size 720x432 with 1 Axes>"
      ]
     },
     "metadata": {
      "needs_background": "light"
     },
     "output_type": "display_data"
    }
   ],
   "source": [
    "# Plot the cumulative frequency table\n",
    "plt.figure(figsize=(10, 6))\n",
    "tabla_frec_acum.plot(kind='bar', color='orange')\n",
    "plt.title('Cumulative Frequency Table')\n",
    "plt.xlabel('Value')\n",
    "plt.ylabel('Cumulative Frequency')\n",
    "plt.show()"
   ]
  },
  {
   "cell_type": "markdown",
   "metadata": {},
   "source": [
    "# Otro modo de simular la v.a. es mediante el cálculo de percentiles: "
   ]
  },
  {
   "cell_type": "code",
   "execution_count": 19,
   "metadata": {},
   "outputs": [
    {
     "data": {
      "text/plain": [
       "[1, 1, 2]"
      ]
     },
     "execution_count": 19,
     "metadata": {},
     "output_type": "execute_result"
    }
   ],
   "source": [
    "# Function to compute the percentile \n",
    "def percentile(p):\n",
    "    for a in val:\n",
    "        if F(a) >= p:\n",
    "            return a\n",
    "        \n",
    "## Aquí es importante observar que val se presenta ordenado de menor a mayor \n",
    "## y se lee (con el for) de izquierda a derecha\n",
    "\n",
    "percentile_vec = np.vectorize(percentile)\n",
    "Q1,Q2,Q3=percentile_vec([0.25,0.5,0.75])\n",
    "[Q1,Q2,Q3]"
   ]
  },
  {
   "cell_type": "markdown",
   "metadata": {},
   "source": [
    "Ahora podemos generar 10000 muestras de $U\\sim {\\rm Unif}(0,1)$ y calcular sus percentiles:"
   ]
  },
  {
   "cell_type": "code",
   "execution_count": 20,
   "metadata": {},
   "outputs": [],
   "source": [
    "# Generate 10,000 random numbers between 0 and 1\n",
    "random_values = np.random.uniform(0, 1, 10000)\n",
    "\n",
    "# Compute the percentiles for the random values\n",
    "datos = percentile_vec(random_values)"
   ]
  },
  {
   "cell_type": "code",
   "execution_count": 21,
   "metadata": {},
   "outputs": [
    {
     "name": "stdout",
     "output_type": "stream",
     "text": [
      "Frequency table: 0    0.1705\n",
      "1    0.4963\n",
      "2    0.2992\n",
      "3    0.0340\n",
      "dtype: float64\n",
      "Cumulative frequency table: 0    0.1705\n",
      "1    0.6668\n",
      "2    0.9660\n",
      "3    1.0000\n",
      "dtype: float64\n"
     ]
    }
   ],
   "source": [
    "# Frequency table and its cumulative sum\n",
    "tabla_frec = pd.Series(datos).value_counts(normalize=True).sort_index()\n",
    "tabla_frec_acum = tabla_frec.cumsum()\n",
    "\n",
    "print(\"Frequency table:\", tabla_frec)\n",
    "print(\"Cumulative frequency table:\", tabla_frec_acum)"
   ]
  },
  {
   "cell_type": "code",
   "execution_count": 22,
   "metadata": {},
   "outputs": [
    {
     "data": {
      "image/png": "[encoded data removed]",
      "text/plain": [
       "<Figure size 720x432 with 1 Axes>"
      ]
     },
     "metadata": {
      "needs_background": "light"
     },
     "output_type": "display_data"
    }
   ],
   "source": [
    "# Plot the frequency table\n",
    "plt.figure(figsize=(10, 6))\n",
    "tabla_frec.plot(kind='bar', color='skyblue')\n",
    "plt.title('Frequency Table')\n",
    "plt.xlabel('Value')\n",
    "plt.ylabel('Relative Frequency')\n",
    "plt.show()"
   ]
  },
  {
   "cell_type": "code",
   "execution_count": 23,
   "metadata": {},
   "outputs": [
    {
     "data": {
      "image/png": "[encoded data removed]",
      "text/plain": [
       "<Figure size 720x432 with 1 Axes>"
      ]
     },
     "metadata": {
      "needs_background": "light"
     },
     "output_type": "display_data"
    }
   ],
   "source": [
    "plt.figure(figsize=(10, 6))\n",
    "tabla_frec_acum.plot(kind='bar', color='orange')\n",
    "plt.title('Cumulative Frequency Table')\n",
    "plt.xlabel('Value')\n",
    "plt.ylabel('Cumulative Frequency')\n",
    "plt.show()"
   ]
  },
  {
   "cell_type": "code",
   "execution_count": 24,
   "metadata": {},
   "outputs": [
    {
     "name": "stdout",
     "output_type": "stream",
     "text": [
      "Empirical Mean: 1.1967, Theoretical Mean: 1.2000000000000002\n",
      "Empirical Variance: 0.5670091100000001, Theoretical Variance: 0.5599999999999999\n",
      "Empirical Standard Deviation: 0.7530000730411652, Theoretical Standard Deviation: 0.7483314773547882\n",
      "Empirical Quantiles (25%, 50%, 75%): [1. 1. 2.]\n",
      "Theoretical Percentiles (25%, 50%, 75%): [1 1 2]\n"
     ]
    }
   ],
   "source": [
    "# Compare the theoretical and empirical mean, variance, and standard deviation\n",
    "print(f\"Empirical Mean: {np.mean(datos)}, Theoretical Mean: {media_X}\")\n",
    "print(f\"Empirical Variance: {np.var(datos)}, Theoretical Variance: {var_X}\")\n",
    "print(f\"Empirical Standard Deviation: {np.std(datos)}, Theoretical Standard Deviation: {dt_X}\")\n",
    "\n",
    "# Quantiles (25th, 50th, 75th percentiles)\n",
    "Q = np.quantile(datos, [0.25, 0.5, 0.75])\n",
    "print(\"Empirical Quantiles (25%, 50%, 75%):\", Q)\n",
    "\n",
    "# Theoretical percentiles\n",
    "percentiles = np.array([percentile(0.25), percentile(0.5), percentile(0.75)])\n",
    "print(\"Theoretical Percentiles (25%, 50%, 75%):\", percentiles)"
   ]
  },
  {
   "cell_type": "markdown",
   "metadata": {},
   "source": [
    "\n",
    "## 2. \n",
    "<font color='blue'> Los posibles valores de una variable aleatoria X así como su función de probabilidad aparecen en la siguiente tabla:</font>\n"
   ]
  },
  {
   "cell_type": "code",
   "execution_count": 25,
   "metadata": {},
   "outputs": [],
   "source": [
    "#   1    2   3     4    5    6    7    8  9     10\n",
    "# 0.04 0.06 0.04 0.06 0.04 0.06 0.04 0.06 0.04 0.06\n",
    "#   11  12  13    14   15    16  17   18   19   20\n",
    "# 0.04 0.06 0.04 0.06 0.04 0.06 0.04 0.06 0.04 0.06"
   ]
  },
  {
   "cell_type": "markdown",
   "metadata": {},
   "source": [
    "* <font color='blue'> Calcula la función de distribución </font>\n",
    "* <font color='blue'> Dibuja las funciones de densidad y distribución.</font>\n",
    "* <font color='blue'> Escribe una función que calcule percentiles de X. </font>\n",
    "* <font color='blue'> Calcula los cuartiles Q1, Q2 y Q3, el rango intercuartílico e indica si hay datos atípicos. </font>\n",
    "* <font color='blue'> Calcula las siguientes probabilidades:</font>\n"
   ]
  },
  {
   "cell_type": "code",
   "execution_count": 26,
   "metadata": {},
   "outputs": [],
   "source": [
    "# • P(X ≤ 5)\n",
    "# • P(X < 17)\n",
    "# • P(X > 12)\n",
    "# • P(X ≥ 7)\n",
    "# • P(4 < X < 15)\n",
    "# • P(4 ≤ X ≤ 15)\n",
    "# • P(4 < X ≤ 15)\n",
    "# • P(4 ≤ X < 15)"
   ]
  },
  {
   "cell_type": "markdown",
   "metadata": {},
   "source": [
    "* <font color='blue'> Calcula $E[3X^2-X]$ </font>\n",
    "\n",
    "* <font color='blue'> Haz un programa que simule la variable anterior. Genera 1000 datos y compara sus tablas de frecuencias relativas y relativas acumuladas, barplot, media, varianza, cuartiles y boxplot con los resultados de los apartados anteriores.</font> "
   ]
  },
  {
   "cell_type": "markdown",
   "metadata": {},
   "source": [
    "<strong> Solución: </strong> Comenzamos con el cálculo de la función de densidad y la función de distribución:"
   ]
  },
  {
   "cell_type": "code",
   "execution_count": 27,
   "metadata": {},
   "outputs": [],
   "source": [
    "import numpy as np\n",
    "\n",
    "# Equivalente a val = 1:20 en R\n",
    "val = np.arange(1, 21)\n",
    "\n",
    "# Alterna 0.04 y 0.06, repetido 10 veces\n",
    "prob = np.tile([0.04, 0.06], 10)\n",
    "\n",
    "# f(x): devuelve la probabilidad asociada al valor x\n",
    "def f(x):\n",
    "    return prob[val == x]\n",
    "\n",
    "# Vectoriza la función para que acepte arrays\n",
    "f = np.vectorize(f)\n",
    "\n",
    "# F(x): suma acumulada de probabilidades para val <= x\n",
    "def F(x):\n",
    "    return np.sum(prob[val <= x])\n",
    "\n",
    "# Vectoriza también esta función\n",
    "F = np.vectorize(F)"
   ]
  },
  {
   "cell_type": "markdown",
   "metadata": {},
   "source": [
    "Ahora las pintamos:"
   ]
  },
  {
   "cell_type": "code",
   "execution_count": 28,
   "metadata": {},
   "outputs": [
    {
     "data": {
      "image/png": "[encoded data removed]",
      "text/plain": [
       "<Figure size 720x432 with 2 Axes>"
      ]
     },
     "metadata": {
      "needs_background": "light"
     },
     "output_type": "display_data"
    }
   ],
   "source": [
    "# Gráficas \n",
    "\n",
    "plt.figure(figsize=(10, 6))\n",
    "\n",
    "# Gráfica de la función densidad de probabilidad (PMF) f_X\n",
    "plt.subplot(1, 2, 1)\n",
    "plt.stem(val, f_vec(val), basefmt=\" \", use_line_collection=True)\n",
    "plt.title(\"PMF de X\")\n",
    "plt.xlabel(\"k\")\n",
    "plt.ylabel(\"P(X = k)\")\n",
    "plt.grid(True)\n",
    "\n",
    "# Gráfica de la función distribución de probabilidad (CDF) F_X\n",
    "plt.subplot(1, 2, 2)\n",
    "x_vals = np.array([min(val)-1, *val, max(val)+1])  # Auxiliary variable for extended range\n",
    "plt.step(x_vals, F_vec(x_vals), where='post', color='r', linestyle='-')\n",
    "plt.title(\"CDF de X\")\n",
    "plt.xlabel(\"k\")\n",
    "plt.ylabel(\"P(X ≤ k)\")\n",
    "plt.grid(True)\n",
    "\n",
    "# Mostramos las gráficas\n",
    "plt.tight_layout()\n",
    "plt.show()"
   ]
  },
  {
   "cell_type": "markdown",
   "metadata": {},
   "source": [
    "\n",
    "* <font color='blue'> Escribe una función que calcule percentiles de X. </font>\n",
    "* <font color='blue'> Calcula los cuartiles Q1, Q2 y Q3, el rango intercuartílico e indica si hay datos atípicos. </font>\n",
    "\n"
   ]
  },
  {
   "cell_type": "code",
   "execution_count": 29,
   "metadata": {},
   "outputs": [
    {
     "data": {
      "text/plain": [
       "[6, 10, 16]"
      ]
     },
     "execution_count": 29,
     "metadata": {},
     "output_type": "execute_result"
    }
   ],
   "source": [
    "def percentile(p):\n",
    "    for a in val:\n",
    "        if F(a) >= p:\n",
    "            return a\n",
    "        \n",
    "## Aquí es importante observar que val se presenta ordenado de menor a mayor \n",
    "## y se lee (con el for) de izquierda a derecha\n",
    "\n",
    "percentile = np.vectorize(percentile)\n",
    "Q1,Q2,Q3=percentile([0.25,0.5,0.75])\n",
    "[Q1,Q2,Q3]"
   ]
  },
  {
   "cell_type": "code",
   "execution_count": 30,
   "metadata": {},
   "outputs": [
    {
     "data": {
      "text/plain": [
       "10"
      ]
     },
     "execution_count": 30,
     "metadata": {},
     "output_type": "execute_result"
    }
   ],
   "source": [
    "RI=Q3-Q1\n",
    "RI"
   ]
  },
  {
   "cell_type": "code",
   "execution_count": 31,
   "metadata": {},
   "outputs": [
    {
     "data": {
      "text/plain": [
       "(-9.0, 31.0)"
      ]
     },
     "execution_count": 31,
     "metadata": {},
     "output_type": "execute_result"
    }
   ],
   "source": [
    "O1,O2=[Q1-1.5*RI,Q3+1.5*RI]\n",
    "O1,O2"
   ]
  },
  {
   "cell_type": "markdown",
   "metadata": {},
   "source": [
    "No hay valores atípicos. "
   ]
  },
  {
   "cell_type": "markdown",
   "metadata": {},
   "source": [
    "* <font color='blue'> Calcula las siguientes probabilidades:</font>"
   ]
  },
  {
   "cell_type": "code",
   "execution_count": 32,
   "metadata": {},
   "outputs": [
    {
     "name": "stdout",
     "output_type": "stream",
     "text": [
      "0.24000000000000002\n",
      "0.8\n",
      "0.3999999999999999\n",
      "0.7\n",
      "0.5000000000000002\n",
      "[0.5]\n",
      "0.6000000000000002\n"
     ]
    },
    {
     "data": {
      "text/plain": [
       "0.5600000000000002"
      ]
     },
     "execution_count": 32,
     "metadata": {},
     "output_type": "execute_result"
    }
   ],
   "source": [
    "# • P(X ≤ 5)\n",
    "print(F(5))\n",
    "# • P(X < 17)\n",
    "print(F(16))\n",
    "# • P(X > 12) = 1-P(X\\leq 12)\n",
    "print(1-F(12))\n",
    "# • P(X ≥ 7)=1-P(X<7)=1-P(X\\leq 6)\n",
    "print(1-F(6))\n",
    "# • P(4 < X < 15)=P(5\\leq X\\leq 14)=P(X\\leq 14)-P(X\\leq 4)\n",
    "print(F(14)-F(4))\n",
    "print(f(5)+f(6)+f(7)+f(8)+f(9)+f(10)+f(11)+f(12)+f(13)+f(14))\n",
    "# • P(4 ≤ X ≤ 15)\n",
    "print(F(15)-F(3))\n",
    "# • P(4 < X ≤ 15)\n",
    "F(15)-F(4)\n",
    "# • P(4 ≤ X < 15)\n",
    "F(14)-F(3)"
   ]
  },
  {
   "cell_type": "markdown",
   "metadata": {},
   "source": [
    "* <font color='blue'> Calcula $E[3X^2-X]$ </font>"
   ]
  },
  {
   "cell_type": "code",
   "execution_count": 33,
   "metadata": {},
   "outputs": [
    {
     "name": "stdout",
     "output_type": "stream",
     "text": [
      "Media : 10.6\n",
      "Varianza : 33.24\n",
      "Desviación típica : 5.76541412215983\n"
     ]
    }
   ],
   "source": [
    "# Cálculo de la media (o esperanza)\n",
    "media_X = np.sum(val * f(val))\n",
    "print(\"Media :\", media_X)\n",
    "\n",
    "# Cálculo de la varianza \n",
    "var_X = np.sum((val - media_X)**2 * f(val))\n",
    "print(\"Varianza :\", var_X)\n",
    "\n",
    "# Cálculo de la desviación típica\n",
    "dt_X = np.sqrt(var_X)\n",
    "print(\"Desviación típica :\", dt_X)"
   ]
  },
  {
   "cell_type": "code",
   "execution_count": 34,
   "metadata": {},
   "outputs": [
    {
     "name": "stdout",
     "output_type": "stream",
     "text": [
      "Media_Y : 426.2\n"
     ]
    }
   ],
   "source": [
    "# Y=3X^2-X. Veamos cuál es la media de Y\n",
    "media_Y = np.sum((3*val**2-val) * f(val))\n",
    "print(\"Media_Y :\", media_Y)"
   ]
  },
  {
   "cell_type": "markdown",
   "metadata": {},
   "source": [
    "* <font color='blue'> Haz un programa que simule la variable anterior. Genera 1000 datos y compara sus tablas de frecuencias relativas y relativas acumuladas, barplot, media, varianza, cuartiles y boxplot con los resultados de los apartados anteriores.</font> "
   ]
  },
  {
   "cell_type": "code",
   "execution_count": 35,
   "metadata": {},
   "outputs": [
    {
     "name": "stdout",
     "output_type": "stream",
     "text": [
      "Frequency table: 1     0.037\n",
      "2     0.052\n",
      "3     0.035\n",
      "4     0.059\n",
      "5     0.039\n",
      "6     0.062\n",
      "7     0.039\n",
      "8     0.067\n",
      "9     0.037\n",
      "10    0.050\n",
      "11    0.041\n",
      "12    0.053\n",
      "13    0.044\n",
      "14    0.055\n",
      "15    0.053\n",
      "16    0.053\n",
      "17    0.045\n",
      "18    0.058\n",
      "19    0.056\n",
      "20    0.065\n",
      "dtype: float64\n",
      "Cumulative frequency table: 1     0.037\n",
      "2     0.089\n",
      "3     0.124\n",
      "4     0.183\n",
      "5     0.222\n",
      "6     0.284\n",
      "7     0.323\n",
      "8     0.390\n",
      "9     0.427\n",
      "10    0.477\n",
      "11    0.518\n",
      "12    0.571\n",
      "13    0.615\n",
      "14    0.670\n",
      "15    0.723\n",
      "16    0.776\n",
      "17    0.821\n",
      "18    0.879\n",
      "19    0.935\n",
      "20    1.000\n",
      "dtype: float64\n"
     ]
    }
   ],
   "source": [
    "# Generate 10000 samples from the distribution defined by prob\n",
    "datos = np.random.choice(val, size=1000, p=prob, replace=True)\n",
    "\n",
    "# Frequency table and its cumulative sum\n",
    "tabla_frec = pd.Series(datos).value_counts(normalize=True).sort_index()\n",
    "tabla_frec_acum = tabla_frec.cumsum()\n",
    "\n",
    "print(\"Frequency table:\", tabla_frec)\n",
    "print(\"Cumulative frequency table:\", tabla_frec_acum)"
   ]
  },
  {
   "cell_type": "code",
   "execution_count": 36,
   "metadata": {},
   "outputs": [
    {
     "data": {
      "image/png": "[encoded data removed]",
      "text/plain": [
       "<Figure size 720x432 with 1 Axes>"
      ]
     },
     "metadata": {
      "needs_background": "light"
     },
     "output_type": "display_data"
    }
   ],
   "source": [
    "# Plot the frequency table\n",
    "plt.figure(figsize=(10, 6))\n",
    "tabla_frec.plot(kind='bar', color='skyblue')\n",
    "plt.title('Frequency Table')\n",
    "plt.xlabel('Value')\n",
    "plt.ylabel('Relative Frequency')\n",
    "plt.show()"
   ]
  },
  {
   "cell_type": "code",
   "execution_count": 37,
   "metadata": {},
   "outputs": [
    {
     "data": {
      "image/png": "[encoded data removed]",
      "text/plain": [
       "<Figure size 720x432 with 1 Axes>"
      ]
     },
     "metadata": {
      "needs_background": "light"
     },
     "output_type": "display_data"
    }
   ],
   "source": [
    "plt.figure(figsize=(10, 6))\n",
    "tabla_frec_acum.plot(kind='bar', color='orange')\n",
    "plt.title('Cumulative Frequency Table')\n",
    "plt.xlabel('Value')\n",
    "plt.ylabel('Cumulative Frequency')\n",
    "plt.show()"
   ]
  },
  {
   "cell_type": "code",
   "execution_count": 38,
   "metadata": {},
   "outputs": [
    {
     "data": {
      "text/plain": [
       "[6, 10, 16]"
      ]
     },
     "execution_count": 38,
     "metadata": {},
     "output_type": "execute_result"
    }
   ],
   "source": [
    "# Function to compute the percentile \n",
    "def percentile(p):\n",
    "    for a in val:\n",
    "        if F(a) >= p:\n",
    "            return a\n",
    "        \n",
    "## Aquí es importante observar que val se presenta ordenado de menor a mayor \n",
    "## y se lee (con el for) de izquierda a derecha\n",
    "\n",
    "percentile_vec = np.vectorize(percentile)\n",
    "Q1,Q2,Q3=percentile_vec([0.25,0.5,0.75])\n",
    "[Q1,Q2,Q3]"
   ]
  },
  {
   "cell_type": "code",
   "execution_count": 39,
   "metadata": {},
   "outputs": [
    {
     "name": "stdout",
     "output_type": "stream",
     "text": [
      "Empirical Mean: 10.936, Theoretical Mean: 10.6\n",
      "Empirical Variance: 33.625904000000006, Theoretical Variance: 33.24\n",
      "Empirical Standard Deviation: 5.798784700262634, Theoretical Standard Deviation: 5.76541412215983\n",
      "Empirical Quantiles (25%, 50%, 75%): [ 6. 11. 16.]\n",
      "Theoretical Percentiles (25%, 50%, 75%): [ 6 10 16]\n"
     ]
    }
   ],
   "source": [
    "# Compare the theoretical and empirical mean, variance, and standard deviation\n",
    "print(f\"Empirical Mean: {np.mean(datos)}, Theoretical Mean: {media_X}\")\n",
    "print(f\"Empirical Variance: {np.var(datos)}, Theoretical Variance: {var_X}\")\n",
    "print(f\"Empirical Standard Deviation: {np.std(datos)}, Theoretical Standard Deviation: {dt_X}\")\n",
    "\n",
    "# Quantiles (25th, 50th, 75th percentiles)\n",
    "Q = np.quantile(datos, [0.25, 0.5, 0.75])\n",
    "print(\"Empirical Quantiles (25%, 50%, 75%):\", Q)\n",
    "\n",
    "# Theoretical percentiles\n",
    "percentiles = np.array([percentile(0.25), percentile(0.5), percentile(0.75)])\n",
    "print(\"Theoretical Percentiles (25%, 50%, 75%):\", percentiles)"
   ]
  },
  {
   "cell_type": "markdown",
   "metadata": {},
   "source": [
    "## 3.\n",
    "<font color='blue'> Una variable aleatoria puede tomar valores \n",
    "$\\{0, 1, 2, 3, 4, 5, 6, 7, 8, 9, 10\\}$ con probabilidades\n",
    "$$P(X = i) = k · (i + i^2)$$\n",
    "* ¿Qué valor debe tener k?\n",
    "* Analiza la variable (es decir, calcula media y desviación típica y dibuja las funciones de probabilidad y  distribución)\n",
    "* Calcula $E[2X^3 − X^2+X]$\n",
    "* Calcula, usando la función de distribución, las probabilidades $P (X \\geq 3) $ y $P (4 < X \\leq 8)$. \n",
    "* Calcula los cuartiles Q1, Q2 y Q3, el rango intercuartílico e indica si hay datos atípicos. \n",
    "* Haz un programa que simule la variable anterior. Genera 1000 datos y compara sus tablas de frecuencias relativas  y relativas acumuladas, barplot, media y varianza con los resultados de los apartados anteriores.\n",
    "</font>"
   ]
  },
  {
   "cell_type": "code",
   "execution_count": 40,
   "metadata": {},
   "outputs": [
    {
     "data": {
      "text/plain": [
       "array([ 0,  1,  2,  3,  4,  5,  6,  7,  8,  9, 10])"
      ]
     },
     "execution_count": 40,
     "metadata": {},
     "output_type": "execute_result"
    }
   ],
   "source": [
    "val = np.arange(0, 11)\n",
    "val"
   ]
  },
  {
   "cell_type": "code",
   "execution_count": 41,
   "metadata": {},
   "outputs": [
    {
     "data": {
      "text/plain": [
       "array([0.        , 0.00454545, 0.01363636, 0.02727273, 0.04545455,\n",
       "       0.06818182, 0.09545455, 0.12727273, 0.16363636, 0.20454545,\n",
       "       0.25      ])"
      ]
     },
     "execution_count": 41,
     "metadata": {},
     "output_type": "execute_result"
    }
   ],
   "source": [
    "s=sum(val+val**2)\n",
    "k=1/s\n",
    "prob=k*(val+val**2)\n",
    "prob"
   ]
  },
  {
   "cell_type": "code",
   "execution_count": 42,
   "metadata": {},
   "outputs": [
    {
     "data": {
      "text/plain": [
       "1.0"
      ]
     },
     "execution_count": 42,
     "metadata": {},
     "output_type": "execute_result"
    }
   ],
   "source": [
    "sum(prob)"
   ]
  },
  {
   "cell_type": "code",
   "execution_count": 43,
   "metadata": {},
   "outputs": [],
   "source": [
    "# f(x): devuelve la probabilidad asociada al valor x\n",
    "def f(x):\n",
    "    return prob[val == x]\n",
    "\n",
    "# Vectoriza la función para que acepte arrays\n",
    "f = np.vectorize(f)\n",
    "\n",
    "# F(x): suma acumulada de probabilidades para val <= x\n",
    "def F(x):\n",
    "    return np.sum(prob[val <= x])\n",
    "\n",
    "# Vectoriza también esta función\n",
    "F = np.vectorize(F)"
   ]
  },
  {
   "cell_type": "code",
   "execution_count": 44,
   "metadata": {},
   "outputs": [
    {
     "data": {
      "image/png": "[encoded data removed]",
      "text/plain": [
       "<Figure size 720x432 with 2 Axes>"
      ]
     },
     "metadata": {
      "needs_background": "light"
     },
     "output_type": "display_data"
    }
   ],
   "source": [
    "# Gráficas \n",
    "\n",
    "plt.figure(figsize=(10, 6))\n",
    "\n",
    "# Gráfica de la función densidad de probabilidad (PMF) f_X\n",
    "plt.subplot(1, 2, 1)\n",
    "plt.stem(val, f_vec(val), basefmt=\" \", use_line_collection=True)\n",
    "plt.title(\"PMF de X\")\n",
    "plt.xlabel(\"k\")\n",
    "plt.ylabel(\"P(X = k)\")\n",
    "plt.grid(True)\n",
    "\n",
    "# Gráfica de la función distribución de probabilidad (CDF) F_X\n",
    "plt.subplot(1, 2, 2)\n",
    "x_vals = np.array([min(val)-1, *val, max(val)+1])  # Auxiliary variable for extended range\n",
    "plt.step(x_vals, F_vec(x_vals), where='post', color='r', linestyle='-')\n",
    "plt.title(\"CDF de X\")\n",
    "plt.xlabel(\"k\")\n",
    "plt.ylabel(\"P(X ≤ k)\")\n",
    "plt.grid(True)\n",
    "\n",
    "# Mostramos las gráficas\n",
    "plt.tight_layout()\n",
    "plt.show()"
   ]
  },
  {
   "cell_type": "code",
   "execution_count": 45,
   "metadata": {},
   "outputs": [
    {
     "name": "stdout",
     "output_type": "stream",
     "text": [
      "Media : 7.75\n",
      "Varianza : 4.3875\n",
      "Desviación típica : 2.094636006565341\n"
     ]
    }
   ],
   "source": [
    "# Cálculo de la media (o esperanza)\n",
    "media_X = np.sum(val * f(val))\n",
    "print(\"Media :\", media_X)\n",
    "\n",
    "# Cálculo de la varianza \n",
    "var_X = np.sum((val - media_X)**2 * f(val))\n",
    "print(\"Varianza :\", var_X)\n",
    "\n",
    "# Cálculo de la desviación típica\n",
    "dt_X = np.sqrt(var_X)\n",
    "print(\"Desviación típica :\", dt_X)"
   ]
  },
  {
   "cell_type": "code",
   "execution_count": 46,
   "metadata": {},
   "outputs": [
    {
     "name": "stdout",
     "output_type": "stream",
     "text": [
      "Media_Y : 1062.1999999999998\n"
     ]
    }
   ],
   "source": [
    "# Y=2X^3 −X^2+X. Veamos cuál es la media de Y\n",
    "media_Y = np.sum((2*val**3-val**2+val) * f(val))\n",
    "print(\"Media_Y :\", media_Y)"
   ]
  },
  {
   "cell_type": "markdown",
   "metadata": {},
   "source": [
    "* <font color='blue'> Calcula, usando la función de distribución, las probabilidades $P (X \\geq 3) $ y $P (4 < X \\leq 8)$. </font>"
   ]
  },
  {
   "cell_type": "code",
   "execution_count": 47,
   "metadata": {},
   "outputs": [
    {
     "name": "stdout",
     "output_type": "stream",
     "text": [
      "0.9818181818181818\n",
      "0.4545454545454545\n"
     ]
    }
   ],
   "source": [
    "print(1-F(2))\n",
    "print(F(8)-F(4))"
   ]
  },
  {
   "cell_type": "markdown",
   "metadata": {},
   "source": [
    "* <font color='blue'> Calcula los cuartiles Q1, Q2 y Q3, el rango intercuartílico e indica si hay datos atípicos. </font>"
   ]
  },
  {
   "cell_type": "code",
   "execution_count": 48,
   "metadata": {},
   "outputs": [
    {
     "data": {
      "text/plain": [
       "[6, 8, 9]"
      ]
     },
     "execution_count": 48,
     "metadata": {},
     "output_type": "execute_result"
    }
   ],
   "source": [
    "# Function to compute the percentile (similar to the R version)\n",
    "def percentile(p):\n",
    "    for a in val:\n",
    "        if F(a) >= p:\n",
    "            return a\n",
    "percentile_vec = np.vectorize(percentile)\n",
    "Q1,Q2,Q3=percentile_vec([0.25,0.5,0.75])\n",
    "[Q1,Q2,Q3]"
   ]
  },
  {
   "cell_type": "code",
   "execution_count": 49,
   "metadata": {},
   "outputs": [
    {
     "data": {
      "text/plain": [
       "(1.5, 13.5)"
      ]
     },
     "execution_count": 49,
     "metadata": {},
     "output_type": "execute_result"
    }
   ],
   "source": [
    "RI=Q3-Q1\n",
    "O1,O2=[Q1-1.5*RI,Q3+1.5*RI]\n",
    "O1,O2"
   ]
  },
  {
   "cell_type": "markdown",
   "metadata": {},
   "source": [
    "El único valor atípico es $1$."
   ]
  },
  {
   "cell_type": "markdown",
   "metadata": {},
   "source": [
    "* <font color='blue'>Haz un programa que simule la variable anterior. Genera 1000 datos y compara sus tablas de frecuencias relativas  y relativas acumuladas, barplot, media y varianza con los resultados de los apartados anteriores. </font>"
   ]
  },
  {
   "cell_type": "code",
   "execution_count": 50,
   "metadata": {},
   "outputs": [
    {
     "name": "stdout",
     "output_type": "stream",
     "text": [
      "Frequency table: 1     0.006\n",
      "2     0.012\n",
      "3     0.028\n",
      "4     0.043\n",
      "5     0.058\n",
      "6     0.088\n",
      "7     0.139\n",
      "8     0.179\n",
      "9     0.186\n",
      "10    0.261\n",
      "dtype: float64\n",
      "Cumulative frequency table: 1     0.006\n",
      "2     0.018\n",
      "3     0.046\n",
      "4     0.089\n",
      "5     0.147\n",
      "6     0.235\n",
      "7     0.374\n",
      "8     0.553\n",
      "9     0.739\n",
      "10    1.000\n",
      "dtype: float64\n"
     ]
    }
   ],
   "source": [
    "# Generate 10000 samples from the distribution defined by prob\n",
    "datos = np.random.choice(val, size=1000, p=prob, replace=True)\n",
    "\n",
    "# Frequency table and its cumulative sum\n",
    "tabla_frec = pd.Series(datos).value_counts(normalize=True).sort_index()\n",
    "tabla_frec_acum = tabla_frec.cumsum()\n",
    "\n",
    "print(\"Frequency table:\", tabla_frec)\n",
    "print(\"Cumulative frequency table:\", tabla_frec_acum)"
   ]
  },
  {
   "cell_type": "code",
   "execution_count": 51,
   "metadata": {},
   "outputs": [
    {
     "data": {
      "image/png": "[encoded data removed]",
      "text/plain": [
       "<Figure size 720x432 with 1 Axes>"
      ]
     },
     "metadata": {
      "needs_background": "light"
     },
     "output_type": "display_data"
    }
   ],
   "source": [
    "# Plot the frequency table\n",
    "plt.figure(figsize=(10, 6))\n",
    "tabla_frec.plot(kind='bar', color='skyblue')\n",
    "plt.title('Frequency Table')\n",
    "plt.xlabel('Value')\n",
    "plt.ylabel('Relative Frequency')\n",
    "plt.show()"
   ]
  },
  {
   "cell_type": "code",
   "execution_count": 52,
   "metadata": {},
   "outputs": [
    {
     "data": {
      "image/png": "[encoded data removed]",
      "text/plain": [
       "<Figure size 720x432 with 1 Axes>"
      ]
     },
     "metadata": {
      "needs_background": "light"
     },
     "output_type": "display_data"
    }
   ],
   "source": [
    "plt.figure(figsize=(10, 6))\n",
    "tabla_frec_acum.plot(kind='bar', color='orange')\n",
    "plt.title('Cumulative Frequency Table')\n",
    "plt.xlabel('Value')\n",
    "plt.ylabel('Cumulative Frequency')\n",
    "plt.show()"
   ]
  },
  {
   "cell_type": "code",
   "execution_count": 53,
   "metadata": {},
   "outputs": [
    {
     "name": "stdout",
     "output_type": "stream",
     "text": [
      "Empirical Mean: 7.793, Theoretical Mean: 7.75\n",
      "Empirical Variance: 4.314151, Theoretical Variance: 4.3875\n",
      "Empirical Standard Deviation: 2.077053441777558, Theoretical Standard Deviation: 2.094636006565341\n",
      "Empirical Quantiles (25%, 50%, 75%): [ 7.  8. 10.]\n",
      "Theoretical Percentiles (25%, 50%, 75%): [6 8 9]\n"
     ]
    }
   ],
   "source": [
    "# Compare the theoretical and empirical mean, variance, and standard deviation\n",
    "print(f\"Empirical Mean: {np.mean(datos)}, Theoretical Mean: {media_X}\")\n",
    "print(f\"Empirical Variance: {np.var(datos)}, Theoretical Variance: {var_X}\")\n",
    "print(f\"Empirical Standard Deviation: {np.std(datos)}, Theoretical Standard Deviation: {dt_X}\")\n",
    "\n",
    "# Quantiles (25th, 50th, 75th percentiles)\n",
    "Q = np.quantile(datos, [0.25, 0.5, 0.75])\n",
    "print(\"Empirical Quantiles (25%, 50%, 75%):\", Q)\n",
    "\n",
    "# Theoretical percentiles\n",
    "percentiles = np.array([percentile(0.25), percentile(0.5), percentile(0.75)])\n",
    "print(\"Theoretical Percentiles (25%, 50%, 75%):\", percentiles)"
   ]
  },
  {
   "cell_type": "markdown",
   "metadata": {},
   "source": [
    "# 4. \n",
    "<font color='blue'>En un puesto de una feria se venden boletos a 1 euro. Hay un 15% de boletos con un premio de 2 euros, \n",
    "un 5% con premio de 3 euros y un 1% con premio de 10 euros. Sea X la variable aleatoria “ganancia del tendero \n",
    "por boleto”. Hallar la función de probabilidad de X, la función de distribución y la ganancia media por boleto.  Representar ambas funciones gráficamente.</font>"
   ]
  },
  {
   "cell_type": "markdown",
   "metadata": {},
   "source": [
    "## Solución:\n",
    "* ¿En qué consiste el experimento aleatorio?. \n",
    "En coger (comprar) un boleto, al azar, y comprobar el premio que tiene.\n",
    "* ¿Cuáles son los posibles resultados del experimento?. Espacio muestral: Ω\n",
    "A2=Que el boleto elegido tenga un premio de 2 euros\n",
    "A3=Que tenga un premio de 3 euros, \n",
    "A10= Que tenga un premio de 10 euros, y \n",
    "A0= Que no tenga ningún premio.\n",
    "* ¿Cuál es la v.a. definida sobre el espacio muestral?  X(A2)= -1, X(A3)=-2, X(A10)=-9, X(A0)=1\n",
    "\n",
    "Introducimos la v.a. X=\"ganancia del tendero por boleto\""
   ]
  },
  {
   "cell_type": "code",
   "execution_count": 54,
   "metadata": {},
   "outputs": [
    {
     "data": {
      "text/plain": [
       "array([-9, -2, -1,  1])"
      ]
     },
     "execution_count": 54,
     "metadata": {},
     "output_type": "execute_result"
    }
   ],
   "source": [
    "val = np.array([-9,-2,-1,1])\n",
    "val"
   ]
  },
  {
   "cell_type": "code",
   "execution_count": 55,
   "metadata": {},
   "outputs": [
    {
     "data": {
      "text/plain": [
       "1.0"
      ]
     },
     "execution_count": 55,
     "metadata": {},
     "output_type": "execute_result"
    }
   ],
   "source": [
    "prob = np.array([0.01,0.05,0.15,0.79]) # función puntual de probabilidad. \n",
    "sum(prob) # Comprobamos que la suma de las probabilidades vale 1."
   ]
  },
  {
   "cell_type": "code",
   "execution_count": 56,
   "metadata": {},
   "outputs": [],
   "source": [
    "# f(x): devuelve la probabilidad asociada al valor x\n",
    "def f(x):\n",
    "    return prob[val == x]\n",
    "\n",
    "# Vectoriza la función para que acepte arrays\n",
    "f = np.vectorize(f)\n",
    "\n",
    "# F(x): suma acumulada de probabilidades para val <= x\n",
    "def F(x):\n",
    "    return np.sum(prob[val <= x])\n",
    "\n",
    "# Vectoriza también esta función\n",
    "F = np.vectorize(F)"
   ]
  },
  {
   "cell_type": "code",
   "execution_count": 57,
   "metadata": {},
   "outputs": [
    {
     "data": {
      "image/png": "[encoded data removed]",
      "text/plain": [
       "<Figure size 720x432 with 2 Axes>"
      ]
     },
     "metadata": {
      "needs_background": "light"
     },
     "output_type": "display_data"
    }
   ],
   "source": [
    "# Gráficas \n",
    "\n",
    "plt.figure(figsize=(10, 6))\n",
    "\n",
    "# Gráfica de la función densidad de probabilidad (PMF) f_X\n",
    "plt.subplot(1, 2, 1)\n",
    "plt.stem(val, f_vec(val), basefmt=\" \", use_line_collection=True)\n",
    "plt.title(\"PMF de X\")\n",
    "plt.xlabel(\"k\")\n",
    "plt.ylabel(\"P(X = k)\")\n",
    "plt.grid(True)\n",
    "\n",
    "# Gráfica de la función distribución de probabilidad (CDF) F_X\n",
    "plt.subplot(1, 2, 2)\n",
    "x_vals = np.array([min(val)-1, *val, max(val)+1])  # Auxiliary variable for extended range\n",
    "plt.step(x_vals, F_vec(x_vals), where='post', color='r', linestyle='-')\n",
    "plt.title(\"CDF de X\")\n",
    "plt.xlabel(\"k\")\n",
    "plt.ylabel(\"P(X ≤ k)\")\n",
    "plt.grid(True)\n",
    "\n",
    "# Mostramos las gráficas\n",
    "plt.tight_layout()\n",
    "plt.show()"
   ]
  },
  {
   "cell_type": "code",
   "execution_count": 58,
   "metadata": {},
   "outputs": [
    {
     "name": "stdout",
     "output_type": "stream",
     "text": [
      "Media : 0.45000000000000007\n",
      "Varianza : 1.7475\n",
      "Desviación típica : 1.3219304066402287\n"
     ]
    }
   ],
   "source": [
    "# Cálculo de la media (o esperanza)\n",
    "media_X = np.sum(val * f(val))\n",
    "print(\"Media :\", media_X)\n",
    "\n",
    "# Cálculo de la varianza \n",
    "var_X = np.sum((val - media_X)**2 * f(val))\n",
    "print(\"Varianza :\", var_X)\n",
    "\n",
    "# Cálculo de la desviación típica\n",
    "dt_X = np.sqrt(var_X)\n",
    "print(\"Desviación típica :\", dt_X)"
   ]
  },
  {
   "cell_type": "markdown",
   "metadata": {},
   "source": [
    "# 5. \n",
    "<font color='blue'>Tenemos dos dados, uno de seis caras, marcadas del 1 al 6, y otro de 8 caras (como los que se usan en algunos juegos de rol) marcadas del 1 al 8, ambos bien equilibrados. Los lanzamos a la vez y consideramos las variables aleatorias X = resultado obtenido en el primer dado, Y = resultado obtenido en el segundo dado, S = max(X, Y ).\n",
    "* Calcula las funciones de probabilidad de las tres variables aleatorias y represéntalas gráficamente.\n",
    "* Para cada una de ellas calcula su esperanza y su desviación típica\n",
    "*  Halla la probabilidad de que el máximo de los dos valores sea menor que 5 supuesto que el resultado en el segundo dado ha sido 2\n",
    "</font>\n"
   ]
  },
  {
   "cell_type": "code",
   "execution_count": 73,
   "metadata": {},
   "outputs": [],
   "source": [
    "# X = Resultado obtenido en el primer dado (el de 6 caras)\n",
    "val=np.array([1,2,3,4,5,6])\n",
    "prob=np.array([1/6,1/6,1/6,1/6,1/6,1/6])"
   ]
  },
  {
   "cell_type": "code",
   "execution_count": 74,
   "metadata": {},
   "outputs": [],
   "source": [
    "# f_X(x): devuelve la probabilidad asociada al valor x\n",
    "def fX(x):\n",
    "    return prob[val == x]\n",
    "\n",
    "# Vectoriza la función para que acepte arrays\n",
    "fX = np.vectorize(fX)\n",
    "\n",
    "# F_X(x): suma acumulada de probabilidades para val <= x\n",
    "def FX(x):\n",
    "    return np.sum(prob[val <= x])\n",
    "\n",
    "# Vectoriza también esta función\n",
    "FX = np.vectorize(FX)"
   ]
  },
  {
   "cell_type": "code",
   "execution_count": 75,
   "metadata": {},
   "outputs": [
    {
     "name": "stdout",
     "output_type": "stream",
     "text": [
      "Media : 3.5\n",
      "Varianza : 2.9166666666666665\n",
      "Desviación típica : 1.707825127659933\n"
     ]
    }
   ],
   "source": [
    "# Cálculo de la media (o esperanza)\n",
    "media_X = np.sum(val * f(val))\n",
    "print(\"Media :\", media_X)\n",
    "\n",
    "# Cálculo de la varianza \n",
    "var_X = np.sum((val - media_X)**2 * f(val))\n",
    "print(\"Varianza :\", var_X)\n",
    "\n",
    "# Cálculo de la desviación típica\n",
    "dt_X = np.sqrt(var_X)\n",
    "print(\"Desviación típica :\", dt_X)"
   ]
  },
  {
   "cell_type": "code",
   "execution_count": 76,
   "metadata": {},
   "outputs": [
    {
     "data": {
      "image/png": "[encoded data removed]",
      "text/plain": [
       "<Figure size 720x432 with 2 Axes>"
      ]
     },
     "metadata": {
      "needs_background": "light"
     },
     "output_type": "display_data"
    }
   ],
   "source": [
    "# Gráficas \n",
    "\n",
    "plt.figure(figsize=(10, 6))\n",
    "\n",
    "# Gráfica de la función densidad de probabilidad (PMF) f_X\n",
    "plt.subplot(1, 2, 1)\n",
    "plt.stem(val, fX(val), basefmt=\" \", use_line_collection=True)\n",
    "plt.title(\"PMF de X\")\n",
    "plt.xlabel(\"k\")\n",
    "plt.ylabel(\"P(X = k)\")\n",
    "plt.grid(True)\n",
    "\n",
    "# Gráfica de la función distribución de probabilidad (CDF) F_X\n",
    "plt.subplot(1, 2, 2)\n",
    "x_vals = np.array([min(val)-1, *val, max(val)+1])  # Auxiliary variable for extended range\n",
    "plt.step(x_vals, FX(x_vals), where='post', color='r', linestyle='-')\n",
    "plt.title(\"CDF de X\")\n",
    "plt.xlabel(\"k\")\n",
    "plt.ylabel(\"P(X ≤ k)\")\n",
    "plt.grid(True)\n",
    "\n",
    "# Mostramos las gráficas\n",
    "plt.tight_layout()\n",
    "plt.show()"
   ]
  },
  {
   "cell_type": "code",
   "execution_count": 77,
   "metadata": {},
   "outputs": [],
   "source": [
    "# Y = Resultado obtenido en el segundo dado (el de 8 caras)\n",
    "val=np.array([1,2,3,4,5,6,7,8])\n",
    "prob=np.array([1/8,1/8,1/8,1/8,1/8,1/8,1/8,1/8])"
   ]
  },
  {
   "cell_type": "code",
   "execution_count": 78,
   "metadata": {},
   "outputs": [],
   "source": [
    "# f_Y(x): devuelve la probabilidad asociada al valor x\n",
    "def fY(x):\n",
    "    return prob[val == x]\n",
    "\n",
    "# Vectoriza la función para que acepte arrays\n",
    "fY = np.vectorize(fY)\n",
    "\n",
    "# F_Y(x): suma acumulada de probabilidades para val <= x\n",
    "def FY(x):\n",
    "    return np.sum(prob[val <= x])\n",
    "\n",
    "# Vectoriza también esta función\n",
    "FY = np.vectorize(FY)"
   ]
  },
  {
   "cell_type": "code",
   "execution_count": 79,
   "metadata": {},
   "outputs": [
    {
     "name": "stdout",
     "output_type": "stream",
     "text": [
      "Media : 4.5\n",
      "Varianza : 5.25\n",
      "Desviación típica : 2.29128784747792\n"
     ]
    }
   ],
   "source": [
    "# Cálculo de la media (o esperanza)\n",
    "media_Y = np.sum(val * f(val))\n",
    "print(\"Media :\", media_Y)\n",
    "\n",
    "# Cálculo de la varianza \n",
    "var_Y = np.sum((val - media_Y)**2 * f(val))\n",
    "print(\"Varianza :\", var_Y)\n",
    "\n",
    "# Cálculo de la desviación típica\n",
    "dt_Y = np.sqrt(var_Y)\n",
    "print(\"Desviación típica :\", dt_Y)"
   ]
  },
  {
   "cell_type": "code",
   "execution_count": 80,
   "metadata": {},
   "outputs": [
    {
     "data": {
      "image/png": "[encoded data removed]",
      "text/plain": [
       "<Figure size 720x432 with 2 Axes>"
      ]
     },
     "metadata": {
      "needs_background": "light"
     },
     "output_type": "display_data"
    }
   ],
   "source": [
    "# Gráficas \n",
    "\n",
    "plt.figure(figsize=(10, 6))\n",
    "\n",
    "# Gráfica de la función densidad de probabilidad (PMF) f_X\n",
    "plt.subplot(1, 2, 1)\n",
    "plt.stem(val, fY(val), basefmt=\" \", use_line_collection=True)\n",
    "plt.title(\"PMF de X\")\n",
    "plt.xlabel(\"k\")\n",
    "plt.ylabel(\"P(X = k)\")\n",
    "plt.grid(True)\n",
    "\n",
    "# Gráfica de la función distribución de probabilidad (CDF) F_X\n",
    "plt.subplot(1, 2, 2)\n",
    "x_vals = np.array([min(val)-1, *val, max(val)+1])  # Auxiliary variable for extended range\n",
    "plt.step(x_vals, FY(x_vals), where='post', color='r', linestyle='-')\n",
    "plt.title(\"CDF de X\")\n",
    "plt.xlabel(\"k\")\n",
    "plt.ylabel(\"P(X ≤ k)\")\n",
    "plt.grid(True)\n",
    "\n",
    "# Mostramos las gráficas\n",
    "plt.tight_layout()\n",
    "plt.show()"
   ]
  },
  {
   "cell_type": "code",
   "execution_count": 81,
   "metadata": {},
   "outputs": [
    {
     "name": "stdout",
     "output_type": "stream",
     "text": [
      "Probabilidades de S: [0.02083333 0.0625     0.10416667 0.14583333 0.1875     0.22916667\n",
      " 0.125      0.125     ]\n"
     ]
    },
    {
     "data": {
      "image/png": "[encoded data removed]",
      "text/plain": [
       "<Figure size 432x288 with 1 Axes>"
      ]
     },
     "metadata": {
      "needs_background": "light"
     },
     "output_type": "display_data"
    },
    {
     "name": "stdout",
     "output_type": "stream",
     "text": [
      "Media de S: 5.229166666666667\n",
      "Varianza de S: 3.2599826388888893\n",
      "Desviación típica de S: 1.805542200805312\n"
     ]
    }
   ],
   "source": [
    "# Valores que puede tomar la variable aleatoria S = max(X, Y)\n",
    "val_S = np.arange(1, 9)  # {1, 2, ..., 8}\n",
    "\n",
    "# Probabilidades respectivas (calculadas previamente)\n",
    "prob_S = np.array([1, 3, 5, 7, 9, 11, 6, 6]) / 48\n",
    "\n",
    "# Mostrar probabilidades\n",
    "print(\"Probabilidades de S:\", prob_S)\n",
    "\n",
    "# Dibujo de la función de probabilidad\n",
    "plt.stem(val_S, prob_S, use_line_collection=True)\n",
    "plt.plot(val_S, prob_S, 'o')\n",
    "plt.title(\"Función de probabilidad de S = max(X, Y)\")\n",
    "plt.xlabel(\"Valor de S\")\n",
    "plt.ylabel(\"Probabilidad\")\n",
    "plt.grid(True)\n",
    "plt.show()\n",
    "\n",
    "# Cálculo de la media de la v.a. S\n",
    "media_S = np.sum(val_S * prob_S)\n",
    "print(\"Media de S:\", media_S)\n",
    "\n",
    "# Varianza y desviación típica\n",
    "var_S = np.sum((val_S - media_S) ** 2 * prob_S)\n",
    "std_S = np.sqrt(var_S)\n",
    "\n",
    "print(\"Varianza de S:\", var_S)\n",
    "print(\"Desviación típica de S:\", std_S)\n"
   ]
  },
  {
   "cell_type": "code",
   "execution_count": null,
   "metadata": {},
   "outputs": [],
   "source": []
  },
  {
   "cell_type": "markdown",
   "metadata": {},
   "source": [
    "Apartado c) Halla la probabilidad de que el máximo de los dos valores sea menor que 5 \n",
    " supuesto que el resultado en el segundo dado ha sido 2.\n",
    "\n",
    "(En pizarra)\n"
   ]
  },
  {
   "cell_type": "code",
   "execution_count": null,
   "metadata": {},
   "outputs": [],
   "source": []
  }
 ],
 "metadata": {
  "kernelspec": {
   "display_name": "Python 3",
   "language": "python",
   "name": "python3"
  },
  "language_info": {
   "codemirror_mode": {
    "name": "ipython",
    "version": 3
   },
   "file_extension": ".py",
   "mimetype": "text/x-python",
   "name": "python",
   "nbconvert_exporter": "python",
   "pygments_lexer": "ipython3",
   "version": "3.7.6"
  }
 },
 "nbformat": 4,
 "nbformat_minor": 4
}
