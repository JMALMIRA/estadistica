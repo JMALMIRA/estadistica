{
 "cells": [
  {
   "cell_type": "markdown",
   "metadata": {},
   "source": [
    "<h1> Muestreo </h1>"
   ]
  },
  {
   "cell_type": "markdown",
   "metadata": {},
   "source": [
    "<h2> Planteamiento general del problema </h2>\n",
    "\n",
    "* Me interesa un conjunto de datos. A este conjunto lo llamaremos población\n",
    "\n",
    "* Tengo acceso a un subconjunto de esos datos llamados muestra\n",
    "\n",
    "* Me interesa una característica, numérica o no, de estos datos (media, una proporción, varianza, saber si unos datos se parecen a una determinada variable teórica, etc)\n",
    "\n",
    "* Intentamos calcular una aproximación (estimación) de ese valor basándonos en la muestra\n",
    "\n",
    "<h3> Estimación Paramétrica</h3> \n",
    "* Nos interesa estimar un parámetro o, dicho de otro modo, realizar una  inferencia (o estimación) paramétrica.\n",
    "\n",
    "Esencialmente, hay tres niveles de actuación:\n",
    "\n",
    "* Primer nivel: intentamos calcular un estimador del parámetro que nos interesa.\n",
    "\n",
    "* Segundo nivel: desarrollamos un test para intentar comprobar si ciertas conclusiones (o hipótesis) que hemos realizado sobre la población están (o no) equivocadas\n",
    "\n",
    "* Tercer nivel: calculamos un intervalo (llamado intervalo de confianza) en el que estemos bastante seguros de que va a estar el valor a estimar. \n",
    "\n",
    "<font color=\"brown\"> Los tres niveles anteriores están íntimamente relacionados: los estimadores (nivel 1) que construimos tendrán una distribución de probabilidad conocida. Eso nos permite utilizarlos para resolver tanto las cuestiones relacionadas con contrastes de hipótesis (nivel 2) como para obtener intervalos de confianza (nivel 3). Además, la forma en la que aceptamos o rechazamos una hipótesis (nivel 2) consiste esencialmente en comprobar si el estimador calculado (nivel 1) cae dentro o fuera de cierto intervalo de confianza (nivel 3). </font> \n",
    "\n",
    "<strong> Nota: </strong> \n",
    "\n",
    "* Los estimadores son variables aleatorias, pues varían con la muestra.\n",
    "\n",
    "Además, los estimadores más usados cumplen: \n",
    "\n",
    "* Bajo ciertas hipótesis generales, se conoce qué tipo de variable aleatoria es cada uno de ellos (binomial, normal, etc)\n",
    "* Su media coincide con el parámetro que interesa estudiar (<strong> estimadores no sesgados</strong>)\n",
    "* Su varianza es pequeña cuando el número de datos es grande (<strong> estimadores robustos </strong> )"
   ]
  },
  {
   "cell_type": "markdown",
   "metadata": {},
   "source": [
    "Tenemos una muestra $\\{x_1, · · · , x_n\\}$\n",
    "\n",
    "* Para estimar la media $m$ de la población, usaremos el estimador <strong> media muestral</strong>: \n",
    "$$ \\hat{m} = \\overline{X} =\\frac{x_1+···+x_n}{n} $$\n",
    "\n",
    "* Para estimar  una proporción p, usaremos el estimador \n",
    "$$ \\hat{p} = \\text{proporción de elementos de la muestra que cumplen la propiedad indicada} \\quad \n",
    "\\text{(proporción muestral)}$$\n",
    "\n",
    "* Para estimar la varianza $v$, usaremos el estimador <strong> cuasi-varianza muestral</strong>:\n",
    "$$\\hat{v}=s_{n-1}^2= \\frac{(x_1 − m)^2 + \\cdots + (x_n − m)^2}{n-1}$$\n",
    "\n",
    "Es conocido que estos tres estimadores son no sesgados, robustos y, <font color= \"brown\"> bajo ciertas hipótesis generales </font>, se conoce qué tipo de variable aleatoria son.\n",
    "\n",
    "Observemos que <font color=\"brown\"> <strong> cuando la población es muy grande comparada con el tamaño de la muestra</strong> tomar una muestra de tamaño $n$ de una población es completamente equivalente a tomar una muestra aleatoria simple $X_1,\\cdots,X_n$ de una v.a. $X$ (es decir, evaluar n veces, de forma independiente, la misma v.a. X equivale a anotar una cierta magnitud (medida) o propiedad o característica de $n$ sujetos escogidos completamente al azar en una población).  </font>"
   ]
  },
  {
   "cell_type": "markdown",
   "metadata": {},
   "source": [
    "<h3> Propiedades de la media muestral de una v.a. con $\\sigma$ conocida </h3>\n",
    "    \n",
    "Dada una v.a. $X$ cuya desviación típica $\\sigma$ es conocida, podemos tomar una muestra aleatoria simple $X_1,\\cdots,X_n$ suya y estudiar el estadístico media muestral: $\\overline{X}=\\frac{1}{n}(X_1+\\cdots+X_n)$. \n",
    "    \n",
    "* Si $n$ es suficientemente grande (en la práctica basta $n\\geq 30$), el Teorema Central del Límite nos garantiza que $n\\overline{X}=X_1+\\cdots+X_n\\sim N(n\\cdot m,\\sigma\\sqrt{n})$.  Por tanto, \n",
    "$$\n",
    "\\hat{m}=\\overline{X}\\sim  N(m,\\frac{\\sigma}{\\sqrt{n}})\n",
    "$$\n",
    "Se sigue que:\n",
    "\n",
    "* $E(\\hat{m})=m$ y, por tanto, el estimador media muestral es insesgado.\n",
    "\n",
    "* $V(\\hat{m})=\\frac{\\sigma^2}{n}$ tiende a $0$ cuando el tamaño de la muestra crece. (estimador robusto)\n",
    "\n",
    "* Podemos tipificar, lo que nos conduce a afirmar que $\\frac{\\hat{m}-m}{\\sigma/\\sqrt{n}}\\sim N(0,1)$. Además, como la v.a. normal $N(0,1)$ es simétrica respecto a $0$, también tenemos que $\\frac{m-\\hat{m}}{\\sigma/\\sqrt{n}}\\sim N(0,1)$.\n"
   ]
  },
  {
   "cell_type": "markdown",
   "metadata": {},
   "source": [
    "<h3> Estimador de la proporción de elementos de una población que cumplen una determinada propiedad </h3>\n",
    "\n",
    "Supongamos que nos interesa la proporción $p$ de elementos de una población que cumplen una determinada propiedad $P$. Lo vamos a hacer con la proporción muestral $\\hat{p}$ (individuos de la muestra que satisfacen $P$). \n",
    "\n",
    "Queremos usar el Teorema Central del Límite. Para ello, necesitamos expresar $\\hat{p}$ como una suma de v.a. independientes. De hecho, lo que hacemos es definir la v.a. $X$ que vale $X=1$ si el elemento (seleccionado al azar en la población que estamos considerando) satisface la propiedad $P$, mientras que $X=0$ en caso contrario.  Evidentemente, $X\\sim \\text{Be}(p)$, es una v.a. de Bernoulli de parámetro $p$ (que es el valor que queremos estimar).  \n",
    "\n",
    "Tomamos una muestra aleatoria simple $X_1,\\cdots,X_n$ de la v.a. $X$ y consideramos el estadístico: \n",
    "$$\\hat{p}= \\overline{X}=\\frac{X_1+\\cdots+X_n}{n}.$$ \n",
    "Por el Teorema Central del Límite tendremos que\n",
    "$$\\hat{p}\\sim N(p, \\sqrt{\\frac{p(1-p)}{n}})$$\n",
    "En particular, \n",
    "$$\\frac{\\hat{p}-p}{\\sqrt{\\frac{p(1-p)}{n}}}, \\frac{p-\\hat{p}}{\\sqrt{\\frac{p(1-p)}{n}}}\\sim N(0,1)$$\n",
    "\n",
    "Para muestras grandes, podemos aproximar $\\sqrt{\\frac{p(1-p)}{n}}$ con el valor $\\sqrt{\\frac{\\hat{p}(1-\\hat{p})}{n}}$ y en tal caso asumir que \n",
    "\n",
    "$$\\frac{p-\\hat{p}}{\\sqrt{\\frac{\\hat{p}(1-\\hat{p})}{n}}}\\sim N(0,1)$$\n",
    "\n"
   ]
  },
  {
   "cell_type": "markdown",
   "metadata": {},
   "source": [
    "<h3> Estimador para la varianza en una población normal </h3>\n",
    "\n",
    "Partimos de una muestra aleatoria simple $X_1, . . . , X_n$ proveniente de una población con distribución normal donde su media y varianza son desconocidas.\n",
    "\n",
    "Para estimar la varianza de esta población se utiliza como estimador\n",
    "la cuasi-varianza muestral $$\\hat{\\sigma}^2=\\frac{1}{n-1}\\sum_{i=1}^n\\left(X_i-\\overline{X}\\right)^2$$ \n",
    "\n",
    "Recordemos que se satisface la siguiente propiedad:\n",
    "\n",
    "<strong> Teorema </strong> \n",
    "Sea $X_1,\\dots,X_n$ una muestra aleatoria proveniente de una población con distribución $N(\\mu,\\sigma^2)$.  Entonces\n",
    "\n",
    "* $\\overline{X}$ y el vector $\\left(X_1-\\overline{X},\\dots,X_n-\\overline{X}\\right)$ son independientes.\n",
    "*  $\\overline{X}$ y $\\hat{\\sigma}^2$ son independientes.\n",
    "*  $\\frac{(n-1)\\hat{\\sigma}^2}{\\sigma^2}\\sim\\chi_{n-1}^2$.\n",
    "*  $\\operatorname{E}[\\hat{\\sigma}^2]=\\sigma^2$ y $\\operatorname{Var}(\\hat{\\sigma}^2)=\\frac{2\\sigma^4}{n-1}$.\n",
    "\n",
    "Por tanto, $\\hat{\\sigma}^2$ es un estimador insesgado y robusto de $\\sigma^2$ y se distribuye como una v.a. $\\chi_{n-1}^2$ <font color=\"brown\"> (El hecho de que aparezcan $n-1$ grados de libertad en vez de los $n$ grados que aparecen en la suma $X_1^2+\\cdots+X_n^2$ proviene de que hemos restado $\\overline{X}$ a cada una de las variables cuando construimos la cuasi-varianza muestral, y $\\overline{X}$ expresa una ligazón entre las variables $X_1,\\cdots,X_n$).</font> \n",
    "\n",
    "\n",
    "<strong> Nota importante </strong> A menudo se usa la notación  $\\hat{S}^2$ en vez de  $\\hat{\\sigma}^2$ para la cuasi-varianza muestral. "
   ]
  },
  {
   "cell_type": "markdown",
   "metadata": {},
   "source": [
    "<h3> Estimador para la media cuando la población es normal y  $\\sigma$ es desconocida </h3>\n",
    "\n",
    "* Muchas veces la desviación típica de la población no es conocida. \n",
    "\n",
    "* En ese caso se sustituye $\\sigma^2$ por su estimador $\\hat{\\sigma}^2$.\n",
    "\n",
    "* Ahora bien: el precio a pagar es que ya no podemos afirmar que  $\\hat{m}:=\\hat{X} \\sim m + \\frac{\\sigma}{\\sqrt{n}}N(0,1)$. \n",
    "\n",
    "* Sin embargo, si la población es normal, se tiene que\n",
    "$$\\hat{m}=m+\\frac{\\sigma}{\\sqrt{n}}t_{n-1}$$\n",
    "donde $n$ es el tamaño de la muestra. \n"
   ]
  },
  {
   "cell_type": "markdown",
   "metadata": {},
   "source": [
    "<h3> Coeficiente corrector de poblaciones finitas </h3>\n",
    "\n",
    "\n",
    "Ya hemos observado antes que  <font color=\"brown\"> <strong> cuando la población es muy grande comparada con el tamaño de la muestra</strong> tomar una muestra de tamaño $n$ de una población es completamente equivalente a tomar una muestra aleatoria simple $X_1,\\cdots,X_n$ de una v.a. $X$. </font> Ahora bien, en general: \n",
    "\n",
    "* Las muestras se toman sin reemplazamiento (es decir, los elementos de la muestra son distintos)\n",
    "\n",
    "* Esto hace que las variables correspondientes no sean en realidad independientes (lo son -o casi- si la población es enorme comparada con la muestra).\n",
    "\n",
    "* Este efecto es especialmente relevante si el tamaño de la muestra es comparable al de la población (por ejemplo, representa un porcentaje no trivial).\n",
    "\n",
    "* Para prevenir este problema, se debe incluir una modificación en la varianza de la variable $\\hat{m}$,  conocida como <strong> coeficiente corrector de poblaciones finitas</strong>: $$\\hat{m}\\sim m+  \\frac{\\sigma}{\\sqrt{n}}\\sqrt{\\frac{N-n}{N-1}}N(0,1),$$\n",
    "donde $N$ es el tamaño de la población y $n$ es el tamaño de la muestra. \n"
   ]
  },
  {
   "cell_type": "markdown",
   "metadata": {},
   "source": [
    "<h2> Intervalos de confianza </h2>\n",
    "<strong>Definición </strong> El intervalo $I$ es un intervalo de confianza  para el parámetro $\\theta$  con nivel de confianza $p$ si \n",
    "$$\n",
    "P(\\theta \\in I) =p\n",
    "$$\n",
    "La idea es que tratamos $\\theta$ como si fuera una v.a.  (aunque no lo es). Lo que conocemos en realidad es un estimador $\\hat{\\theta}$ de $\\theta$, que es una v.a a la que podemos asociar una distribución de probabilidad conocida. \n",
    "\n",
    "\n",
    "Concretamente: \n",
    "\n",
    "* <font color=\"brown\"> Asumimos que podemos conocer cómo se distribuye la diferencia $$\\theta-\\hat{\\theta}$$ (que sí es una variable aleatoria) y en base a eso calculamos el intervalo que nos piden.</font> \n",
    "\n",
    "\n",
    "\n",
    "\n",
    "<strong> Nota </strong>  Además de calcular intervalos de confianza, conocer la distribución de probabilidad de $\\theta-\\hat{\\theta}$ nos permite también <font color=\"brown\"> responder a preguntas directas sobre el estimador $\\hat{\\theta}$ cuando conocemos el valor exacto de $\\theta$. </font>"
   ]
  },
  {
   "cell_type": "code",
   "execution_count": 1,
   "metadata": {},
   "outputs": [],
   "source": [
    "import pandas as pd\n",
    "import numpy as np\n",
    "import random\n",
    "import matplotlib.pyplot as plt\n",
    "from empiricaldist import Pmf"
   ]
  },
  {
   "cell_type": "markdown",
   "metadata": {},
   "source": [
    "\n",
    "<h3> Estimación de la media $\\mu$ si $\\sigma$ es conocida</h3> \n",
    "\n",
    "\n",
    "Por ejemplo, si tomamos suficientes muestras $X_1,\\cdots, X_N$ de una población de media $\\mu$ desconocida pero desviación típica conocida, $\\sigma$, entonces sabemos que $$\\hat{\\mu}:= \\overline{X}=\\frac{1}{N}\\sum_{i=1}^NX_i$$ (la media muestral) satisface que $$\\overline{X}-\\mu\\sim \\frac{\\sigma}{\\sqrt{N}} Z$$ donde $Z\\sim N(0,1)$. \n",
    "\n",
    "Como $N(0,1)$ es simétrica respecto del origen, podemos encontrar un intervalo\n",
    "simétrico $I_{\\alpha}=[-\\alpha,\\alpha]$ tal que $P(-\\alpha<Z<\\alpha)=p$. De hecho, basta tomar $-\\alpha$ el percentil $e=\\frac{1-p}{2}$ o, equivalentememte, $\\alpha$ será el percentil $1-e=1-\\frac{1-p}{2}$. Es decir, si $Z\\sim N(0,1)$, entonces $$\\alpha=Z.\\text{ppf}(1-\\frac{1-p}{2})$$\n",
    "Entonces es obvio que \n",
    "$$\n",
    "-\\alpha \\leq Z\\leq \\alpha \\Leftrightarrow  -\\alpha \\frac{\\sigma}{\\sqrt{N}} \\leq \\frac{\\sigma}{\\sqrt{N}}Z\\leq \\alpha\\frac{\\sigma}{\\sqrt{N}} $$\n",
    "\n",
    "$$ \\Leftrightarrow   -\\alpha \\frac{\\sigma}{\\sqrt{N}} \\leq \\overline{X}-\\mu\\leq \\alpha\\frac{\\sigma}{\\sqrt{N}} $$\n",
    "$$\\Leftrightarrow  \\overline{X}-\\alpha \\frac{\\sigma}{\\sqrt{N}}  \\leq \\mu\\leq \\overline{X}+\\alpha\\frac{\\sigma}{\\sqrt{N}}   \n",
    "$$\n",
    "De modo que \n",
    "$$\n",
    "I= \\left[\\overline{X}-\\alpha \\frac{\\sigma}{\\sqrt{N}},  \\mu, \\overline{X}+\\alpha\\frac{\\sigma}{\\sqrt{N}}\\right]\n",
    "$$\n",
    "es un intervalo de confianza para $\\mu$ con confianza $p$ (i.e. confianza $100p \\%$).  \n",
    "\n",
    "\n",
    "\n"
   ]
  },
  {
   "cell_type": "markdown",
   "metadata": {},
   "source": [
    "Por ejemplo, supongamos que queremos una confianza del $95\\%$. Entonces el siguiente cálculo:"
   ]
  },
  {
   "cell_type": "code",
   "execution_count": 6,
   "metadata": {},
   "outputs": [
    {
     "data": {
      "text/plain": [
       "1.959963984540054"
      ]
     },
     "execution_count": 6,
     "metadata": {},
     "output_type": "execute_result"
    }
   ],
   "source": [
    "from scipy.stats import norm\n",
    "X=norm(0,1)\n",
    "X.ppf(1-0.05/2)"
   ]
  },
  {
   "cell_type": "markdown",
   "metadata": {},
   "source": [
    "Nos muestra que \n",
    "$$\n",
    "I= \\left[\\overline{X}-1.959963984540054 \\frac{\\sigma}{\\sqrt{N}}, \\overline{X}+1.959963984540054\\frac{\\sigma}{\\sqrt{N}}\\right]\n",
    "$$\n",
    "será un intervalo de confianza para la media $\\mu$ con nivel de confianza del $95\\%$. \n",
    "\n",
    "Evidentemente, cuanto mayor es el valor $N$ (el número de muestras tomadas), más estrecho será el intervalo $I$ y, por tanto, más precisa la estimación. (Lo mismo vale para $\\sigma$: cuanto menor sea $\\sigma$, más precisa será la estimación). "
   ]
  },
  {
   "cell_type": "markdown",
   "metadata": {},
   "source": [
    "<strong>Ejemplo</strong> <font color=\"blue\"> Nos interesa la media $\\mu$ de una serie de datos. Se supone que esos datos corresponden a una normal con desviación típica 2. Cogemos 40 de esos datos y calculamos su media $\\overline{X} = 50$. Calcula dos\n",
    "valores a y b de modo que la seguridad de que la media $m$ esté entre ellos sea del 95$\\%$ </font>\n",
    "\n",
    "\n",
    "\n",
    "<strong> Solución rápida </strong> Es obvio que nos piden un intervalo de confianza con nivel de confianza $95\\%$ para la media, en una población cuya $\\sigma$ es conocida. Podemos aplicar la fórmula:\n",
    "\n",
    "$$\n",
    "I= \\left[\\overline{X}-\\alpha \\frac{\\sigma}{\\sqrt{N}}, \\overline{X}+\\alpha\\frac{\\sigma}{\\sqrt{N}}\\right]\n",
    "$$\n",
    "\n",
    "con $N=40$, $p=0.95$, $Z\\sim N(0,1)$, $\\overline{X}=50$, $$\\alpha=Z.\\text{ppf}(1-\\frac{1-p}{2}),$$lo que arroja el siguiente intervalo:"
   ]
  },
  {
   "cell_type": "code",
   "execution_count": 8,
   "metadata": {},
   "outputs": [
    {
     "data": {
      "text/plain": [
       "[49.38020496769544, 50.61979503230456]"
      ]
     },
     "execution_count": 8,
     "metadata": {},
     "output_type": "execute_result"
    }
   ],
   "source": [
    "I=[50- X.ppf(1-0.025)*2/40**0.5,50+X.ppf(1-0.025)*2/40**0.5]\n",
    "I"
   ]
  },
  {
   "cell_type": "markdown",
   "metadata": {},
   "source": [
    "<strong> Solución razonada </strong> Sabemos que $\\overline{X}\\sim N(m,\\frac{2}{\\sqrt{40}})$. Es más, si consideramos $m$ como una v.a. y usamos que $\\overline{X}=50$, sabemos que \n",
    "$$Z=\\frac{m-\\overline{X}}{s/\\sqrt{40}}= \\frac{m-50}{2/\\sqrt{40}}\\sim N(0,1)$$\n",
    "Como $Z$ es simétrica, podemos buscar un valor $a\\in\\mathbb{R}$ tal que $P(-a\\leq Z\\leq a)=0.95$ simplemente resolviendo la ecuación $P(Z\\leq -a)=0.025$ pues, entonces, $P(Z\\geq a)=0.025$ y $$P(-a<Z<a)=1-(P(Z\\leq a)+P(Z\\geq a))=1-(0.025+0.025)=0.95$$ "
   ]
  },
  {
   "cell_type": "code",
   "execution_count": 9,
   "metadata": {},
   "outputs": [
    {
     "data": {
      "text/plain": [
       "1.9599639845400545"
      ]
     },
     "execution_count": 9,
     "metadata": {},
     "output_type": "execute_result"
    }
   ],
   "source": [
    "a=X.ppf(0.025)\n",
    "a=-a\n",
    "a"
   ]
  },
  {
   "cell_type": "markdown",
   "metadata": {},
   "source": [
    "Entonces \n",
    "$$P(-1.959964\\leq \\frac{m-50}{2/\\sqrt{40}} \\leq 1.959964)=0.95$$\n",
    "y, despejando,\n",
    "$$P(-1.959964\\cdot 2/\\sqrt{40}+50\\leq m \\leq 1.959964\\cdot 2/\\sqrt{40}+50)=0.95$$\n",
    "Por tanto, una solución al problema es:"
   ]
  },
  {
   "cell_type": "code",
   "execution_count": 10,
   "metadata": {},
   "outputs": [
    {
     "data": {
      "text/plain": [
       "[49.38020496280657, 50.61979503719343]"
      ]
     },
     "execution_count": 10,
     "metadata": {},
     "output_type": "execute_result"
    }
   ],
   "source": [
    "A= -1.959964*2/40**0.5+50\n",
    "B= 1.959964*2/40**0.5+50\n",
    "[A,B]"
   ]
  },
  {
   "cell_type": "markdown",
   "metadata": {},
   "source": [
    "<strong>Nota </strong> Obsérvese que hemos usado que la v.a. N(0,1) es simétrica para construir un intervalo simétrico [-a,a] a partir del cual luego se construye el intervalo [A,B] que nos piden, con la condición añadida de que este está centrado en $\\overline{X}=50$. Obviamente, esto no formaba parte del enunciado, por lo que hay infinitas soluciones posibles (pero solo una con esta propiedad adicional). "
   ]
  },
  {
   "cell_type": "markdown",
   "metadata": {},
   "source": [
    "<h3>Estimación de la media $\\mu$ si $\\sigma$ es desconocida</h3>\n",
    "\n",
    "\n",
    "Cuando desconocemos tanto la media como la desviación típica de la población, las cosas se complican. Aún así, <font color=\"brown\"> si la población es normal</font>, podemos estimar $\\mu$ usando la media muestral $\\overline{X}$ y la cuasi-varianza  (o varianza muestral) $\\hat{S}^2$, pues  \n",
    "$$\n",
    "\\overline{X}-\\mu \\sim \\frac{\\hat{S}^2}{\\sqrt{N}}t_{N-1},\n",
    "$$\n",
    "\\noindent donde $N$ es el tamaño de la muestra y $t_v$ es la distribución de Student con $v$ grados de libertad, cuya fdp es:\n",
    "$$\n",
    "f_{t_v}(x)=\\frac{\\Gamma(\\frac{v+1}{2})}{\\sqrt{v\\pi}\\Gamma(\\frac{v}{2})}\\left(1+\\frac{x^2}{v}\\right)^{-\\frac{v+1}{2}}\n",
    "$$ \n",
    "En Python, esta distribución se determina como sigue: "
   ]
  },
  {
   "cell_type": "code",
   "execution_count": 13,
   "metadata": {},
   "outputs": [
    {
     "data": {
      "text/plain": [
       "-2.0150483726691575"
      ]
     },
     "execution_count": 13,
     "metadata": {},
     "output_type": "execute_result"
    }
   ],
   "source": [
    "from scipy.stats import t\n",
    "# Ej. si tenemos v=5 grados de libertad: \n",
    "X=t(5)\n",
    "# Si queremos calcular el percentil p=0.05:\n",
    "X.ppf(0.05)"
   ]
  },
  {
   "cell_type": "markdown",
   "metadata": {},
   "source": [
    "De modo que  el intervalo de confianza con nivel de confianza $p$ viene dado por: \n",
    "$$I=\\left[\\overline{X}+\\frac{\\hat{S}^2}{\\sqrt{N}} \\cdot t(N-1).\\text{ppf}(\\frac{1-p}{2}), \\overline{X}+\\frac{\\hat{S}^2}{\\sqrt{N}} \\cdot t(N-1).\\text{ppf}(\\frac{1-p}{2}) \\right]$$"
   ]
  },
  {
   "cell_type": "markdown",
   "metadata": {},
   "source": [
    "Por ejemplo, para $p=0.95$, $N=100$, tendremos:"
   ]
  },
  {
   "cell_type": "code",
   "execution_count": 15,
   "metadata": {},
   "outputs": [
    {
     "name": "stdout",
     "output_type": "stream",
     "text": [
      "[-1.9842169515086832, 1.9842169515086827]\n"
     ]
    }
   ],
   "source": [
    "X=t(99)\n",
    "print([X.ppf(0.025),X.ppf(1-0.025)])"
   ]
  },
  {
   "cell_type": "markdown",
   "metadata": {},
   "source": [
    "de modo que \n",
    "$$I=\\left[\\overline{X}-1.984217\\frac{\\hat{S}^2}{\\sqrt{N}}  , \\overline{X}+1.984217\\frac{\\hat{S}^2}{\\sqrt{N}}  \\right]$$\n",
    "\n",
    "\n"
   ]
  },
  {
   "cell_type": "markdown",
   "metadata": {},
   "source": [
    "<strong> Ejemplo </strong> <font color=\"blue\"> Lord Rayleigh en 1890 postuló la existencia del Argón en el aire, y para ello hizo 100 mediciones\n",
    "del peso del llamado gas residual (los científicos de la época sabian aislar el O2, el CO2 y el vapor de agua, el gas restante lo llamaban gas residual) obtuvo como media de las 100 mediciones\n",
    "P = 2,31001 gr. y como cuasi desviación típica muestral s = 0,021 gr. ¿Cuál es la probabilidad\n",
    "de que la media m esté en el intervalo [2.303773 , 2.316247]?</font>  <font color=\"magenta\">En otras palabras: ¿cual es el nivel de confianza de este intervalo, si estamos estimando la media $m$?</font>"
   ]
  },
  {
   "cell_type": "markdown",
   "metadata": {},
   "source": [
    "Sabemos que  la medición del peso es una v.a. normal, por tanto, la v.a. base es $X\\sim N(m,\\sigma)$ para ciertos valores desconocidos $m,\\sigma$. Así las cosas, la media muestral satisface \n",
    "$$\\overline{X}-m\\sim \\frac{\\hat{S^2}}{\\sqrt{100}}t_{99} $$ \n",
    "(pues $n=100$ es el número de muestras tomadas).\n",
    "Por otra parte, \n",
    "\\begin{eqnarray*}\n",
    "    2.303773\\leq m\\leq 2.316247 & \\Leftrightarrow & -2.303773\\geq -m\\geq -2.316247 \\\\\n",
    "    & \\Leftrightarrow & \\overline{X}-2.303773\\geq \\overline{X}-m\\geq \\overline{X}-2.316247 \\\\\n",
    "    & \\Leftrightarrow & \n",
    "    \\frac{\\overline{X}-2.303773}{\\hat{S^2}/\\sqrt{100}}\\geq \\frac{\\overline{X}-m}{\\hat{S^2}/\\sqrt{100}}\\geq \\frac{\\overline{X}-2.316247}{\\hat{S^2}/\\sqrt{100}}\\\\\n",
    "    \\\\\n",
    "    & \\Leftrightarrow & \n",
    "    \\frac{\\overline{X}-2.303773}{\\hat{S^2}/\\sqrt{100}}\\geq Z \\geq \\frac{\\overline{X}-2.316247}{\\hat{S^2}/\\sqrt{100}}, \\text{ donde } Z\\sim t_{99}.\n",
    "\\end{eqnarray*}\n",
    "Y, sustituyendo $\\overline{X}= P= 2.31001$ y $\\hat{S^2}=0.021$, tendremos:\n",
    "$$\n",
    "2.303773\\leq m\\leq 2.316247 \\Leftrightarrow  \\frac{2.31001-2.303773}{0.021/\\sqrt{100}}\\geq Z \\geq \\frac{2.31001-2.316247}{0.021/\\sqrt{100}}\n",
    "$$\n",
    "Calculemos:"
   ]
  },
  {
   "cell_type": "code",
   "execution_count": 2,
   "metadata": {},
   "outputs": [
    {
     "data": {
      "text/plain": [
       "[2.9700000000000224, -2.9700000000000224]"
      ]
     },
     "execution_count": 2,
     "metadata": {},
     "output_type": "execute_result"
    }
   ],
   "source": [
    "[(2.31001-2.303773)/(0.021/(10)), (2.31001-2.316247)/(0.021/(10))]"
   ]
  },
  {
   "cell_type": "markdown",
   "metadata": {},
   "source": [
    "Por tanto,  \n",
    "$$\n",
    "P(2.303773\\leq m\\leq 2.316247)= P \\left( -2.97\\leq Z \\leq 2.97\\right) \\text{ con } Z\\sim t_{99}\n",
    "$$\n",
    "Hagamos el cálculo con Python. Para ello tenemos antes que cargar la distribución $t_{99}$, y luego evaluar su función de distribución adecuadamente: "
   ]
  },
  {
   "cell_type": "code",
   "execution_count": 2,
   "metadata": {},
   "outputs": [
    {
     "data": {
      "text/plain": [
       "0.9962633431587837"
      ]
     },
     "execution_count": 2,
     "metadata": {},
     "output_type": "execute_result"
    }
   ],
   "source": [
    "from scipy.stats import t\n",
    "X=t(99)\n",
    "# Si queremos calcular el percentil p=0.05:\n",
    "resultado= X.cdf(2.97)-X.cdf(-2.97)\n",
    "resultado"
   ]
  },
  {
   "cell_type": "markdown",
   "metadata": {},
   "source": [
    "El nivel de confianza para el intervalo que nos dan es del $99.62633431587837\\%$. "
   ]
  },
  {
   "cell_type": "markdown",
   "metadata": {},
   "source": [
    "<h3>Estimación de la proporción $p$ de elementos de una población que satisfacen cierta condición $A$</h3>\n",
    "\n",
    "En este caso sabemos que  $$p-\\hat{p}\\sim \\sqrt{\\frac{p(1-p)}{N}} N(0,1)$$ \n",
    "\n",
    "Y, <font color=\"brown\"> si $N$ es suficientemente grande</font>, podemos también asumir que \n",
    "$$p-\\hat{p}\\sim \\sqrt{\\frac{\\hat{p}(1-\\hat{p})}{N}} N(0,1),$$\n",
    "donde $\\hat{p}$ es la proporción muestral. \n",
    "\n",
    "A partir de ahí es fácil obtener intervalos de confianza para $p$:\n",
    "\n",
    "$$I=\\left[\\hat{p}-\\sqrt{\\frac{\\hat{p}(1-\\hat{p})}{N}} \\text{norm(0,1).ppf}(1-e) , \\hat{p}+\\sqrt{\\frac{\\hat{p}(1-\\hat{p})}{N}} \\text{norm(0,1).ppf}(1-e) \\right]$$\n",
    "donde $e=\\frac{1-q}{2}$ si el nivel de confianza es $q$ (cambiamos la letra porque $p$ lo estamos usando para la proporción). \n"
   ]
  },
  {
   "cell_type": "markdown",
   "metadata": {},
   "source": [
    "\n",
    "\n",
    "<font color=\"blue\"> <strong> Ejemplo </strong> Se quiere conocer la proporción de alumnos que entran a la carrera con conocimientos de C.\n",
    "Para ello se coge una muestra de 100 alumnos de los cuáles se comprueba que solamente 12 de\n",
    "ellos tienen esos conocimientos. Calcula un intervalo de confianza para la proporción buscada con\n",
    "seguridad del 90$\\%$</font> \n",
    "\n"
   ]
  },
  {
   "cell_type": "markdown",
   "metadata": {},
   "source": [
    "<strong> Solución.</strong> En el caso de la proporción $p$ de elementos de una población que verifican cierta condición, sabemos que <font color=\"brown\"> si la muestra es suficientemente grande </font>,\n",
    "$$p=\\hat{p}+\\sqrt{\\hat{p}(1-\\hat{p})/n}N(0,1)$$\n",
    "Asumimos que 100 alumnos son suficientes para utilizar este resultado. Entonces nuestros datos nos indican que $\\hat{p}=12/100=0.12$ y lo único que hay que hacer es obtener los percentiles correspondientes de la v.a. N(0,1):"
   ]
  },
  {
   "cell_type": "code",
   "execution_count": 6,
   "metadata": {},
   "outputs": [
    {
     "name": "stdout",
     "output_type": "stream",
     "text": [
      "[-1.6448536269514729, 1.6448536269514722]\n",
      "El intervalo que nos piden es, [6.654858385856594, 17.345141614143404]\n"
     ]
    }
   ],
   "source": [
    "from scipy.stats import norm\n",
    "X=norm(0,1)\n",
    "\n",
    "resultado= X.cdf(2.97)-X.cdf(-2.97)\n",
    "a= X.ppf(0.05)\n",
    "b=X.ppf(0.95)\n",
    "print([a,b])\n",
    "A=0.12+a*(0.12*(1-0.12)/100)**0.5 \n",
    "B=0.12+b*(0.12*(1-0.12)/100)**0.5\n",
    "print(\"El intervalo que nos piden es,\",[A*100,B*100]) # Mult. por 100 para expresarlo en porcentajes "
   ]
  },
  {
   "cell_type": "markdown",
   "metadata": {},
   "source": [
    "\n",
    "<h2>Contrastes de Hipótesis</h2>\n",
    "\n",
    "\n",
    "Supongamos que creemos que un parámetro $\\theta$ de una determinada población tiene un cierto valor. Llamamos hipótesis nula y denotamos por $H_0$ a dicha creencia. \n",
    "\n",
    "Por otra parte, cabe la posibilidad de una alternativa, que denotamos por $H_1$. (Por ejemplo, una empresa afirma que la durabilidad media de sus productos supera cierto valor y nosotros dudamos de ello, planteando la hipótesis de que dicha durabilidad es en realidad menor). ¿Cómo proceder?\n",
    "\n",
    "\n",
    "* Se toma una muestra \n",
    "\n",
    "* Se comprueba el valor de un cierto estadístico $\\hat{\\theta}$ -que debe aproximar el valor real de $\\theta$\n",
    "\n",
    "* Se analiza lo muy o poco probable que es, en el caso de que $H_0$ sea cierta, el resultado observado. (La probabilidad del resultado observado se llama $p$-valor).\n",
    "\n",
    "*Rechazamos $H_0$ solo en el caso de que el $p$-valor sea inferior a un cierto nivel de significación fijado de antemano. \n",
    "\n",
    "\n",
    "Para abordar esta tarea usaremos que:\n",
    "\n",
    "\n",
    "* Si $\\sigma$ es conocida,\n",
    "$$\n",
    "\\frac{\\overline{X}-\\mu}{\\sigma/\\sqrt{N}}\\sim N(0,1)\n",
    "$$\n",
    "*  Si la población es normal y $\\sigma$ es desconocida,\n",
    "$$\n",
    "\\frac{\\overline{X}-\\mu}{\\hat{S}/\\sqrt{N}}\\sim t_{N-1}\n",
    "$$\n",
    "* Si $H_0$ se refiere a una proporción $p$:\n",
    "$$\n",
    "\\frac{\\hat{p}-p}{\\sqrt{p(1-p)/N}}\\sim N(0,1)\n",
    "$$\n",
    "\n",
    "\n"
   ]
  },
  {
   "cell_type": "markdown",
   "metadata": {},
   "source": [
    "<h3>Contrastes para la media con $\\sigma$ conocida</h3>\n",
    "\n",
    "\n",
    "* <strong> $H_0: \\mu \\leq \\mu_0$; frente a  $H_1: \\mu > \\mu_0$.</strong>\n",
    "\n",
    "En este caso el estadístico es $$T=\\frac{\\overline{X}-\\mu_0}{\\sigma/\\sqrt{N}} \\sim N(0,1)$$ y el $p$-valor es $$P(N(0,1)>T)$$\n",
    "\n",
    "Si dicho valor es inferior al nivel de significación $\\alpha$, rechazamos $H_0$.\n",
    "\n",
    "<font color= \"brown\"> De forma análoga, si el contraste es <strong> $H_0: \\mu \\geq \\mu_0$; frente a  $H_1: \\mu < \\mu_0$.</strong>, usamos el mismo estadístico $T$, pero ahora el $p$-valor es $P(N(0,1)<T)$</font>\n",
    "\n",
    "* <strong> $H_0: \\mu =\\mu_0$; frente a  $H_1:\\mu \\neq \\mu_0$.</strong>\n",
    "En este caso el estadístico es nuevamente $$T=\\frac{\\overline{X}-\\mu_0}{\\sigma/\\sqrt{N}} \\sim N(0,1)$$ y el $p$-valor es $$P(|N(0,1)|>|T|)=2P(N(0,1)>|T|)$$\n",
    "Si dicho valor es inferior al nivel de significación $\\alpha$, rechazamos $H_0$.\n",
    "    "
   ]
  },
  {
   "cell_type": "markdown",
   "metadata": {},
   "source": [
    "<h3>Contrastes para la media de una población normal, con $\\sigma$ desconocida</h3>\n",
    "\n",
    "\n",
    "* <strong> $H_0: \\mu \\leq \\mu_0$; frente a  $H_1: \\mu > \\mu_0$.</strong>\n",
    "        \n",
    "En este caso el estadístico es $$T=\\frac{\\overline{X}-\\mu_0}{\\hat{S}/\\sqrt{N}} \\sim t_{N-1}$$ y el $p$-valor es $$P(t_{N-1}>T)$$\n",
    "Si dicho valor es inferior al nivel de significación $\\alpha$, rechazamos $H_0$.\n",
    "\n",
    "<font color= \"brown\"> De forma análoga, si el contraste es <strong>$H_0: \\mu \\geq \\mu_0$; frente a  $H_1: \\mu < \\mu_0$.</strong>, usamos el mismo estadístico $T$, pero ahora el $p$-valor es $P(t_{N-1}<T)$</font>\n",
    "        \n",
    "* <strong> $H_0: \\mu =\\mu_0$; frente a  $H_1:\\mu \\neq \\mu_0$.</strong>\n",
    "        \n",
    "En este caso el estadístico es nuevamente $$T=\\frac{\\overline{X}-\\mu_0}{\\hat{S}/\\sqrt{N}} \\sim t_{N-1}$$ y el $p$-valor es $$P(|t_{N-1}|>|T|)=2P(t_{N-1}>|T|)$$\n",
    "Si dicho valor es inferior al nivel de significación $\\alpha$, rechazamos $H_0$."
   ]
  },
  {
   "cell_type": "markdown",
   "metadata": {},
   "source": [
    "<h3> Contrastes para la proporción</h3>\n",
    "\n",
    "\n",
    "* <strong> $H_0: p \\leq p_0$; frente a  $H_1: p > p_0$.</strong>\n",
    "\n",
    "En este caso el estadístico es $$T=\\frac{\\hat{p}-p_0}{\\sqrt{p_0(1-p_0)/N}} \\sim N(0,1)$$ y el $p$-valor es $$P(N(0,1)>T)$$\n",
    "Si dicho valor es inferior al nivel de significación $\\alpha$, rechazamos $H_0$.\n",
    "        \n",
    "<font color= \"brown\"> De forma análoga, si el contraste es <strong>$H_0: \\mu \\geq \\mu_0$; frente a  $H_1: \\mu < \\mu_0$.</strong>, usamos el mismo estadístico $T$, pero ahora el $p$-valor es $P(N(0,1)<T)$</font>\n",
    "        \n",
    "* <strong> $H_0: \\mu =\\mu_0$; frente a  $H_1:\\mu \\neq \\mu_0$.</strong>\n",
    "        \n",
    "En este caso el estadístico es nuevamente $$T=\\frac{\\hat{p}-p_0}{\\sqrt{p_0(1-p_0)/N}}\\sim N(0,1)$$ y el $p$-valor es $$P(|N(0,1)|>|T|)=2P(N(0,1)>|T|)$$\n",
    "Si dicho valor es inferior al nivel de significación $\\alpha$, rechazamos $H_0$."
   ]
  },
  {
   "cell_type": "markdown",
   "metadata": {},
   "source": [
    "<strong> Ejemplo</strong> <font color=\"blue\"> Una empresa de neumáticos afirma que una nueva gama dura en promedio al menos de 28000 km. Se supone que las duraciones son una normal con desviación típica 125. Se hace una prueba con\n",
    "64 neumáticos dando una duración media de 27800 km. Se pide:\n",
    "\n",
    "* Comprobar si hay evidencia suficiente para rechazar la afirmación de la empresa con nivel de significación del 5$\\%$\n",
    "*  ¿Cuál es el $p$-valor?\n",
    "</font> "
   ]
  },
  {
   "cell_type": "markdown",
   "metadata": {},
   "source": [
    "\n",
    "Estamos ante un contraste de hipótesis del tipo: <strong> $H_0: \\mu \\geq \\mu_0=28000$; frente a  $H_1:\\mu < \\mu_0=28000$.</strong> en el que conocemos la desviación típica $\\sigma=125$ y la media muestral $\\overline{X}=27800$, con $N=64$.\n",
    "        \n",
    "En este caso el estadístico es  $$T=\\frac{\\overline{X}-\\mu_0}{\\sigma/\\sqrt{N}}=\\frac{27800-28000}{125/\\sqrt{64}}$$ y el $p$-valor es $$P(N(0,1)<T)$$\n",
    "Si dicho valor es inferior al nivel de significación $\\alpha=0.05$, rechazamos $H_0$.\n",
    "\n",
    "\n",
    "Ahora bien, \n"
   ]
  },
  {
   "cell_type": "code",
   "execution_count": 9,
   "metadata": {},
   "outputs": [
    {
     "data": {
      "text/plain": [
       "-12.8"
      ]
     },
     "execution_count": 9,
     "metadata": {},
     "output_type": "execute_result"
    }
   ],
   "source": [
    "(27800-28000)/(125/(64**0.5))"
   ]
  },
  {
   "cell_type": "markdown",
   "metadata": {},
   "source": [
    "por lo que el cálculo del p-valor es:"
   ]
  },
  {
   "cell_type": "code",
   "execution_count": 4,
   "metadata": {},
   "outputs": [
    {
     "data": {
      "text/plain": [
       "8.19756171316276e-38"
      ]
     },
     "execution_count": 4,
     "metadata": {},
     "output_type": "execute_result"
    }
   ],
   "source": [
    "from scipy.stats import norm\n",
    "X=norm(0,1)\n",
    "X.cdf(-12.8)"
   ]
  },
  {
   "cell_type": "markdown",
   "metadata": {},
   "source": [
    "que es muy inferior a $0.05$. Rechazamos $H_0$."
   ]
  },
  {
   "cell_type": "markdown",
   "metadata": {},
   "source": [
    "<strong> Ejemplo</strong> <font color=\"blue\"> \n",
    "Un usuario cree que el consumo eléctrico de su ordenador es mayor de lo que dice el fabricante. Este\n",
    "fabricante afirma que la media de consumo es menor de 30 y que los consumos son normales con\n",
    "desviación típica 1. El usuario toma datos de 8 consumos obteniendo \n",
    "$\\{31, 30, 32, 31, 33, 30, 30, 32\\}$.\n",
    "Se quiere estudiar si puede asumirse, considerando un nivel de significación del 3$\\%$, que el consumo\n",
    "medio de libros leídos es como mucho de 30. Se pide:\n",
    "    \n",
    "* (a) Indica qué tipo de contraste es y cuáles son las regiones de rechazo y no rechazo y si se rechaza la hipótesis\n",
    "    \n",
    "* (b) ¿Cuál es el $p$-valor? </font>"
   ]
  },
  {
   "cell_type": "markdown",
   "metadata": {},
   "source": [
    "Comenzamos calculando la media de los datos:"
   ]
  },
  {
   "cell_type": "code",
   "execution_count": 9,
   "metadata": {},
   "outputs": [
    {
     "data": {
      "text/plain": [
       "31.125"
      ]
     },
     "execution_count": 9,
     "metadata": {},
     "output_type": "execute_result"
    }
   ],
   "source": [
    "dat=[31, 30, 32, 31, 33, 30, 30, 32]\n",
    "m=np.mean(dat)\n",
    "m"
   ]
  },
  {
   "cell_type": "markdown",
   "metadata": {},
   "source": [
    "Por tanto, estamos ante un contraste de hipótesis del tipo: \\textbf{$H_0: \\mu \\leq \\mu_0=30$; frente a  $H_1:\\mu > \\mu_0=30$.} en el que conocemos la desviación típica $\\sigma=1$ y la media muestral $\\overline{X}=31.125$, con $N=8$.\n",
    "        \n",
    "En este caso el estadístico es  $$T=\\frac{\\overline{X}-\\mu_0}{\\sigma/\\sqrt{N}}=\\frac{31.125-30}{1/\\sqrt{8}}$$ y el $p$-valor es $$P(N(0,1)>T)=1-P(N(0,1)\\leq T)=1-{\\rm pnorm}(T,0,1)$$\n",
    "\n",
    "Si dicho valor es inferior al nivel de significación $\\alpha=0.03$, rechazamos $H_0$."
   ]
  },
  {
   "cell_type": "markdown",
   "metadata": {},
   "source": [
    "Ahora bien,"
   ]
  },
  {
   "cell_type": "code",
   "execution_count": 10,
   "metadata": {},
   "outputs": [
    {
     "data": {
      "text/plain": [
       "3.1819805153394642"
      ]
     },
     "execution_count": 10,
     "metadata": {},
     "output_type": "execute_result"
    }
   ],
   "source": [
    "(31.125-30)/(1/(8**0.5))"
   ]
  },
  {
   "cell_type": "markdown",
   "metadata": {},
   "source": [
    "por lo que el cálculo del p-valor es:"
   ]
  },
  {
   "cell_type": "code",
   "execution_count": 11,
   "metadata": {},
   "outputs": [
    {
     "data": {
      "text/plain": [
       "0.0007313582933405893"
      ]
     },
     "execution_count": 11,
     "metadata": {},
     "output_type": "execute_result"
    }
   ],
   "source": [
    "X=norm(0,1)\n",
    "1-X.cdf(3.1819805153394642)"
   ]
  },
  {
   "cell_type": "markdown",
   "metadata": {},
   "source": [
    "que es inferior a $0.03$. Por tanto, rechazamos $H_0$.\n",
    "\n",
    "Como el nivel de confianza es $0.03$, tenemos que calcular el percentil $97\\%$ para obtener la región crítica. Concretamente, dicho percentil es:"
   ]
  },
  {
   "cell_type": "code",
   "execution_count": 12,
   "metadata": {},
   "outputs": [
    {
     "data": {
      "text/plain": [
       "1.8807936081512509"
      ]
     },
     "execution_count": 12,
     "metadata": {},
     "output_type": "execute_result"
    }
   ],
   "source": [
    "X.ppf(0.97)"
   ]
  },
  {
   "cell_type": "markdown",
   "metadata": {},
   "source": [
    "por lo que las regiones crítica y de aceptación son: \n",
    "$$\n",
    "R_C=\\{ T> 1.880974\\};\\quad \n",
    "R_A=\\{ T\\leq 1.880974\\}\n",
    "$$\n",
    "Como $T=3.1819805153394642>1.880974$, estamos en la región crítica (= de rechazo) y por eso hemos rechazado $H_0$."
   ]
  },
  {
   "cell_type": "markdown",
   "metadata": {},
   "source": [
    "<strong> Nota </strong>  Si no nos hubieran dado la desviación típica, al ser la población normal, podríamos realizar el contraste de hipótesis calculando la desviación típica muestral:"
   ]
  },
  {
   "cell_type": "code",
   "execution_count": 13,
   "metadata": {},
   "outputs": [
    {
     "data": {
      "text/plain": [
       "1.1259916264596033"
      ]
     },
     "execution_count": 13,
     "metadata": {},
     "output_type": "execute_result"
    }
   ],
   "source": [
    "s2=np.var(dat,ddof=1) ## ddof=1 indica que usamos la cuasivarianza muestral\n",
    "s=s2**0.5\n",
    "s"
   ]
  },
  {
   "cell_type": "markdown",
   "metadata": {},
   "source": [
    "En tal caso, estaríamos ante un contraste de hipótesis del tipo: <strong>$H_0: \\mu \\leq \\mu_0=30$; frente a  $H_1:\\mu > \\mu_0=30$.</strong> en el que no conocemos la desviación típica, pero sabemos que la media muestral $\\overline{X}=30.125$, y la desviación típica muestral es $1.1259916264596033$, con $N=8$.\n",
    "        \n",
    "En este caso el estadístico es  $$T=\\frac{\\overline{X}-\\mu_0}{\\hat{s}/\\sqrt{N}}=\\frac{30.125-30}{1.1259916264596033/\\sqrt{8}}$$ y el $p$-valor es $$P(t_{7}>T)$$\n",
    "Si dicho valor es inferior al nivel de significación $\\alpha=0.03$, rechazamos $H_0$.\n",
    "\n",
    "Ahora bien,"
   ]
  },
  {
   "cell_type": "code",
   "execution_count": 14,
   "metadata": {},
   "outputs": [
    {
     "data": {
      "text/plain": [
       "2.825936215302417"
      ]
     },
     "execution_count": 14,
     "metadata": {},
     "output_type": "execute_result"
    }
   ],
   "source": [
    "(31.125-30)/(1.1259916264596033/(8**0.5))"
   ]
  },
  {
   "cell_type": "markdown",
   "metadata": {},
   "source": [
    "por lo que el cálculo del p-valor es:"
   ]
  },
  {
   "cell_type": "code",
   "execution_count": 15,
   "metadata": {},
   "outputs": [
    {
     "data": {
      "text/plain": [
       "0.012777348042966707"
      ]
     },
     "execution_count": 15,
     "metadata": {},
     "output_type": "execute_result"
    }
   ],
   "source": [
    "from scipy.stats import t\n",
    "X=t(7)\n",
    "1-X.cdf(2.825936215302417)"
   ]
  },
  {
   "cell_type": "markdown",
   "metadata": {},
   "source": [
    "que es inferior a $0.03$.Debemos rechazar $H_0$.\n",
    "\n",
    "\n",
    "<strong> Para el cálculo de $R_A,R_C$:</strong> Como el nivel de confianza es $0.03$, tenemos que calcular el percentil $97\\%$ para obtener la región crítica. Concretamente, dicho percentil es:"
   ]
  },
  {
   "cell_type": "code",
   "execution_count": 28,
   "metadata": {},
   "outputs": [
    {
     "data": {
      "text/plain": [
       "2.2408792886140354"
      ]
     },
     "execution_count": 28,
     "metadata": {},
     "output_type": "execute_result"
    }
   ],
   "source": [
    "X.ppf(0.97)"
   ]
  },
  {
   "cell_type": "markdown",
   "metadata": {},
   "source": [
    "por lo que las regiones crítica y de aceptación son: \n",
    "\n",
    "$$\n",
    "R_C=\\{ T> 2.2408792886140354\\};\\quad \n",
    "R_A=\\{ T\\leq 2.2408792886140354\\}\n",
    "$$\n",
    "\n",
    "Como $T=2.825935>2.240879$, estamos en la región de rechazo (o región crítica $R_C$) y por eso rechazamos $H_0$. La región de aceptación es más grande porque tenemos mayor incertidumbre, al no conocer $\\sigma$. \n",
    "\n"
   ]
  },
  {
   "cell_type": "markdown",
   "metadata": {},
   "source": [
    "<strong> Ejemplo </strong> <font color=\"blue\"> Una empresa sabe que el 20$\\%$ de sus clientes tienen alguna queja. Proponen un plan de mejora y\n",
    "esperan que el problema haya mejorado. Para comprobarlo le preguntan a 300 clientes y ven que\n",
    "55 de ellos tienen quejas. ¿Se puede decir con un nivel de significación del 5$\\%$ que el problema\n",
    "ha mejorado? </font>"
   ]
  },
  {
   "cell_type": "markdown",
   "metadata": {},
   "source": [
    "En este caso el contraste es del tipo: \n",
    "\n",
    "<strong> $H_0: p \\geq p_0=0.2$; frente a  $H_1: p < p_0=0.2$.</strong>\n",
    "\n",
    "Es decir, asumimos que la proporción inicial -antes del plan de mejora era del 20$\\%$ o mayor, y queremos ver si en realidad -tras el plan de mejora, que es cuando tomamos la muestra- dicha proporción es menor (ha disminuido).\n",
    "\n",
    "En este caso el estadístico es \n",
    "$$T= \\frac{\\hat{p}-p_0}{\\sqrt{p_0(1-p_0)/N}}$$ y el $p$-valor es $$P(N(0,1)<T)$$\n",
    "Si dicho valor es inferior al nivel de significación $\\alpha=0.05$, rechazamos $H_0$.\n",
    "\n",
    "Ahora, en nuestro caso tenemos $N=300$, $p_0=0.2$, $\\hat{p}=55/300$, por lo que el valor de $T$ es:\n"
   ]
  },
  {
   "cell_type": "code",
   "execution_count": 43,
   "metadata": {},
   "outputs": [
    {
     "data": {
      "text/plain": [
       "-0.7216878364870332"
      ]
     },
     "execution_count": 43,
     "metadata": {},
     "output_type": "execute_result"
    }
   ],
   "source": [
    "(55/300-0.2)/((0.2*0.8/300)**0.5)"
   ]
  },
  {
   "cell_type": "markdown",
   "metadata": {},
   "source": [
    "Por tanto, el p-valor correspondiente es:"
   ]
  },
  {
   "cell_type": "code",
   "execution_count": 44,
   "metadata": {},
   "outputs": [
    {
     "data": {
      "text/plain": [
       "0.2352432222483159"
      ]
     },
     "execution_count": 44,
     "metadata": {},
     "output_type": "execute_result"
    }
   ],
   "source": [
    "from scipy.stats import norm\n",
    "X=norm(0,1)\n",
    "X.cdf(-0.7216878)"
   ]
  },
  {
   "cell_type": "markdown",
   "metadata": {},
   "source": [
    "\n",
    "Como el p-valor es superior al nivel de significación que nos han pedido ($\\alpha=0.05$), no podemos rechazar $H_0$ con dicho nivel de significación y, por tanto, no podemos afirmar que el plan ha sido útil, que la proporción de quejas ha disminuido. "
   ]
  },
  {
   "cell_type": "code",
   "execution_count": null,
   "metadata": {},
   "outputs": [],
   "source": []
  }
 ],
 "metadata": {
  "kernelspec": {
   "display_name": "Python 3",
   "language": "python",
   "name": "python3"
  },
  "language_info": {
   "codemirror_mode": {
    "name": "ipython",
    "version": 3
   },
   "file_extension": ".py",
   "mimetype": "text/x-python",
   "name": "python",
   "nbconvert_exporter": "python",
   "pygments_lexer": "ipython3",
   "version": "3.7.6"
  }
 },
 "nbformat": 4,
 "nbformat_minor": 4
}
