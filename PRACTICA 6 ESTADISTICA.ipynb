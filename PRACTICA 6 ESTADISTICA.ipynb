{
 "cells": [
  {
   "cell_type": "markdown",
   "metadata": {},
   "source": [
    "# Práctica 6 (Simulación, segunda parte)\n",
    "\n",
    "## 1. \n",
    "Tenemos un sistema para producir contraseñas. Este sistema genera contraseñas formadas por 4\n",
    "letras distintas seguidos de 3 números. Sabiendo que hay 26 letras y no se distinguen minúsculas\n",
    "de mayúsculas, se pide:\n",
    "\n",
    "* Si cojo una contraseña, nos interesa A = \"tener exactamente dos vocales\". Calcula P(A).\n",
    "* Haz un programa que haga una contraseña con este sistema.\n",
    "*  Ejecuta el programa 10000 veces y comprueba con los datos obtenidos si las frecuencias\n",
    "correspondientes se parecen a la probabilidad calculada en el primer apartado\n",
    "\n",
    "\n",
    "Tenemos dos sistemas para generar números. El primero genera números de 6 dígitos mientras que el segundo los genera de 7 dígitos. Usamos el primer sistema el 30\\% de las veces y el segundo sistema en el resto de los casos. Se pide:\n",
    "* Si cojo un número, nos interesa A = \"tener todos los dígitos distintos\". Calcula P(A).\n",
    "* Haz un programa que escoja un sistema y genere un número con el sistema elegido.\n",
    "* Ejecuta el programa 10000 veces y comprueba con los datos obtenidos si las frecuencias\n",
    "correspondientes se parecen a las probabilidades calculadas en el primer apartado. (Deben compararse tanto $P(A)$ como $P(S_1)$ y $P(S_2)$ con los datos generados, por lo que conviene crear dos variables: una variable llamada ``S'' y otra llamada ``A\". Para cada repetición del experimento aleatorio, la variable ``S'' nos informa del sistema elegido y la variables ``A'' nos dice si se ha producido o no el suceso $A$)\n",
    "* Calcula $P(A|S1)$ y comprueba el resultado usando el programa usado\n",
    "* Calcula $P(S1|A)$ y comprueba el resultado usando el programa usado \n",
    "\n",
    "\n",
    "\n",
    "## 2.\n",
    "Se lanzan 5 dados, cada uno de ellos con 6 caras numeradas del 1 al 6. Se sabe que los dados no están trucados, es decir que la probabilidad de cada resultado es 1/6 (en cada dado). Los posibles resultados de una tirada y sus probabilidades son:\n",
    "\n",
    "*  Dis = los 5 resultados distintos, $P(Dis) = \\frac{6\\cdot 5\\cdot 4\\cdot 3\\cdot 2}{6^5}= 0.0925925926$\n",
    "*  Par = un resultado sale dos veces y los otros tres son distintos , $P(Par) =\\frac{{5\\choose{5}}\\cdot 6\\cdot 5\\cdot 4\\cdot 3}{6^5}=0.4629629630$\n",
    "* DPar = dos resultados se repiten dos veces cada uno y el otro es distinto , $P(DPar)=\\frac{{5\\choose{2}}\\cdot 6\\cdot {3\\choose{2}\\cdot 5 \\cdot 4}}{2\\cdot 6^5}=0.2314814815$\n",
    "* Trio = Un resultado se repite tres veces y los otros dos son distintos , $P(Trio) = \\frac{{5\\choose{3}}\\cdot 6\\cdot 5\\cdot 4}{6^5}=0.1543209877$\n",
    "* Ful = Un resultado se repite tres veces y otro se repite dos veces, $P(Ful) = \\frac{{6\\choose{3}}\\cdot 6\\cdot 5}{6^5}=0.0385802469$\n",
    "* Pok = Un resultado se repite 4 veces y el otro es distinto, $P(Pok)=\\frac{{5\\choose{4}}\\cdot 6\\cdot 5}{6^5}=0.0192901235$\n",
    "* RPok = Un resultado se repite 5 veces, $P(RPok) = \\frac{6}{6^5}= 0.0007716049$\n",
    "\n",
    "* Haz un programa que simule el lanzamiento de 5 dados. Para cada lanzamiento, almacena los 5\n",
    "resultados en una variable llamada tirada. Para esa tirada, calcula su tabla, la longitud de la tabla y su\n",
    "máximo. En función de ellas indica qué tipo de tirada ha sido (por ejemplo, si la longitud de la tabla es\n",
    "5, debe ser con resultados distintos...)\n",
    "\n",
    "* Introduce 7 variables para contar cuántas veces se repite cada tipo de tirada. Repite el procedimiento\n",
    "1000 veces para calcular las frecuencias absolutas y relativas con las que se da cada tipo de partida y\n",
    "comprueba si las frecuencias relativas se parecen a las teóricas proporcionadas\n",
    "* Repite el proceso con un dado trucado en el que la probabilidad de 1 y 2 sea 1/3 cada uno y las\n",
    "probabilidades de los demás resultados sean iguales entre sí\n",
    "* <font color='red'> Para un tipo de partida (por ejemplo Pok) crea una variable llamada frecuencias. Repite el experimento\n",
    "del apartado anterior 40 veces y almacena las frecuencias en una variable. Estudia dicha variable.</font>\n"
   ]
  },
  {
   "cell_type": "markdown",
   "metadata": {},
   "source": [
    "## 1. Generación de contraseñas"
   ]
  },
  {
   "cell_type": "markdown",
   "metadata": {},
   "source": [
    "### 1.a - Probabilidad de tener exactamente dos vocales"
   ]
  },
  {
   "cell_type": "code",
   "execution_count": 1,
   "metadata": {},
   "outputs": [
    {
     "data": {
      "text/plain": [
       "0.14046822742474915"
      ]
     },
     "execution_count": 1,
     "metadata": {},
     "output_type": "execute_result"
    }
   ],
   "source": [
    "\n",
    "from scipy.special import comb, factorial\n",
    "\n",
    "P = (comb(4,2)*5*4*21*20)/(factorial(26)/factorial(22))\n",
    "P\n"
   ]
  },
  {
   "cell_type": "markdown",
   "metadata": {},
   "source": [
    "### 1.b - Generador de contraseñas"
   ]
  },
  {
   "cell_type": "code",
   "execution_count": 2,
   "metadata": {},
   "outputs": [
    {
     "data": {
      "text/plain": [
       "['i', 'g', 'r', 's', 9, 1, 0]"
      ]
     },
     "execution_count": 2,
     "metadata": {},
     "output_type": "execute_result"
    }
   ],
   "source": [
    "\n",
    "import random\n",
    "import string\n",
    "\n",
    "def generar_contraseña():\n",
    "    letras = list(string.ascii_lowercase)\n",
    "    digitos = list(range(10))\n",
    "    L = random.sample(letras, 4)\n",
    "    D = [random.choice(digitos) for _ in range(3)]\n",
    "    return L + D\n",
    "\n",
    "generar_contraseña()\n"
   ]
  },
  {
   "cell_type": "markdown",
   "metadata": {},
   "source": [
    "### 1.c - Simulación de 10,000 contraseñas"
   ]
  },
  {
   "cell_type": "code",
   "execution_count": 3,
   "metadata": {},
   "outputs": [
    {
     "data": {
      "text/plain": [
       "0.139"
      ]
     },
     "execution_count": 3,
     "metadata": {},
     "output_type": "execute_result"
    }
   ],
   "source": [
    "\n",
    "vocales = {'a', 'e', 'i', 'o', 'u'}\n",
    "resultados = []\n",
    "\n",
    "for _ in range(10000):\n",
    "    L = random.sample(string.ascii_lowercase, 4)\n",
    "    D = [random.choice(range(10)) for _ in range(3)]\n",
    "    num_vocales = sum(1 for letra in L if letra in vocales)\n",
    "    resultados.append(num_vocales == 2)\n",
    "\n",
    "sum(resultados) / len(resultados)\n"
   ]
  },
  {
   "cell_type": "markdown",
   "metadata": {},
   "source": [
    "# Ejercicio 2: Dos sistemas de generación de números\n",
    "\n",
    "\n",
    "## 2.a) Probabilidad de tener todos los dígitos distintos"
   ]
  },
  {
   "cell_type": "code",
   "execution_count": 4,
   "metadata": {},
   "outputs": [
    {
     "data": {
      "text/plain": [
       "(0.087696, 0.1512, 0.5172413793103449)"
      ]
     },
     "execution_count": 4,
     "metadata": {},
     "output_type": "execute_result"
    }
   ],
   "source": [
    "# %%\n",
    "P_A_S1 = (10*9*8*7*6*5) / 10**6\n",
    "P_A_S2 = (10*9*8*7*6*5*4) / 10**7\n",
    "P_A = P_A_S1 * 0.3 + P_A_S2 * 0.7\n",
    "P_S1_A = (P_A_S1 * 0.3) / P_A\n",
    "\n",
    "P_A, P_A_S1, P_S1_A\n",
    "\n"
   ]
  },
  {
   "cell_type": "markdown",
   "metadata": {},
   "source": [
    "### 2.b, 2.c, 2.d, 2.e) Simulación del proceso 10,000 veces y estimaciones"
   ]
  },
  {
   "cell_type": "code",
   "execution_count": 16,
   "metadata": {},
   "outputs": [
    {
     "data": {
      "text/html": [
       "<div>\n",
       "<style scoped>\n",
       "    .dataframe tbody tr th:only-of-type {\n",
       "        vertical-align: middle;\n",
       "    }\n",
       "\n",
       "    .dataframe tbody tr th {\n",
       "        vertical-align: top;\n",
       "    }\n",
       "\n",
       "    .dataframe thead th {\n",
       "        text-align: right;\n",
       "    }\n",
       "</style>\n",
       "<table border=\"1\" class=\"dataframe\">\n",
       "  <thead>\n",
       "    <tr style=\"text-align: right;\">\n",
       "      <th></th>\n",
       "      <th>S</th>\n",
       "      <th>A</th>\n",
       "    </tr>\n",
       "  </thead>\n",
       "  <tbody>\n",
       "    <tr>\n",
       "      <th>0</th>\n",
       "      <td>1</td>\n",
       "      <td>False</td>\n",
       "    </tr>\n",
       "    <tr>\n",
       "      <th>1</th>\n",
       "      <td>2</td>\n",
       "      <td>False</td>\n",
       "    </tr>\n",
       "    <tr>\n",
       "      <th>2</th>\n",
       "      <td>2</td>\n",
       "      <td>False</td>\n",
       "    </tr>\n",
       "    <tr>\n",
       "      <th>3</th>\n",
       "      <td>2</td>\n",
       "      <td>False</td>\n",
       "    </tr>\n",
       "    <tr>\n",
       "      <th>4</th>\n",
       "      <td>2</td>\n",
       "      <td>False</td>\n",
       "    </tr>\n",
       "    <tr>\n",
       "      <th>...</th>\n",
       "      <td>...</td>\n",
       "      <td>...</td>\n",
       "    </tr>\n",
       "    <tr>\n",
       "      <th>9995</th>\n",
       "      <td>2</td>\n",
       "      <td>False</td>\n",
       "    </tr>\n",
       "    <tr>\n",
       "      <th>9996</th>\n",
       "      <td>2</td>\n",
       "      <td>False</td>\n",
       "    </tr>\n",
       "    <tr>\n",
       "      <th>9997</th>\n",
       "      <td>2</td>\n",
       "      <td>False</td>\n",
       "    </tr>\n",
       "    <tr>\n",
       "      <th>9998</th>\n",
       "      <td>1</td>\n",
       "      <td>False</td>\n",
       "    </tr>\n",
       "    <tr>\n",
       "      <th>9999</th>\n",
       "      <td>2</td>\n",
       "      <td>False</td>\n",
       "    </tr>\n",
       "  </tbody>\n",
       "</table>\n",
       "<p>10000 rows × 2 columns</p>\n",
       "</div>"
      ],
      "text/plain": [
       "      S      A\n",
       "0     1  False\n",
       "1     2  False\n",
       "2     2  False\n",
       "3     2  False\n",
       "4     2  False\n",
       "...  ..    ...\n",
       "9995  2  False\n",
       "9996  2  False\n",
       "9997  2  False\n",
       "9998  1  False\n",
       "9999  2  False\n",
       "\n",
       "[10000 rows x 2 columns]"
      ]
     },
     "execution_count": 16,
     "metadata": {},
     "output_type": "execute_result"
    }
   ],
   "source": [
    "S = []  # sistema elegido\n",
    "A = []  # si tiene todos los dígitos distintos\n",
    "digitos=[0,1,2,3,4,5,6,7,8,9]\n",
    "\n",
    "for _ in range(10000):\n",
    "    sistema = random.choices([1, 2], weights=[0.3, 0.7])[0]\n",
    "    S.append(sistema)\n",
    "    n_digitos = 6 if sistema == 1 else 7\n",
    "    numero = random.choices(digitos, k=n_digitos)\n",
    "    A.append(len(set(numero)) == len(numero))\n",
    "\n",
    "import pandas as pd\n",
    "import numpy as np\n",
    "\n",
    "df = pd.DataFrame({'S': S, 'A': A})\n",
    "df"
   ]
  },
  {
   "cell_type": "code",
   "execution_count": 17,
   "metadata": {},
   "outputs": [
    {
     "data": {
      "text/html": [
       "<div>\n",
       "<style scoped>\n",
       "    .dataframe tbody tr th:only-of-type {\n",
       "        vertical-align: middle;\n",
       "    }\n",
       "\n",
       "    .dataframe tbody tr th {\n",
       "        vertical-align: top;\n",
       "    }\n",
       "\n",
       "    .dataframe thead th {\n",
       "        text-align: right;\n",
       "    }\n",
       "</style>\n",
       "<table border=\"1\" class=\"dataframe\">\n",
       "  <thead>\n",
       "    <tr style=\"text-align: right;\">\n",
       "      <th>S</th>\n",
       "      <th>1</th>\n",
       "      <th>2</th>\n",
       "    </tr>\n",
       "    <tr>\n",
       "      <th>A</th>\n",
       "      <th></th>\n",
       "      <th></th>\n",
       "    </tr>\n",
       "  </thead>\n",
       "  <tbody>\n",
       "    <tr>\n",
       "      <th>False</th>\n",
       "      <td>2495</td>\n",
       "      <td>6635</td>\n",
       "    </tr>\n",
       "    <tr>\n",
       "      <th>True</th>\n",
       "      <td>422</td>\n",
       "      <td>448</td>\n",
       "    </tr>\n",
       "  </tbody>\n",
       "</table>\n",
       "</div>"
      ],
      "text/plain": [
       "S         1     2\n",
       "A                \n",
       "False  2495  6635\n",
       "True    422   448"
      ]
     },
     "execution_count": 17,
     "metadata": {},
     "output_type": "execute_result"
    }
   ],
   "source": [
    "\n",
    "# Frecuencia conjunta\n",
    "freq = pd.crosstab(df['A'], df['S'])\n",
    "freq"
   ]
  },
  {
   "cell_type": "code",
   "execution_count": 18,
   "metadata": {},
   "outputs": [
    {
     "name": "stdout",
     "output_type": "stream",
     "text": [
      "S             1         2\n",
      "A                        \n",
      "False  0.273275  0.726725\n",
      "True   0.485057  0.514943\n"
     ]
    }
   ],
   "source": [
    "# Probabilidades condicionales\n",
    "cond_filas = freq.div(freq.sum(axis=1), axis=0)\n",
    "print(cond_filas)"
   ]
  },
  {
   "cell_type": "code",
   "execution_count": 19,
   "metadata": {},
   "outputs": [
    {
     "name": "stdout",
     "output_type": "stream",
     "text": [
      "S             1        2\n",
      "A                       \n",
      "False  0.855331  0.93675\n",
      "True   0.144669  0.06325\n"
     ]
    }
   ],
   "source": [
    "cond_columnas = freq.div(freq.sum(axis=0), axis=1)\n",
    "print(cond_columnas)"
   ]
  },
  {
   "cell_type": "code",
   "execution_count": 20,
   "metadata": {},
   "outputs": [
    {
     "data": {
      "text/plain": [
       "(0.4850574712643678, 0.5172413793103449)"
      ]
     },
     "execution_count": 20,
     "metadata": {},
     "output_type": "execute_result"
    }
   ],
   "source": [
    "# Comparaciones con los valores teóricos\n",
    "cond_filas.loc[True, 1], P_S1_A "
   ]
  },
  {
   "cell_type": "code",
   "execution_count": 21,
   "metadata": {},
   "outputs": [
    {
     "data": {
      "text/plain": [
       "(0.14466918066506684, 0.1512)"
      ]
     },
     "execution_count": 21,
     "metadata": {},
     "output_type": "execute_result"
    }
   ],
   "source": [
    "cond_columnas.loc[True, 1], P_A_S1"
   ]
  },
  {
   "cell_type": "markdown",
   "metadata": {},
   "source": [
    "# Ejercicio 3: Simulación de lanzamientos de 5 dados\n",
    "\n",
    "### 3.a) Clasificación de tipo de tirada según la tabla de frecuencias"
   ]
  },
  {
   "cell_type": "code",
   "execution_count": 8,
   "metadata": {},
   "outputs": [],
   "source": [
    "\n",
    "import pandas as pd\n",
    "import numpy as np"
   ]
  },
  {
   "cell_type": "code",
   "execution_count": 9,
   "metadata": {},
   "outputs": [],
   "source": [
    "def tipo_tirada(tirada):\n",
    "    valores = pd.Series(tirada).value_counts()\n",
    "    long = len(valores)\n",
    "    maxi = valores.max()\n",
    "    mini = valores.min()\n",
    "    if long == 5:\n",
    "        return \"Dist\"\n",
    "    elif long == 4:\n",
    "        return \"Par\"\n",
    "    elif long == 3 and maxi == 2:\n",
    "        return \"DPar\"\n",
    "    elif long == 3 and maxi == 3:\n",
    "        return \"Trio\"\n",
    "    elif long == 2 and mini == 2:\n",
    "        return \"Ful\"\n",
    "    elif long == 2 and mini == 1:\n",
    "        return \"Pok\"\n",
    "    elif long == 1:\n",
    "        return \"RPok\""
   ]
  },
  {
   "cell_type": "code",
   "execution_count": 10,
   "metadata": {},
   "outputs": [
    {
     "name": "stdout",
     "output_type": "stream",
     "text": [
      "[4, 2, 4, 1, 4] Trio\n",
      "[6, 2, 4, 4, 1] Par\n",
      "[6, 4, 5, 6, 6] Trio\n",
      "[2, 6, 2, 1, 6] DPar\n",
      "[2, 2, 4, 4, 2] Ful\n",
      "[2, 3, 3, 6, 1] Par\n",
      "[3, 3, 4, 6, 6] DPar\n",
      "[1, 4, 1, 2, 1] Trio\n",
      "[6, 3, 4, 3, 3] Trio\n",
      "[6, 3, 4, 5, 4] Par\n"
     ]
    }
   ],
   "source": [
    "# Ejemplo:\n",
    "for _ in range(10):\n",
    "    t = random.choices(range(1,7), k=5)\n",
    "    print(t, tipo_tirada(t))"
   ]
  },
  {
   "cell_type": "markdown",
   "metadata": {},
   "source": [
    " ### 3.b) Frecuencias relativas de cada tipo de tirada (1000 repeticiones)"
   ]
  },
  {
   "cell_type": "code",
   "execution_count": 11,
   "metadata": {},
   "outputs": [
    {
     "data": {
      "text/plain": [
       "Counter({'Par': 495,\n",
       "         'Trio': 126,\n",
       "         'Ful': 41,\n",
       "         'DPar': 237,\n",
       "         'Dist': 91,\n",
       "         'Pok': 10})"
      ]
     },
     "execution_count": 11,
     "metadata": {},
     "output_type": "execute_result"
    }
   ],
   "source": [
    "from collections import Counter\n",
    "\n",
    "tipos = []\n",
    "\n",
    "for _ in range(1000):\n",
    "    t = random.choices(range(1,7), k=5)\n",
    "    tipos.append(tipo_tirada(t))\n",
    "\n",
    "contador = Counter(tipos)\n",
    "total = sum(contador.values())\n",
    "frecuencias_relativas = {k: v/total for k, v in contador.items()}\n",
    "contador"
   ]
  },
  {
   "cell_type": "code",
   "execution_count": 12,
   "metadata": {},
   "outputs": [
    {
     "data": {
      "text/plain": [
       "{'Par': 0.495,\n",
       " 'Trio': 0.126,\n",
       " 'Ful': 0.041,\n",
       " 'DPar': 0.237,\n",
       " 'Dist': 0.091,\n",
       " 'Pok': 0.01}"
      ]
     },
     "execution_count": 12,
     "metadata": {},
     "output_type": "execute_result"
    }
   ],
   "source": [
    "frecuencias_relativas"
   ]
  },
  {
   "cell_type": "markdown",
   "metadata": {},
   "source": [
    "### 3.c) Repetición con dado trucado (1 y 2 con probabilidad 1/3, el resto igual entre sí)"
   ]
  },
  {
   "cell_type": "code",
   "execution_count": 13,
   "metadata": {},
   "outputs": [
    {
     "data": {
      "text/plain": [
       "Counter({'Trio': 245,\n",
       "         'Par': 311,\n",
       "         'Pok': 81,\n",
       "         'Dist': 28,\n",
       "         'Ful': 96,\n",
       "         'DPar': 236,\n",
       "         'RPok': 3})"
      ]
     },
     "execution_count": 13,
     "metadata": {},
     "output_type": "execute_result"
    }
   ],
   "source": [
    "prob_trucado = [1/3, 1/3] + [(1 - 2/3)/4]*4  # para valores 1 al 6\n",
    "valores = [1,2,3,4,5,6]\n",
    "\n",
    "tipos_trucado = []\n",
    "\n",
    "for _ in range(1000):\n",
    "    t = random.choices(valores, weights=prob_trucado, k=5)\n",
    "    tipos_trucado.append(tipo_tirada(t))\n",
    "\n",
    "contador_trucado = Counter(tipos_trucado)\n",
    "frecuencias_relativas_trucado = {k: v/1000 for k, v in contador_trucado.items()}\n",
    "contador_trucado"
   ]
  },
  {
   "cell_type": "code",
   "execution_count": 14,
   "metadata": {},
   "outputs": [
    {
     "data": {
      "text/plain": [
       "{'Trio': 0.245,\n",
       " 'Par': 0.311,\n",
       " 'Pok': 0.081,\n",
       " 'Dist': 0.028,\n",
       " 'Ful': 0.096,\n",
       " 'DPar': 0.236,\n",
       " 'RPok': 0.003}"
      ]
     },
     "execution_count": 14,
     "metadata": {},
     "output_type": "execute_result"
    }
   ],
   "source": [
    "frecuencias_relativas_trucado"
   ]
  },
  {
   "cell_type": "markdown",
   "metadata": {},
   "source": [
    "### 3.d) Estudio de la variable \"frecuencias\" para tipo Pok, repitiendo el experimento 40 veces"
   ]
  },
  {
   "cell_type": "code",
   "execution_count": 15,
   "metadata": {},
   "outputs": [
    {
     "data": {
      "image/png": "[encoded data removed]",
      "text/plain": [
       "<Figure size 432x288 with 1 Axes>"
      ]
     },
     "metadata": {
      "needs_background": "light"
     },
     "output_type": "display_data"
    },
    {
     "data": {
      "text/plain": [
       "(82.8, 8.70976463516667)"
      ]
     },
     "execution_count": 15,
     "metadata": {},
     "output_type": "execute_result"
    }
   ],
   "source": [
    "frecuencias_pok = []\n",
    "\n",
    "for _ in range(40):\n",
    "    pok_count = 0\n",
    "    for _ in range(1000):\n",
    "        t = random.choices(valores, weights=prob_trucado, k=5)\n",
    "        if tipo_tirada(t) == \"Pok\":\n",
    "            pok_count += 1\n",
    "    frecuencias_pok.append(pok_count)\n",
    "\n",
    "import matplotlib.pyplot as plt\n",
    "import seaborn as sns\n",
    "\n",
    "sns.histplot(frecuencias_pok, kde=True)\n",
    "plt.title(\"Distribución de frecuencia del tipo 'Pok' (dado trucado)\")\n",
    "plt.xlabel(\"Frecuencia en 1000 tiradas\")\n",
    "plt.ylabel(\"Conteo\")\n",
    "plt.show()\n",
    "\n",
    "np.mean(frecuencias_pok), np.std(frecuencias_pok)"
   ]
  },
  {
   "cell_type": "code",
   "execution_count": null,
   "metadata": {},
   "outputs": [],
   "source": []
  }
 ],
 "metadata": {
  "kernelspec": {
   "display_name": "Python 3",
   "language": "python",
   "name": "python3"
  },
  "language_info": {
   "codemirror_mode": {
    "name": "ipython",
    "version": 3
   },
   "file_extension": ".py",
   "mimetype": "text/x-python",
   "name": "python",
   "nbconvert_exporter": "python",
   "pygments_lexer": "ipython3",
   "version": "3.7.6"
  }
 },
 "nbformat": 4,
 "nbformat_minor": 5
}
