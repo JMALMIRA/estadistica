{
 "cells": [
  {
   "cell_type": "markdown",
   "metadata": {},
   "source": [
    "<font color=\"blue\"> <strong> Ejercicio 1.</strong>  Introduce los siguientes conjuntos de datos a mano asignándolas a variables:\n",
    "*  El peso de cinco personas es {72, 74, 72, 76, 72, 73}\n",
    "*  Las notas en un examen de varias personas son: {4,5,7,8,4,5}\n",
    "* Las cuatro primeras personas son mujeres y las dos últimas son hombres\n",
    "* Se ha hecho una encuesta entre los alumnos de un instituto sobre qué videoconsola usan más, obteniéndose las respuestas que aparecen en el fichero de datos $P1\\_Ej1.txt$.  \n",
    "*  En la siguiente tabla se muestra el Sistema Operativo (S.O.) usado por los desarrolladores de la plataforma Eclipse en Mayo de 2010:\n",
    "</font> \n",
    "\n",
    "<strong>Solución. </strong> Comenzamos introduciendo a mano los datos que nos han dado sobre peso, nota y género:"
   ]
  },
  {
   "cell_type": "code",
   "execution_count": 1,
   "metadata": {},
   "outputs": [],
   "source": [
    "import pandas as pd\n",
    "import numpy as np"
   ]
  },
  {
   "cell_type": "code",
   "execution_count": 2,
   "metadata": {},
   "outputs": [],
   "source": [
    "# Para crear visualizaciones estáticas, animadas e interactivas.\n",
    "import matplotlib.pyplot as plt\n",
    "\n",
    "# Para crear gráficos estadísticos atractivos e informativos.\n",
    "import seaborn as sns"
   ]
  },
  {
   "cell_type": "code",
   "execution_count": 3,
   "metadata": {},
   "outputs": [
    {
     "name": "stdout",
     "output_type": "stream",
     "text": [
      "[72 74 72 76 72 73]\n",
      "[4 5 7 8 4 5]\n",
      "['Mujer' 'Mujer' 'Mujer' 'Mujer' 'Hombre' 'Hombre']\n"
     ]
    }
   ],
   "source": [
    "# Datos: Peso, Nota, Género\n",
    "peso = np.array([72, 74, 72, 76, 72, 73])\n",
    "nota = np.array([4, 5, 7, 8, 4, 5])\n",
    "genero = np.array([\"Mujer\", \"Mujer\", \"Mujer\", \"Mujer\", \"Hombre\", \"Hombre\"])\n",
    "print(peso)\n",
    "print(nota)\n",
    "print(genero)"
   ]
  },
  {
   "cell_type": "markdown",
   "metadata": {},
   "source": [
    "A continuación, leemos (usando Python) el fichero P1$\\_$Ej1.txt:"
   ]
  },
  {
   "cell_type": "code",
   "execution_count": 4,
   "metadata": {},
   "outputs": [
    {
     "name": "stdout",
     "output_type": "stream",
     "text": [
      "PSP, WII, PS3, DS, DS, WII, PS3, PSP, DS, PS3, DS, PS3, WII, WII, DS, WII, PS3, DS, PSP, DS\n"
     ]
    }
   ],
   "source": [
    "consola=np.loadtxt(\"P1_Ej1.txt\", dtype=str, delimiter=\"\\n\")\n",
    "print(consola)\n"
   ]
  },
  {
   "cell_type": "markdown",
   "metadata": {},
   "source": [
    "Ahora vamos a introducir a mano los datos de la tabla relativa a sistemas operativos. Primero introducimos la fila con los distintos tipos de sistemas operativos, a la que llamamos \"tipos\", y luego introducimos la tabla de frecuencias. Finalmente, generamos los datos con la orden np.repeat(v1, v2) en la que creamos una lista de los elementos que aparecen en v1, tomando las entradas de v1 repetidas de acuerdo a lo indicado en v2. Esa lista es SO. Luego le pedimos que a partir de esa lista de datos nos genere una tabla con las frecuencias de aparición de las distintas entradas de la lista SO, y la mostramos:"
   ]
  },
  {
   "cell_type": "code",
   "execution_count": 5,
   "metadata": {},
   "outputs": [
    {
     "data": {
      "text/plain": [
       "Linux         138\n",
       "Windows       123\n",
       "Unix            9\n",
       "SunSolaris      9\n",
       "Otro            9\n",
       "MacOS           6\n",
       "Embedded        6\n",
       "dtype: int64"
      ]
     },
     "execution_count": 5,
     "metadata": {},
     "output_type": "execute_result"
    }
   ],
   "source": [
    "# Datos de Sistemas Operativos:\n",
    "tipos = [\"Linux\", \"Windows\", \"MacOS\", \"SunSolaris\", \"Unix\", \"Embedded\", \"Otro\"]\n",
    "freq = [138, 123, 6, 9, 9, 6, 9]\n",
    "SO = np.repeat(tipos, freq)\n",
    "\n",
    "# Contar las frecuencias de los sistemas operativos\n",
    "so_counts = pd.Series(SO).value_counts()\n",
    "\n",
    "# Mostrar las frecuencias\n",
    "so_counts\n"
   ]
  },
  {
   "cell_type": "markdown",
   "metadata": {},
   "source": [
    "<font color=\"blue\"> <strong>Ejercicio 2.</strong> Crea un data.frame con los datos de los tres primeros apartados del Ejercicio 1 y, a continuación, guárdalo como un fichero con nombre \"datos.csv\". Luego lee el fichero y muestra que recuperas lo mismo que habías creado. </font>\n",
    "\n",
    "<strong>Solución. </strong>\n",
    "\n",
    "Esto es sencillo. Basta usar Pandas para crear un DataFrame con las variables peso, nota y género:"
   ]
  },
  {
   "cell_type": "code",
   "execution_count": 6,
   "metadata": {},
   "outputs": [
    {
     "data": {
      "text/html": [
       "<div>\n",
       "<style scoped>\n",
       "    .dataframe tbody tr th:only-of-type {\n",
       "        vertical-align: middle;\n",
       "    }\n",
       "\n",
       "    .dataframe tbody tr th {\n",
       "        vertical-align: top;\n",
       "    }\n",
       "\n",
       "    .dataframe thead th {\n",
       "        text-align: right;\n",
       "    }\n",
       "</style>\n",
       "<table border=\"1\" class=\"dataframe\">\n",
       "  <thead>\n",
       "    <tr style=\"text-align: right;\">\n",
       "      <th></th>\n",
       "      <th>peso</th>\n",
       "      <th>nota</th>\n",
       "      <th>genero</th>\n",
       "    </tr>\n",
       "  </thead>\n",
       "  <tbody>\n",
       "    <tr>\n",
       "      <th>0</th>\n",
       "      <td>72</td>\n",
       "      <td>4</td>\n",
       "      <td>Mujer</td>\n",
       "    </tr>\n",
       "    <tr>\n",
       "      <th>1</th>\n",
       "      <td>74</td>\n",
       "      <td>5</td>\n",
       "      <td>Mujer</td>\n",
       "    </tr>\n",
       "    <tr>\n",
       "      <th>2</th>\n",
       "      <td>72</td>\n",
       "      <td>7</td>\n",
       "      <td>Mujer</td>\n",
       "    </tr>\n",
       "    <tr>\n",
       "      <th>3</th>\n",
       "      <td>76</td>\n",
       "      <td>8</td>\n",
       "      <td>Mujer</td>\n",
       "    </tr>\n",
       "    <tr>\n",
       "      <th>4</th>\n",
       "      <td>72</td>\n",
       "      <td>4</td>\n",
       "      <td>Hombre</td>\n",
       "    </tr>\n",
       "    <tr>\n",
       "      <th>5</th>\n",
       "      <td>73</td>\n",
       "      <td>5</td>\n",
       "      <td>Hombre</td>\n",
       "    </tr>\n",
       "  </tbody>\n",
       "</table>\n",
       "</div>"
      ],
      "text/plain": [
       "   peso  nota  genero\n",
       "0    72     4   Mujer\n",
       "1    74     5   Mujer\n",
       "2    72     7   Mujer\n",
       "3    76     8   Mujer\n",
       "4    72     4  Hombre\n",
       "5    73     5  Hombre"
      ]
     },
     "execution_count": 6,
     "metadata": {},
     "output_type": "execute_result"
    }
   ],
   "source": [
    "personas = pd.DataFrame({'peso': peso, 'nota': nota, 'genero': genero})\n",
    "personas"
   ]
  },
  {
   "cell_type": "markdown",
   "metadata": {},
   "source": [
    "Ahora guardamos el dataframe que acabamos de crear como un fichero .csv al que llamamos \"Personas.csv\":"
   ]
  },
  {
   "cell_type": "code",
   "execution_count": 7,
   "metadata": {},
   "outputs": [],
   "source": [
    "personas.to_csv('Personas.csv', index=False)"
   ]
  },
  {
   "cell_type": "markdown",
   "metadata": {},
   "source": [
    "Ahora leemos el fichero que acabamos de crear (que se guardó, por defecto, en la misma carpeta en la que estamos trabajando) y luego mostramos el resultado, para comprobar que sale lo esperado:"
   ]
  },
  {
   "cell_type": "code",
   "execution_count": 8,
   "metadata": {},
   "outputs": [
    {
     "data": {
      "text/html": [
       "<div>\n",
       "<style scoped>\n",
       "    .dataframe tbody tr th:only-of-type {\n",
       "        vertical-align: middle;\n",
       "    }\n",
       "\n",
       "    .dataframe tbody tr th {\n",
       "        vertical-align: top;\n",
       "    }\n",
       "\n",
       "    .dataframe thead th {\n",
       "        text-align: right;\n",
       "    }\n",
       "</style>\n",
       "<table border=\"1\" class=\"dataframe\">\n",
       "  <thead>\n",
       "    <tr style=\"text-align: right;\">\n",
       "      <th></th>\n",
       "      <th>peso</th>\n",
       "      <th>nota</th>\n",
       "      <th>genero</th>\n",
       "    </tr>\n",
       "  </thead>\n",
       "  <tbody>\n",
       "    <tr>\n",
       "      <th>0</th>\n",
       "      <td>72</td>\n",
       "      <td>4</td>\n",
       "      <td>Mujer</td>\n",
       "    </tr>\n",
       "    <tr>\n",
       "      <th>1</th>\n",
       "      <td>74</td>\n",
       "      <td>5</td>\n",
       "      <td>Mujer</td>\n",
       "    </tr>\n",
       "    <tr>\n",
       "      <th>2</th>\n",
       "      <td>72</td>\n",
       "      <td>7</td>\n",
       "      <td>Mujer</td>\n",
       "    </tr>\n",
       "    <tr>\n",
       "      <th>3</th>\n",
       "      <td>76</td>\n",
       "      <td>8</td>\n",
       "      <td>Mujer</td>\n",
       "    </tr>\n",
       "    <tr>\n",
       "      <th>4</th>\n",
       "      <td>72</td>\n",
       "      <td>4</td>\n",
       "      <td>Hombre</td>\n",
       "    </tr>\n",
       "    <tr>\n",
       "      <th>5</th>\n",
       "      <td>73</td>\n",
       "      <td>5</td>\n",
       "      <td>Hombre</td>\n",
       "    </tr>\n",
       "  </tbody>\n",
       "</table>\n",
       "</div>"
      ],
      "text/plain": [
       "   peso  nota  genero\n",
       "0    72     4   Mujer\n",
       "1    74     5   Mujer\n",
       "2    72     7   Mujer\n",
       "3    76     8   Mujer\n",
       "4    72     4  Hombre\n",
       "5    73     5  Hombre"
      ]
     },
     "execution_count": 8,
     "metadata": {},
     "output_type": "execute_result"
    }
   ],
   "source": [
    "personas = pd.read_csv('Personas.csv')\n",
    "personas"
   ]
  },
  {
   "cell_type": "markdown",
   "metadata": {},
   "source": [
    "<font color=\"blue\"> 3. Introduce los siguientes datos desde el fichero que corresponda:\n",
    "\n",
    "* En el archivo \"pesos.txt\" se encuentran los pesos de cien personas.\n",
    "*  En el archivo \"lenguajes.txt\" se encuentran los datos de 1000 usuarios indicando qué lenguaje de programación usan más a menudo.\n",
    "*  En el archivo \"Juegos.csv\" se encuentran datos relativos a las ventas (en millones) de algunos videojuegos.\n",
    "</font> \n",
    "\n",
    "<strong> Solución. </strong>\n",
    "Comenzamos con los pesos:"
   ]
  },
  {
   "cell_type": "code",
   "execution_count": 9,
   "metadata": {},
   "outputs": [
    {
     "name": "stdout",
     "output_type": "stream",
     "text": [
      "[[60.58819 61.42144 63.06757 56.66616 59.05224]\n",
      " [58.45839 61.8991  60.19163 61.76179 63.84988]\n",
      " [60.25146 64.7661  59.55031 59.99562 59.70123]\n",
      " [62.14938 61.50754 55.62744 60.14908 57.79496]\n",
      " [60.35166 59.40958 65.40057 61.14993 58.2343 ]\n",
      " [60.8127  59.64401 62.80406 59.54538 59.36237]\n",
      " [63.48102 65.25347 60.55962 60.3695  55.86487]\n",
      " [62.20468 54.98473 52.38009 59.37697 58.42549]\n",
      " [63.98044 58.71286 63.69469 59.24755 64.07596]\n",
      " [56.53699 61.45901 63.38629 64.01934 60.95594]\n",
      " [60.77779 55.70703 71.77412 69.31547 74.14425]\n",
      " [68.94264 69.74712 67.32338 71.7894  67.69423]\n",
      " [71.74858 68.31549 79.09394 65.22809 71.77782]\n",
      " [67.41987 73.26133 73.71316 70.84081 67.55591]\n",
      " [61.52679 68.52568 66.24759 76.32309 75.21183]\n",
      " [73.44465 64.98468 63.35363 69.70877 70.31098]\n",
      " [65.12876 73.92466 65.15584 77.72695 71.4096 ]\n",
      " [66.33421 71.37249 63.59855 70.96836 71.81675]\n",
      " [62.55934 73.92442 61.96631 70.4877  72.1209 ]\n",
      " [72.94772 73.26614 77.26638 75.13563 64.40148]]\n"
     ]
    }
   ],
   "source": [
    "# Asumimos que el archivo \"pesos.txt\" tiene valores numéricos separados por espacios\n",
    "peso_txt = np.loadtxt(\"pesos.txt\")\n",
    "\n",
    "# Visualizamos los datos\n",
    "print(peso_txt)"
   ]
  },
  {
   "cell_type": "markdown",
   "metadata": {},
   "source": [
    "\n",
    "Ahora usamos el fichero de los lenguajes de programación:"
   ]
  },
  {
   "cell_type": "code",
   "execution_count": 10,
   "metadata": {},
   "outputs": [
    {
     "name": "stdout",
     "output_type": "stream",
     "text": [
      "['Java' 'C' 'Java' 'C' 'Perl' 'C' 'C' 'C' 'Java' 'Python']\n"
     ]
    }
   ],
   "source": [
    "# El archivo \"lenguajes.txt\" tiene datos de lenguaje en cada línea\n",
    "leng_txt = np.loadtxt(\"lenguajes.txt\", dtype=str, delimiter=\"\\n\")\n",
    "\n",
    "# Mostramos los primeros datos\n",
    "print(leng_txt[:10])"
   ]
  },
  {
   "cell_type": "markdown",
   "metadata": {},
   "source": [
    "Finalmente, usamos el fichero Juegos.csv:"
   ]
  },
  {
   "cell_type": "code",
   "execution_count": 11,
   "metadata": {},
   "outputs": [],
   "source": [
    "juegos = pd.read_csv('Juegos.csv')"
   ]
  },
  {
   "cell_type": "code",
   "execution_count": 12,
   "metadata": {},
   "outputs": [
    {
     "data": {
      "text/html": [
       "<div>\n",
       "<style scoped>\n",
       "    .dataframe tbody tr th:only-of-type {\n",
       "        vertical-align: middle;\n",
       "    }\n",
       "\n",
       "    .dataframe tbody tr th {\n",
       "        vertical-align: top;\n",
       "    }\n",
       "\n",
       "    .dataframe thead th {\n",
       "        text-align: right;\n",
       "    }\n",
       "</style>\n",
       "<table border=\"1\" class=\"dataframe\">\n",
       "  <thead>\n",
       "    <tr style=\"text-align: right;\">\n",
       "      <th></th>\n",
       "      <th>Nombre</th>\n",
       "      <th>Plataforma</th>\n",
       "      <th>Fecha</th>\n",
       "      <th>Genero</th>\n",
       "      <th>VentasEEUU</th>\n",
       "      <th>VentasEU</th>\n",
       "      <th>VentasJP</th>\n",
       "      <th>VentasOtros</th>\n",
       "      <th>Ventas</th>\n",
       "    </tr>\n",
       "  </thead>\n",
       "  <tbody>\n",
       "    <tr>\n",
       "      <th>0</th>\n",
       "      <td>Wii Sports</td>\n",
       "      <td>Wii</td>\n",
       "      <td>2006.0</td>\n",
       "      <td>Sports</td>\n",
       "      <td>41.49</td>\n",
       "      <td>29.02</td>\n",
       "      <td>3.77</td>\n",
       "      <td>8.46</td>\n",
       "      <td>82.74</td>\n",
       "    </tr>\n",
       "    <tr>\n",
       "      <th>1</th>\n",
       "      <td>Mario Kart Wii</td>\n",
       "      <td>Wii</td>\n",
       "      <td>2008.0</td>\n",
       "      <td>Racing</td>\n",
       "      <td>15.85</td>\n",
       "      <td>12.88</td>\n",
       "      <td>3.79</td>\n",
       "      <td>3.31</td>\n",
       "      <td>35.82</td>\n",
       "    </tr>\n",
       "    <tr>\n",
       "      <th>2</th>\n",
       "      <td>Wii Sports Resort</td>\n",
       "      <td>Wii</td>\n",
       "      <td>2009.0</td>\n",
       "      <td>Sports</td>\n",
       "      <td>15.75</td>\n",
       "      <td>11.01</td>\n",
       "      <td>3.28</td>\n",
       "      <td>2.96</td>\n",
       "      <td>33.00</td>\n",
       "    </tr>\n",
       "    <tr>\n",
       "      <th>3</th>\n",
       "      <td>New Super Mario Bros.</td>\n",
       "      <td>DS</td>\n",
       "      <td>2006.0</td>\n",
       "      <td>Platform</td>\n",
       "      <td>11.38</td>\n",
       "      <td>9.23</td>\n",
       "      <td>6.50</td>\n",
       "      <td>2.90</td>\n",
       "      <td>30.01</td>\n",
       "    </tr>\n",
       "    <tr>\n",
       "      <th>4</th>\n",
       "      <td>Wii Play</td>\n",
       "      <td>Wii</td>\n",
       "      <td>2006.0</td>\n",
       "      <td>Misc</td>\n",
       "      <td>14.03</td>\n",
       "      <td>9.20</td>\n",
       "      <td>2.93</td>\n",
       "      <td>2.85</td>\n",
       "      <td>29.02</td>\n",
       "    </tr>\n",
       "    <tr>\n",
       "      <th>...</th>\n",
       "      <td>...</td>\n",
       "      <td>...</td>\n",
       "      <td>...</td>\n",
       "      <td>...</td>\n",
       "      <td>...</td>\n",
       "      <td>...</td>\n",
       "      <td>...</td>\n",
       "      <td>...</td>\n",
       "      <td>...</td>\n",
       "    </tr>\n",
       "    <tr>\n",
       "      <th>16154</th>\n",
       "      <td>Woody Woodpecker in Crazy Castle 5</td>\n",
       "      <td>GBA</td>\n",
       "      <td>2002.0</td>\n",
       "      <td>Platform</td>\n",
       "      <td>0.01</td>\n",
       "      <td>0.00</td>\n",
       "      <td>0.00</td>\n",
       "      <td>0.00</td>\n",
       "      <td>0.01</td>\n",
       "    </tr>\n",
       "    <tr>\n",
       "      <th>16155</th>\n",
       "      <td>Men in Black II: Alien Escape</td>\n",
       "      <td>GC</td>\n",
       "      <td>2003.0</td>\n",
       "      <td>Shooter</td>\n",
       "      <td>0.01</td>\n",
       "      <td>0.00</td>\n",
       "      <td>0.00</td>\n",
       "      <td>0.00</td>\n",
       "      <td>0.01</td>\n",
       "    </tr>\n",
       "    <tr>\n",
       "      <th>16156</th>\n",
       "      <td>SCORE International Baja 1000: The Official Game</td>\n",
       "      <td>PS2</td>\n",
       "      <td>2008.0</td>\n",
       "      <td>Racing</td>\n",
       "      <td>0.00</td>\n",
       "      <td>0.00</td>\n",
       "      <td>0.00</td>\n",
       "      <td>0.00</td>\n",
       "      <td>0.01</td>\n",
       "    </tr>\n",
       "    <tr>\n",
       "      <th>16157</th>\n",
       "      <td>Know How 2</td>\n",
       "      <td>DS</td>\n",
       "      <td>2010.0</td>\n",
       "      <td>Puzzle</td>\n",
       "      <td>0.00</td>\n",
       "      <td>0.01</td>\n",
       "      <td>0.00</td>\n",
       "      <td>0.00</td>\n",
       "      <td>0.01</td>\n",
       "    </tr>\n",
       "    <tr>\n",
       "      <th>16158</th>\n",
       "      <td>Spirits &amp; Spells</td>\n",
       "      <td>GBA</td>\n",
       "      <td>2003.0</td>\n",
       "      <td>Platform</td>\n",
       "      <td>0.01</td>\n",
       "      <td>0.00</td>\n",
       "      <td>0.00</td>\n",
       "      <td>0.00</td>\n",
       "      <td>0.01</td>\n",
       "    </tr>\n",
       "  </tbody>\n",
       "</table>\n",
       "<p>16159 rows × 9 columns</p>\n",
       "</div>"
      ],
      "text/plain": [
       "                                                 Nombre Plataforma   Fecha  \\\n",
       "0                                            Wii Sports        Wii  2006.0   \n",
       "1                                        Mario Kart Wii        Wii  2008.0   \n",
       "2                                     Wii Sports Resort        Wii  2009.0   \n",
       "3                                 New Super Mario Bros.         DS  2006.0   \n",
       "4                                              Wii Play        Wii  2006.0   \n",
       "...                                                 ...        ...     ...   \n",
       "16154                Woody Woodpecker in Crazy Castle 5        GBA  2002.0   \n",
       "16155                     Men in Black II: Alien Escape         GC  2003.0   \n",
       "16156  SCORE International Baja 1000: The Official Game        PS2  2008.0   \n",
       "16157                                        Know How 2         DS  2010.0   \n",
       "16158                                  Spirits & Spells        GBA  2003.0   \n",
       "\n",
       "         Genero  VentasEEUU  VentasEU  VentasJP  VentasOtros  Ventas  \n",
       "0        Sports       41.49     29.02      3.77         8.46   82.74  \n",
       "1        Racing       15.85     12.88      3.79         3.31   35.82  \n",
       "2        Sports       15.75     11.01      3.28         2.96   33.00  \n",
       "3      Platform       11.38      9.23      6.50         2.90   30.01  \n",
       "4          Misc       14.03      9.20      2.93         2.85   29.02  \n",
       "...         ...         ...       ...       ...          ...     ...  \n",
       "16154  Platform        0.01      0.00      0.00         0.00    0.01  \n",
       "16155   Shooter        0.01      0.00      0.00         0.00    0.01  \n",
       "16156    Racing        0.00      0.00      0.00         0.00    0.01  \n",
       "16157    Puzzle        0.00      0.01      0.00         0.00    0.01  \n",
       "16158  Platform        0.01      0.00      0.00         0.00    0.01  \n",
       "\n",
       "[16159 rows x 9 columns]"
      ]
     },
     "execution_count": 12,
     "metadata": {},
     "output_type": "execute_result"
    }
   ],
   "source": [
    "juegos"
   ]
  },
  {
   "cell_type": "code",
   "execution_count": 13,
   "metadata": {},
   "outputs": [
    {
     "name": "stdout",
     "output_type": "stream",
     "text": [
      "<class 'pandas.core.frame.DataFrame'>\n",
      "RangeIndex: 16159 entries, 0 to 16158\n",
      "Data columns (total 9 columns):\n",
      " #   Column       Non-Null Count  Dtype  \n",
      "---  ------       --------------  -----  \n",
      " 0   Nombre       16159 non-null  object \n",
      " 1   Plataforma   16159 non-null  object \n",
      " 2   Fecha        15906 non-null  float64\n",
      " 3   Genero       16159 non-null  object \n",
      " 4   VentasEEUU   16159 non-null  float64\n",
      " 5   VentasEU     16159 non-null  float64\n",
      " 6   VentasJP     16159 non-null  float64\n",
      " 7   VentasOtros  16159 non-null  float64\n",
      " 8   Ventas       16159 non-null  float64\n",
      "dtypes: float64(6), object(3)\n",
      "memory usage: 1.1+ MB\n"
     ]
    }
   ],
   "source": [
    "juegos.info()"
   ]
  },
  {
   "cell_type": "markdown",
   "metadata": {},
   "source": [
    "<font color=\"blue\"> <strong>Ejercicio 4.</strong> Para las variables Genero, Fecha y Plataforma del data.frame del apartado anterior:\n",
    "* Tabular los datos indicando las frecuencias relativas y absolutas\n",
    "* Dibujar los diagramas de barras de las frecuencias absolutas.\n",
    "* Dibujar el diagrama de sectores de las frecuencias relativas, indicando el ángulo que tendría cada sector en un diagrama de sectores.\n",
    "</font>"
   ]
  },
  {
   "cell_type": "markdown",
   "metadata": {},
   "source": [
    "<strong> Solución:</strong> Resolvemos el ejercicio para cada variable. \n",
    "\n",
    "Comenzamos con la variable \"Genero\".\n",
    "\n",
    "Primero calculamos las frecuencias absolutas y luego las frecuencias relativas.  Con ellas, creamos un pequeño data frame que, seguidamente, mostramos:"
   ]
  },
  {
   "cell_type": "code",
   "execution_count": 14,
   "metadata": {},
   "outputs": [
    {
     "data": {
      "text/html": [
       "<div>\n",
       "<style scoped>\n",
       "    .dataframe tbody tr th:only-of-type {\n",
       "        vertical-align: middle;\n",
       "    }\n",
       "\n",
       "    .dataframe tbody tr th {\n",
       "        vertical-align: top;\n",
       "    }\n",
       "\n",
       "    .dataframe thead th {\n",
       "        text-align: right;\n",
       "    }\n",
       "</style>\n",
       "<table border=\"1\" class=\"dataframe\">\n",
       "  <thead>\n",
       "    <tr style=\"text-align: right;\">\n",
       "      <th></th>\n",
       "      <th>Frecuencia Absoluta</th>\n",
       "      <th>Frecuencia Relativa</th>\n",
       "    </tr>\n",
       "  </thead>\n",
       "  <tbody>\n",
       "    <tr>\n",
       "      <th>Action</th>\n",
       "      <td>3230</td>\n",
       "      <td>0.199889</td>\n",
       "    </tr>\n",
       "    <tr>\n",
       "      <th>Sports</th>\n",
       "      <td>2297</td>\n",
       "      <td>0.142150</td>\n",
       "    </tr>\n",
       "    <tr>\n",
       "      <th>Misc</th>\n",
       "      <td>1721</td>\n",
       "      <td>0.106504</td>\n",
       "    </tr>\n",
       "    <tr>\n",
       "      <th>Role-Playing</th>\n",
       "      <td>1443</td>\n",
       "      <td>0.089300</td>\n",
       "    </tr>\n",
       "    <tr>\n",
       "      <th>Shooter</th>\n",
       "      <td>1273</td>\n",
       "      <td>0.078780</td>\n",
       "    </tr>\n",
       "    <tr>\n",
       "      <th>Adventure</th>\n",
       "      <td>1263</td>\n",
       "      <td>0.078161</td>\n",
       "    </tr>\n",
       "    <tr>\n",
       "      <th>Racing</th>\n",
       "      <td>1229</td>\n",
       "      <td>0.076057</td>\n",
       "    </tr>\n",
       "    <tr>\n",
       "      <th>Simulation</th>\n",
       "      <td>859</td>\n",
       "      <td>0.053159</td>\n",
       "    </tr>\n",
       "    <tr>\n",
       "      <th>Platform</th>\n",
       "      <td>819</td>\n",
       "      <td>0.050684</td>\n",
       "    </tr>\n",
       "    <tr>\n",
       "      <th>Fighting</th>\n",
       "      <td>814</td>\n",
       "      <td>0.050374</td>\n",
       "    </tr>\n",
       "    <tr>\n",
       "      <th>Strategy</th>\n",
       "      <td>670</td>\n",
       "      <td>0.041463</td>\n",
       "    </tr>\n",
       "    <tr>\n",
       "      <th>Puzzle</th>\n",
       "      <td>541</td>\n",
       "      <td>0.033480</td>\n",
       "    </tr>\n",
       "  </tbody>\n",
       "</table>\n",
       "</div>"
      ],
      "text/plain": [
       "              Frecuencia Absoluta  Frecuencia Relativa\n",
       "Action                       3230             0.199889\n",
       "Sports                       2297             0.142150\n",
       "Misc                         1721             0.106504\n",
       "Role-Playing                 1443             0.089300\n",
       "Shooter                      1273             0.078780\n",
       "Adventure                    1263             0.078161\n",
       "Racing                       1229             0.076057\n",
       "Simulation                    859             0.053159\n",
       "Platform                      819             0.050684\n",
       "Fighting                      814             0.050374\n",
       "Strategy                      670             0.041463\n",
       "Puzzle                        541             0.033480"
      ]
     },
     "execution_count": 14,
     "metadata": {},
     "output_type": "execute_result"
    }
   ],
   "source": [
    "# Frecuencias absolutas y relativas de Genero\n",
    "n_i_Genero = juegos['Genero'].value_counts()\n",
    "f_i_Genero = n_i_Genero / len(juegos)\n",
    "tabla_Genero = pd.DataFrame({'Frecuencia Absoluta': n_i_Genero, 'Frecuencia Relativa': f_i_Genero})\n",
    "tabla_Genero"
   ]
  },
  {
   "cell_type": "markdown",
   "metadata": {},
   "source": [
    "Ahora calculamos el diagrama de barras asociado a esta variable:"
   ]
  },
  {
   "cell_type": "code",
   "execution_count": 15,
   "metadata": {},
   "outputs": [
    {
     "data": {
      "image/png": "[encoded data removed]",
      "text/plain": [
       "<Figure size 432x288 with 1 Axes>"
      ]
     },
     "metadata": {
      "needs_background": "light"
     },
     "output_type": "display_data"
    }
   ],
   "source": [
    "counts =juegos['Genero'].value_counts()\n",
    "\n",
    "# Create the bar plot\n",
    "counts.plot(kind='bar')\n",
    "\n",
    "# Add labels and title\n",
    "plt.xlabel('Genero')\n",
    "plt.ylabel('Frecuencia absoluta')\n",
    "plt.title('Bar plot de Genero')\n",
    "\n",
    "# Show the plot\n",
    "plt.show()"
   ]
  },
  {
   "cell_type": "markdown",
   "metadata": {},
   "source": [
    "Ahora dibujamos el diagrama de tarta y calculamos los ángulos de los sectores: "
   ]
  },
  {
   "cell_type": "code",
   "execution_count": 16,
   "metadata": {},
   "outputs": [
    {
     "data": {
      "image/png": "[encoded data removed]",
      "text/plain": [
       "<Figure size 432x288 with 1 Axes>"
      ]
     },
     "metadata": {},
     "output_type": "display_data"
    }
   ],
   "source": [
    "# Create a pie chart\n",
    "plt.pie(counts, labels=counts.index, autopct='%1.1f%%', startangle=90)\n",
    "\n",
    "# Add title\n",
    "plt.title('Diagrama de tarta de Genero')\n",
    "\n",
    "# Show the plot\n",
    "plt.show()"
   ]
  },
  {
   "cell_type": "code",
   "execution_count": 17,
   "metadata": {},
   "outputs": [
    {
     "data": {
      "text/plain": [
       "Action          71.959899\n",
       "Sports          51.173959\n",
       "Misc            38.341482\n",
       "Role-Playing    32.148029\n",
       "Shooter         28.360666\n",
       "Adventure       28.137880\n",
       "Racing          27.380407\n",
       "Simulation      19.137323\n",
       "Platform        18.246179\n",
       "Fighting        18.134786\n",
       "Strategy        14.926666\n",
       "Puzzle          12.052726\n",
       "Name: Genero, dtype: float64"
      ]
     },
     "execution_count": 17,
     "metadata": {},
     "output_type": "execute_result"
    }
   ],
   "source": [
    "counts/len(juegos)*360"
   ]
  },
  {
   "cell_type": "markdown",
   "metadata": {},
   "source": [
    "Ahora repetimos todo lo anterior para \"Fecha\" :"
   ]
  },
  {
   "cell_type": "code",
   "execution_count": 18,
   "metadata": {},
   "outputs": [
    {
     "data": {
      "text/html": [
       "<div>\n",
       "<style scoped>\n",
       "    .dataframe tbody tr th:only-of-type {\n",
       "        vertical-align: middle;\n",
       "    }\n",
       "\n",
       "    .dataframe tbody tr th {\n",
       "        vertical-align: top;\n",
       "    }\n",
       "\n",
       "    .dataframe thead th {\n",
       "        text-align: right;\n",
       "    }\n",
       "</style>\n",
       "<table border=\"1\" class=\"dataframe\">\n",
       "  <thead>\n",
       "    <tr style=\"text-align: right;\">\n",
       "      <th></th>\n",
       "      <th>Frecuencia Absoluta</th>\n",
       "      <th>Frecuencia Relativa</th>\n",
       "    </tr>\n",
       "  </thead>\n",
       "  <tbody>\n",
       "    <tr>\n",
       "      <th>2009.0</th>\n",
       "      <td>1431</td>\n",
       "      <td>0.088557</td>\n",
       "    </tr>\n",
       "    <tr>\n",
       "      <th>2008.0</th>\n",
       "      <td>1427</td>\n",
       "      <td>0.088310</td>\n",
       "    </tr>\n",
       "    <tr>\n",
       "      <th>2010.0</th>\n",
       "      <td>1259</td>\n",
       "      <td>0.077913</td>\n",
       "    </tr>\n",
       "    <tr>\n",
       "      <th>2007.0</th>\n",
       "      <td>1201</td>\n",
       "      <td>0.074324</td>\n",
       "    </tr>\n",
       "    <tr>\n",
       "      <th>2011.0</th>\n",
       "      <td>1139</td>\n",
       "      <td>0.070487</td>\n",
       "    </tr>\n",
       "    <tr>\n",
       "      <th>2006.0</th>\n",
       "      <td>1008</td>\n",
       "      <td>0.062380</td>\n",
       "    </tr>\n",
       "    <tr>\n",
       "      <th>2005.0</th>\n",
       "      <td>941</td>\n",
       "      <td>0.058234</td>\n",
       "    </tr>\n",
       "    <tr>\n",
       "      <th>2002.0</th>\n",
       "      <td>828</td>\n",
       "      <td>0.051241</td>\n",
       "    </tr>\n",
       "    <tr>\n",
       "      <th>2003.0</th>\n",
       "      <td>775</td>\n",
       "      <td>0.047961</td>\n",
       "    </tr>\n",
       "    <tr>\n",
       "      <th>2004.0</th>\n",
       "      <td>763</td>\n",
       "      <td>0.047218</td>\n",
       "    </tr>\n",
       "    <tr>\n",
       "      <th>2012.0</th>\n",
       "      <td>657</td>\n",
       "      <td>0.040658</td>\n",
       "    </tr>\n",
       "    <tr>\n",
       "      <th>2015.0</th>\n",
       "      <td>614</td>\n",
       "      <td>0.037997</td>\n",
       "    </tr>\n",
       "    <tr>\n",
       "      <th>2014.0</th>\n",
       "      <td>582</td>\n",
       "      <td>0.036017</td>\n",
       "    </tr>\n",
       "    <tr>\n",
       "      <th>2013.0</th>\n",
       "      <td>546</td>\n",
       "      <td>0.033789</td>\n",
       "    </tr>\n",
       "    <tr>\n",
       "      <th>2001.0</th>\n",
       "      <td>462</td>\n",
       "      <td>0.028591</td>\n",
       "    </tr>\n",
       "    <tr>\n",
       "      <th>1998.0</th>\n",
       "      <td>364</td>\n",
       "      <td>0.022526</td>\n",
       "    </tr>\n",
       "    <tr>\n",
       "      <th>2016.0</th>\n",
       "      <td>344</td>\n",
       "      <td>0.021288</td>\n",
       "    </tr>\n",
       "    <tr>\n",
       "      <th>1999.0</th>\n",
       "      <td>311</td>\n",
       "      <td>0.019246</td>\n",
       "    </tr>\n",
       "    <tr>\n",
       "      <th>2000.0</th>\n",
       "      <td>310</td>\n",
       "      <td>0.019184</td>\n",
       "    </tr>\n",
       "    <tr>\n",
       "      <th>1997.0</th>\n",
       "      <td>281</td>\n",
       "      <td>0.017390</td>\n",
       "    </tr>\n",
       "    <tr>\n",
       "      <th>1996.0</th>\n",
       "      <td>254</td>\n",
       "      <td>0.015719</td>\n",
       "    </tr>\n",
       "    <tr>\n",
       "      <th>1995.0</th>\n",
       "      <td>207</td>\n",
       "      <td>0.012810</td>\n",
       "    </tr>\n",
       "    <tr>\n",
       "      <th>1994.0</th>\n",
       "      <td>95</td>\n",
       "      <td>0.005879</td>\n",
       "    </tr>\n",
       "    <tr>\n",
       "      <th>1993.0</th>\n",
       "      <td>46</td>\n",
       "      <td>0.002847</td>\n",
       "    </tr>\n",
       "    <tr>\n",
       "      <th>1992.0</th>\n",
       "      <td>26</td>\n",
       "      <td>0.001609</td>\n",
       "    </tr>\n",
       "    <tr>\n",
       "      <th>1991.0</th>\n",
       "      <td>24</td>\n",
       "      <td>0.001485</td>\n",
       "    </tr>\n",
       "    <tr>\n",
       "      <th>1990.0</th>\n",
       "      <td>4</td>\n",
       "      <td>0.000248</td>\n",
       "    </tr>\n",
       "    <tr>\n",
       "      <th>2017.0</th>\n",
       "      <td>3</td>\n",
       "      <td>0.000186</td>\n",
       "    </tr>\n",
       "    <tr>\n",
       "      <th>1985.0</th>\n",
       "      <td>2</td>\n",
       "      <td>0.000124</td>\n",
       "    </tr>\n",
       "    <tr>\n",
       "      <th>1988.0</th>\n",
       "      <td>1</td>\n",
       "      <td>0.000062</td>\n",
       "    </tr>\n",
       "    <tr>\n",
       "      <th>2020.0</th>\n",
       "      <td>1</td>\n",
       "      <td>0.000062</td>\n",
       "    </tr>\n",
       "  </tbody>\n",
       "</table>\n",
       "</div>"
      ],
      "text/plain": [
       "        Frecuencia Absoluta  Frecuencia Relativa\n",
       "2009.0                 1431             0.088557\n",
       "2008.0                 1427             0.088310\n",
       "2010.0                 1259             0.077913\n",
       "2007.0                 1201             0.074324\n",
       "2011.0                 1139             0.070487\n",
       "2006.0                 1008             0.062380\n",
       "2005.0                  941             0.058234\n",
       "2002.0                  828             0.051241\n",
       "2003.0                  775             0.047961\n",
       "2004.0                  763             0.047218\n",
       "2012.0                  657             0.040658\n",
       "2015.0                  614             0.037997\n",
       "2014.0                  582             0.036017\n",
       "2013.0                  546             0.033789\n",
       "2001.0                  462             0.028591\n",
       "1998.0                  364             0.022526\n",
       "2016.0                  344             0.021288\n",
       "1999.0                  311             0.019246\n",
       "2000.0                  310             0.019184\n",
       "1997.0                  281             0.017390\n",
       "1996.0                  254             0.015719\n",
       "1995.0                  207             0.012810\n",
       "1994.0                   95             0.005879\n",
       "1993.0                   46             0.002847\n",
       "1992.0                   26             0.001609\n",
       "1991.0                   24             0.001485\n",
       "1990.0                    4             0.000248\n",
       "2017.0                    3             0.000186\n",
       "1985.0                    2             0.000124\n",
       "1988.0                    1             0.000062\n",
       "2020.0                    1             0.000062"
      ]
     },
     "execution_count": 18,
     "metadata": {},
     "output_type": "execute_result"
    }
   ],
   "source": [
    "# Frecuencias absolutas y relativas de Fecha\n",
    "n_i_Fecha = juegos['Fecha'].value_counts()\n",
    "f_i_Fecha = n_i_Fecha / len(juegos)\n",
    "tabla_Fecha = pd.DataFrame({'Frecuencia Absoluta': n_i_Fecha, 'Frecuencia Relativa': f_i_Fecha})\n",
    "tabla_Fecha"
   ]
  },
  {
   "cell_type": "code",
   "execution_count": 19,
   "metadata": {},
   "outputs": [
    {
     "data": {
      "image/png": "[encoded data removed]",
      "text/plain": [
       "<Figure size 432x288 with 1 Axes>"
      ]
     },
     "metadata": {
      "needs_background": "light"
     },
     "output_type": "display_data"
    }
   ],
   "source": [
    "counts =juegos['Fecha'].value_counts()\n",
    "\n",
    "# Create the bar plot\n",
    "counts.plot(kind='bar')\n",
    "\n",
    "# Add labels and title\n",
    "plt.xlabel('Fecha')\n",
    "plt.ylabel('Frecuencia absoluta')\n",
    "plt.title('Bar plot de Fecha')\n",
    "\n",
    "# Show the plot\n",
    "plt.show()"
   ]
  },
  {
   "cell_type": "code",
   "execution_count": 20,
   "metadata": {},
   "outputs": [
    {
     "data": {
      "image/png": "[encoded data removed]",
      "text/plain": [
       "<Figure size 432x288 with 1 Axes>"
      ]
     },
     "metadata": {},
     "output_type": "display_data"
    }
   ],
   "source": [
    "# Create a pie chart\n",
    "plt.pie(counts, labels=counts.index, autopct='%1.1f%%', startangle=90)\n",
    "\n",
    "# Add title\n",
    "plt.title('Diagrama de tarta de Fecha')\n",
    "\n",
    "# Show the plot\n",
    "plt.show()"
   ]
  },
  {
   "cell_type": "code",
   "execution_count": 21,
   "metadata": {},
   "outputs": [
    {
     "data": {
      "text/plain": [
       "2009.0    31.880686\n",
       "2008.0    31.791571\n",
       "2010.0    28.048765\n",
       "2007.0    26.756606\n",
       "2011.0    25.375333\n",
       "2006.0    22.456835\n",
       "2005.0    20.964169\n",
       "2002.0    18.446686\n",
       "2003.0    17.265920\n",
       "2004.0    16.998577\n",
       "2012.0    14.637044\n",
       "2015.0    13.679064\n",
       "2014.0    12.966149\n",
       "2013.0    12.164119\n",
       "2001.0    10.292716\n",
       "1998.0     8.109413\n",
       "2016.0     7.663841\n",
       "1999.0     6.928647\n",
       "2000.0     6.906368\n",
       "1997.0     6.260288\n",
       "1996.0     5.658766\n",
       "1995.0     4.611672\n",
       "1994.0     2.116468\n",
       "1993.0     1.024816\n",
       "1992.0     0.579244\n",
       "1991.0     0.534687\n",
       "1990.0     0.089114\n",
       "2017.0     0.066836\n",
       "1985.0     0.044557\n",
       "1988.0     0.022279\n",
       "2020.0     0.022279\n",
       "Name: Fecha, dtype: float64"
      ]
     },
     "execution_count": 21,
     "metadata": {},
     "output_type": "execute_result"
    }
   ],
   "source": [
    "counts/len(juegos)*360"
   ]
  },
  {
   "cell_type": "markdown",
   "metadata": {},
   "source": [
    "Ahora repetimos todo lo anterior para \"Plataforma\" :"
   ]
  },
  {
   "cell_type": "code",
   "execution_count": 22,
   "metadata": {},
   "outputs": [
    {
     "data": {
      "text/html": [
       "<div>\n",
       "<style scoped>\n",
       "    .dataframe tbody tr th:only-of-type {\n",
       "        vertical-align: middle;\n",
       "    }\n",
       "\n",
       "    .dataframe tbody tr th {\n",
       "        vertical-align: top;\n",
       "    }\n",
       "\n",
       "    .dataframe thead th {\n",
       "        text-align: right;\n",
       "    }\n",
       "</style>\n",
       "<table border=\"1\" class=\"dataframe\">\n",
       "  <thead>\n",
       "    <tr style=\"text-align: right;\">\n",
       "      <th></th>\n",
       "      <th>Frecuencia Absoluta</th>\n",
       "      <th>Frecuencia Relativa</th>\n",
       "    </tr>\n",
       "  </thead>\n",
       "  <tbody>\n",
       "    <tr>\n",
       "      <th>DS</th>\n",
       "      <td>2163</td>\n",
       "      <td>0.133857</td>\n",
       "    </tr>\n",
       "    <tr>\n",
       "      <th>PS2</th>\n",
       "      <td>2161</td>\n",
       "      <td>0.133734</td>\n",
       "    </tr>\n",
       "    <tr>\n",
       "      <th>PS3</th>\n",
       "      <td>1329</td>\n",
       "      <td>0.082245</td>\n",
       "    </tr>\n",
       "    <tr>\n",
       "      <th>Wii</th>\n",
       "      <td>1325</td>\n",
       "      <td>0.081998</td>\n",
       "    </tr>\n",
       "    <tr>\n",
       "      <th>X360</th>\n",
       "      <td>1265</td>\n",
       "      <td>0.078285</td>\n",
       "    </tr>\n",
       "    <tr>\n",
       "      <th>PSP</th>\n",
       "      <td>1213</td>\n",
       "      <td>0.075067</td>\n",
       "    </tr>\n",
       "    <tr>\n",
       "      <th>PS</th>\n",
       "      <td>1196</td>\n",
       "      <td>0.074014</td>\n",
       "    </tr>\n",
       "    <tr>\n",
       "      <th>PC</th>\n",
       "      <td>960</td>\n",
       "      <td>0.059410</td>\n",
       "    </tr>\n",
       "    <tr>\n",
       "      <th>XB</th>\n",
       "      <td>824</td>\n",
       "      <td>0.050993</td>\n",
       "    </tr>\n",
       "    <tr>\n",
       "      <th>GBA</th>\n",
       "      <td>822</td>\n",
       "      <td>0.050869</td>\n",
       "    </tr>\n",
       "    <tr>\n",
       "      <th>GC</th>\n",
       "      <td>556</td>\n",
       "      <td>0.034408</td>\n",
       "    </tr>\n",
       "    <tr>\n",
       "      <th>3DS</th>\n",
       "      <td>509</td>\n",
       "      <td>0.031499</td>\n",
       "    </tr>\n",
       "    <tr>\n",
       "      <th>PSV</th>\n",
       "      <td>413</td>\n",
       "      <td>0.025559</td>\n",
       "    </tr>\n",
       "    <tr>\n",
       "      <th>PS4</th>\n",
       "      <td>336</td>\n",
       "      <td>0.020793</td>\n",
       "    </tr>\n",
       "    <tr>\n",
       "      <th>N64</th>\n",
       "      <td>319</td>\n",
       "      <td>0.019741</td>\n",
       "    </tr>\n",
       "    <tr>\n",
       "      <th>SNES</th>\n",
       "      <td>239</td>\n",
       "      <td>0.014791</td>\n",
       "    </tr>\n",
       "    <tr>\n",
       "      <th>XOne</th>\n",
       "      <td>213</td>\n",
       "      <td>0.013182</td>\n",
       "    </tr>\n",
       "    <tr>\n",
       "      <th>SAT</th>\n",
       "      <td>173</td>\n",
       "      <td>0.010706</td>\n",
       "    </tr>\n",
       "    <tr>\n",
       "      <th>WiiU</th>\n",
       "      <td>143</td>\n",
       "      <td>0.008850</td>\n",
       "    </tr>\n",
       "  </tbody>\n",
       "</table>\n",
       "</div>"
      ],
      "text/plain": [
       "      Frecuencia Absoluta  Frecuencia Relativa\n",
       "DS                   2163             0.133857\n",
       "PS2                  2161             0.133734\n",
       "PS3                  1329             0.082245\n",
       "Wii                  1325             0.081998\n",
       "X360                 1265             0.078285\n",
       "PSP                  1213             0.075067\n",
       "PS                   1196             0.074014\n",
       "PC                    960             0.059410\n",
       "XB                    824             0.050993\n",
       "GBA                   822             0.050869\n",
       "GC                    556             0.034408\n",
       "3DS                   509             0.031499\n",
       "PSV                   413             0.025559\n",
       "PS4                   336             0.020793\n",
       "N64                   319             0.019741\n",
       "SNES                  239             0.014791\n",
       "XOne                  213             0.013182\n",
       "SAT                   173             0.010706\n",
       "WiiU                  143             0.008850"
      ]
     },
     "execution_count": 22,
     "metadata": {},
     "output_type": "execute_result"
    }
   ],
   "source": [
    "# Frecuencias absolutas y relativas de Plataforma\n",
    "n_i_Plataforma = juegos['Plataforma'].value_counts()\n",
    "f_i_Plataforma = n_i_Plataforma / len(juegos)\n",
    "tabla_Plataforma = pd.DataFrame({'Frecuencia Absoluta': n_i_Plataforma, 'Frecuencia Relativa': f_i_Plataforma})\n",
    "tabla_Plataforma "
   ]
  },
  {
   "cell_type": "code",
   "execution_count": 23,
   "metadata": {},
   "outputs": [
    {
     "data": {
      "image/png": "[encoded data removed]",
      "text/plain": [
       "<Figure size 432x288 with 1 Axes>"
      ]
     },
     "metadata": {
      "needs_background": "light"
     },
     "output_type": "display_data"
    }
   ],
   "source": [
    "counts =juegos['Plataforma'].value_counts()\n",
    "\n",
    "# Create the bar plot\n",
    "counts.plot(kind='bar')\n",
    "\n",
    "# Add labels and title\n",
    "plt.xlabel('Plataforma')\n",
    "plt.ylabel('Frecuencia absoluta')\n",
    "plt.title('Bar plot de Plataforma')\n",
    "\n",
    "# Show the plot\n",
    "plt.show()"
   ]
  },
  {
   "cell_type": "code",
   "execution_count": 24,
   "metadata": {},
   "outputs": [
    {
     "data": {
      "image/png": "[encoded data removed]",
      "text/plain": [
       "<Figure size 432x288 with 1 Axes>"
      ]
     },
     "metadata": {},
     "output_type": "display_data"
    }
   ],
   "source": [
    "# Create a pie chart\n",
    "plt.pie(counts, labels=counts.index, autopct='%1.1f%%', startangle=90)\n",
    "\n",
    "# Add title\n",
    "plt.title('Diagrama de tarta de Plataforma')\n",
    "\n",
    "# Show the plot\n",
    "plt.show()"
   ]
  },
  {
   "cell_type": "code",
   "execution_count": 25,
   "metadata": {},
   "outputs": [
    {
     "data": {
      "text/plain": [
       "DS      48.188626\n",
       "PS2     48.144068\n",
       "PS3     29.608268\n",
       "Wii     29.519153\n",
       "X360    28.182437\n",
       "PSP     27.023950\n",
       "PS      26.645213\n",
       "PC      21.387462\n",
       "XB      18.357572\n",
       "GBA     18.313014\n",
       "GC      12.386905\n",
       "3DS     11.339811\n",
       "PSV      9.201064\n",
       "PS4      7.485612\n",
       "N64      7.106875\n",
       "SNES     5.324587\n",
       "XOne     4.745343\n",
       "SAT      3.854199\n",
       "WiiU     3.185841\n",
       "Name: Plataforma, dtype: float64"
      ]
     },
     "execution_count": 25,
     "metadata": {},
     "output_type": "execute_result"
    }
   ],
   "source": [
    "counts/len(juegos)*360"
   ]
  },
  {
   "cell_type": "markdown",
   "metadata": {},
   "source": [
    "<font color=\"blue\"> <strong>Ejercicio 4.</strong>  El porcentaje de usuarios de internet en la población para los diferentes países de la UE vienen representadas por los siguientes datos:\n",
    "\n",
    "    65.9, 72.3, 70, 30.9, 84.2, 65.3, 64.8, 71.8, 68.3, 83.5, 69.3, 45.9, 85.6, 55.5, 59.3, 51.7, 61.4, 59.2, 78.7, 49.4, 52, 41.8, 76.4, 59, 8.2\n",
    "\n",
    "Se pide:</font>\n",
    "\n",
    "   <font color=\"blue\"> (a) Hacer la tabla de frecuencias de los datos.  </font>\n",
    "\n",
    "   <font color=\"blue\"> (b) Repartir los datos en: </font>\n",
    "  \n",
    "<font color=\"blue\"> \n",
    "* Intervalos de amplitud 10.\n",
    "* Los intervalos [0, 30), [30, 50), [50, 60), [60, 70), [70, 90) \n",
    "* Los intervalos (0, 20], (20, 50], (50, 70], (70, 100]\n",
    "\n",
    "    (c) Para cada una de las formas anteriores de partir los datos, calcula frecuencias absolutas, relativas y absolutas y relativas acumuladas para los intervalos anteriores.\n",
    "\n",
    "    (d) Para cada una de las formas anteriores de partir los datos, dibuja el diagrama de barras y de sectores de los intervalos anteriores\n",
    "    \n",
    "    (e) Extraer aquellos valores de la variable comprendidos entre 65 y 80 ambos inclusive y ordénalos de menor a mayor.\n",
    "</font>"
   ]
  },
  {
   "cell_type": "markdown",
   "metadata": {},
   "source": [
    "Comenzamos introduciendo los datos (los porcentajes de población que nos han dado) en una lista a la que llamamos ``internet'':"
   ]
  },
  {
   "cell_type": "code",
   "execution_count": 26,
   "metadata": {},
   "outputs": [
    {
     "data": {
      "text/plain": [
       "0     65.9\n",
       "1     72.3\n",
       "2     70.0\n",
       "3     30.9\n",
       "4     84.2\n",
       "5     65.3\n",
       "6     64.8\n",
       "7     71.8\n",
       "8     68.3\n",
       "9     83.5\n",
       "10    69.3\n",
       "11    45.9\n",
       "12    85.6\n",
       "13    55.5\n",
       "14    59.3\n",
       "15    51.7\n",
       "16    61.4\n",
       "17    59.2\n",
       "18    78.7\n",
       "19    49.4\n",
       "20    52.0\n",
       "21    41.8\n",
       "22    76.4\n",
       "23    59.0\n",
       "24     8.2\n",
       "dtype: float64"
      ]
     },
     "execution_count": 26,
     "metadata": {},
     "output_type": "execute_result"
    }
   ],
   "source": [
    "porcentajes =np.array([65.9, 72.3, 70, 30.9, 84.2, 65.3, 64.8, 71.8, 68.3, 83.5, 69.3, 45.9, 85.6, 55.5, 59.3, 51.7, 61.4, 59.2, 78.7, 49.4, 52, 41.8, 76.4, 59, 8.2])\n",
    "internet =pd.Series(porcentajes)\n",
    "internet"
   ]
  },
  {
   "cell_type": "markdown",
   "metadata": {},
   "source": [
    "Ahora usamos la orden counts para obtener una lista de frecuencias absolutas para estos porcentajes:"
   ]
  },
  {
   "cell_type": "code",
   "execution_count": 27,
   "metadata": {},
   "outputs": [
    {
     "data": {
      "text/plain": [
       "68.3    1\n",
       "59.2    1\n",
       "83.5    1\n",
       "55.5    1\n",
       "69.3    1\n",
       "52.0    1\n",
       "78.7    1\n",
       "59.0    1\n",
       "41.8    1\n",
       "45.9    1\n",
       "72.3    1\n",
       "84.2    1\n",
       "61.4    1\n",
       "76.4    1\n",
       "65.3    1\n",
       "8.2     1\n",
       "51.7    1\n",
       "49.4    1\n",
       "64.8    1\n",
       "30.9    1\n",
       "65.9    1\n",
       "85.6    1\n",
       "71.8    1\n",
       "59.3    1\n",
       "70.0    1\n",
       "dtype: int64"
      ]
     },
     "execution_count": 27,
     "metadata": {},
     "output_type": "execute_result"
    }
   ],
   "source": [
    "counts =internet.value_counts()\n",
    "counts"
   ]
  },
  {
   "cell_type": "markdown",
   "metadata": {},
   "source": [
    "Para repartir los datos en intervalos de amplitud 10, buscamos el mínimo y el máximo de los datos para ver valor inicial y final de los intervalos. Una vez obtenida esa información, podemos hacer el corte usando la orden cut:"
   ]
  },
  {
   "cell_type": "code",
   "execution_count": 28,
   "metadata": {},
   "outputs": [
    {
     "data": {
      "text/plain": [
       "[8.2, 85.6]"
      ]
     },
     "execution_count": 28,
     "metadata": {},
     "output_type": "execute_result"
    }
   ],
   "source": [
    "a=min(internet)\n",
    "b=max(internet)\n",
    "[a,b]"
   ]
  },
  {
   "cell_type": "code",
   "execution_count": 29,
   "metadata": {},
   "outputs": [
    {
     "data": {
      "text/plain": [
       "0     (60, 70]\n",
       "1     (70, 80]\n",
       "2     (60, 70]\n",
       "3     (30, 40]\n",
       "4     (80, 90]\n",
       "5     (60, 70]\n",
       "6     (60, 70]\n",
       "7     (70, 80]\n",
       "8     (60, 70]\n",
       "9     (80, 90]\n",
       "10    (60, 70]\n",
       "11    (40, 50]\n",
       "12    (80, 90]\n",
       "13    (50, 60]\n",
       "14    (50, 60]\n",
       "15    (50, 60]\n",
       "16    (60, 70]\n",
       "17    (50, 60]\n",
       "18    (70, 80]\n",
       "19    (40, 50]\n",
       "20    (50, 60]\n",
       "21    (40, 50]\n",
       "22    (70, 80]\n",
       "23    (50, 60]\n",
       "24     (0, 10]\n",
       "dtype: category\n",
       "Categories (9, interval[int64]): [(0, 10] < (10, 20] < (20, 30] < (30, 40] ... (50, 60] < (60, 70] < (70, 80] < (80, 90]]"
      ]
     },
     "execution_count": 29,
     "metadata": {},
     "output_type": "execute_result"
    }
   ],
   "source": [
    "internet_datos_agrupados_1=pd.cut(\n",
    "    internet,\n",
    "    bins = [0,10,20,30,40,50,60,70,80,90],\n",
    ")\n",
    "internet_datos_agrupados_1"
   ]
  },
  {
   "cell_type": "code",
   "execution_count": 30,
   "metadata": {},
   "outputs": [
    {
     "data": {
      "text/plain": [
       "(60, 70]    7\n",
       "(50, 60]    6\n",
       "(70, 80]    4\n",
       "(80, 90]    3\n",
       "(40, 50]    3\n",
       "(30, 40]    1\n",
       "(0, 10]     1\n",
       "(20, 30]    0\n",
       "(10, 20]    0\n",
       "dtype: int64"
      ]
     },
     "execution_count": 30,
     "metadata": {},
     "output_type": "execute_result"
    }
   ],
   "source": [
    "counts =internet_datos_agrupados_1.value_counts()\n",
    "counts"
   ]
  },
  {
   "cell_type": "code",
   "execution_count": 31,
   "metadata": {},
   "outputs": [
    {
     "data": {
      "image/png": "[encoded data removed]",
      "text/plain": [
       "<Figure size 432x288 with 1 Axes>"
      ]
     },
     "metadata": {
      "needs_background": "light"
     },
     "output_type": "display_data"
    }
   ],
   "source": [
    "# Create the bar plot\n",
    "counts.plot(kind='bar')\n",
    "plt.show()"
   ]
  },
  {
   "cell_type": "code",
   "execution_count": 32,
   "metadata": {},
   "outputs": [
    {
     "data": {
      "image/png": "[encoded data removed]",
      "text/plain": [
       "<Figure size 432x288 with 1 Axes>"
      ]
     },
     "metadata": {},
     "output_type": "display_data"
    }
   ],
   "source": [
    "# Diagrama de tarta:\n",
    "plt.pie(counts, labels=counts.index, autopct='%1.1f%%', startangle=90)\n",
    "plt.show()"
   ]
  },
  {
   "cell_type": "code",
   "execution_count": 33,
   "metadata": {},
   "outputs": [
    {
     "data": {
      "text/plain": [
       "(60, 70]    100.8\n",
       "(50, 60]     86.4\n",
       "(70, 80]     57.6\n",
       "(80, 90]     43.2\n",
       "(40, 50]     43.2\n",
       "(30, 40]     14.4\n",
       "(0, 10]      14.4\n",
       "(20, 30]      0.0\n",
       "(10, 20]      0.0\n",
       "dtype: float64"
      ]
     },
     "execution_count": 33,
     "metadata": {},
     "output_type": "execute_result"
    }
   ],
   "source": [
    "angulos=counts/len(internet)*360\n",
    "angulos"
   ]
  },
  {
   "cell_type": "markdown",
   "metadata": {},
   "source": [
    " Calculamos ahora las frecuencias absolutas, relativas y absolutas y relativas acumuladas para los datos cortados (agrupados), y representamos todo en una tabla:"
   ]
  },
  {
   "cell_type": "code",
   "execution_count": 34,
   "metadata": {},
   "outputs": [
    {
     "data": {
      "text/html": [
       "<div>\n",
       "<style scoped>\n",
       "    .dataframe tbody tr th:only-of-type {\n",
       "        vertical-align: middle;\n",
       "    }\n",
       "\n",
       "    .dataframe tbody tr th {\n",
       "        vertical-align: top;\n",
       "    }\n",
       "\n",
       "    .dataframe thead th {\n",
       "        text-align: right;\n",
       "    }\n",
       "</style>\n",
       "<table border=\"1\" class=\"dataframe\">\n",
       "  <thead>\n",
       "    <tr style=\"text-align: right;\">\n",
       "      <th></th>\n",
       "      <th>Frecuencia Absoluta</th>\n",
       "      <th>Frecuencia Relativa</th>\n",
       "      <th>Frec. Absoluta Acumulada</th>\n",
       "      <th>Frec. Relativa Acumulada</th>\n",
       "    </tr>\n",
       "  </thead>\n",
       "  <tbody>\n",
       "    <tr>\n",
       "      <th>(60, 70]</th>\n",
       "      <td>7</td>\n",
       "      <td>0.28</td>\n",
       "      <td>7</td>\n",
       "      <td>0.28</td>\n",
       "    </tr>\n",
       "    <tr>\n",
       "      <th>(50, 60]</th>\n",
       "      <td>6</td>\n",
       "      <td>0.24</td>\n",
       "      <td>13</td>\n",
       "      <td>0.52</td>\n",
       "    </tr>\n",
       "    <tr>\n",
       "      <th>(70, 80]</th>\n",
       "      <td>4</td>\n",
       "      <td>0.16</td>\n",
       "      <td>17</td>\n",
       "      <td>0.68</td>\n",
       "    </tr>\n",
       "    <tr>\n",
       "      <th>(80, 90]</th>\n",
       "      <td>3</td>\n",
       "      <td>0.12</td>\n",
       "      <td>20</td>\n",
       "      <td>0.80</td>\n",
       "    </tr>\n",
       "    <tr>\n",
       "      <th>(40, 50]</th>\n",
       "      <td>3</td>\n",
       "      <td>0.12</td>\n",
       "      <td>23</td>\n",
       "      <td>0.92</td>\n",
       "    </tr>\n",
       "    <tr>\n",
       "      <th>(30, 40]</th>\n",
       "      <td>1</td>\n",
       "      <td>0.04</td>\n",
       "      <td>24</td>\n",
       "      <td>0.96</td>\n",
       "    </tr>\n",
       "    <tr>\n",
       "      <th>(0, 10]</th>\n",
       "      <td>1</td>\n",
       "      <td>0.04</td>\n",
       "      <td>25</td>\n",
       "      <td>1.00</td>\n",
       "    </tr>\n",
       "    <tr>\n",
       "      <th>(20, 30]</th>\n",
       "      <td>0</td>\n",
       "      <td>0.00</td>\n",
       "      <td>25</td>\n",
       "      <td>1.00</td>\n",
       "    </tr>\n",
       "    <tr>\n",
       "      <th>(10, 20]</th>\n",
       "      <td>0</td>\n",
       "      <td>0.00</td>\n",
       "      <td>25</td>\n",
       "      <td>1.00</td>\n",
       "    </tr>\n",
       "  </tbody>\n",
       "</table>\n",
       "</div>"
      ],
      "text/plain": [
       "          Frecuencia Absoluta  Frecuencia Relativa  Frec. Absoluta Acumulada  \\\n",
       "(60, 70]                    7                 0.28                         7   \n",
       "(50, 60]                    6                 0.24                        13   \n",
       "(70, 80]                    4                 0.16                        17   \n",
       "(80, 90]                    3                 0.12                        20   \n",
       "(40, 50]                    3                 0.12                        23   \n",
       "(30, 40]                    1                 0.04                        24   \n",
       "(0, 10]                     1                 0.04                        25   \n",
       "(20, 30]                    0                 0.00                        25   \n",
       "(10, 20]                    0                 0.00                        25   \n",
       "\n",
       "          Frec. Relativa Acumulada  \n",
       "(60, 70]                      0.28  \n",
       "(50, 60]                      0.52  \n",
       "(70, 80]                      0.68  \n",
       "(80, 90]                      0.80  \n",
       "(40, 50]                      0.92  \n",
       "(30, 40]                      0.96  \n",
       "(0, 10]                       1.00  \n",
       "(20, 30]                      1.00  \n",
       "(10, 20]                      1.00  "
      ]
     },
     "execution_count": 34,
     "metadata": {},
     "output_type": "execute_result"
    }
   ],
   "source": [
    "n_i = counts\n",
    "f_i_Plataforma = n_i/len(internet)\n",
    "N_i=np.cumsum(n_i)\n",
    "F_i=N_i/len(internet)\n",
    "tabla_frecuencias = pd.DataFrame({'Frecuencia Absoluta': n_i, 'Frecuencia Relativa': f_i_Plataforma, 'Frec. Absoluta Acumulada': N_i, 'Frec. Relativa Acumulada': F_i})\n",
    "tabla_frecuencias "
   ]
  },
  {
   "cell_type": "code",
   "execution_count": 35,
   "metadata": {},
   "outputs": [
    {
     "data": {
      "text/plain": [
       "0     (60, 70]\n",
       "1     (70, 90]\n",
       "2     (60, 70]\n",
       "3     (30, 50]\n",
       "4     (70, 90]\n",
       "5     (60, 70]\n",
       "6     (60, 70]\n",
       "7     (70, 90]\n",
       "8     (60, 70]\n",
       "9     (70, 90]\n",
       "10    (60, 70]\n",
       "11    (30, 50]\n",
       "12    (70, 90]\n",
       "13    (50, 60]\n",
       "14    (50, 60]\n",
       "15    (50, 60]\n",
       "16    (60, 70]\n",
       "17    (50, 60]\n",
       "18    (70, 90]\n",
       "19    (30, 50]\n",
       "20    (50, 60]\n",
       "21    (30, 50]\n",
       "22    (70, 90]\n",
       "23    (50, 60]\n",
       "24     (0, 30]\n",
       "dtype: category\n",
       "Categories (5, interval[int64]): [(0, 30] < (30, 50] < (50, 60] < (60, 70] < (70, 90]]"
      ]
     },
     "execution_count": 35,
     "metadata": {},
     "output_type": "execute_result"
    }
   ],
   "source": [
    "internet_datos_agrupados_2=pd.cut(\n",
    "    internet,\n",
    "    bins = [0,30,50,60,70,90],\n",
    ")\n",
    "internet_datos_agrupados_2"
   ]
  },
  {
   "cell_type": "code",
   "execution_count": 36,
   "metadata": {},
   "outputs": [
    {
     "data": {
      "text/plain": [
       "(70, 90]    7\n",
       "(60, 70]    7\n",
       "(50, 60]    6\n",
       "(30, 50]    4\n",
       "(0, 30]     1\n",
       "dtype: int64"
      ]
     },
     "execution_count": 36,
     "metadata": {},
     "output_type": "execute_result"
    }
   ],
   "source": [
    "counts =internet_datos_agrupados_2.value_counts()\n",
    "counts"
   ]
  },
  {
   "cell_type": "code",
   "execution_count": 37,
   "metadata": {},
   "outputs": [
    {
     "data": {
      "image/png": "[encoded data removed]",
      "text/plain": [
       "<Figure size 432x288 with 1 Axes>"
      ]
     },
     "metadata": {
      "needs_background": "light"
     },
     "output_type": "display_data"
    }
   ],
   "source": [
    "# Create the bar plot\n",
    "counts.plot(kind='bar')\n",
    "plt.show()"
   ]
  },
  {
   "cell_type": "code",
   "execution_count": 38,
   "metadata": {},
   "outputs": [
    {
     "data": {
      "image/png": "[encoded data removed]",
      "text/plain": [
       "<Figure size 432x288 with 1 Axes>"
      ]
     },
     "metadata": {},
     "output_type": "display_data"
    }
   ],
   "source": [
    "# Diagrama de tarta:\n",
    "plt.pie(counts, labels=counts.index, autopct='%1.1f%%', startangle=90)\n",
    "plt.show()"
   ]
  },
  {
   "cell_type": "code",
   "execution_count": 39,
   "metadata": {},
   "outputs": [
    {
     "data": {
      "text/plain": [
       "(70, 90]    100.8\n",
       "(60, 70]    100.8\n",
       "(50, 60]     86.4\n",
       "(30, 50]     57.6\n",
       "(0, 30]      14.4\n",
       "dtype: float64"
      ]
     },
     "execution_count": 39,
     "metadata": {},
     "output_type": "execute_result"
    }
   ],
   "source": [
    "angulos_2=counts/len(internet)*360\n",
    "angulos_2"
   ]
  },
  {
   "cell_type": "markdown",
   "metadata": {},
   "source": [
    " Calculamos ahora las frecuencias absolutas, relativas y absolutas y relativas acumuladas para los datos cortados (agrupados), y representamos todo en una tabla:"
   ]
  },
  {
   "cell_type": "code",
   "execution_count": 40,
   "metadata": {},
   "outputs": [
    {
     "data": {
      "text/html": [
       "<div>\n",
       "<style scoped>\n",
       "    .dataframe tbody tr th:only-of-type {\n",
       "        vertical-align: middle;\n",
       "    }\n",
       "\n",
       "    .dataframe tbody tr th {\n",
       "        vertical-align: top;\n",
       "    }\n",
       "\n",
       "    .dataframe thead th {\n",
       "        text-align: right;\n",
       "    }\n",
       "</style>\n",
       "<table border=\"1\" class=\"dataframe\">\n",
       "  <thead>\n",
       "    <tr style=\"text-align: right;\">\n",
       "      <th></th>\n",
       "      <th>Frecuencia Absoluta</th>\n",
       "      <th>Frecuencia Relativa</th>\n",
       "      <th>Frec. Absoluta Acumulada</th>\n",
       "      <th>Frec. Relativa Acumulada</th>\n",
       "    </tr>\n",
       "  </thead>\n",
       "  <tbody>\n",
       "    <tr>\n",
       "      <th>(70, 90]</th>\n",
       "      <td>7</td>\n",
       "      <td>0.28</td>\n",
       "      <td>7</td>\n",
       "      <td>0.28</td>\n",
       "    </tr>\n",
       "    <tr>\n",
       "      <th>(60, 70]</th>\n",
       "      <td>7</td>\n",
       "      <td>0.28</td>\n",
       "      <td>14</td>\n",
       "      <td>0.56</td>\n",
       "    </tr>\n",
       "    <tr>\n",
       "      <th>(50, 60]</th>\n",
       "      <td>6</td>\n",
       "      <td>0.24</td>\n",
       "      <td>20</td>\n",
       "      <td>0.80</td>\n",
       "    </tr>\n",
       "    <tr>\n",
       "      <th>(30, 50]</th>\n",
       "      <td>4</td>\n",
       "      <td>0.16</td>\n",
       "      <td>24</td>\n",
       "      <td>0.96</td>\n",
       "    </tr>\n",
       "    <tr>\n",
       "      <th>(0, 30]</th>\n",
       "      <td>1</td>\n",
       "      <td>0.04</td>\n",
       "      <td>25</td>\n",
       "      <td>1.00</td>\n",
       "    </tr>\n",
       "  </tbody>\n",
       "</table>\n",
       "</div>"
      ],
      "text/plain": [
       "          Frecuencia Absoluta  Frecuencia Relativa  Frec. Absoluta Acumulada  \\\n",
       "(70, 90]                    7                 0.28                         7   \n",
       "(60, 70]                    7                 0.28                        14   \n",
       "(50, 60]                    6                 0.24                        20   \n",
       "(30, 50]                    4                 0.16                        24   \n",
       "(0, 30]                     1                 0.04                        25   \n",
       "\n",
       "          Frec. Relativa Acumulada  \n",
       "(70, 90]                      0.28  \n",
       "(60, 70]                      0.56  \n",
       "(50, 60]                      0.80  \n",
       "(30, 50]                      0.96  \n",
       "(0, 30]                       1.00  "
      ]
     },
     "execution_count": 40,
     "metadata": {},
     "output_type": "execute_result"
    }
   ],
   "source": [
    "n_i = counts\n",
    "f_i_Plataforma = n_i/len(internet)\n",
    "N_i=np.cumsum(n_i)\n",
    "F_i=N_i/len(internet)\n",
    "tabla_frecuencias = pd.DataFrame({'Frecuencia Absoluta': n_i, 'Frecuencia Relativa': f_i_Plataforma, 'Frec. Absoluta Acumulada': N_i, 'Frec. Relativa Acumulada': F_i})\n",
    "tabla_frecuencias "
   ]
  },
  {
   "cell_type": "code",
   "execution_count": 41,
   "metadata": {},
   "outputs": [
    {
     "data": {
      "text/plain": [
       "0      (50, 70]\n",
       "1     (70, 100]\n",
       "2      (50, 70]\n",
       "3      (20, 50]\n",
       "4     (70, 100]\n",
       "5      (50, 70]\n",
       "6      (50, 70]\n",
       "7     (70, 100]\n",
       "8      (50, 70]\n",
       "9     (70, 100]\n",
       "10     (50, 70]\n",
       "11     (20, 50]\n",
       "12    (70, 100]\n",
       "13     (50, 70]\n",
       "14     (50, 70]\n",
       "15     (50, 70]\n",
       "16     (50, 70]\n",
       "17     (50, 70]\n",
       "18    (70, 100]\n",
       "19     (20, 50]\n",
       "20     (50, 70]\n",
       "21     (20, 50]\n",
       "22    (70, 100]\n",
       "23     (50, 70]\n",
       "24      (0, 20]\n",
       "dtype: category\n",
       "Categories (4, interval[int64]): [(0, 20] < (20, 50] < (50, 70] < (70, 100]]"
      ]
     },
     "execution_count": 41,
     "metadata": {},
     "output_type": "execute_result"
    }
   ],
   "source": [
    "internet_datos_agrupados_3=pd.cut(\n",
    "    internet,\n",
    "    bins = [0,20,50,70,100],\n",
    ")\n",
    "internet_datos_agrupados_3"
   ]
  },
  {
   "cell_type": "code",
   "execution_count": 42,
   "metadata": {},
   "outputs": [
    {
     "data": {
      "text/plain": [
       "(50, 70]     13\n",
       "(70, 100]     7\n",
       "(20, 50]      4\n",
       "(0, 20]       1\n",
       "dtype: int64"
      ]
     },
     "execution_count": 42,
     "metadata": {},
     "output_type": "execute_result"
    }
   ],
   "source": [
    "counts =internet_datos_agrupados_3.value_counts()\n",
    "counts"
   ]
  },
  {
   "cell_type": "code",
   "execution_count": 43,
   "metadata": {},
   "outputs": [
    {
     "data": {
      "image/png": "[encoded data removed]",
      "text/plain": [
       "<Figure size 432x288 with 1 Axes>"
      ]
     },
     "metadata": {
      "needs_background": "light"
     },
     "output_type": "display_data"
    }
   ],
   "source": [
    "# Create the bar plot\n",
    "counts.plot(kind='bar')\n",
    "plt.show()"
   ]
  },
  {
   "cell_type": "code",
   "execution_count": 44,
   "metadata": {},
   "outputs": [
    {
     "data": {
      "image/png": "[encoded data removed]",
      "text/plain": [
       "<Figure size 432x288 with 1 Axes>"
      ]
     },
     "metadata": {},
     "output_type": "display_data"
    }
   ],
   "source": [
    "# Diagrama de tarta:\n",
    "plt.pie(counts, labels=counts.index, autopct='%1.1f%%', startangle=90)\n",
    "plt.show()"
   ]
  },
  {
   "cell_type": "code",
   "execution_count": 45,
   "metadata": {},
   "outputs": [
    {
     "data": {
      "text/plain": [
       "(50, 70]     187.2\n",
       "(70, 100]    100.8\n",
       "(20, 50]      57.6\n",
       "(0, 20]       14.4\n",
       "dtype: float64"
      ]
     },
     "execution_count": 45,
     "metadata": {},
     "output_type": "execute_result"
    }
   ],
   "source": [
    "angulos_3=counts/len(internet)*360\n",
    "angulos_3"
   ]
  },
  {
   "cell_type": "markdown",
   "metadata": {},
   "source": [
    " Calculamos ahora las frecuencias absolutas, relativas y absolutas y relativas acumuladas para los datos cortados (agrupados), y representamos todo en una tabla:"
   ]
  },
  {
   "cell_type": "code",
   "execution_count": 46,
   "metadata": {},
   "outputs": [
    {
     "data": {
      "text/html": [
       "<div>\n",
       "<style scoped>\n",
       "    .dataframe tbody tr th:only-of-type {\n",
       "        vertical-align: middle;\n",
       "    }\n",
       "\n",
       "    .dataframe tbody tr th {\n",
       "        vertical-align: top;\n",
       "    }\n",
       "\n",
       "    .dataframe thead th {\n",
       "        text-align: right;\n",
       "    }\n",
       "</style>\n",
       "<table border=\"1\" class=\"dataframe\">\n",
       "  <thead>\n",
       "    <tr style=\"text-align: right;\">\n",
       "      <th></th>\n",
       "      <th>Frecuencia Absoluta</th>\n",
       "      <th>Frecuencia Relativa</th>\n",
       "      <th>Frec. Absoluta Acumulada</th>\n",
       "      <th>Frec. Relativa Acumulada</th>\n",
       "    </tr>\n",
       "  </thead>\n",
       "  <tbody>\n",
       "    <tr>\n",
       "      <th>(50, 70]</th>\n",
       "      <td>13</td>\n",
       "      <td>0.52</td>\n",
       "      <td>13</td>\n",
       "      <td>0.52</td>\n",
       "    </tr>\n",
       "    <tr>\n",
       "      <th>(70, 100]</th>\n",
       "      <td>7</td>\n",
       "      <td>0.28</td>\n",
       "      <td>20</td>\n",
       "      <td>0.80</td>\n",
       "    </tr>\n",
       "    <tr>\n",
       "      <th>(20, 50]</th>\n",
       "      <td>4</td>\n",
       "      <td>0.16</td>\n",
       "      <td>24</td>\n",
       "      <td>0.96</td>\n",
       "    </tr>\n",
       "    <tr>\n",
       "      <th>(0, 20]</th>\n",
       "      <td>1</td>\n",
       "      <td>0.04</td>\n",
       "      <td>25</td>\n",
       "      <td>1.00</td>\n",
       "    </tr>\n",
       "  </tbody>\n",
       "</table>\n",
       "</div>"
      ],
      "text/plain": [
       "           Frecuencia Absoluta  Frecuencia Relativa  Frec. Absoluta Acumulada  \\\n",
       "(50, 70]                    13                 0.52                        13   \n",
       "(70, 100]                    7                 0.28                        20   \n",
       "(20, 50]                     4                 0.16                        24   \n",
       "(0, 20]                      1                 0.04                        25   \n",
       "\n",
       "           Frec. Relativa Acumulada  \n",
       "(50, 70]                       0.52  \n",
       "(70, 100]                      0.80  \n",
       "(20, 50]                       0.96  \n",
       "(0, 20]                        1.00  "
      ]
     },
     "execution_count": 46,
     "metadata": {},
     "output_type": "execute_result"
    }
   ],
   "source": [
    "n_i = counts\n",
    "f_i_Plataforma = n_i/len(internet)\n",
    "N_i=np.cumsum(n_i)\n",
    "F_i=N_i/len(internet)\n",
    "tabla_frecuencias = pd.DataFrame({'Frecuencia Absoluta': n_i, 'Frecuencia Relativa': f_i_Plataforma, 'Frec. Absoluta Acumulada': N_i, 'Frec. Relativa Acumulada': F_i})\n",
    "tabla_frecuencias "
   ]
  },
  {
   "cell_type": "markdown",
   "metadata": {},
   "source": [
    "Finalmente, vamos a extraer aquellos valores de la variable comprendidos entre 65 y 80 -ambos inclusive- y ordenarlos de menor a mayor:"
   ]
  },
  {
   "cell_type": "code",
   "execution_count": 47,
   "metadata": {},
   "outputs": [
    {
     "data": {
      "text/plain": [
       "0     65.9\n",
       "1     72.3\n",
       "2     70.0\n",
       "5     65.3\n",
       "7     71.8\n",
       "8     68.3\n",
       "10    69.3\n",
       "18    78.7\n",
       "22    76.4\n",
       "dtype: float64"
      ]
     },
     "execution_count": 47,
     "metadata": {},
     "output_type": "execute_result"
    }
   ],
   "source": [
    "internet_seleccion = internet[(internet >= 65) & (internet < 80)]\n",
    "internet_seleccion"
   ]
  },
  {
   "cell_type": "code",
   "execution_count": 48,
   "metadata": {},
   "outputs": [
    {
     "data": {
      "text/plain": [
       "array([65.3, 65.9, 68.3, 69.3, 70. , 71.8, 72.3, 76.4, 78.7])"
      ]
     },
     "execution_count": 48,
     "metadata": {},
     "output_type": "execute_result"
    }
   ],
   "source": [
    "internet_seleccion_ordenado = np.sort(internet_seleccion)\n",
    "internet_seleccion_ordenado"
   ]
  },
  {
   "cell_type": "markdown",
   "metadata": {},
   "source": [
    "<font color=\"blue\"> <strong>Ejercicio 6.</strong> Para la variable VentasEU del dataframe, ’Juegos.csv’ se pide:\n",
    "\n",
    "Repartir los datos en: \n",
    "\n",
    "* intervalos de amplitud 2 entre 0 y 30.\n",
    "* los intervalos [0, 0.1), [0.1, 0.2), [0.2, 0.5), [0.5, 1), [1, 10), [10, 30) \n",
    "\n",
    "Para cada una de las formas anteriores de partir los datos, calcula frecuencias absolutas, relativas y absolutas y relativas acumuladas para los intervalos anteriores.\n",
    "\n",
    "Para cada una de las formas anteriores de partir los datos, dibuja el diagrama de barras y de sectores de los intervalos anteriores\n",
    "\n",
    "Extraer aquellos valores de VentasEU que son mayores o iguales a 5.</font>"
   ]
  },
  {
   "cell_type": "code",
   "execution_count": 49,
   "metadata": {},
   "outputs": [
    {
     "data": {
      "text/plain": [
       "0        29.02\n",
       "1        12.88\n",
       "2        11.01\n",
       "3         9.23\n",
       "4         9.20\n",
       "         ...  \n",
       "16154     0.00\n",
       "16155     0.00\n",
       "16156     0.00\n",
       "16157     0.01\n",
       "16158     0.00\n",
       "Name: VentasEU, Length: 16159, dtype: float64"
      ]
     },
     "execution_count": 49,
     "metadata": {},
     "output_type": "execute_result"
    }
   ],
   "source": [
    "VentasEU=juegos[\"VentasEU\"]\n",
    "VentasEU"
   ]
  },
  {
   "cell_type": "code",
   "execution_count": 50,
   "metadata": {},
   "outputs": [
    {
     "data": {
      "text/plain": [
       "array([ 0,  2,  4,  6,  8, 10, 12, 14, 16, 18, 20, 22, 24, 26, 28, 30])"
      ]
     },
     "execution_count": 50,
     "metadata": {},
     "output_type": "execute_result"
    }
   ],
   "source": [
    "cortes1 = np.arange(0, 31, 2)\n",
    "cortes1"
   ]
  },
  {
   "cell_type": "code",
   "execution_count": 51,
   "metadata": {},
   "outputs": [
    {
     "data": {
      "text/plain": [
       "0        (28.0, 30.0]\n",
       "1        (12.0, 14.0]\n",
       "2        (10.0, 12.0]\n",
       "3         (8.0, 10.0]\n",
       "4         (8.0, 10.0]\n",
       "             ...     \n",
       "16154             NaN\n",
       "16155             NaN\n",
       "16156             NaN\n",
       "16157      (0.0, 2.0]\n",
       "16158             NaN\n",
       "Name: VentasEU, Length: 16159, dtype: category\n",
       "Categories (15, interval[int64]): [(0, 2] < (2, 4] < (4, 6] < (6, 8] ... (22, 24] < (24, 26] < (26, 28] < (28, 30]]"
      ]
     },
     "execution_count": 51,
     "metadata": {},
     "output_type": "execute_result"
    }
   ],
   "source": [
    "VentasEU_datos_agrupados_1=pd.cut(\n",
    "    VentasEU,\n",
    "    bins = cortes1,\n",
    ")\n",
    "VentasEU_datos_agrupados_1"
   ]
  },
  {
   "cell_type": "code",
   "execution_count": 52,
   "metadata": {},
   "outputs": [
    {
     "data": {
      "text/plain": [
       "(0, 2]      10466\n",
       "(2, 4]        108\n",
       "(4, 6]         20\n",
       "(8, 10]         6\n",
       "(6, 8]          5\n",
       "(10, 12]        2\n",
       "(28, 30]        1\n",
       "(12, 14]        1\n",
       "(26, 28]        0\n",
       "(24, 26]        0\n",
       "(22, 24]        0\n",
       "(20, 22]        0\n",
       "(18, 20]        0\n",
       "(16, 18]        0\n",
       "(14, 16]        0\n",
       "Name: VentasEU, dtype: int64"
      ]
     },
     "execution_count": 52,
     "metadata": {},
     "output_type": "execute_result"
    }
   ],
   "source": [
    "counts =VentasEU_datos_agrupados_1.value_counts()\n",
    "counts"
   ]
  },
  {
   "cell_type": "markdown",
   "metadata": {},
   "source": [
    "Si nos fijamos, veremos que la suma de las frecuencias no coincide con el total de observaciones. \n",
    "Esto es porque hemos excluido el 0 en el corte -y hay muchos juegos que no se vendieron en EU-\n",
    "Para arreglarlo debemos incluir el 0 en el corte:"
   ]
  },
  {
   "cell_type": "code",
   "execution_count": 53,
   "metadata": {},
   "outputs": [
    {
     "data": {
      "text/plain": [
       "0        [28, 30)\n",
       "1        [12, 14)\n",
       "2        [10, 12)\n",
       "3         [8, 10)\n",
       "4         [8, 10)\n",
       "           ...   \n",
       "16154      [0, 2)\n",
       "16155      [0, 2)\n",
       "16156      [0, 2)\n",
       "16157      [0, 2)\n",
       "16158      [0, 2)\n",
       "Name: VentasEU, Length: 16159, dtype: category\n",
       "Categories (15, interval[int64]): [[0, 2) < [2, 4) < [4, 6) < [6, 8) ... [22, 24) < [24, 26) < [26, 28) < [28, 30)]"
      ]
     },
     "execution_count": 53,
     "metadata": {},
     "output_type": "execute_result"
    }
   ],
   "source": [
    "VentasEU_datos_agrupados_1=pd.cut(\n",
    "    VentasEU,\n",
    "    bins = cortes1,\n",
    "    right=False,\n",
    "    include_lowest=True\n",
    ")\n",
    "VentasEU_datos_agrupados_1"
   ]
  },
  {
   "cell_type": "code",
   "execution_count": 54,
   "metadata": {},
   "outputs": [
    {
     "data": {
      "text/plain": [
       "[0, 2)      16012\n",
       "[2, 4)        112\n",
       "[4, 6)         20\n",
       "[8, 10)         6\n",
       "[6, 8)          5\n",
       "[10, 12)        2\n",
       "[28, 30)        1\n",
       "[12, 14)        1\n",
       "[26, 28)        0\n",
       "[24, 26)        0\n",
       "[22, 24)        0\n",
       "[20, 22)        0\n",
       "[18, 20)        0\n",
       "[16, 18)        0\n",
       "[14, 16)        0\n",
       "Name: VentasEU, dtype: int64"
      ]
     },
     "execution_count": 54,
     "metadata": {},
     "output_type": "execute_result"
    }
   ],
   "source": [
    "counts =VentasEU_datos_agrupados_1.value_counts()\n",
    "counts"
   ]
  },
  {
   "cell_type": "code",
   "execution_count": 55,
   "metadata": {},
   "outputs": [
    {
     "data": {
      "image/png": "[encoded data removed]",
      "text/plain": [
       "<Figure size 432x288 with 1 Axes>"
      ]
     },
     "metadata": {
      "needs_background": "light"
     },
     "output_type": "display_data"
    }
   ],
   "source": [
    "# Create the bar plot\n",
    "counts.plot(kind='bar')\n",
    "plt.show()"
   ]
  },
  {
   "cell_type": "code",
   "execution_count": 56,
   "metadata": {},
   "outputs": [
    {
     "data": {
      "image/png": "[encoded data removed]",
      "text/plain": [
       "<Figure size 432x288 with 1 Axes>"
      ]
     },
     "metadata": {},
     "output_type": "display_data"
    }
   ],
   "source": [
    "# Diagrama de tarta:\n",
    "plt.pie(counts, labels=counts.index, autopct='%1.1f%%', startangle=90)\n",
    "plt.show()"
   ]
  },
  {
   "cell_type": "code",
   "execution_count": 57,
   "metadata": {},
   "outputs": [
    {
     "data": {
      "text/plain": [
       "[0, 2)      356.725045\n",
       "[2, 4)        2.495204\n",
       "[4, 6)        0.445572\n",
       "[8, 10)       0.133672\n",
       "[6, 8)        0.111393\n",
       "[10, 12)      0.044557\n",
       "[28, 30)      0.022279\n",
       "[12, 14)      0.022279\n",
       "[26, 28)      0.000000\n",
       "[24, 26)      0.000000\n",
       "[22, 24)      0.000000\n",
       "[20, 22)      0.000000\n",
       "[18, 20)      0.000000\n",
       "[16, 18)      0.000000\n",
       "[14, 16)      0.000000\n",
       "Name: VentasEU, dtype: float64"
      ]
     },
     "execution_count": 57,
     "metadata": {},
     "output_type": "execute_result"
    }
   ],
   "source": [
    "angulos_1=counts/len(VentasEU)*360\n",
    "angulos_1"
   ]
  },
  {
   "cell_type": "code",
   "execution_count": 58,
   "metadata": {},
   "outputs": [
    {
     "data": {
      "text/html": [
       "<div>\n",
       "<style scoped>\n",
       "    .dataframe tbody tr th:only-of-type {\n",
       "        vertical-align: middle;\n",
       "    }\n",
       "\n",
       "    .dataframe tbody tr th {\n",
       "        vertical-align: top;\n",
       "    }\n",
       "\n",
       "    .dataframe thead th {\n",
       "        text-align: right;\n",
       "    }\n",
       "</style>\n",
       "<table border=\"1\" class=\"dataframe\">\n",
       "  <thead>\n",
       "    <tr style=\"text-align: right;\">\n",
       "      <th></th>\n",
       "      <th>Frecuencia Absoluta</th>\n",
       "      <th>Frecuencia Relativa</th>\n",
       "      <th>Frec. Absoluta Acumulada</th>\n",
       "      <th>Frec. Relativa Acumulada</th>\n",
       "    </tr>\n",
       "  </thead>\n",
       "  <tbody>\n",
       "    <tr>\n",
       "      <th>[0, 2)</th>\n",
       "      <td>16012</td>\n",
       "      <td>0.990903</td>\n",
       "      <td>16012</td>\n",
       "      <td>0.990903</td>\n",
       "    </tr>\n",
       "    <tr>\n",
       "      <th>[2, 4)</th>\n",
       "      <td>112</td>\n",
       "      <td>0.006931</td>\n",
       "      <td>16124</td>\n",
       "      <td>0.997834</td>\n",
       "    </tr>\n",
       "    <tr>\n",
       "      <th>[4, 6)</th>\n",
       "      <td>20</td>\n",
       "      <td>0.001238</td>\n",
       "      <td>16144</td>\n",
       "      <td>0.999072</td>\n",
       "    </tr>\n",
       "    <tr>\n",
       "      <th>[8, 10)</th>\n",
       "      <td>6</td>\n",
       "      <td>0.000371</td>\n",
       "      <td>16150</td>\n",
       "      <td>0.999443</td>\n",
       "    </tr>\n",
       "    <tr>\n",
       "      <th>[6, 8)</th>\n",
       "      <td>5</td>\n",
       "      <td>0.000309</td>\n",
       "      <td>16155</td>\n",
       "      <td>0.999752</td>\n",
       "    </tr>\n",
       "    <tr>\n",
       "      <th>[10, 12)</th>\n",
       "      <td>2</td>\n",
       "      <td>0.000124</td>\n",
       "      <td>16157</td>\n",
       "      <td>0.999876</td>\n",
       "    </tr>\n",
       "    <tr>\n",
       "      <th>[28, 30)</th>\n",
       "      <td>1</td>\n",
       "      <td>0.000062</td>\n",
       "      <td>16158</td>\n",
       "      <td>0.999938</td>\n",
       "    </tr>\n",
       "    <tr>\n",
       "      <th>[12, 14)</th>\n",
       "      <td>1</td>\n",
       "      <td>0.000062</td>\n",
       "      <td>16159</td>\n",
       "      <td>1.000000</td>\n",
       "    </tr>\n",
       "    <tr>\n",
       "      <th>[26, 28)</th>\n",
       "      <td>0</td>\n",
       "      <td>0.000000</td>\n",
       "      <td>16159</td>\n",
       "      <td>1.000000</td>\n",
       "    </tr>\n",
       "    <tr>\n",
       "      <th>[24, 26)</th>\n",
       "      <td>0</td>\n",
       "      <td>0.000000</td>\n",
       "      <td>16159</td>\n",
       "      <td>1.000000</td>\n",
       "    </tr>\n",
       "    <tr>\n",
       "      <th>[22, 24)</th>\n",
       "      <td>0</td>\n",
       "      <td>0.000000</td>\n",
       "      <td>16159</td>\n",
       "      <td>1.000000</td>\n",
       "    </tr>\n",
       "    <tr>\n",
       "      <th>[20, 22)</th>\n",
       "      <td>0</td>\n",
       "      <td>0.000000</td>\n",
       "      <td>16159</td>\n",
       "      <td>1.000000</td>\n",
       "    </tr>\n",
       "    <tr>\n",
       "      <th>[18, 20)</th>\n",
       "      <td>0</td>\n",
       "      <td>0.000000</td>\n",
       "      <td>16159</td>\n",
       "      <td>1.000000</td>\n",
       "    </tr>\n",
       "    <tr>\n",
       "      <th>[16, 18)</th>\n",
       "      <td>0</td>\n",
       "      <td>0.000000</td>\n",
       "      <td>16159</td>\n",
       "      <td>1.000000</td>\n",
       "    </tr>\n",
       "    <tr>\n",
       "      <th>[14, 16)</th>\n",
       "      <td>0</td>\n",
       "      <td>0.000000</td>\n",
       "      <td>16159</td>\n",
       "      <td>1.000000</td>\n",
       "    </tr>\n",
       "  </tbody>\n",
       "</table>\n",
       "</div>"
      ],
      "text/plain": [
       "          Frecuencia Absoluta  Frecuencia Relativa  Frec. Absoluta Acumulada  \\\n",
       "[0, 2)                  16012             0.990903                     16012   \n",
       "[2, 4)                    112             0.006931                     16124   \n",
       "[4, 6)                     20             0.001238                     16144   \n",
       "[8, 10)                     6             0.000371                     16150   \n",
       "[6, 8)                      5             0.000309                     16155   \n",
       "[10, 12)                    2             0.000124                     16157   \n",
       "[28, 30)                    1             0.000062                     16158   \n",
       "[12, 14)                    1             0.000062                     16159   \n",
       "[26, 28)                    0             0.000000                     16159   \n",
       "[24, 26)                    0             0.000000                     16159   \n",
       "[22, 24)                    0             0.000000                     16159   \n",
       "[20, 22)                    0             0.000000                     16159   \n",
       "[18, 20)                    0             0.000000                     16159   \n",
       "[16, 18)                    0             0.000000                     16159   \n",
       "[14, 16)                    0             0.000000                     16159   \n",
       "\n",
       "          Frec. Relativa Acumulada  \n",
       "[0, 2)                    0.990903  \n",
       "[2, 4)                    0.997834  \n",
       "[4, 6)                    0.999072  \n",
       "[8, 10)                   0.999443  \n",
       "[6, 8)                    0.999752  \n",
       "[10, 12)                  0.999876  \n",
       "[28, 30)                  0.999938  \n",
       "[12, 14)                  1.000000  \n",
       "[26, 28)                  1.000000  \n",
       "[24, 26)                  1.000000  \n",
       "[22, 24)                  1.000000  \n",
       "[20, 22)                  1.000000  \n",
       "[18, 20)                  1.000000  \n",
       "[16, 18)                  1.000000  \n",
       "[14, 16)                  1.000000  "
      ]
     },
     "execution_count": 58,
     "metadata": {},
     "output_type": "execute_result"
    }
   ],
   "source": [
    "n_i = counts\n",
    "f_i = n_i/len(VentasEU)\n",
    "N_i=np.cumsum(n_i)\n",
    "F_i=N_i/len(VentasEU)\n",
    "tabla_frecuencias = pd.DataFrame({'Frecuencia Absoluta': n_i, 'Frecuencia Relativa': f_i, 'Frec. Absoluta Acumulada': N_i, 'Frec. Relativa Acumulada': F_i})\n",
    "tabla_frecuencias "
   ]
  },
  {
   "cell_type": "markdown",
   "metadata": {},
   "source": [
    "Ahora probamos el segundo corte:"
   ]
  },
  {
   "cell_type": "code",
   "execution_count": 59,
   "metadata": {},
   "outputs": [
    {
     "data": {
      "text/plain": [
       "array([ 0. ,  0.1,  0.2,  0.5,  1. , 10. , 30. ])"
      ]
     },
     "execution_count": 59,
     "metadata": {},
     "output_type": "execute_result"
    }
   ],
   "source": [
    "cortes2=np.array([0,0.1, 0.2, 0.5, 1, 10, 30])\n",
    "cortes2                 "
   ]
  },
  {
   "cell_type": "code",
   "execution_count": 60,
   "metadata": {},
   "outputs": [
    {
     "data": {
      "text/plain": [
       "0         (10.0, 30.0]\n",
       "1         (10.0, 30.0]\n",
       "2         (10.0, 30.0]\n",
       "3          (1.0, 10.0]\n",
       "4          (1.0, 10.0]\n",
       "             ...      \n",
       "16154    (-0.001, 0.1]\n",
       "16155    (-0.001, 0.1]\n",
       "16156    (-0.001, 0.1]\n",
       "16157    (-0.001, 0.1]\n",
       "16158    (-0.001, 0.1]\n",
       "Name: VentasEU, Length: 16159, dtype: category\n",
       "Categories (6, interval[float64]): [(-0.001, 0.1] < (0.1, 0.2] < (0.2, 0.5] < (0.5, 1.0] < (1.0, 10.0] < (10.0, 30.0]]"
      ]
     },
     "execution_count": 60,
     "metadata": {},
     "output_type": "execute_result"
    }
   ],
   "source": [
    "VentasEU_datos_agrupados_2=pd.cut(\n",
    "    VentasEU,\n",
    "    bins = cortes2,\n",
    "    include_lowest=True\n",
    ")\n",
    "VentasEU_datos_agrupados_2"
   ]
  },
  {
   "cell_type": "code",
   "execution_count": 61,
   "metadata": {},
   "outputs": [
    {
     "data": {
      "text/plain": [
       "(-0.001, 0.1]    12001\n",
       "(0.1, 0.2]        1580\n",
       "(0.2, 0.5]        1531\n",
       "(0.5, 1.0]         590\n",
       "(1.0, 10.0]        453\n",
       "(10.0, 30.0]         4\n",
       "Name: VentasEU, dtype: int64"
      ]
     },
     "execution_count": 61,
     "metadata": {},
     "output_type": "execute_result"
    }
   ],
   "source": [
    "counts =VentasEU_datos_agrupados_2.value_counts()\n",
    "counts"
   ]
  },
  {
   "cell_type": "code",
   "execution_count": 62,
   "metadata": {},
   "outputs": [
    {
     "data": {
      "image/png": "[encoded data removed]",
      "text/plain": [
       "<Figure size 432x288 with 1 Axes>"
      ]
     },
     "metadata": {
      "needs_background": "light"
     },
     "output_type": "display_data"
    }
   ],
   "source": [
    "# Create the bar plot\n",
    "counts.plot(kind='bar')\n",
    "plt.show()"
   ]
  },
  {
   "cell_type": "code",
   "execution_count": 63,
   "metadata": {},
   "outputs": [
    {
     "data": {
      "image/png": "[encoded data removed]",
      "text/plain": [
       "<Figure size 432x288 with 1 Axes>"
      ]
     },
     "metadata": {},
     "output_type": "display_data"
    }
   ],
   "source": [
    "# Diagrama de tarta:\n",
    "plt.pie(counts, labels=counts.index, autopct='%1.1f%%', startangle=90)\n",
    "plt.show()"
   ]
  },
  {
   "cell_type": "code",
   "execution_count": 64,
   "metadata": {},
   "outputs": [
    {
     "data": {
      "text/plain": [
       "(-0.001, 0.1]    267.365555\n",
       "(0.1, 0.2]        35.200198\n",
       "(0.2, 0.5]        34.108546\n",
       "(0.5, 1.0]        13.144378\n",
       "(1.0, 10.0]       10.092209\n",
       "(10.0, 30.0]       0.089114\n",
       "Name: VentasEU, dtype: float64"
      ]
     },
     "execution_count": 64,
     "metadata": {},
     "output_type": "execute_result"
    }
   ],
   "source": [
    "angulos_2=counts/len(VentasEU)*360\n",
    "angulos_2"
   ]
  },
  {
   "cell_type": "markdown",
   "metadata": {},
   "source": [
    "Finalmente, vamos a extraer aquellos valores de VentasEU que son mayores o iguales a 5:"
   ]
  },
  {
   "cell_type": "code",
   "execution_count": 65,
   "metadata": {},
   "outputs": [
    {
     "data": {
      "text/plain": [
       "0      29.02\n",
       "1      12.88\n",
       "2      11.01\n",
       "3       9.23\n",
       "4       9.20\n",
       "5       7.06\n",
       "6      11.00\n",
       "7       7.57\n",
       "8       8.03\n",
       "9       8.59\n",
       "11      9.27\n",
       "14      9.26\n",
       "16      5.31\n",
       "17      5.49\n",
       "20      5.36\n",
       "21      5.09\n",
       "25      5.81\n",
       "26      5.88\n",
       "29      5.82\n",
       "36      5.81\n",
       "68      6.06\n",
       "73      5.05\n",
       "74      6.42\n",
       "124     6.21\n",
       "Name: VentasEU, dtype: float64"
      ]
     },
     "execution_count": 65,
     "metadata": {},
     "output_type": "execute_result"
    }
   ],
   "source": [
    "VentasEU_seleccion = VentasEU[VentasEU >= 5]\n",
    "VentasEU_seleccion"
   ]
  },
  {
   "cell_type": "code",
   "execution_count": 66,
   "metadata": {},
   "outputs": [
    {
     "data": {
      "text/plain": [
       "array([ 5.05,  5.09,  5.31,  5.36,  5.49,  5.81,  5.81,  5.82,  5.88,\n",
       "        6.06,  6.21,  6.42,  7.06,  7.57,  8.03,  8.59,  9.2 ,  9.23,\n",
       "        9.26,  9.27, 11.  , 11.01, 12.88, 29.02])"
      ]
     },
     "execution_count": 66,
     "metadata": {},
     "output_type": "execute_result"
    }
   ],
   "source": [
    "VentasEU_seleccion_ordenado=np.sort(VentasEU_seleccion)\n",
    "VentasEU_seleccion_ordenado"
   ]
  },
  {
   "cell_type": "code",
   "execution_count": null,
   "metadata": {},
   "outputs": [],
   "source": []
  },
  {
   "cell_type": "code",
   "execution_count": null,
   "metadata": {},
   "outputs": [],
   "source": []
  }
 ],
 "metadata": {
  "kernelspec": {
   "display_name": "Python 3",
   "language": "python",
   "name": "python3"
  },
  "language_info": {
   "codemirror_mode": {
    "name": "ipython",
    "version": 3
   },
   "file_extension": ".py",
   "mimetype": "text/x-python",
   "name": "python",
   "nbconvert_exporter": "python",
   "pygments_lexer": "ipython3",
   "version": "3.7.6"
  }
 },
 "nbformat": 4,
 "nbformat_minor": 4
}
