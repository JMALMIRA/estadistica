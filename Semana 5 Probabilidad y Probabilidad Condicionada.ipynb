{
 "cells": [
  {
   "cell_type": "markdown",
   "metadata": {},
   "source": [
    "<h1>Probabilidad y Probabilidad condicionada I </h1>\n",
    "\n",
    "Comenzamos la discusión basándonos en datos reales. Concretamente, tomamos los datos de la Encuesta Social General (General Social Survey, GSS; ver https://gss.norc.org) realizada por una universidad estadounidense, que contiene información sobre una muestra de 49290 sujetos encuestados. \n",
    "\n",
    "Al ser una muestra tan grande, podemos pensar en ella como el total de una población sobre la que deseamos hacernos preguntas y obtener la probabilidad de que un sujeto elegido al azar en dicha población satisfazga ciertas condiciones (relacionadas con el contenido de la encuesta, por supuesto)"
   ]
  },
  {
   "cell_type": "markdown",
   "metadata": {},
   "source": [
    "Lo primero que hacemos es descargar los datos y/o leerlos de un fichero:"
   ]
  },
  {
   "cell_type": "code",
   "execution_count": 1,
   "metadata": {},
   "outputs": [
    {
     "data": {
      "text/html": [
       "<div>\n",
       "<style scoped>\n",
       "    .dataframe tbody tr th:only-of-type {\n",
       "        vertical-align: middle;\n",
       "    }\n",
       "\n",
       "    .dataframe tbody tr th {\n",
       "        vertical-align: top;\n",
       "    }\n",
       "\n",
       "    .dataframe thead th {\n",
       "        text-align: right;\n",
       "    }\n",
       "</style>\n",
       "<table border=\"1\" class=\"dataframe\">\n",
       "  <thead>\n",
       "    <tr style=\"text-align: right;\">\n",
       "      <th></th>\n",
       "      <th>year</th>\n",
       "      <th>age</th>\n",
       "      <th>sex</th>\n",
       "      <th>polviews</th>\n",
       "      <th>partyid</th>\n",
       "      <th>indus10</th>\n",
       "    </tr>\n",
       "    <tr>\n",
       "      <th>caseid</th>\n",
       "      <th></th>\n",
       "      <th></th>\n",
       "      <th></th>\n",
       "      <th></th>\n",
       "      <th></th>\n",
       "      <th></th>\n",
       "    </tr>\n",
       "  </thead>\n",
       "  <tbody>\n",
       "    <tr>\n",
       "      <th>1</th>\n",
       "      <td>1974</td>\n",
       "      <td>21.0</td>\n",
       "      <td>1</td>\n",
       "      <td>4.0</td>\n",
       "      <td>2.0</td>\n",
       "      <td>4970.0</td>\n",
       "    </tr>\n",
       "    <tr>\n",
       "      <th>2</th>\n",
       "      <td>1974</td>\n",
       "      <td>41.0</td>\n",
       "      <td>1</td>\n",
       "      <td>5.0</td>\n",
       "      <td>0.0</td>\n",
       "      <td>9160.0</td>\n",
       "    </tr>\n",
       "    <tr>\n",
       "      <th>5</th>\n",
       "      <td>1974</td>\n",
       "      <td>58.0</td>\n",
       "      <td>2</td>\n",
       "      <td>6.0</td>\n",
       "      <td>1.0</td>\n",
       "      <td>2670.0</td>\n",
       "    </tr>\n",
       "    <tr>\n",
       "      <th>6</th>\n",
       "      <td>1974</td>\n",
       "      <td>30.0</td>\n",
       "      <td>1</td>\n",
       "      <td>5.0</td>\n",
       "      <td>4.0</td>\n",
       "      <td>6870.0</td>\n",
       "    </tr>\n",
       "    <tr>\n",
       "      <th>7</th>\n",
       "      <td>1974</td>\n",
       "      <td>48.0</td>\n",
       "      <td>1</td>\n",
       "      <td>5.0</td>\n",
       "      <td>4.0</td>\n",
       "      <td>7860.0</td>\n",
       "    </tr>\n",
       "    <tr>\n",
       "      <th>...</th>\n",
       "      <td>...</td>\n",
       "      <td>...</td>\n",
       "      <td>...</td>\n",
       "      <td>...</td>\n",
       "      <td>...</td>\n",
       "      <td>...</td>\n",
       "    </tr>\n",
       "    <tr>\n",
       "      <th>2863</th>\n",
       "      <td>2016</td>\n",
       "      <td>57.0</td>\n",
       "      <td>2</td>\n",
       "      <td>1.0</td>\n",
       "      <td>0.0</td>\n",
       "      <td>7490.0</td>\n",
       "    </tr>\n",
       "    <tr>\n",
       "      <th>2864</th>\n",
       "      <td>2016</td>\n",
       "      <td>77.0</td>\n",
       "      <td>1</td>\n",
       "      <td>6.0</td>\n",
       "      <td>7.0</td>\n",
       "      <td>3590.0</td>\n",
       "    </tr>\n",
       "    <tr>\n",
       "      <th>2865</th>\n",
       "      <td>2016</td>\n",
       "      <td>87.0</td>\n",
       "      <td>2</td>\n",
       "      <td>4.0</td>\n",
       "      <td>5.0</td>\n",
       "      <td>770.0</td>\n",
       "    </tr>\n",
       "    <tr>\n",
       "      <th>2866</th>\n",
       "      <td>2016</td>\n",
       "      <td>55.0</td>\n",
       "      <td>2</td>\n",
       "      <td>5.0</td>\n",
       "      <td>5.0</td>\n",
       "      <td>8680.0</td>\n",
       "    </tr>\n",
       "    <tr>\n",
       "      <th>2867</th>\n",
       "      <td>2016</td>\n",
       "      <td>72.0</td>\n",
       "      <td>1</td>\n",
       "      <td>5.0</td>\n",
       "      <td>3.0</td>\n",
       "      <td>5170.0</td>\n",
       "    </tr>\n",
       "  </tbody>\n",
       "</table>\n",
       "<p>49290 rows × 6 columns</p>\n",
       "</div>"
      ],
      "text/plain": [
       "        year   age  sex  polviews  partyid  indus10\n",
       "caseid                                             \n",
       "1       1974  21.0    1       4.0      2.0   4970.0\n",
       "2       1974  41.0    1       5.0      0.0   9160.0\n",
       "5       1974  58.0    2       6.0      1.0   2670.0\n",
       "6       1974  30.0    1       5.0      4.0   6870.0\n",
       "7       1974  48.0    1       5.0      4.0   7860.0\n",
       "...      ...   ...  ...       ...      ...      ...\n",
       "2863    2016  57.0    2       1.0      0.0   7490.0\n",
       "2864    2016  77.0    1       6.0      7.0   3590.0\n",
       "2865    2016  87.0    2       4.0      5.0    770.0\n",
       "2866    2016  55.0    2       5.0      5.0   8680.0\n",
       "2867    2016  72.0    1       5.0      3.0   5170.0\n",
       "\n",
       "[49290 rows x 6 columns]"
      ]
     },
     "execution_count": 1,
     "metadata": {},
     "output_type": "execute_result"
    }
   ],
   "source": [
    "# download('https://github.com/AllenDowney/BiteSizeBayes/raw/master/gss_bayes.csv')\n",
    "## Tb conviene mirar: \n",
    "### https://nbviewer.org/github/AllenDowney/BiteSizeBayes/blob/master/01_linda.ipynb\n",
    "\n",
    "import pandas as pd\n",
    "import numpy as np\n",
    "gss = pd.read_csv('gss_bayes.csv', index_col=0) \n",
    "gss"
   ]
  },
  {
   "cell_type": "code",
   "execution_count": 2,
   "metadata": {},
   "outputs": [
    {
     "name": "stdout",
     "output_type": "stream",
     "text": [
      "<class 'pandas.core.frame.DataFrame'>\n",
      "Int64Index: 49290 entries, 1 to 2867\n",
      "Data columns (total 6 columns):\n",
      " #   Column    Non-Null Count  Dtype  \n",
      "---  ------    --------------  -----  \n",
      " 0   year      49290 non-null  int64  \n",
      " 1   age       49290 non-null  float64\n",
      " 2   sex       49290 non-null  int64  \n",
      " 3   polviews  49290 non-null  float64\n",
      " 4   partyid   49290 non-null  float64\n",
      " 5   indus10   49290 non-null  float64\n",
      "dtypes: float64(4), int64(2)\n",
      "memory usage: 2.6 MB\n"
     ]
    }
   ],
   "source": [
    "gss.info()"
   ]
  },
  {
   "cell_type": "markdown",
   "metadata": {},
   "source": [
    "Las variables medidas son:\n",
    "\n",
    "* caseid: ID del encuestado (que es el índice de la tabla). • year: Año en el que se encuestó al encuestado.\n",
    "* age: Edad del encuestado en el momento de la encuesta.\n",
    "* sex: Masculino o femenino.\n",
    "* polviews: Opiniones políticas que van desde liberales hasta conservadoras.\n",
    "* partyid: Afiliación a un partido político: Demócrata, Republicano o independiente. \n",
    "* indus10: Código de la industria en la que trabaja el encuestado.\n",
    "\n",
    "Por ejemplo, los valores de la variable \"polviews\" (opiniones políticas) se expresan en una escala de siete puntos:\n",
    "\n",
    "* 1 Extremadamente liberal\n",
    "* 2 Liberal\n",
    "* 3 Ligeramente liberal\n",
    "* 4 Moderado\n",
    "* 5 Ligeramente conservador\n",
    "* 6 Conservador\n",
    "* 7 Extremadamente conservador\n",
    "\n",
    "Y la variable \"sex\" toma los valores $1,2$:\n",
    "\n",
    "* 1 Hombre\n",
    "* 2 Mujer\n",
    "\n",
    "En el caso de \"indus10\", cada profesión tiene un código específico. En la documentación asociada a la base de datos podemos encontrar todos estos códigos de forma explícita. Por ejemplo,  \n",
    "\n",
    "* 6870 trabajador de la banca \n",
    "* 3790 edificios prefabricados de madera y casas móviles\n",
    "* 4070 vehículos de motor, piezas y suministros, comerciantes mayoristas\n",
    "\n",
    "Los valores de \"partyid\" se codifican de la siguiente manera:\n",
    "\n",
    "* 0 Demócrata fuerte\n",
    "* 1 No es un demócrata fuerte\n",
    "* 2 Independiente, casi demócrata\n",
    "* 3 Independiente\n",
    "* 4 Independiente, casi republicano\n",
    "* 5 No es un republicano fuerte\n",
    "* 6 Republicano fuerte\n",
    "* 7 Otro partido"
   ]
  },
  {
   "cell_type": "markdown",
   "metadata": {},
   "source": [
    "<h3> Definiendo la probabilidad </h3>\n",
    "\n",
    "Como los datos se han tomado con una muestra muy grande (casi 50000 sujetos encuestados), podemos asumir que la proporción de sujetos que poseen una propiedad A (por ejemplo, ser mujer, o ser un bamcario, o trabajar en la industria de los vehículos de motor), representa la probabilidad de tener esa propiedad si tomamos un sujeto al azar en la población. \n",
    "Por ejemplo, la probabilidad de ser bancario en esa población es  calculada del siguiente modo:"
   ]
  },
  {
   "cell_type": "code",
   "execution_count": 3,
   "metadata": {},
   "outputs": [
    {
     "data": {
      "text/plain": [
       "caseid\n",
       "1    False\n",
       "2    False\n",
       "5    False\n",
       "6     True\n",
       "7    False\n",
       "Name: indus10, dtype: bool"
      ]
     },
     "execution_count": 3,
     "metadata": {},
     "output_type": "execute_result"
    }
   ],
   "source": [
    "# Generamos una lista con todos los individuos. \n",
    "# En cada uno de ellos comprobamos si el sujeto trabaja en la banca. \n",
    "# Si es así, ponemos True, si no, ponemos False\n",
    "\n",
    "bancario = (gss['indus10'] == 6870) \n",
    "bancario.head()"
   ]
  },
  {
   "cell_type": "code",
   "execution_count": 4,
   "metadata": {},
   "outputs": [
    {
     "data": {
      "text/plain": [
       "728"
      ]
     },
     "execution_count": 4,
     "metadata": {},
     "output_type": "execute_result"
    }
   ],
   "source": [
    "# Con la siguiente orden contamos las veces que apareció True (True vale 1 y False vale 0)\n",
    "bancario.sum()"
   ]
  },
  {
   "cell_type": "code",
   "execution_count": 5,
   "metadata": {},
   "outputs": [
    {
     "data": {
      "text/plain": [
       "0.014769730168391155"
      ]
     },
     "execution_count": 5,
     "metadata": {},
     "output_type": "execute_result"
    }
   ],
   "source": [
    "# La probabilidad es, por tanto:\n",
    "bancario.mean()"
   ]
  },
  {
   "cell_type": "code",
   "execution_count": 6,
   "metadata": {},
   "outputs": [
    {
     "data": {
      "text/plain": [
       "0.014769730168391155"
      ]
     },
     "execution_count": 6,
     "metadata": {},
     "output_type": "execute_result"
    }
   ],
   "source": [
    "# Otra forma de calcularla es:\n",
    "np.mean(bancario)"
   ]
  },
  {
   "cell_type": "markdown",
   "metadata": {},
   "source": [
    "Con la siguiente función, podemos calcular la probabilidad de cualquier propiedad A que deseemos estudiar. "
   ]
  },
  {
   "cell_type": "code",
   "execution_count": 7,
   "metadata": {},
   "outputs": [],
   "source": [
    "def prob(A):\n",
    "## Computes the probability of a proposition, A.\n",
    "## Note that A must be a sequence of booleans\n",
    "    return A.mean()"
   ]
  },
  {
   "cell_type": "code",
   "execution_count": 8,
   "metadata": {},
   "outputs": [
    {
     "data": {
      "text/plain": [
       "0.014769730168391155"
      ]
     },
     "execution_count": 8,
     "metadata": {},
     "output_type": "execute_result"
    }
   ],
   "source": [
    "prob(bancario)"
   ]
  },
  {
   "cell_type": "markdown",
   "metadata": {},
   "source": [
    "Análogamente, podemos identificar a las mujeres como aquellos sujetos encuestados que en la variable \"sex\" tienen anotado un 2. A partir de ahí, podemos hallar la probabilidad de ser mujer:"
   ]
  },
  {
   "cell_type": "code",
   "execution_count": 9,
   "metadata": {},
   "outputs": [
    {
     "data": {
      "text/plain": [
       "0.5378575776019476"
      ]
     },
     "execution_count": 9,
     "metadata": {},
     "output_type": "execute_result"
    }
   ],
   "source": [
    "mujer = (gss['sex'] == 2)\n",
    "prob(mujer)"
   ]
  },
  {
   "cell_type": "markdown",
   "metadata": {},
   "source": [
    "Este resultado podría parecer extraño, pero es que el informe GSS no incluye a personas que viven en instituciones como, por ejemplo, prisiones. En este tipo de instituiciones suele haber más hombres que mujeres, por eso se están descartando muchos hombres del informe y por eso la probabilidad de ser mujer parece un tanto excesiva."
   ]
  },
  {
   "cell_type": "markdown",
   "metadata": {},
   "source": [
    "Calculemos ahora la probabilidad de ser mujer y trabajar en el sector bancario (ambas cosas a la vez): "
   ]
  },
  {
   "cell_type": "code",
   "execution_count": 10,
   "metadata": {},
   "outputs": [
    {
     "data": {
      "text/plain": [
       "0.011381618989653074"
      ]
     },
     "execution_count": 10,
     "metadata": {},
     "output_type": "execute_result"
    }
   ],
   "source": [
    "prob(mujer & bancario)"
   ]
  },
  {
   "cell_type": "markdown",
   "metadata": {},
   "source": [
    "Y ahora obtengamos la probabilidad de que alguna de las dos condiciones se de:"
   ]
  },
  {
   "cell_type": "code",
   "execution_count": 11,
   "metadata": {},
   "outputs": [
    {
     "data": {
      "text/plain": [
       "0.5412456887806857"
      ]
     },
     "execution_count": 11,
     "metadata": {},
     "output_type": "execute_result"
    }
   ],
   "source": [
    "prob(mujer | bancario)"
   ]
  },
  {
   "cell_type": "markdown",
   "metadata": {},
   "source": [
    "Con respecto a las opiniones (o inclinaciones) políticas, a la vista de lo etiquetado en la variable \"polviews\", podríamos definir una persona liberal como aquella cuya etiqueta es a lo sumo 3 (es decir, incluimos los etiquetados como extremadamente liberales, los liberales y los moderadamente liberales): "
   ]
  },
  {
   "cell_type": "code",
   "execution_count": 12,
   "metadata": {},
   "outputs": [
    {
     "data": {
      "text/plain": [
       "0.27374721038750255"
      ]
     },
     "execution_count": 12,
     "metadata": {},
     "output_type": "execute_result"
    }
   ],
   "source": [
    "liberal = (gss['polviews'] <= 3) \n",
    "prob(liberal)"
   ]
  },
  {
   "cell_type": "markdown",
   "metadata": {},
   "source": [
    "Algo similar podemos hacer con los demócratas:"
   ]
  },
  {
   "cell_type": "code",
   "execution_count": 13,
   "metadata": {},
   "outputs": [
    {
     "data": {
      "text/plain": [
       "0.3662609048488537"
      ]
     },
     "execution_count": 13,
     "metadata": {},
     "output_type": "execute_result"
    }
   ],
   "source": [
    "democrata= (gss['partyid']<=1)\n",
    "prob(democrata)"
   ]
  },
  {
   "cell_type": "markdown",
   "metadata": {},
   "source": [
    "<h4>Probabilidad condicional</h4>\n",
    "Supongamos que deseamos conocer la probabilidad de que alguien que sabemos es un bancario (trabaja en banca), sea mujer. ¿Cómo lo hacemos?"
   ]
  },
  {
   "cell_type": "code",
   "execution_count": 14,
   "metadata": {},
   "outputs": [
    {
     "data": {
      "text/plain": [
       "0.7706043956043956"
      ]
     },
     "execution_count": 14,
     "metadata": {},
     "output_type": "execute_result"
    }
   ],
   "source": [
    "seleccion = mujer[bancario] # De entre los bancarios, seleccionamos las mujeres. \n",
    "# (Como conjunto, coincide con bancario & mujer)\n",
    "prob(seleccion) \n",
    "# Obsérvese que al hacer la media en prob(), dividimos por el total de bancarios \n",
    "# (no por el total de encuestados). \n",
    "# Esa es la diferencia con prob(mujer & bancario), donde dividimos por el total de encuestados"
   ]
  },
  {
   "cell_type": "code",
   "execution_count": 15,
   "metadata": {},
   "outputs": [
    {
     "data": {
      "text/plain": [
       "0.7706043956043956"
      ]
     },
     "execution_count": 15,
     "metadata": {},
     "output_type": "execute_result"
    }
   ],
   "source": [
    "# De hecho, el cálculo siguiente da lo mismo:\n",
    "mujer[bancario].sum()/bancario.sum()"
   ]
  },
  {
   "cell_type": "code",
   "execution_count": 16,
   "metadata": {},
   "outputs": [],
   "source": [
    "def conditional(proposicion, dado_que): \n",
    "    return proposicion[dado_que].sum()/dado_que.sum()"
   ]
  },
  {
   "cell_type": "code",
   "execution_count": 17,
   "metadata": {},
   "outputs": [
    {
     "data": {
      "text/plain": [
       "0.7706043956043956"
      ]
     },
     "execution_count": 17,
     "metadata": {},
     "output_type": "execute_result"
    }
   ],
   "source": [
    "conditional(mujer, bancario)"
   ]
  },
  {
   "cell_type": "markdown",
   "metadata": {},
   "source": [
    "Si queremos resaltar cual es la condición que se asume (para evitar errores de interpretación), podemos hacer lo siguiente: "
   ]
  },
  {
   "cell_type": "code",
   "execution_count": 18,
   "metadata": {},
   "outputs": [
    {
     "data": {
      "text/plain": [
       "0.7706043956043956"
      ]
     },
     "execution_count": 18,
     "metadata": {},
     "output_type": "execute_result"
    }
   ],
   "source": [
    "conditional(mujer, dado_que=bancario)"
   ]
  },
  {
   "cell_type": "code",
   "execution_count": 19,
   "metadata": {},
   "outputs": [
    {
     "data": {
      "text/plain": [
       "0.02116102749801969"
      ]
     },
     "execution_count": 19,
     "metadata": {},
     "output_type": "execute_result"
    }
   ],
   "source": [
    "conditional(bancario,mujer)"
   ]
  },
  {
   "cell_type": "markdown",
   "metadata": {},
   "source": [
    "O, si queremos resaltar cual es la condición que se asume: "
   ]
  },
  {
   "cell_type": "code",
   "execution_count": 20,
   "metadata": {},
   "outputs": [
    {
     "data": {
      "text/plain": [
       "0.02116102749801969"
      ]
     },
     "execution_count": 20,
     "metadata": {},
     "output_type": "execute_result"
    }
   ],
   "source": [
    "conditional(bancario,dado_que=mujer)"
   ]
  },
  {
   "cell_type": "markdown",
   "metadata": {},
   "source": [
    "<font color=\"red\"> <h3> Algunos ejercicios sencillos</h3>\n",
    " Con los datos del cuestionario GSS,  calcula:\n",
    "* Probabilidad de trabajar en el sector de edificios prefabricados de madera y casas móviles (3790)\n",
    "* Lo mismo, pero en el sector de vehículos de motor, piezas y suministros, comerciantes mayoristas (4070)\n",
    "* Probabilidad de que una mujer sea liberal\n",
    "* Probabilidad de que un demócrata sea varón\n",
    "* Probabilidad de que un Independiente, casi republicano, sea en realidad liberal  </font>"
   ]
  },
  {
   "cell_type": "markdown",
   "metadata": {},
   "source": [
    "<h3> Otro ejemplo: a vueltas con el Titanic </h3>\n"
   ]
  },
  {
   "cell_type": "markdown",
   "metadata": {},
   "source": [
    "Retomemos los datos que se usaron en clases anteriores sobre los fallecidos en el Titanic. "
   ]
  },
  {
   "cell_type": "code",
   "execution_count": 21,
   "metadata": {},
   "outputs": [
    {
     "data": {
      "text/html": [
       "<div>\n",
       "<style scoped>\n",
       "    .dataframe tbody tr th:only-of-type {\n",
       "        vertical-align: middle;\n",
       "    }\n",
       "\n",
       "    .dataframe tbody tr th {\n",
       "        vertical-align: top;\n",
       "    }\n",
       "\n",
       "    .dataframe thead th {\n",
       "        text-align: right;\n",
       "    }\n",
       "</style>\n",
       "<table border=\"1\" class=\"dataframe\">\n",
       "  <thead>\n",
       "    <tr style=\"text-align: right;\">\n",
       "      <th>Desenlace</th>\n",
       "      <th>Fallecido</th>\n",
       "      <th>Superviviente</th>\n",
       "      <th>Total</th>\n",
       "    </tr>\n",
       "    <tr>\n",
       "      <th>Pasaje</th>\n",
       "      <th></th>\n",
       "      <th></th>\n",
       "      <th></th>\n",
       "    </tr>\n",
       "  </thead>\n",
       "  <tbody>\n",
       "    <tr>\n",
       "      <th>Primera Clase</th>\n",
       "      <td>122</td>\n",
       "      <td>203</td>\n",
       "      <td>325</td>\n",
       "    </tr>\n",
       "    <tr>\n",
       "      <th>Segunda Clase</th>\n",
       "      <td>167</td>\n",
       "      <td>118</td>\n",
       "      <td>285</td>\n",
       "    </tr>\n",
       "    <tr>\n",
       "      <th>Tercera Clase</th>\n",
       "      <td>528</td>\n",
       "      <td>178</td>\n",
       "      <td>706</td>\n",
       "    </tr>\n",
       "    <tr>\n",
       "      <th>Tripulación</th>\n",
       "      <td>673</td>\n",
       "      <td>212</td>\n",
       "      <td>885</td>\n",
       "    </tr>\n",
       "    <tr>\n",
       "      <th>Total</th>\n",
       "      <td>1490</td>\n",
       "      <td>711</td>\n",
       "      <td>2201</td>\n",
       "    </tr>\n",
       "  </tbody>\n",
       "</table>\n",
       "</div>"
      ],
      "text/plain": [
       "Desenlace      Fallecido  Superviviente  Total\n",
       "Pasaje                                        \n",
       "Primera Clase        122            203    325\n",
       "Segunda Clase        167            118    285\n",
       "Tercera Clase        528            178    706\n",
       "Tripulación          673            212    885\n",
       "Total               1490            711   2201"
      ]
     },
     "execution_count": 21,
     "metadata": {},
     "output_type": "execute_result"
    }
   ],
   "source": [
    "Pasaje=[\"Primera Clase\"]*203+[\"Primera Clase\"]*122+[\"Segunda Clase\"]*118+[\"Segunda Clase\"]*167+[\"Tercera Clase\"]*178+[\"Tercera Clase\"]*528+[\"Tripulación\"]*212+[\"Tripulación\"]*673\n",
    "Desenlace=[\"Superviviente\"]*203+[\"Fallecido\"]*122+[\"Superviviente\"]*118+[\"Fallecido\"]*167+[\"Superviviente\"]*178+[\"Fallecido\"]*528+[\"Superviviente\"]*212+[\"Fallecido\"]*673\n",
    "df =pd.DataFrame({'Pasaje':Pasaje,'Desenlace': Desenlace})\n",
    "pd.crosstab(df['Pasaje'],df['Desenlace'], margins_name='Total',margins=True)"
   ]
  },
  {
   "cell_type": "markdown",
   "metadata": {},
   "source": [
    "De nuevo, si interpretamos que los pasajeros del Titanic son toda la población y elegimos uno al azar, podemos hacer todo tipo de preguntas sobre probabilidades, que pueden resolverse mirando las correspondientes tablas de contingencia. Lo hacemos aquí de los dos modos: Mirando la tabla de contingencia y ccalculando las probabilidades tal como hicimos antes.\n",
    "\n",
    "Por ejemplo, la probabilidad de ser pasajero de Primera Clase es:"
   ]
  },
  {
   "cell_type": "code",
   "execution_count": 22,
   "metadata": {},
   "outputs": [
    {
     "data": {
      "text/plain": [
       "0.14766015447523853"
      ]
     },
     "execution_count": 22,
     "metadata": {},
     "output_type": "execute_result"
    }
   ],
   "source": [
    "325/2201"
   ]
  },
  {
   "cell_type": "markdown",
   "metadata": {},
   "source": [
    "Obsérvese que este valor coincide con mirar la correspondiente entrada en la tabla de contingencia normalizada:"
   ]
  },
  {
   "cell_type": "code",
   "execution_count": 23,
   "metadata": {},
   "outputs": [
    {
     "data": {
      "text/html": [
       "<div>\n",
       "<style scoped>\n",
       "    .dataframe tbody tr th:only-of-type {\n",
       "        vertical-align: middle;\n",
       "    }\n",
       "\n",
       "    .dataframe tbody tr th {\n",
       "        vertical-align: top;\n",
       "    }\n",
       "\n",
       "    .dataframe thead th {\n",
       "        text-align: right;\n",
       "    }\n",
       "</style>\n",
       "<table border=\"1\" class=\"dataframe\">\n",
       "  <thead>\n",
       "    <tr style=\"text-align: right;\">\n",
       "      <th>Desenlace</th>\n",
       "      <th>Fallecido</th>\n",
       "      <th>Superviviente</th>\n",
       "      <th>Total</th>\n",
       "    </tr>\n",
       "    <tr>\n",
       "      <th>Pasaje</th>\n",
       "      <th></th>\n",
       "      <th></th>\n",
       "      <th></th>\n",
       "    </tr>\n",
       "  </thead>\n",
       "  <tbody>\n",
       "    <tr>\n",
       "      <th>Primera Clase</th>\n",
       "      <td>0.055429</td>\n",
       "      <td>0.092231</td>\n",
       "      <td>0.147660</td>\n",
       "    </tr>\n",
       "    <tr>\n",
       "      <th>Segunda Clase</th>\n",
       "      <td>0.075875</td>\n",
       "      <td>0.053612</td>\n",
       "      <td>0.129487</td>\n",
       "    </tr>\n",
       "    <tr>\n",
       "      <th>Tercera Clase</th>\n",
       "      <td>0.239891</td>\n",
       "      <td>0.080872</td>\n",
       "      <td>0.320763</td>\n",
       "    </tr>\n",
       "    <tr>\n",
       "      <th>Tripulación</th>\n",
       "      <td>0.305770</td>\n",
       "      <td>0.096320</td>\n",
       "      <td>0.402090</td>\n",
       "    </tr>\n",
       "    <tr>\n",
       "      <th>Total</th>\n",
       "      <td>0.676965</td>\n",
       "      <td>0.323035</td>\n",
       "      <td>1.000000</td>\n",
       "    </tr>\n",
       "  </tbody>\n",
       "</table>\n",
       "</div>"
      ],
      "text/plain": [
       "Desenlace      Fallecido  Superviviente     Total\n",
       "Pasaje                                           \n",
       "Primera Clase   0.055429       0.092231  0.147660\n",
       "Segunda Clase   0.075875       0.053612  0.129487\n",
       "Tercera Clase   0.239891       0.080872  0.320763\n",
       "Tripulación     0.305770       0.096320  0.402090\n",
       "Total           0.676965       0.323035  1.000000"
      ]
     },
     "execution_count": 23,
     "metadata": {},
     "output_type": "execute_result"
    }
   ],
   "source": [
    "TC=pd.crosstab(df['Pasaje'],df['Desenlace'], margins_name='Total',margins=True,normalize=True)\n",
    "TC"
   ]
  },
  {
   "cell_type": "markdown",
   "metadata": {},
   "source": [
    "Pero también podríamos haberlo calculado así:"
   ]
  },
  {
   "cell_type": "code",
   "execution_count": 24,
   "metadata": {},
   "outputs": [
    {
     "data": {
      "text/plain": [
       "0.14766015447523853"
      ]
     },
     "execution_count": 24,
     "metadata": {},
     "output_type": "execute_result"
    }
   ],
   "source": [
    "C1 = (df['Pasaje']=='Primera Clase')\n",
    "prob(C1)"
   ]
  },
  {
   "cell_type": "markdown",
   "metadata": {},
   "source": [
    "De forma similar, podemos afirmar que la probabilidad de sobrevivir es (este valor también aparece en la tabla de contingencia):"
   ]
  },
  {
   "cell_type": "code",
   "execution_count": 25,
   "metadata": {},
   "outputs": [
    {
     "data": {
      "text/plain": [
       "0.3230349840981372"
      ]
     },
     "execution_count": 25,
     "metadata": {},
     "output_type": "execute_result"
    }
   ],
   "source": [
    "711/2201"
   ]
  },
  {
   "cell_type": "markdown",
   "metadata": {},
   "source": [
    "O, también:"
   ]
  },
  {
   "cell_type": "code",
   "execution_count": 26,
   "metadata": {},
   "outputs": [
    {
     "data": {
      "text/plain": [
       "0.3230349840981372"
      ]
     },
     "execution_count": 26,
     "metadata": {},
     "output_type": "execute_result"
    }
   ],
   "source": [
    "superv = (df['Desenlace']=='Superviviente')\n",
    "prob(superv)"
   ]
  },
  {
   "cell_type": "markdown",
   "metadata": {},
   "source": [
    "Veamos ahora algunas probabilidades condicionadas. Comenzamos con la tabla de contingencia condicionada por columnas:"
   ]
  },
  {
   "cell_type": "code",
   "execution_count": 27,
   "metadata": {},
   "outputs": [
    {
     "data": {
      "text/html": [
       "<div>\n",
       "<style scoped>\n",
       "    .dataframe tbody tr th:only-of-type {\n",
       "        vertical-align: middle;\n",
       "    }\n",
       "\n",
       "    .dataframe tbody tr th {\n",
       "        vertical-align: top;\n",
       "    }\n",
       "\n",
       "    .dataframe thead th {\n",
       "        text-align: right;\n",
       "    }\n",
       "</style>\n",
       "<table border=\"1\" class=\"dataframe\">\n",
       "  <thead>\n",
       "    <tr style=\"text-align: right;\">\n",
       "      <th>Desenlace</th>\n",
       "      <th>Fallecido</th>\n",
       "      <th>Superviviente</th>\n",
       "    </tr>\n",
       "    <tr>\n",
       "      <th>Pasaje</th>\n",
       "      <th></th>\n",
       "      <th></th>\n",
       "    </tr>\n",
       "  </thead>\n",
       "  <tbody>\n",
       "    <tr>\n",
       "      <th>Primera Clase</th>\n",
       "      <td>0.081879</td>\n",
       "      <td>0.285513</td>\n",
       "    </tr>\n",
       "    <tr>\n",
       "      <th>Segunda Clase</th>\n",
       "      <td>0.112081</td>\n",
       "      <td>0.165963</td>\n",
       "    </tr>\n",
       "    <tr>\n",
       "      <th>Tercera Clase</th>\n",
       "      <td>0.354362</td>\n",
       "      <td>0.250352</td>\n",
       "    </tr>\n",
       "    <tr>\n",
       "      <th>Tripulación</th>\n",
       "      <td>0.451678</td>\n",
       "      <td>0.298172</td>\n",
       "    </tr>\n",
       "  </tbody>\n",
       "</table>\n",
       "</div>"
      ],
      "text/plain": [
       "Desenlace      Fallecido  Superviviente\n",
       "Pasaje                                 \n",
       "Primera Clase   0.081879       0.285513\n",
       "Segunda Clase   0.112081       0.165963\n",
       "Tercera Clase   0.354362       0.250352\n",
       "Tripulación     0.451678       0.298172"
      ]
     },
     "execution_count": 27,
     "metadata": {},
     "output_type": "execute_result"
    }
   ],
   "source": [
    "TCM1=pd.crosstab(df['Pasaje'],df['Desenlace'],normalize='columns')\n",
    "TCM1"
   ]
  },
  {
   "cell_type": "markdown",
   "metadata": {},
   "source": [
    "Esta tabla indica que, por ejemplo, la probabilidad de pertenecer a Primera Clase sabiendo que has sobrevivido, es 0.285513. También podemos calcularla directamente:"
   ]
  },
  {
   "cell_type": "code",
   "execution_count": 28,
   "metadata": {},
   "outputs": [
    {
     "data": {
      "text/plain": [
       "0.28551336146272854"
      ]
     },
     "execution_count": 28,
     "metadata": {},
     "output_type": "execute_result"
    }
   ],
   "source": [
    "conditional(C1,dado_que=superv) "
   ]
  },
  {
   "cell_type": "markdown",
   "metadata": {},
   "source": [
    "Análogamente, la tabla de contingencia condicionada por filas nos dice que la probabilidad de sobrevivir sabiendo que estamos en Primera Clase es 0.624615 (ver la tabla):"
   ]
  },
  {
   "cell_type": "code",
   "execution_count": 29,
   "metadata": {},
   "outputs": [
    {
     "data": {
      "text/html": [
       "<div>\n",
       "<style scoped>\n",
       "    .dataframe tbody tr th:only-of-type {\n",
       "        vertical-align: middle;\n",
       "    }\n",
       "\n",
       "    .dataframe tbody tr th {\n",
       "        vertical-align: top;\n",
       "    }\n",
       "\n",
       "    .dataframe thead th {\n",
       "        text-align: right;\n",
       "    }\n",
       "</style>\n",
       "<table border=\"1\" class=\"dataframe\">\n",
       "  <thead>\n",
       "    <tr style=\"text-align: right;\">\n",
       "      <th>Desenlace</th>\n",
       "      <th>Fallecido</th>\n",
       "      <th>Superviviente</th>\n",
       "    </tr>\n",
       "    <tr>\n",
       "      <th>Pasaje</th>\n",
       "      <th></th>\n",
       "      <th></th>\n",
       "    </tr>\n",
       "  </thead>\n",
       "  <tbody>\n",
       "    <tr>\n",
       "      <th>Primera Clase</th>\n",
       "      <td>0.375385</td>\n",
       "      <td>0.624615</td>\n",
       "    </tr>\n",
       "    <tr>\n",
       "      <th>Segunda Clase</th>\n",
       "      <td>0.585965</td>\n",
       "      <td>0.414035</td>\n",
       "    </tr>\n",
       "    <tr>\n",
       "      <th>Tercera Clase</th>\n",
       "      <td>0.747875</td>\n",
       "      <td>0.252125</td>\n",
       "    </tr>\n",
       "    <tr>\n",
       "      <th>Tripulación</th>\n",
       "      <td>0.760452</td>\n",
       "      <td>0.239548</td>\n",
       "    </tr>\n",
       "  </tbody>\n",
       "</table>\n",
       "</div>"
      ],
      "text/plain": [
       "Desenlace      Fallecido  Superviviente\n",
       "Pasaje                                 \n",
       "Primera Clase   0.375385       0.624615\n",
       "Segunda Clase   0.585965       0.414035\n",
       "Tercera Clase   0.747875       0.252125\n",
       "Tripulación     0.760452       0.239548"
      ]
     },
     "execution_count": 29,
     "metadata": {},
     "output_type": "execute_result"
    }
   ],
   "source": [
    "TCM2=pd.crosstab(df['Pasaje'],df['Desenlace'], margins_name='Total',normalize='index')\n",
    "TCM2"
   ]
  },
  {
   "cell_type": "markdown",
   "metadata": {},
   "source": [
    "En efecto:"
   ]
  },
  {
   "cell_type": "code",
   "execution_count": 30,
   "metadata": {},
   "outputs": [
    {
     "data": {
      "text/plain": [
       "0.6246153846153846"
      ]
     },
     "execution_count": 30,
     "metadata": {},
     "output_type": "execute_result"
    }
   ],
   "source": [
    "conditional(superv,dado_que=C1) ## Dado que es de primera clase, probabilidad de sobrevivir"
   ]
  },
  {
   "cell_type": "markdown",
   "metadata": {},
   "source": [
    "<h2> Un poco de teoría</h2>\n",
    "\n",
    "En todo lo anterior, hemos tratado la probabilidad de un suceso $A$ como una frecuencia. Concretamente, hemos asumido que tenemos una población finita y que al observar una característica, la probabilidad de que un individuo \"elegido al azar\" tenga dicha característica coincide con la frecuencia con la que esa caracteristica aparece:\n",
    "\n",
    "$$ P(A)= \\frac{\\#\\{\\text{Individuos que tienen la propiedad A}\\}}{\\#\\{\\text{Total de individuos}\\}}$$\n",
    "\n",
    "En realidad, esto es sencillamente <strong> una forma concreta de definir el azar </strong>. En esta forma concreta hemos asumido que <strong>todos los sujetos tienen la misma probabilidad de ser elegidos</strong>. Se dice que el experimento que estamos realizando -o, si se quiere, el espacio de probabilidad que estamos definiendo- es <strong> Laplaciano</strong> (en honor al matemático francés Laplace). \n",
    "\n",
    "Es evidente que hay muchas situaciones en las que no todos los sucesos elementales de un experimento aleatorio tienen la misma probabilidad. (Por ejemplo, sacar una bola roja de una urna que contiene 3 bolas rojas y 5 blancas, todas idénticas excepto por el color, debe tener una probabilidad diferente de sacar una bola blanca. Si el suceso elemental es \"qué bola concreta sacamos, independientemente del color\", los sucesos son equiprobables, y eso nos permite decir que $P(blanca)=5/8$ pero $P(roja)=3/8$. Pero si el resultado elemental del experimento es sencillamente el color de la bola, entonces los sucesos elementales tienen probabilidades distintas (5/8 y 3/8, respectivamente). Entonces, ¿cuál es la definición general de probabilidad? "
   ]
  },
  {
   "cell_type": "markdown",
   "metadata": {},
   "source": [
    "<h3> Posibles definiciones de la probabilidad $P(A)$ </h3>\n",
    "\n",
    "* La primera opción es la del Experimento Laplaciano. En ese caso, todos los sucesos elementales tienen identica probabilidad y basta mirar la frecuencia con la que se satisface la propiedad $A$.\n",
    "\n",
    "* Si no asumimos un experimento Laplaciano (por ejemplo, porque hay infinitos sucesos elementales), debemos decidir qué significa $P(A)$.  \n",
    "\n",
    "\n",
    "La solución más directa, y la que menos preocupaciones genera, es sencillamente asumir una definición axiomática de lo que entendemos por \" medida de probabilidad \" o, sencillamente, proabilidad. Se trata de ignorar los aspectos filosóficos del asunto y ceñirnos a una definición matemática precisa. Una probabilidad es una función definida sobre cierto espacio (de sucesos o eventos) que tiene ciertas propiedades, y ya está. Cada vez que definamos una de estas funciones, tendremos una medida de probabilidad y a ella podremos aplicarle todos los teoremas y propiedades que seamos capaces de demostrar. Concfretamente, se procede del siguiente modo:\n",
    "\n",
    "<strong> Definición: </strong> Dado un conjunto no vacío $\\Omega$ (al que llamamos espacio de sucesos elementales), consideramos una familia $\\Sigma\\subseteq 2^{\\Omega}=\\mathcal{P}(\\Omega)$ formada por subconjuntos de $\\Omega$, que satisface las siguientes propiedades:\n",
    "* $\\emptyset,\\Omega\\in\\Sigma$\n",
    "* Si $\\{A_1,\\cdots, A_n, \\cdots \\}\\subseteq \\Sigma$, entonces $\\bigcup A_k\\in\\Sigma$\n",
    "* Si $A\\in\\Sigma$, entonces $A^c=\\Omega\\setminus A\\in\\Sigma$.\n",
    "\n",
    "Consideramos también <font color=\"blue\"> una función $P:\\Sigma\\to [0,1]$ que satisface:\n",
    "* $P(\\emptyset)=0$\n",
    "* Si $\\{A_1,\\cdots, A_n, \\cdots \\}\\subseteq \\Sigma$ y $A_i\\cap A_j=\\emptyset$ cuando $i\\neq j$, entonces  $P(\\bigcup A_k)=\\sum_{k=1}^{\\infty}P(A_k)$. \n",
    "* $P(A^c)=1-P(A)$, si $A\\in \\Sigma$.\n",
    "\n",
    "La tripleta $(\\Omega,\\Sigma, P)$ se llama espacio de probabilidad y $P$ decimos que es una medida de probabilidad sobre $\\Sigma$. Los elementos de $\\Sigma$ se llaman eventos o sucesos del espacio de probabilidad, y son los únicos conjuntos cuya probabilidad podemos medir.</font>\n",
    "\n",
    "La definición anterior se debe a Kolmogorov, y fue el paso definitivo para establecer un fundamento sólido en la teoría de la probabilidad. Nos proporciona una descripción matemática sencilla y bien motivada de las propiedades que debe tener cualquier medida de probabilidad que queramos considerar. Sin embargo, no responde a la cuestión más profunda de qué es la probabilidad cuando tratamos con experimentos aleatorios en el mundo real. No nos indica cuál es la naturaleza última del concepto. En particular, no nos proporciona ningún tipo de indicación sobre, entre todas las medidas de probabilidad posibles que existen y que podríamos aplicar a un experimento concreto, cuál es precisamente la que nos da la \"verdadera\" probabilidad de los sucesos que queremos examinar. Estas son, en realidad, cuestiones de orden filosófico, aunque tienen implicaciones profundas en el uso de la probabilidad en aplicaciones reales, como la construcción de algoritmos asociados a la inteligencia artificial.  \n",
    "\n",
    "<strong> Ejemplo: Experimentos de Laplace </strong> Si $\\Omega$ es un conjunto finito, $\\Sigma=2^\\Omega$ es una $\\sigma$-álgebra y $$P(A)=\\frac{\\#A}{\\# \\Omega}$$\n",
    "define una medida de probabilidad (llamada probabilidad de Laplace). \n",
    "* Se trata de un ejemplo trivial desde el punto de vista teórico \n",
    "*  Sin embargo, dado un experimento $\\mathcal{E}$ cuyo espacio muestral asociado es finito, puede ser extremadamente complicado obtener una buena representación de $\\Omega$ en la que sea posible contar. Este es, de hecho, el problema fundamental de la <strong>combinatoria</strong>. \n",
    "\n",
    "<strong>Ejemplo: Probabilidad geométrica </strong> Si $\\Omega \\subseteq \\mathbb{R}^d$ es un conjunto medible de Lebesgue con medida finita, podemos considerar  $\\Sigma=\\{A\\in 2^\\Omega: |A|<\\infty\\}$ y  $$P(A)=\\frac{|A|}{|\\Omega|}$$\n",
    "define una medida de probabilidad en $\\Omega$ que generaliza a la perfeccción la probabilidad de Laplace del ejemplo anterior. \n",
    " \n",
    "\n",
    "\n",
    "\n",
    "Si nos preocupan los aspectos filosóficos del problema de definir un concepto de probabilidad conectado con el mundo real, no hay una respuesta definitiva porque hay disensión entre diferentes escuelas de pensamiento. Por un lado, están los <strong> frecuentistas</strong> que consideran que la probabilidad de un evento $A$ surge de repetir el mismo experimento un número cada vez más elevado de veces -todas en condiciones idénticas e independientes- y contabilizar la frecuencia con la que observamos el suceso $A$. Esa frecuencia, cuando el número $n$ de veces que repetimos el experimento tiende a infinito, converge a un único valor, que es $P(A)$.   \n",
    "\n",
    "* Lo anterior es, en gran medida, el enunciado de un importante teorema: La <strong>ley débil de los grandes números</strong>, de Bernoulli. Y en ningún modo es un resultado trivial. \n",
    "\n",
    "Sin embargo, existen importantes dificultades en aplicar este concepto de probabilidad. Para empezar, este concepto deja de lado un montón de casos en los que nos gustaría asignar una probabilidad, por la sencilla razón de que se trata de experimentos irrepetibles o experimentos cuya repetición es demasiado costosa en algún sentido. Además, incluso en experimentos fácilmente repetibles, como el lanzamiento de un dado, nadie jamás podrá repetir el experimento infinitas veces y por tanto no tenemos certeza de que la probabilidad de cada una de las caras del dado vale 1/6. Es más, al repetir el experimento muchas veces, el dado se degastará y podría perder su simetría - que es el verdadero motivo por el que asumimos que las caras son equiprobables (se trata, por tanto, de una hipótesis teórica, de naturaleza geométrica, que nada tiene que ver con repetir el experimento muchas veces) Hay más razones para desconfiar del concepto frecuentista de probabilidad, pero no las exponemos aquí por brevedad.\n",
    "\n",
    "Por otro lado, está la escuela <strong> Bayesiana</strong>, según la cual la probabilidad es una medida de nuestra ignorancia, y la forma correcta de proceder es establecer unas probabilidades a priori -que expresan lo que creemos conocer sobre el experimento antes de realizarlo- y luego usar el teorema de Bayes para que cada repetición del experimento nos facilite recalcular -recalibrar, reconsiderar- las probabilidades que creíamos conocer. Conforme repetimos el experimento, este nos ayuda -con los resultados obtenidos- a modificar nuestras creencias, y estas (que son solo eso) se van acercando cada vez más a la verdadera probabilidad que queremos conocer.  \n"
   ]
  },
  {
   "cell_type": "markdown",
   "metadata": {},
   "source": [
    "<h2> Algunas propiedades importantes de las medidas de probabilidad</h2>\n",
    "\n",
    "Asumamos que $(\\Omega,\\Sigma,P)$ es un espacio de probabilidad. Entonces se tiene:\n",
    "\n",
    "<font color=\"blue\"> <strong> Proposición</strong> Dados dos sucesos $A,B$, se tiene que $P(A\\cup B)=P(A)+P(B)-P(A\\cap B)$.  </font>\n",
    "\n",
    "En efecto, $\\{A\\setminus (A\\cap B),A\\cap B\\}$ es una partición de $A$ en sucesos disjuntos, por lo que \n",
    "$$P(A)=P(A\\setminus (A\\cap B))+P(A\\cap B)$$\n",
    "Análogamente, $$P(B)=P(B\\setminus (A\\cap B))+P(A\\cap B)$$ y  $$P(A\\cup B)=P(A\\setminus (A\\cap B))+P(B\\setminus (A\\cap B))+P(A\\cap B)$$ \n",
    "de modo que:\n",
    "$$ P(A\\cup B) = P(A\\setminus (A\\cap B))+P(A\\cap B) -P(A\\cap B) + P(B\\setminus (A\\cap B))+P(A\\cap B)$$\n",
    "$$ = P(A)+ P(B) -P(A\\cap B)$$\n",
    "\n",
    "\n",
    "Dado  $(\\Omega,\\Sigma,P)$ un espacio de probabilidad y dado un suceso $B\\in \\Sigma$ tal que $P(B)>0$, Podemos considerar en $B$ los sucesos:\n",
    "$$\n",
    "\\Sigma_{|B}=\\{A\\cap B: A\\in \\Sigma\\} \\subseteq 2^B,\n",
    "$$\n",
    "con lo que $P_{|B}:\\Sigma_{|B}\\to [0,1]$ definida por $$P_{|B}(A\\cap B)=\\frac{P(A\\cap B)}{P(B)}$$ define una medida de probabilidad y $(B,\\Sigma_{|B},P_{|B})$ define un espacio de probabilidad. Esto sirve como motivación para el siguiente concepto:\n",
    "\n",
    "\n",
    "<font color=\"blue\"><strong>Definición (Probabilidad condicionada)</strong>:\n",
    "Dados dos sucesos $A,B$, con $P(B)>0$. La probabilidad de $A$, dado $B$, es:\n",
    "$$P(A|B)=\\frac{P(A\\cap B)}{P(B)}$$ \n",
    "\n",
    "\n",
    "\n",
    "<strong>Definición (Sucesos independientes)</strong>:\n",
    "Dados dos sucesos $A,B$, se dice que son independientes si $$P(A\\cap B)=P(A)P(B).$$  </font>\n",
    "\n",
    "\n",
    "Obsérvese que, en el caso de que $P(B)>0$, la independencia de ambos sucesos se traduce en la identidad:\n",
    "$$\n",
    "P(A|B)=P(A)\n",
    "$$\n",
    "\n",
    "<strong>Definición (Familia de sucesos independientes)</strong>:\n",
    "Dados los sucesos $\\{A_1,A_2,\\cdots,A_m\\}$, se dice que son independientes si, para todo $k\\leq m$ y todo vector $(i_1,i_2,\\cdots,i_k)\\in\\{1,\\cdots,m\\}^k$ con $i_1<i_2<\\cdots <i_k$, se tiene que \n",
    " $$P(A_{i_1}\\cap A_{i_2}\\cap \\cdots \\cap A_{i_k})=\\prod_{s=1}^k P(A_{i_s})$$.  \n",
    "\n",
    "Además, la familia de sucesos $\\{A_i\\}_{i=1}^{\\infty}$ se dice que es independiente si para todo $m\\geq 1$,  $\\{A_1,A_2,\\cdots,A_m\\}$ forma una familia de sucesos independientes.\n",
    "\n",
    "\n",
    "<font color=\"blue\"> <strong>Teorema de la Probabilidad Total</strong> \n",
    "Sea $\\{B_1,B_2,\\cdots,B_m\\}$ una familia de sucesos disjuntos dos a dos cuya unión es $\\Omega$ (se dice que estos conjuntos forman una partición de $\\Omega$ en sucesos). Sea $A$ otro suceso. Entonces\n",
    "$$\n",
    "P(A)=\\sum_{k=1}^mP(A\\cap B_k) =\\sum_{k=1}^mP(A|B_k)P(B_k).\n",
    "$$\n",
    "(Asumimos, para la segunda igualdad, que $P(B_k)>0$ para todo $k$). </font>\n",
    "\n",
    "\n",
    "De este modo, a menudo es posible conocer $P(A)$ a partir de su ''dependencia'' respecto de los sucesos $B_1,\\cdots,B_m$. \n",
    "\n",
    "\n",
    "<font color=\"blue\"><strong>Teorema de Bayes </strong> \n",
    "Sean $A,B$ sucesos con probabilidad positiva. Entonces\n",
    "$$\n",
    "P(B|A)=\\frac{P(A|B)P(B)}{P(A)} = \\frac{P(A|B)P(B)}{P(A|B)P(B)+P(A|B^c)P(B^c)}.\n",
    "$$\n",
    "(Asumimos, para la segunda igualdad, que $0<P(B)<1$, por lo que también $0<P(B^c)<1$).\n",
    "\n",
    "En general, si la familia $\\{B_i\\}_{i=1}^{m}$ forma una partición de $\\Omega$ en sucesos de probabilidad positiva, tenemos que:\n",
    "$$\n",
    "P(B_i|A)=\\frac{P(A|B_i)P(B_i)}{\\sum_{k=1}^{m}P(A|B_k)P(B_k)}, \\text{ para } i=1,2,\\cdots.\n",
    "$$</font>\n",
    "\n"
   ]
  },
  {
   "cell_type": "markdown",
   "metadata": {},
   "source": [
    "<h3> Aplicación: uso de Bayes para estimar probabilidades en sucesos del mundo real</h3>\n",
    "\n",
    "El Teorema de Bayes permite actualizar la probabilidad de una hipótesis, $H$, dado un conjunto de datos, $D$.\n",
    "\n",
    "Esta interpretación es “diacrónica”, lo que significa “relacionada con el cambio a lo largo del tiempo”; en este caso, la probabilidad de las hipótesis cambia a medida que vemos nuevos datos.\n",
    "\n",
    "\n",
    "Reescribiendo el Teorema de Bayes con H y D obtenemos: \n",
    "\n",
    "$$P(H|D)=\\frac{P(D|H)P(H)}{P(D)}$$\n",
    "\n",
    "* $P(H)$ es la probabilidad de la hipótesis antes de que veamos los datos, llamada probabilidad a priori.\n",
    "* $P(H|D)$ es la probabilidad de la hipótesis después de que vemos los datos, llamada probabilidad a posteriori.\n",
    "* $P(D|H)$ es la probabilidad de los datos bajo la hipótesis $H$, y se llama verosimilitud.\n",
    "* $P(D)$ es la probabilidad de los datos, sin asumir ninguna hipótesis.\n",
    "\n",
    "A veces podemos calcular la probabilidad a priori basándonos en la información que tenemos  sobre el experimento. Por ejemplo, cuando hay ciertas simetrías, estas nos permiten definir cieertas probabilidades. \n",
    "\n",
    "En otros casos, la probabilidad a priori es subjetiva; es decir, incluso personas totalmente racionales (y razonables, bien intencionadas) podrían no  estar de acuerdo en el valor de $P(H)$, ya sea porque contextualizan el experimento de modo diferente o porque interpretan la misma información de manera diferente.\n",
    "\n",
    "\n",
    "La probabilidad $P(D|H)$ suele ser la parte más fácil de calcular porque la información aportada por la hipótesis $H$ es clave para conocer esta probabilidad. \n",
    "\n",
    "Calcular la probabilidad total de los datos puede ser más complicado. No lo es tanto si disponemos de una partición del espacio muestral en distintas hipótesis mutuamente excluyentes y aplicamos el teorema de la probabilidad total. \n",
    "\n",
    "Concretamente, supongamos que realizamos un experimento aleatorio y que  $\\{H_i\\}_{i=1}^{m}$ forma una partición del espacio muestral $\\Omega$ en sucesos que podemos asumir tienen todos probabilidad positiva, pero <strong> desconocida</strong> y que queremos conocerla o al menos aproximarla. Cada uno de estos eventos $H_i$ es una de nuestras hipótesis.  \n",
    "\n",
    "La forma de proceder es asumir inicialmente unas probabilidades \"a priori\" $P(H_i)$ -por ejemplo, podríamos asumir que estamos ante sucesos equiprobables y, por tanto $P(H_i)=1/m$ para todo $i$. Si al realizar el experimento obtenemos el suceso $D$ (que representa los datos aportados por la experiencia) y tenemos la suerte de conocer $P(D|H_i)$ para todo $i$ (lo cual tiene visos de ser así si hemos elegido apropiadamente las hipótesis $H_i$), entonces sabremos que\n",
    "$$\n",
    "P(H_i|D)=\\frac{P(D|H_i)P(H_i)}{\\sum_{k=1}^{m}P(D|H_k)P(H_k)}, \\text{ para } i=1,2,\\cdots,m\n",
    "$$\n",
    "y lo que podemos hacer es cambiar nuestra creencia inicial por el valor que acabamos de obtener $$P(H_i)\\leftarrow P(H_i|D)=\\frac{P(D|H_i)P(H_i)}{\\sum_{k=1}^{m}P(D|H_k)P(H_k)}$$ \n",
    "De este modo, <strong>cada vez que realizamos el experimento, renovamos nuestras creencias sobre el valor verdadero de las probabilidades </strong> $P(H_i)$ <strong> guiados por la experiencia</strong>, proceso que se conoce como <strong> Actualización Bayesiana</strong> En esto consiste, en gran medida, el análisis Bayesiano y la concepción Bayesiana de la probabilidad. Estas ideas son fundamentales para el desarrollo de algoritmos de inteligencia artificial, que deben aprender de la experiencia. \n",
    "\n",
    "\n"
   ]
  },
  {
   "cell_type": "markdown",
   "metadata": {},
   "source": [
    "<h2> Juegos con urnas, dados, cartas, etc. </h2>\n",
    "\n",
    "Veamos cómo podemos usar Python para simular experimentos aleatorios con urnas, dados, cartas, etc. \n",
    "\n",
    "Comencemos con el caso más sencillo: simular la extracción de una bola de una urna que contiene cierta cantidad conocida de bolas de distintos colores. \n",
    "\n",
    "<strong> Ejemplo </strong> Construir una urna con 10 bolas rojas y 5 blancas y simular la estracción de una bola de la urna."
   ]
  },
  {
   "cell_type": "code",
   "execution_count": 31,
   "metadata": {},
   "outputs": [],
   "source": [
    "import random\n",
    "from collections import Counter"
   ]
  },
  {
   "cell_type": "code",
   "execution_count": 32,
   "metadata": {},
   "outputs": [
    {
     "data": {
      "text/plain": [
       "['R', 'R', 'R', 'R', 'R', 'R', 'R', 'R', 'R', 'R', 'B', 'B', 'B', 'B', 'B']"
      ]
     },
     "execution_count": 32,
     "metadata": {},
     "output_type": "execute_result"
    }
   ],
   "source": [
    "urna1=[\"R\"]*10+[\"B\"]*5\n",
    "urna1"
   ]
  },
  {
   "cell_type": "code",
   "execution_count": 33,
   "metadata": {},
   "outputs": [
    {
     "name": "stdout",
     "output_type": "stream",
     "text": [
      "B\n"
     ]
    }
   ],
   "source": [
    "resultado = np.random.choice(urna1) \n",
    "## Para la extracción con reemplazamiento, usamos np.random.choice\n",
    "## Si quisiéramos hacer la extracción sin reemplazamiento usaríamos random.sample\n",
    "print(resultado)"
   ]
  },
  {
   "cell_type": "markdown",
   "metadata": {},
   "source": [
    "Otra forma de realizar la extracción es definir una urna con una sola bola de cada color y proponer una estracción con las probabilidades adecuadas:"
   ]
  },
  {
   "cell_type": "code",
   "execution_count": 34,
   "metadata": {},
   "outputs": [
    {
     "name": "stdout",
     "output_type": "stream",
     "text": [
      "R\n"
     ]
    }
   ],
   "source": [
    "urna2=[\"R\",\"B\"]\n",
    "resultado = np.random.choice(urna2, p=[10/15,5/15])\n",
    "print(resultado)"
   ]
  },
  {
   "cell_type": "markdown",
   "metadata": {},
   "source": [
    "Si en vez de una única extracción, deseamos repetir la extracción 40 veces, de forma independiente, procedemos como sigue:\n",
    "\n",
    "O bien tomamos la urna1: "
   ]
  },
  {
   "cell_type": "code",
   "execution_count": 35,
   "metadata": {},
   "outputs": [
    {
     "name": "stdout",
     "output_type": "stream",
     "text": [
      "['R' 'B' 'R' 'R' 'R' 'R' 'B' 'B' 'R' 'R' 'R' 'R' 'R' 'R' 'R' 'B' 'R' 'R'\n",
      " 'B' 'B' 'R' 'B' 'R' 'B' 'R' 'B' 'B' 'B' 'R' 'R' 'B' 'R' 'B' 'R' 'R' 'R'\n",
      " 'B' 'R' 'R' 'R']\n"
     ]
    }
   ],
   "source": [
    "resultado = np.random.choice(urna1,size=40)\n",
    "print(resultado)"
   ]
  },
  {
   "cell_type": "code",
   "execution_count": 36,
   "metadata": {},
   "outputs": [
    {
     "data": {
      "text/plain": [
       "Counter({'R': 26, 'B': 14})"
      ]
     },
     "execution_count": 36,
     "metadata": {},
     "output_type": "execute_result"
    }
   ],
   "source": [
    "Counter(resultado)"
   ]
  },
  {
   "cell_type": "markdown",
   "metadata": {},
   "source": [
    "O bien tomamos la urna2 pero asignamos las probabilidades adecuadamente:"
   ]
  },
  {
   "cell_type": "code",
   "execution_count": 37,
   "metadata": {},
   "outputs": [
    {
     "name": "stdout",
     "output_type": "stream",
     "text": [
      "['R' 'R' 'R' 'R' 'R' 'R' 'R' 'R' 'R' 'R' 'B' 'R' 'R' 'R' 'R' 'R' 'R' 'R'\n",
      " 'B' 'R' 'R' 'R' 'B' 'B' 'R' 'R' 'R' 'R' 'R' 'B' 'R' 'R' 'R' 'R' 'B' 'R'\n",
      " 'R' 'R' 'B' 'R']\n"
     ]
    }
   ],
   "source": [
    "urna2=[\"R\",\"B\"]\n",
    "resultado = np.random.choice(urna2, size=40, p=[10/15,5/15])\n",
    "print(resultado)"
   ]
  },
  {
   "cell_type": "code",
   "execution_count": 38,
   "metadata": {},
   "outputs": [
    {
     "data": {
      "text/plain": [
       "Counter({'R': 33, 'B': 7})"
      ]
     },
     "execution_count": 38,
     "metadata": {},
     "output_type": "execute_result"
    }
   ],
   "source": [
    "Counter(resultado)"
   ]
  },
  {
   "cell_type": "markdown",
   "metadata": {},
   "source": [
    "<strong> Ejemplo </strong> Construir una urna con 10 bolas rojas y 15 blancas, y 13 verdes y simular la extracción de 100 bolas de la urna. Hacerlo de dos formas distintas."
   ]
  },
  {
   "cell_type": "code",
   "execution_count": 39,
   "metadata": {},
   "outputs": [
    {
     "name": "stdout",
     "output_type": "stream",
     "text": [
      "['R', 'R', 'R', 'R', 'R', 'R', 'R', 'R', 'R', 'R', 'B', 'B', 'B', 'B', 'B', 'B', 'B', 'B', 'B', 'B', 'B', 'B', 'B', 'B', 'B', 'G', 'G', 'G', 'G', 'G', 'G', 'G', 'G', 'G', 'G', 'G', 'G', 'G']\n",
      "['R' 'B' 'G' 'G' 'R' 'G' 'G' 'G' 'G' 'G' 'B' 'R' 'R' 'G' 'G' 'R' 'G' 'B'\n",
      " 'R' 'R' 'G' 'B' 'G' 'B' 'R' 'G' 'G' 'G' 'R' 'R' 'B' 'R' 'B' 'G' 'G' 'R'\n",
      " 'B' 'R' 'G' 'B' 'G' 'R' 'B' 'R' 'R' 'G' 'B' 'G' 'B' 'B' 'R' 'R' 'G' 'G'\n",
      " 'G' 'B' 'G' 'B' 'G' 'B' 'G' 'B' 'B' 'G' 'B' 'G' 'B' 'B' 'G' 'B' 'B' 'R'\n",
      " 'R' 'R' 'B' 'R' 'B' 'B' 'B' 'R' 'R' 'B' 'B' 'G' 'B' 'G' 'B' 'G' 'B' 'G'\n",
      " 'B' 'R' 'R' 'B' 'B' 'G' 'B' 'R' 'B' 'B']\n"
     ]
    },
    {
     "data": {
      "text/plain": [
       "Counter({'R': 27, 'B': 38, 'G': 35})"
      ]
     },
     "execution_count": 39,
     "metadata": {},
     "output_type": "execute_result"
    }
   ],
   "source": [
    "## Primer modo:\n",
    "urna1=[\"R\"]*10+[\"B\"]*15+[\"G\"]*13\n",
    "print(urna1)\n",
    "resultado1 = np.random.choice(urna1,size=100)\n",
    "print(resultado1)\n",
    "Counter(resultado1)"
   ]
  },
  {
   "cell_type": "code",
   "execution_count": 40,
   "metadata": {},
   "outputs": [
    {
     "name": "stdout",
     "output_type": "stream",
     "text": [
      "['R', 'B', 'G']\n",
      "['G' 'R' 'B' 'G' 'G' 'G' 'B' 'G' 'G' 'G' 'R' 'R' 'G' 'G' 'R' 'B' 'G' 'B'\n",
      " 'R' 'B' 'G' 'R' 'G' 'R' 'G' 'B' 'G' 'B' 'R' 'G' 'B' 'R' 'B' 'G' 'G' 'G'\n",
      " 'B' 'G' 'B' 'B' 'G' 'G' 'B' 'B' 'B' 'B' 'B' 'R' 'G' 'B' 'G' 'G' 'B' 'G'\n",
      " 'B' 'R' 'R' 'G' 'B' 'G' 'R' 'B' 'R' 'R' 'G' 'G' 'R' 'R' 'R' 'B' 'G' 'B'\n",
      " 'G' 'R' 'R' 'G' 'G' 'B' 'G' 'B' 'G' 'G' 'B' 'B' 'B' 'B' 'R' 'B' 'B' 'B'\n",
      " 'R' 'G' 'R' 'G' 'R' 'B' 'R' 'G' 'B' 'R']\n"
     ]
    },
    {
     "data": {
      "text/plain": [
       "Counter({'G': 39, 'R': 26, 'B': 35})"
      ]
     },
     "execution_count": 40,
     "metadata": {},
     "output_type": "execute_result"
    }
   ],
   "source": [
    "## Segundo modo:\n",
    "urna2=[\"R\",\"B\",\"G\"]\n",
    "print(urna2)\n",
    "resultado2 = np.random.choice(urna2,size=100,p=[10/38,15/38,13/38])\n",
    "print(resultado2)\n",
    "Counter(resultado2)"
   ]
  },
  {
   "cell_type": "markdown",
   "metadata": {},
   "source": [
    " <strong> Ejemplo </strong> \n",
    "Construir un dado de 6 caras y:\n",
    "* Simular 500 lanzamientos.\n",
    "* Simular 500 lanzamientos dobles, en cada lanzamiento apuntar la suma de los valores obtenidos. Contabilizar las frecuencias que se han observado."
   ]
  },
  {
   "cell_type": "code",
   "execution_count": 41,
   "metadata": {},
   "outputs": [
    {
     "name": "stdout",
     "output_type": "stream",
     "text": [
      "[5 5 4 6 3 4 6 3 3 6 4 4 6 4 4 2 5 2 6 5 5 1 2 5 5 5 3 2 3 5 5 1 1 6 6 6 6\n",
      " 4 6 3 1 4 6 6 5 3 2 3 2 5 3 6 6 2 2 4 1 3 2 3 4 1 5 6 2 2 4 5 1 5 6 6 5 5\n",
      " 1 1 4 5 3 2 5 2 4 2 6 5 4 4 1 2 3 2 1 2 4 2 5 1 2 3 6 6 3 4 6 3 1 6 2 5 4\n",
      " 1 3 1 5 2 2 5 3 4 5 1 1 3 5 1 4 4 5 2 1 4 6 5 3 2 2 3 2 5 5 3 3 2 4 1 6 4\n",
      " 3 5 6 2 4 4 3 4 3 2 6 4 2 4 3 2 5 5 1 5 6 1 3 6 6 1 3 3 4 6 6 1 6 6 5 1 5\n",
      " 6 1 4 6 1 5 6 3 4 1 6 6 1 5 4 1 4 1 2 2 1 6 4 6 4 5 4 6 5 1 6 4 1 1 1 1 2\n",
      " 6 5 2 2 5 1 3 5 6 3 4 4 6 5 4 6 6 3 1 4 4 2 4 5 6 1 2 1 3 4 4 2 4 2 4 3 4\n",
      " 4 5 3 2 6 4 6 1 1 1 3 4 6 6 4 1 2 2 2 1 5 4 1 5 6 4 1 4 4 4 3 2 2 5 2 1 5\n",
      " 2 2 4 3 6 1 5 2 3 6 2 2 2 6 6 4 1 6 1 3 3 3 5 1 5 4 2 1 4 2 6 6 2 5 5 1 1\n",
      " 5 5 5 6 1 2 2 6 2 6 3 2 2 6 4 1 3 2 5 6 6 5 4 3 2 1 6 3 1 3 3 2 3 6 4 1 6\n",
      " 3 3 1 4 5 5 2 1 3 4 2 4 1 5 6 3 2 3 2 5 5 3 2 6 3 5 2 1 2 6 1 4 3 6 1 3 4\n",
      " 3 4 2 4 2 3 2 6 3 3 6 3 2 2 3 6 4 6 3 1 3 4 2 2 4 1 3 6 3 1 6 5 1 5 3 2 5\n",
      " 2 4 6 3 2 3 2 6 1 4 6 3 4 4 4 5 4 6 4 2 1 5 6 3 6 4 3 1 2 4 6 4 1 5 5 2 6\n",
      " 6 6 6 5 6 3 3 1 2 6 3 6 2 3 4 2 5 6 1]\n"
     ]
    },
    {
     "data": {
      "text/plain": [
       "Counter({5: 75, 4: 86, 6: 94, 3: 80, 2: 88, 1: 77})"
      ]
     },
     "execution_count": 41,
     "metadata": {},
     "output_type": "execute_result"
    }
   ],
   "source": [
    "dado=[1,2,3,4,5,6]\n",
    "resultado = np.random.choice(dado,size=500)\n",
    "print(resultado)\n",
    "Counter(resultado)"
   ]
  },
  {
   "cell_type": "code",
   "execution_count": 42,
   "metadata": {},
   "outputs": [
    {
     "name": "stdout",
     "output_type": "stream",
     "text": [
      "[10, 7, 8, 10, 11, 7, 4, 6, 6, 10, 6, 11, 7, 5, 6, 5, 6, 10, 6, 7, 3, 11, 8, 4, 5, 9, 4, 8, 4, 7, 6, 2, 8, 7, 7, 4, 3, 8, 7, 4, 2, 3, 7, 10, 5, 11, 8, 11, 4, 9, 8, 8, 8, 6, 6, 11, 8, 9, 7, 8, 3, 6, 8, 5, 11, 9, 6, 5, 10, 6, 8, 7, 8, 9, 10, 9, 7, 8, 5, 7, 5, 9, 4, 4, 9, 7, 7, 2, 3, 3, 12, 6, 9, 4, 4, 8, 9, 7, 5, 10, 9, 8, 9, 9, 5, 4, 2, 10, 8, 5, 8, 7, 5, 10, 7, 8, 9, 3, 7, 5, 11, 9, 8, 7, 7, 7, 6, 11, 4, 10, 7, 6, 4, 3, 5, 5, 7, 6, 4, 4, 3, 6, 9, 6, 4, 12, 8, 12, 6, 10, 5, 11, 7, 8, 10, 10, 7, 9, 6, 6, 3, 6, 11, 9, 7, 3, 4, 6, 5, 11, 7, 9, 6, 8, 7, 8, 5, 7, 5, 7, 9, 9, 9, 9, 8, 8, 5, 5, 12, 5, 11, 3, 6, 9, 2, 6, 12, 10, 9, 5, 10, 5, 11, 8, 8, 8, 11, 6, 7, 9, 10, 9, 4, 8, 5, 10, 7, 9, 9, 10, 7, 5, 9, 9, 7, 4, 7, 8, 3, 4, 8, 10, 7, 3, 6, 7, 3, 9, 10, 8, 8, 8, 6, 7, 9, 10, 5, 5, 9, 9, 3, 11, 2, 8, 5, 5, 7, 9, 6, 9, 9, 4, 10, 8, 3, 11, 4, 12, 4, 7, 8, 3, 7, 9, 7, 10, 9, 10, 8, 4, 11, 5, 8, 9, 4, 9, 10, 6, 12, 5, 6, 10, 3, 5, 8, 11, 5, 8, 4, 5, 6, 4, 3, 6, 7, 4, 11, 5, 12, 11, 6, 8, 10, 10, 7, 6, 5, 9, 10, 7, 9, 5, 4, 9, 3, 7, 8, 9, 3, 5, 9, 8, 7, 9, 7, 7, 6, 3, 3, 2, 5, 5, 7, 10, 5, 10, 9, 5, 8, 7, 8, 5, 8, 6, 6, 7, 10, 7, 7, 7, 10, 11, 10, 10, 7, 3, 4, 8, 3, 8, 8, 7, 7, 11, 7, 5, 7, 7, 11, 10, 3, 7, 4, 9, 7, 8, 10, 5, 5, 3, 12, 6, 9, 5, 8, 9, 11, 11, 8, 7, 3, 4, 4, 6, 4, 5, 8, 4, 9, 4, 5, 6, 8, 6, 8, 6, 8, 7, 3, 8, 7, 7, 7, 5, 8, 7, 7, 10, 8, 7, 2, 5, 9, 4, 6, 5, 7, 9, 9, 7, 11, 8, 7, 6, 3, 10, 11, 9, 4, 12, 6, 8, 7, 6, 3, 8, 7, 7, 5, 4, 5, 10, 7, 4, 8, 9, 8, 4, 10, 8, 6, 7, 7, 7, 8, 2, 8, 7, 7, 3, 6, 8, 2, 8, 7, 4, 6, 5, 3, 8, 7, 10, 9, 8, 7, 12, 6, 7, 9, 10]\n"
     ]
    },
    {
     "data": {
      "text/plain": [
       "Counter({10: 44,\n",
       "         7: 88,\n",
       "         8: 74,\n",
       "         11: 28,\n",
       "         4: 43,\n",
       "         6: 52,\n",
       "         5: 56,\n",
       "         3: 34,\n",
       "         9: 60,\n",
       "         2: 10,\n",
       "         12: 11})"
      ]
     },
     "execution_count": 42,
     "metadata": {},
     "output_type": "execute_result"
    }
   ],
   "source": [
    "dado=[1,2,3,4,5,6]\n",
    "resultadoglobal = []\n",
    "for i in range(500):\n",
    "    resultado1 = np.random.choice(dado)\n",
    "    resultado2 = np.random.choice(dado)\n",
    "    resultado=resultado1+resultado2\n",
    "    resultadoglobal.append(resultado)\n",
    "print(resultadoglobal)\n",
    "Counter(resultadoglobal)"
   ]
  },
  {
   "cell_type": "markdown",
   "metadata": {},
   "source": [
    "Obsérvese que los valores extremos (cercanos a 2, que es el mínimo posible, o a 12, que es el máximo posible, son los menos frecuentes. Esto es así porque hay menos formas de obtener esos valores que los valores centrales:\n",
    "* $2= 1+1$\n",
    "* $3=2+1=1+2$\n",
    "* $4=3+1=2+2=1+3$\n",
    "* $5=4+1=3+2=2+3=1+4$\n",
    "* $6=5+1=4+2=3+3=2+4=1+5$\n",
    "* $7=6+1=5+2=4+3=3+4=2+5=6+1$\n",
    "* $8=6+2=5+3=4+4=3+5=2+6$\n",
    "* $9=6+3=5+4=4+5=3+6$\n",
    "* $10=6+4=5+5=4+6$\n",
    "* $11=6+5=5+6$\n",
    "* $12=6+6$"
   ]
  },
  {
   "cell_type": "markdown",
   "metadata": {},
   "source": [
    "<strong> Ejemplo  </strong> Simular la extracción, <strong>sin reemplazamiento</strong>, de 7 bolas de una urna que contiene <font color=\"red\"> 3 bolas rojas</font>, <font color=\"green\">2 verdes</font> y <font color=\"blue\">5 azules</font> (todas idénticas excepto por el color). "
   ]
  },
  {
   "cell_type": "code",
   "execution_count": 43,
   "metadata": {},
   "outputs": [
    {
     "data": {
      "text/plain": [
       "['green', 'red', 'green', 'blue', 'red', 'blue', 'red']"
      ]
     },
     "execution_count": 43,
     "metadata": {},
     "output_type": "execute_result"
    }
   ],
   "source": [
    "urna = ['red'] * 3 + ['green'] * 2 + ['blue'] * 5\n",
    "resultado = random.sample(urna, 7)\n",
    "resultado"
   ]
  },
  {
   "cell_type": "markdown",
   "metadata": {},
   "source": [
    "<strong>Ejemplo</strong> Simular la extracción de una mano en una baraja de póquer."
   ]
  },
  {
   "cell_type": "code",
   "execution_count": 44,
   "metadata": {},
   "outputs": [
    {
     "name": "stdout",
     "output_type": "stream",
     "text": [
      "[['oros', 10], ['copas', 4], ['espadas', 2], ['copas', 3], ['oros', 12]]\n",
      "12\n"
     ]
    }
   ],
   "source": [
    "baraja = []\n",
    "palos=[\"oros\",\"bastos\",\"copas\",\"espadas\"]\n",
    "\n",
    "for palo in palos:\n",
    "    for i in range(1,13):\n",
    "        baraja.append([palo,i])\n",
    "    \n",
    "mano = random.sample(baraja, 5)\n",
    "print(mano)\n",
    "print(mano[4][1])"
   ]
  },
  {
   "cell_type": "markdown",
   "metadata": {},
   "source": [
    "Completa el programa anterior contando cuántas veces sale cada número. Por ejemplo, si tenemos dos ases, y el resto de cartas distintas, el número 1 aparecerá 2 veces y luego habrá otros tres números, cada uno de los cuales aparece 1 sola vez)"
   ]
  },
  {
   "cell_type": "code",
   "execution_count": 45,
   "metadata": {},
   "outputs": [
    {
     "name": "stdout",
     "output_type": "stream",
     "text": [
      "[['bastos', 8], ['copas', 2], ['bastos', 6], ['copas', 6], ['copas', 12]]\n",
      "[8, 2, 6, 6, 12]\n",
      "   Número  Counts\n",
      "0       6       2\n",
      "1      12       1\n",
      "2       2       1\n",
      "3       8       1\n"
     ]
    }
   ],
   "source": [
    "import pandas as pd\n",
    "baraja = []\n",
    "palos=[\"oros\",\"bastos\",\"copas\",\"espadas\"]\n",
    "\n",
    "for palo in palos:\n",
    "    for i in range(1,13):\n",
    "        baraja.append([palo,i])\n",
    "    \n",
    "mano = random.sample(baraja, 5)\n",
    "print(mano)\n",
    "\n",
    "numeros=[]\n",
    "for i in range(5):\n",
    "    numeros.append(mano[i][1])\n",
    "\n",
    "print(numeros)\n",
    "\n",
    "frecuencia = pd.Series(numeros).value_counts()\n",
    "\n",
    "df = frecuencia.reset_index()\n",
    "df.columns = ['Número', 'Counts']\n",
    "\n",
    "print(df)"
   ]
  },
  {
   "cell_type": "markdown",
   "metadata": {},
   "source": [
    "<strong> Ejercicio</strong> Simular 1000 lanzamientos de una moneda trucada, en la que la probabilidad de cara es 0.4 y la de cruz es 0.6. Comprobar mediante un gráfico que las frecuencias relativas de los sucesos elementales (cara y cruz) deben tienden hacia las probabilidades que se han asumido. "
   ]
  },
  {
   "cell_type": "code",
   "execution_count": 46,
   "metadata": {},
   "outputs": [
    {
     "name": "stdout",
     "output_type": "stream",
     "text": [
      "{'cara': 0.418, 'cruz': 0.582}\n"
     ]
    }
   ],
   "source": [
    "import random\n",
    "from collections import Counter\n",
    "\n",
    "\n",
    "moneda = [\"cara\", \"cruz\"]\n",
    "\n",
    "\n",
    "probabilidades = [0.4, 0.6]\n",
    "\n",
    "# Simulamos los 1000 lanzamientos de la moneda\n",
    "resultado2 = random.choices(moneda, weights=probabilidades, k=1000)\n",
    "\n",
    "\n",
    "counts = Counter(resultado2)\n",
    "\n",
    "# Normalize the counts by the total number of samples\n",
    "normalized_counts = {key: count / len(resultado2) for key, count in counts.items()}\n",
    "\n",
    "# Print the normalized counts\n",
    "print(normalized_counts)"
   ]
  },
  {
   "cell_type": "code",
   "execution_count": 47,
   "metadata": {},
   "outputs": [
    {
     "data": {
      "text/plain": [
       "Counter({'cara': 418, 'cruz': 582})"
      ]
     },
     "execution_count": 47,
     "metadata": {},
     "output_type": "execute_result"
    }
   ],
   "source": [
    "counts"
   ]
  },
  {
   "cell_type": "code",
   "execution_count": 48,
   "metadata": {},
   "outputs": [
    {
     "data": {
      "image/png": "[encoded data removed]",
      "text/plain": [
       "<Figure size 432x288 with 1 Axes>"
      ]
     },
     "metadata": {
      "needs_background": "light"
     },
     "output_type": "display_data"
    }
   ],
   "source": [
    "import random\n",
    "import matplotlib.pyplot as plt\n",
    "from collections import Counter\n",
    "\n",
    "\n",
    "moneda = [\"cara\", \"cruz\"]\n",
    "\n",
    "\n",
    "probabilidades = [0.4, 0.6]\n",
    "\n",
    "\n",
    "resultado2 = random.choices(moneda, weights=probabilidades, k=1000)\n",
    "\n",
    "\n",
    "frec_cara = []\n",
    "frec_cruz = []\n",
    "\n",
    "\n",
    "for i in range(1, 1001):\n",
    "    counts = Counter(resultado2[:i])\n",
    "    frec_cara.append(counts[\"cara\"] / i)\n",
    "    frec_cruz.append(counts[\"cruz\"] / i)\n",
    "\n",
    "# Plot the evolution of the relative frequency of \"cara\"\n",
    "plt.plot(range(1, 1001), frec_cara, color='red', label=\"Frec. cara\")\n",
    "plt.plot(range(1, 1001), frec_cruz, color='gray', label=\"Frec. cruz\")\n",
    "\n",
    "# Label the axes and add a title\n",
    "plt.xlabel(\"Number of Draws\")\n",
    "plt.ylabel(\"Relative Frequency\")\n",
    "plt.title(\"Evolution of Relative Frequencies\")\n",
    "\n",
    "# Show the legend\n",
    "plt.legend()\n",
    "\n",
    "# Set y-axis limits to (0, 1) similar to R code\n",
    "plt.ylim(0, 1)\n",
    "\n",
    "# Display the plot\n",
    "plt.show()"
   ]
  },
  {
   "cell_type": "markdown",
   "metadata": {},
   "source": [
    "<strong> Ejemplo</strong> Se tienen tres urnas con bolas indistinguibles excepto por su color. La primera urna contiene <font color=\"red\"> 2 bolas rojas</font> y <font color=\"blue\"> 4 azules</font>, la segunda contiene <font color=\"red\"> 5 bolas rojas</font> y <font color=\"blue\"> 2 azules</font>; y la última urna contiene <font color=\"red\"> 4 bolas rojas</font> y <font color=\"blue\"> 3 azules</font>. Se toma una de las urnas al azar y, a partir de ahí, se van sacando bolas, con reemplazamiento. Averiguar en base a los resultados que se van obteniendo, de qué urna se sacan las bolas. "
   ]
  },
  {
   "cell_type": "code",
   "execution_count": 49,
   "metadata": {},
   "outputs": [],
   "source": [
    "import numpy as np\n",
    "import matplotlib.pyplot as plt\n",
    "import random\n",
    "\n",
    "# Definimos las urnas\n",
    "U1 = [\"R\"] * 2 + [\"B\"] * 4\n",
    "U2 = [\"R\"] * 5 + [\"B\"] * 2\n",
    "U3 = [\"R\"] * 4 + [\"B\"] * 3\n",
    "urnas = [1, 2, 3]\n",
    "\n",
    "# Probabilidades condicionales P(R|Ui) y P(B|Ui) \n",
    "probRojaUi = np.array([2 / 6, 5 / 7, 4 / 7])\n",
    "probBlancaUi = 1 - probRojaUi\n",
    "\n",
    "# Probabilidad inicial de la elección de urnas P(U1)=P(U2)=P(U3)=1/3\n",
    "probs = np.array([1/3, 1/3, 1/3])\n",
    "\n",
    "# Elegimos urna\n",
    "urna = random.choice(urnas)\n",
    "\n",
    "# Extraemos 200 bolas de la urna elegida\n",
    "if urna == 1:\n",
    "    bolas = random.choices(U1, k=200)\n",
    "elif urna == 2:\n",
    "    bolas = random.choices(U2, k=200)\n",
    "else:\n",
    "    bolas = random.choices(U3, k=200)"
   ]
  },
  {
   "cell_type": "code",
   "execution_count": 50,
   "metadata": {},
   "outputs": [
    {
     "name": "stdout",
     "output_type": "stream",
     "text": [
      "Urna seleccionada: 3\n",
      "Probabilidades finales: [7.99249767e-10 1.82378116e-05 9.99981761e-01]\n"
     ]
    }
   ],
   "source": [
    "# Definimos una matriz que va a almacenar la evolución of las probabilidades\n",
    "prob_evol = np.zeros((200, 3))\n",
    "\n",
    "# Almacenamos nuestra creencia inicial\n",
    "prob_evol[0, :] = probs\n",
    "\n",
    "# Actualización Bayesiana de nuestras creencias\n",
    "\n",
    "for i in range(199):\n",
    "    if bolas[i] == \"R\":\n",
    "        probs = probs * probRojaUi / np.sum(probs * probRojaUi)\n",
    "    elif bolas[i] == \"B\":\n",
    "        probs = probs * probBlancaUi / np.sum(probs * probBlancaUi)\n",
    "    prob_evol[i + 1, :] = probs\n",
    "\n",
    "# Creencia final (tras la última extracción)\n",
    "print(\"Urna seleccionada:\", urna)\n",
    "print(\"Probabilidades finales:\", probs)\n"
   ]
  },
  {
   "cell_type": "code",
   "execution_count": 51,
   "metadata": {},
   "outputs": [
    {
     "data": {
      "image/png": "[encoded data removed]",
      "text/plain": [
       "<Figure size 432x288 with 1 Axes>"
      ]
     },
     "metadata": {
      "needs_background": "light"
     },
     "output_type": "display_data"
    }
   ],
   "source": [
    "# Gráfico con la evolución de nuestras creencias\n",
    "\n",
    "colors = [\"red\", \"green\", \"blue\"]\n",
    "for i in range(3):\n",
    "    plt.plot(np.arange(1, 201), prob_evol[:, i], label=f'Urna {i+1}', color=colors[i])\n",
    "\n",
    "plt.xlabel(f\"De verdad era la urna {['roja', 'verde', 'azul'][urna-1]}\")\n",
    "plt.ylabel(\"Probabilidad\")\n",
    "plt.legend()\n",
    "plt.ylim(0, 1)\n",
    "plt.show()"
   ]
  },
  {
   "cell_type": "code",
   "execution_count": 52,
   "metadata": {},
   "outputs": [
    {
     "data": {
      "image/png": "[encoded data removed]",
      "text/plain": [
       "<Figure size 432x288 with 1 Axes>"
      ]
     },
     "metadata": {
      "needs_background": "light"
     },
     "output_type": "display_data"
    }
   ],
   "source": [
    "## PROCEDEMOS AHORA CON EL ENFOQUE FRECUENTISTA\n",
    "\n",
    "# Creamos una matriz para almacenar las frecuencias relativas \n",
    "# observadas para R and B y, a continuación, la rellenamos con los datos obtenidos\n",
    "\n",
    "Pfrec_evol = np.zeros((200, 2))\n",
    "\n",
    "for i in range(1, 201):\n",
    "    Pfrec_evol[i - 1, :] = np.array([bolas[:i].count(\"R\") / i, bolas[:i].count(\"B\") / i])\n",
    "\n",
    "# Gráfico de la evolución de las frecuencias\n",
    "plt.plot(np.arange(1, 201), Pfrec_evol[:, 0], label=\"Frecuencia Roja\", color=\"red\")\n",
    "plt.plot(np.arange(1, 201), Pfrec_evol[:, 1], label=\"Frecuencia Blanca\", color=\"blue\")\n",
    "\n",
    "# Rectas que representan las probabilidades teóricas\n",
    "w11 = np.full(200, 2/3)\n",
    "w12 = np.full(200, 1/3)\n",
    "w21 = np.full(200, 0.2857143)\n",
    "w22 = np.full(200, 0.7142857)\n",
    "w31 = np.full(200, 0.4285714)\n",
    "w32 = np.full(200, 0.5714286)\n",
    "\n",
    "plt.plot(np.arange(1, 201), w11, label=\"Teorico Urna 1\", color=\"magenta\")\n",
    "plt.plot(np.arange(1, 201), w12, label=\"Teorico Urna 1\", color=\"magenta\")\n",
    "plt.plot(np.arange(1, 201), w21, label=\"Teorico Urna 2\", color=\"brown\")\n",
    "plt.plot(np.arange(1, 201), w22, label=\"Teorico Urna 2\", color=\"brown\")\n",
    "plt.plot(np.arange(1, 201), w31, label=\"Teorico Urna 3\", color=\"orange\")\n",
    "plt.plot(np.arange(1, 201), w32, label=\"Teorico Urna 3\", color=\"orange\")\n",
    "\n",
    "plt.xlabel(\"Evolución de las frecuencias relativas (ley de los grandes números)\")\n",
    "plt.ylabel(\"Frecuencia\")\n",
    "plt.legend()\n",
    "plt.ylim(0, 1)\n",
    "plt.show()"
   ]
  }
 ],
 "metadata": {
  "kernelspec": {
   "display_name": "Python 3",
   "language": "python",
   "name": "python3"
  },
  "language_info": {
   "codemirror_mode": {
    "name": "ipython",
    "version": 3
   },
   "file_extension": ".py",
   "mimetype": "text/x-python",
   "name": "python",
   "nbconvert_exporter": "python",
   "pygments_lexer": "ipython3",
   "version": "3.7.6"
  }
 },
 "nbformat": 4,
 "nbformat_minor": 4
}
