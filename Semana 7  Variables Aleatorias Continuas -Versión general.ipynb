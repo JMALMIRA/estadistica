{
 "cells": [
  {
   "cell_type": "markdown",
   "metadata": {},
   "source": [
    "<h2> Distribuciones de probabilidad de v.a. continuas. Versión general</h2>"
   ]
  },
  {
   "cell_type": "markdown",
   "metadata": {},
   "source": [
    "Si $X$ es una v.a. continua, la forma en la que especificamos sus propiedades es a través de su <strong>función de distribución</strong> $F_X(t)=P(X\\leq t)$. Esta función permite todo tipo de cálculos sobre las probabilidades asociadas a la variable. \n",
    "\n",
    "Es usual definir $F_X$ en términos de otra función: la <strong>densidad de probabilidad</strong> $f_X(x)$. Esto se hace del siguiente modo:\n",
    "$$F_X(t)=P(X\\leq t)=\\int_{-\\infty}^tf_X(x)dx $$\n",
    "\n",
    "Las funciones $f_X$ tienen las siguientes propiedades:\n",
    "\n",
    "* $0\\leq f_X(x)\\leq 1$ para todo $x\\in\\mathbb{R}$. <font color=\"brown\">(Esto es análogo a la propiedad $p_i\\geq 0$ de la Pmf en el caso de v.a. discretas)</font>\n",
    "\n",
    "* $\\int_{-\\infty}^{\\infty}f_X(x)dx=1$.  <font color=\"brown\">(Esto es análogo a la propiedad $\\sum_{i=1}^{\\infty}p_i =1$ de la Pmf en el caso de v.a. discretas)</font>\n",
    "\n",
    "Análogamente, las funciones $F_X$ tienen las siguientes propiedades:\n",
    "\n",
    "* $F_X\\geq 0$, $F_X$ es monótona creciente.\n",
    "* $\\lim_{t\\to-\\infty}F_X(t)=0$, $\\lim_{t\\to\\infty}F_X(t)=1$.\n",
    "\n",
    "Disponer de una función $f_X$ que satisface las condiciones anteriores equivale a definir una v.a. $X$ cuya función de distribución $F_X$ viene dada por $F_X(t)=P(X\\leq t)=\\int_{-\\infty}^tf_X(x)dx$.  \n",
    "\n",
    "La esperanza y la varianza de la v.a. continua $X$ vienen dadas por las expresiones:\n",
    "$$\\mu = E(X)=\\int_{-\\infty}^{\\infty}xf_X(x)dx$$\n",
    "$$\\sigma_X^2=V(X)=E((X-\\mu)^2)= \\int_{-\\infty}^{\\infty}(x-\\mu)^2f_X(x)dx$$\n",
    "\n",
    "\n",
    "\n"
   ]
  },
  {
   "cell_type": "markdown",
   "metadata": {},
   "source": [
    "<h3> Cómo simular una v.a. continua arbitraria $X$ </h3> \n",
    "    \n",
    "Vamos a crear un programa que simula la variable $X$ cuya función de distribución es $F_X$. Para ello, usamos los siguientes resultados:\n",
    "\n",
    "<strong> Proposición 1</strong> Sea $X$ una v.a. cuya función de distribución $F_X$ es continua y estrictamente creciente en el rango de la v.a. Definimos $F_X^{-1}(u)=\\inf \\{x: F_X(x)\\geq u\\}$. Entonces:\n",
    "\n",
    "* $F_X^{-1}(u)$ es exactamente el percentil-$u$ de la v.a. $X$. \n",
    "\n",
    "* $F_X(F_X^{-1}(u))=u=F_X^{-1}(F_X(u))$ pata todo $u\\in [0,1]$.  \n",
    "\n",
    "*  $U=F_X(X)\\sim U([0,1])$ (i.e., la v.a. $U=F_X(X)$ sigue una distribución uniforme en $[0,1]$).\n",
    "\n",
    "* Si $U\\sim U([0,1])$, entonces  $Z=F_X^{-1}(U)\\sim X$ (i.e., la v.a. $Z=F_X^{-1}(U)$ sigue la misma distribución que la v.a. $X$).\n",
    "    \n",
    "<strong> Demostración. </strong> \n",
    "\n",
    "En efecto, las dos primeras afirmaciones son claras. Con respecto a la tercera afirmación, un simple cálculo nos dice que \n",
    "\n",
    "$$F_U(t)=P(U\\leq t)=P(F_X(X)\\leq t)=P(X\\leq F_X^{-1}(t))=F_X(F_X^{-1}(t))=t$$\n",
    "\n",
    "y, por tanto, la v.a. $U=F_X(X)$ se distribuye uniformemente en $[0,1]$.\n",
    "\n",
    "Finalmente, si $Z=F_X^{-1}(U)$, donde $U\\sim U([0,1])$, entonces\n",
    "\n",
    "$$P(Z\\leq t)=P(F_X^{-1}(U)\\leq t)=P(U\\leq F_X(t))= F_X(t) =P(X\\leq t)$$\n",
    "\n",
    "Esto concluye la demostración. $\\Box$\n",
    "\n",
    "<font color=\"brown\"> Una importante consecuencia de los cálculos anteriores es que gracias a las afirmaciones primera y cuarta de la proposición, sabemos que un método válido para la simulación muestras de una v.a. $X$ consiste en realizar los siguientes dos pasos: </font>\n",
    "    \n",
    "<font color=\"brown\">    (a) Generar muestras de una v.a. uniforme (para esto existen multitud de algoritmos que funcionan razonablemente bien), y </font>\n",
    "    \n",
    "<font color=\"brown\">    (b) Calcular los percentiles asociados a los valores que se acaban de obtener. Estos percentiles son las muestras de la v.a. $X$ que buscábamos. </font> "
   ]
  },
  {
   "cell_type": "markdown",
   "metadata": {},
   "source": [
    "<h2> Trabajando en Python con v.a. continuas generales </h2>\n",
    "    \n",
    "Veamos cómo se usa Python para estudiar las v.a. continuas cuando la función de densidad nos la dan explícitamente. "
   ]
  },
  {
   "cell_type": "code",
   "execution_count": 35,
   "metadata": {},
   "outputs": [],
   "source": [
    "import pandas as pd\n",
    "import numpy as np\n",
    "import random\n",
    "from collections import Counter\n",
    "\n",
    "### Antes de ejecutar esto, es necesario hacer \n",
    "## pip install empiricaldist \n",
    "## en Terminal\n",
    "from empiricaldist import Pmf\n",
    "from scipy.integrate import quad\n",
    "import matplotlib.pyplot as plt"
   ]
  },
  {
   "cell_type": "markdown",
   "metadata": {},
   "source": [
    "<strong> Ejemplo </strong> Considera la v.a $X$ cuya función de densidad es \n",
    "$$f_X(x)=\\left\\{\\begin{array}{llll} \\frac{x^2}{9} & x\\in [0,3]\\\\\n",
    "0 & \\text{ x\\not\\in [0,3]}\\end{array}\\right.$$\n",
    "* Definir $f_X$ con Python. Dibujar su gráfico. Comprobar que en efecto es una función densidad de probabilidad.\n",
    "* Definir $F_X$. Calcular $P(1.5<X<2)$. \n",
    "* Calcular la media y la desviación típica de $X$\n",
    "* Calcular los quartiles $Q_1,Q_2,Q_3$. (Definir una función que calcule los cuantiles y usarla para calcular $Q_1,Q_2,Q_3$. \n",
    "* ¿Cuáles serían los valores atípicos de la v.a. $X$?\n",
    "* Haz un programa que simule la v.a. $X$. Calcula 10000 datos con ese programa y compara el histograma, media, varianza, etc de estos datos con los resultados de los apartados anteriores."
   ]
  },
  {
   "cell_type": "code",
   "execution_count": 36,
   "metadata": {},
   "outputs": [
    {
     "data": {
      "text/plain": [
       "[[0, 0.1111111111111111, 0.4444444444444444, 1.0, 0],\n",
       " [0, 0.1111111111111111, 0.4444444444444444, 1.0, 0]]"
      ]
     },
     "execution_count": 36,
     "metadata": {},
     "output_type": "execute_result"
    }
   ],
   "source": [
    "# Definimos f_X(x), que denotamos por f(x)\n",
    "def f(x):\n",
    "    if x <= 0:\n",
    "        return 0\n",
    "    elif x>3:\n",
    "        return 0\n",
    "    return x**2 / 9\n",
    "\n",
    "# Para poder hacer representaciones gráficas, y para calcular integrales, vectorizamos f\n",
    "def f_vec(val):\n",
    "    result=[]\n",
    "    for _ in val:\n",
    "        result.append(f(_))\n",
    "    return result\n",
    "\n",
    "#f_vec = np.vectorize(f)\n",
    "\n",
    "[f_vec([0,1,2,3,4]),[f(0),f(1),f(2),f(3),f(4)]]"
   ]
  },
  {
   "cell_type": "code",
   "execution_count": 37,
   "metadata": {},
   "outputs": [
    {
     "data": {
      "text/plain": [
       "[array([0.        , 0.03703704, 0.2962963 , 1.        , 1.        ]),\n",
       " [0.0, 0.037037037037037035, 0.2962962962962963, 1.0, 1.0]]"
      ]
     },
     "execution_count": 37,
     "metadata": {},
     "output_type": "execute_result"
    }
   ],
   "source": [
    "\n",
    "\n",
    "# Definimos F_X(x) (la denotamos por F(x)): \n",
    "\n",
    "def F(x):\n",
    "    result, _ = quad(f, 0, x)  \n",
    "    ## quad(f,0,x) da dos valores.\n",
    "    ## El primero es la integral, el segundo una estimación del error. \n",
    "    ## Nos quedamos con el primero.\n",
    "    return result\n",
    "\n",
    "# Vectorizamos la función F(x) -para las gráficas.\n",
    "\n",
    "\n",
    "F_vec=np.vectorize(F)\n",
    "\n",
    "[F_vec([0,1,2,3,4]),[F(0),F(1),F(2),F(3),F(4)]]"
   ]
  },
  {
   "cell_type": "code",
   "execution_count": 38,
   "metadata": {},
   "outputs": [
    {
     "data": {
      "image/png": "[encoded data removed]",
      "text/plain": [
       "<Figure size 720x432 with 1 Axes>"
      ]
     },
     "metadata": {
      "needs_background": "light"
     },
     "output_type": "display_data"
    }
   ],
   "source": [
    "x_vals =np.linspace(-2, 5, 400)\n",
    "plt.figure(figsize=(10, 6))\n",
    "plt.plot(x_vals, f_vec(x_vals),  label='f(x)')\n",
    "#plt.scatter(x_vals, f_vec(x_vals), color='r')\n",
    "plt.title('Densidad de Probabilidad (f(x))')\n",
    "plt.xlabel('Value')\n",
    "plt.ylabel('f(x)')\n",
    "plt.grid(True)\n",
    "plt.show()"
   ]
  },
  {
   "cell_type": "code",
   "execution_count": 39,
   "metadata": {},
   "outputs": [
    {
     "data": {
      "image/png": "[encoded data removed]",
      "text/plain": [
       "<Figure size 720x432 with 1 Axes>"
      ]
     },
     "metadata": {
      "needs_background": "light"
     },
     "output_type": "display_data"
    }
   ],
   "source": [
    "x_vals =np.linspace(-2, 5, 400)\n",
    "plt.figure(figsize=(10, 6))\n",
    "plt.plot(x_vals, F_vec(x_vals),  label='F(x)')\n",
    "#plt.scatter(x_vals, f_vec(x_vals), color='r')\n",
    "plt.title('Function de Distribución de Probabilidad (F(x))')\n",
    "plt.xlabel('Value')\n",
    "plt.ylabel('F(x)')\n",
    "plt.grid(True)\n",
    "plt.show()"
   ]
  },
  {
   "cell_type": "markdown",
   "metadata": {},
   "source": [
    "El dibujo de $F_X$ nos confirma que hemos definido una función de distribución y, por tanto, que la función $f_X$ es una función densidad de probabilidad. \n",
    "\n",
    "* La probabilidad que nos piden es $P(1.5<X<2)=F_X(2)-F_X(1.5):\n"
   ]
  },
  {
   "cell_type": "code",
   "execution_count": 40,
   "metadata": {},
   "outputs": [
    {
     "data": {
      "text/plain": [
       "0.17129629629629628"
      ]
     },
     "execution_count": 40,
     "metadata": {},
     "output_type": "execute_result"
    }
   ],
   "source": [
    "F(2)-F(1.5)"
   ]
  },
  {
   "cell_type": "markdown",
   "metadata": {},
   "source": [
    "Vamos a calcular $\\mu=E(X)$, $\\sigma_X=V(X)$, y $\\sigma_X$:"
   ]
  },
  {
   "cell_type": "code",
   "execution_count": 41,
   "metadata": {},
   "outputs": [
    {
     "data": {
      "text/plain": [
       "2.2499999999999996"
      ]
     },
     "execution_count": 41,
     "metadata": {},
     "output_type": "execute_result"
    }
   ],
   "source": [
    "# Esperanza:\n",
    "mu,_=quad(lambda x:x*f(x),0,3)\n",
    "mu"
   ]
  },
  {
   "cell_type": "code",
   "execution_count": 42,
   "metadata": {},
   "outputs": [
    {
     "data": {
      "text/plain": [
       "0.33749999999999997"
      ]
     },
     "execution_count": 42,
     "metadata": {},
     "output_type": "execute_result"
    }
   ],
   "source": [
    "# Varianza:\n",
    "var,_=quad(lambda x:((x-mu)**2)*f(x),0,3)\n",
    "var"
   ]
  },
  {
   "cell_type": "code",
   "execution_count": 43,
   "metadata": {},
   "outputs": [
    {
     "data": {
      "text/plain": [
       "0.5809475019311126"
      ]
     },
     "execution_count": 43,
     "metadata": {},
     "output_type": "execute_result"
    }
   ],
   "source": [
    "# Desviación típica\n",
    "sigma=var**0.5\n",
    "sigma"
   ]
  },
  {
   "cell_type": "markdown",
   "metadata": {},
   "source": [
    "Para calcular cuantiles (o percentiles) es necesario resolver ciertas ecuaciones, para lo cual necesitamos importat un paquete específico llamado brentq (hay otros, como fsolve, pero este es muy eficiente y robusto). Lo importamos: "
   ]
  },
  {
   "cell_type": "code",
   "execution_count": 44,
   "metadata": {},
   "outputs": [],
   "source": [
    "import numpy as np\n",
    "from scipy.optimize import brentq \n",
    "# We can use brentq for root-finding"
   ]
  },
  {
   "cell_type": "markdown",
   "metadata": {},
   "source": [
    "Por definición, $\\alpha$ es el percentil-$p$ (donde $0<p<1$) si $$P(X\\leq \\alpha)=p.$$ Ahora bien, esto se reescribe como $F_X(\\alpha)=p$ o, si se quiere, como $F_X(\\alpha)-p=0$. Por tanto, el percentil-$p$ se obtiene de resolver la ecuación:\n",
    "$$F_X(t)-p=0$$\n",
    "Veamos cómo hacerlo con Python:"
   ]
  },
  {
   "cell_type": "code",
   "execution_count": 45,
   "metadata": {},
   "outputs": [],
   "source": [
    "# Function to calculate the percentile\n",
    "def percentile(p):\n",
    "    per = brentq(lambda x: F(x) - p, 0, 3)  # Root-finding in the range [0, 3]\n",
    "    return per\n",
    "\n",
    "# Vectorizing the percentile function\n",
    "percentile_vectorized = np.vectorize(percentile)"
   ]
  },
  {
   "cell_type": "markdown",
   "metadata": {},
   "source": [
    "Calculemos, pues, los cuartiles:"
   ]
  },
  {
   "cell_type": "code",
   "execution_count": 46,
   "metadata": {},
   "outputs": [
    {
     "name": "stdout",
     "output_type": "stream",
     "text": [
      "[1.88988157 2.38110158 2.72568089]\n"
     ]
    }
   ],
   "source": [
    "cuartiles = percentile_vectorized([0.25, 0.5, 0.75])\n",
    "print(cuartiles)"
   ]
  },
  {
   "cell_type": "markdown",
   "metadata": {},
   "source": [
    "Vamos a crear un programa que simula la variable $X$. \n",
    "\n",
    "\n",
    "Para ello, necesitamos generar una v.a uniforme en [0,1] y luego tomar los percentiles correspondientes. \n",
    "\n",
    "En efecto, si "
   ]
  },
  {
   "cell_type": "code",
   "execution_count": 47,
   "metadata": {},
   "outputs": [],
   "source": [
    "# Generate 10,000 random numbers between 0 and 1\n",
    "random_values = np.random.uniform(0, 1, 10000)\n",
    "\n",
    "# Compute the percentiles for the random values\n",
    "datos = percentile_vectorized(random_values)"
   ]
  },
  {
   "cell_type": "code",
   "execution_count": 48,
   "metadata": {},
   "outputs": [
    {
     "data": {
      "text/plain": [
       "(array([  9,  15,  15,  17,  21,  49,  63,  89,  99, 116, 139, 178, 169,\n",
       "        219, 231, 270, 302, 383, 410, 412, 446, 531, 511, 607, 699, 702,\n",
       "        749, 818, 853, 878]),\n",
       " array([0.16057734, 0.25521361, 0.34984988, 0.44448616, 0.53912243,\n",
       "        0.6337587 , 0.72839498, 0.82303125, 0.91766752, 1.0123038 ,\n",
       "        1.10694007, 1.20157634, 1.29621262, 1.39084889, 1.48548516,\n",
       "        1.58012144, 1.67475771, 1.76939398, 1.86403026, 1.95866653,\n",
       "        2.0533028 , 2.14793908, 2.24257535, 2.33721162, 2.4318479 ,\n",
       "        2.52648417, 2.62112044, 2.71575672, 2.81039299, 2.90502926,\n",
       "        2.99966554]))"
      ]
     },
     "execution_count": 48,
     "metadata": {},
     "output_type": "execute_result"
    }
   ],
   "source": [
    "np.histogram(datos, bins=30, range=None, density=False, weights=None)"
   ]
  },
  {
   "cell_type": "code",
   "execution_count": 49,
   "metadata": {},
   "outputs": [
    {
     "data": {
      "image/png": "[encoded data removed]",
      "text/plain": [
       "<Figure size 432x288 with 1 Axes>"
      ]
     },
     "metadata": {
      "needs_background": "light"
     },
     "output_type": "display_data"
    }
   ],
   "source": [
    "plt.hist(datos, bins=30, range=None, density=False, weights=None)\n",
    "plt.show()"
   ]
  },
  {
   "cell_type": "code",
   "execution_count": 50,
   "metadata": {},
   "outputs": [
    {
     "name": "stdout",
     "output_type": "stream",
     "text": [
      "Empirical Mean: 2.2511051930698915, Theoretical Mean: 2.2499999999999996\n",
      "Empirical Variance: 0.3324719154024956, Theoretical Variance: 0.33749999999999997\n",
      "Empirical Standard Deviation: 0.5766037767848001, Theoretical Standard Deviation: 0.5809475019311126\n",
      "Empirical Quantiles (25%, 50%, 75%): [1.89243589 2.38457157 2.72128503]\n",
      "Theoretical Percentiles (25%, 50%, 75%): [1.88988157 2.38110158 2.72568089]\n"
     ]
    }
   ],
   "source": [
    "# Compare the theoretical and empirical mean, variance, and standard deviation\n",
    "print(f\"Empirical Mean: {np.mean(datos)}, Theoretical Mean: {mu}\")\n",
    "print(f\"Empirical Variance: {np.var(datos)}, Theoretical Variance: {var}\")\n",
    "print(f\"Empirical Standard Deviation: {np.std(datos)}, Theoretical Standard Deviation: {sigma}\")\n",
    "\n",
    "# Quantiles (25th, 50th, 75th percentiles)\n",
    "Q = np.quantile(datos, [0.25, 0.5, 0.75])\n",
    "print(\"Empirical Quantiles (25%, 50%, 75%):\", Q)\n",
    "\n",
    "# Theoretical percentiles\n",
    "percentiles = np.array([percentile(0.25), percentile(0.5), percentile(0.75)])\n",
    "print(\"Theoretical Percentiles (25%, 50%, 75%):\", percentiles)"
   ]
  },
  {
   "cell_type": "code",
   "execution_count": 51,
   "metadata": {},
   "outputs": [
    {
     "name": "stdout",
     "output_type": "stream",
     "text": [
      "[1.892435891579475, 2.3845715724477285, 2.7212850293613178]\n",
      "[1.88988157 2.38110158 2.72568089]\n"
     ]
    }
   ],
   "source": [
    "Q1=np.quantile(datos,0.25)\n",
    "Q2=np.quantile(datos,0.5)\n",
    "Q3=np.quantile(datos,0.75)\n",
    "print([Q1,Q2,Q3])\n",
    "print(cuartiles)"
   ]
  },
  {
   "cell_type": "markdown",
   "metadata": {},
   "source": [
    "<h1> NUEVA COSA</h1>"
   ]
  },
  {
   "cell_type": "markdown",
   "metadata": {},
   "source": [
    "\n",
    "\n",
    " \n"
   ]
  },
  {
   "cell_type": "code",
   "execution_count": 52,
   "metadata": {},
   "outputs": [
    {
     "name": "stdout",
     "output_type": "stream",
     "text": [
      "[1 1 2 2 2 2 1 2 2 3 2 1 1 1 1 1 3 1 1 1 3 1 3 1 3 1 3 1 3 3 2 3 1 1 1 3 1\n",
      " 3 2 2 1 2 2 3 3 2 2 3 3 3 2 2 3 3 3 3 3 2 2 3 1 3 3 1 2 3 3 1 1 3 1 3 2 2\n",
      " 1 3 1 1 1 2 2 3 3 3 1 3 3 1 3 3 1 1 3 2 3 3 1 2 1 1 3 2 2 3 1 2 3 1 2 1 1\n",
      " 1 3 3 2 3 2 3 2 3 3 2 3 3 2 3 2 1 3 3 1 3 1 3 2 2 3 2 1 2]\n"
     ]
    }
   ],
   "source": [
    "values=[1,2,3]\n",
    "probs=[3/10,3/10,4/10]\n",
    "resultado = np.random.choice(values, size=140, p=probs)\n",
    "print(resultado)"
   ]
  },
  {
   "cell_type": "code",
   "execution_count": 53,
   "metadata": {},
   "outputs": [
    {
     "name": "stderr",
     "output_type": "stream",
     "text": [
      "/opt/anaconda3/lib/python3.7/site-packages/ipykernel_launcher.py:1: DeprecationWarning: The default dtype for empty Series will be 'object' instead of 'float64' in a future version. Specify a dtype explicitly to silence this warning.\n",
      "  \"\"\"Entry point for launching an IPython kernel.\n"
     ]
    },
    {
     "data": {
      "text/html": [
       "<div>\n",
       "<style scoped>\n",
       "    .dataframe tbody tr th:only-of-type {\n",
       "        vertical-align: middle;\n",
       "    }\n",
       "\n",
       "    .dataframe tbody tr th {\n",
       "        vertical-align: top;\n",
       "    }\n",
       "\n",
       "    .dataframe thead th {\n",
       "        text-align: right;\n",
       "    }\n",
       "</style>\n",
       "<table border=\"1\" class=\"dataframe\">\n",
       "  <thead>\n",
       "    <tr style=\"text-align: right;\">\n",
       "      <th></th>\n",
       "      <th>probs</th>\n",
       "    </tr>\n",
       "  </thead>\n",
       "  <tbody>\n",
       "    <tr>\n",
       "      <th>heads</th>\n",
       "      <td>0.5</td>\n",
       "    </tr>\n",
       "    <tr>\n",
       "      <th>tails</th>\n",
       "      <td>0.5</td>\n",
       "    </tr>\n",
       "  </tbody>\n",
       "</table>\n",
       "</div>"
      ],
      "text/plain": [
       "heads    0.5\n",
       "tails    0.5\n",
       "dtype: float64"
      ]
     },
     "execution_count": 53,
     "metadata": {},
     "output_type": "execute_result"
    }
   ],
   "source": [
    "coin = Pmf()\n",
    "coin['heads'] = 1/2\n",
    "coin['tails'] = 1/2\n",
    "coin"
   ]
  },
  {
   "cell_type": "code",
   "execution_count": 54,
   "metadata": {},
   "outputs": [
    {
     "data": {
      "text/html": [
       "<div>\n",
       "<style scoped>\n",
       "    .dataframe tbody tr th:only-of-type {\n",
       "        vertical-align: middle;\n",
       "    }\n",
       "\n",
       "    .dataframe tbody tr th {\n",
       "        vertical-align: top;\n",
       "    }\n",
       "\n",
       "    .dataframe thead th {\n",
       "        text-align: right;\n",
       "    }\n",
       "</style>\n",
       "<table border=\"1\" class=\"dataframe\">\n",
       "  <thead>\n",
       "    <tr style=\"text-align: right;\">\n",
       "      <th></th>\n",
       "      <th>probs</th>\n",
       "    </tr>\n",
       "  </thead>\n",
       "  <tbody>\n",
       "    <tr>\n",
       "      <th>1</th>\n",
       "      <td>0.166667</td>\n",
       "    </tr>\n",
       "    <tr>\n",
       "      <th>2</th>\n",
       "      <td>0.166667</td>\n",
       "    </tr>\n",
       "    <tr>\n",
       "      <th>3</th>\n",
       "      <td>0.166667</td>\n",
       "    </tr>\n",
       "    <tr>\n",
       "      <th>4</th>\n",
       "      <td>0.166667</td>\n",
       "    </tr>\n",
       "    <tr>\n",
       "      <th>5</th>\n",
       "      <td>0.166667</td>\n",
       "    </tr>\n",
       "    <tr>\n",
       "      <th>6</th>\n",
       "      <td>0.166667</td>\n",
       "    </tr>\n",
       "  </tbody>\n",
       "</table>\n",
       "</div>"
      ],
      "text/plain": [
       "1    0.166667\n",
       "2    0.166667\n",
       "3    0.166667\n",
       "4    0.166667\n",
       "5    0.166667\n",
       "6    0.166667\n",
       "Name: , dtype: float64"
      ]
     },
     "execution_count": 54,
     "metadata": {},
     "output_type": "execute_result"
    }
   ],
   "source": [
    "die = Pmf.from_seq([1,2,3,4,5,6]) \n",
    "die"
   ]
  },
  {
   "cell_type": "code",
   "execution_count": 55,
   "metadata": {},
   "outputs": [
    {
     "data": {
      "text/html": [
       "<div>\n",
       "<style scoped>\n",
       "    .dataframe tbody tr th:only-of-type {\n",
       "        vertical-align: middle;\n",
       "    }\n",
       "\n",
       "    .dataframe tbody tr th {\n",
       "        vertical-align: top;\n",
       "    }\n",
       "\n",
       "    .dataframe thead th {\n",
       "        text-align: right;\n",
       "    }\n",
       "</style>\n",
       "<table border=\"1\" class=\"dataframe\">\n",
       "  <thead>\n",
       "    <tr style=\"text-align: right;\">\n",
       "      <th></th>\n",
       "      <th>probs</th>\n",
       "    </tr>\n",
       "  </thead>\n",
       "  <tbody>\n",
       "    <tr>\n",
       "      <th></th>\n",
       "      <td>0.189655</td>\n",
       "    </tr>\n",
       "    <tr>\n",
       "      <th>A</th>\n",
       "      <td>0.017241</td>\n",
       "    </tr>\n",
       "    <tr>\n",
       "      <th>S</th>\n",
       "      <td>0.034483</td>\n",
       "    </tr>\n",
       "    <tr>\n",
       "      <th>T</th>\n",
       "      <td>0.017241</td>\n",
       "    </tr>\n",
       "    <tr>\n",
       "      <th>U</th>\n",
       "      <td>0.017241</td>\n",
       "    </tr>\n",
       "    <tr>\n",
       "      <th>a</th>\n",
       "      <td>0.051724</td>\n",
       "    </tr>\n",
       "    <tr>\n",
       "      <th>d</th>\n",
       "      <td>0.017241</td>\n",
       "    </tr>\n",
       "    <tr>\n",
       "      <th>e</th>\n",
       "      <td>0.051724</td>\n",
       "    </tr>\n",
       "    <tr>\n",
       "      <th>f</th>\n",
       "      <td>0.017241</td>\n",
       "    </tr>\n",
       "    <tr>\n",
       "      <th>g</th>\n",
       "      <td>0.017241</td>\n",
       "    </tr>\n",
       "    <tr>\n",
       "      <th>i</th>\n",
       "      <td>0.120690</td>\n",
       "    </tr>\n",
       "    <tr>\n",
       "      <th>l</th>\n",
       "      <td>0.034483</td>\n",
       "    </tr>\n",
       "    <tr>\n",
       "      <th>m</th>\n",
       "      <td>0.034483</td>\n",
       "    </tr>\n",
       "    <tr>\n",
       "      <th>n</th>\n",
       "      <td>0.034483</td>\n",
       "    </tr>\n",
       "    <tr>\n",
       "      <th>o</th>\n",
       "      <td>0.068966</td>\n",
       "    </tr>\n",
       "    <tr>\n",
       "      <th>p</th>\n",
       "      <td>0.034483</td>\n",
       "    </tr>\n",
       "    <tr>\n",
       "      <th>r</th>\n",
       "      <td>0.051724</td>\n",
       "    </tr>\n",
       "    <tr>\n",
       "      <th>s</th>\n",
       "      <td>0.103448</td>\n",
       "    </tr>\n",
       "    <tr>\n",
       "      <th>t</th>\n",
       "      <td>0.017241</td>\n",
       "    </tr>\n",
       "    <tr>\n",
       "      <th>v</th>\n",
       "      <td>0.034483</td>\n",
       "    </tr>\n",
       "    <tr>\n",
       "      <th>w</th>\n",
       "      <td>0.017241</td>\n",
       "    </tr>\n",
       "    <tr>\n",
       "      <th>y</th>\n",
       "      <td>0.017241</td>\n",
       "    </tr>\n",
       "  </tbody>\n",
       "</table>\n",
       "</div>"
      ],
      "text/plain": [
       "     0.189655\n",
       "A    0.017241\n",
       "S    0.034483\n",
       "T    0.017241\n",
       "U    0.017241\n",
       "a    0.051724\n",
       "d    0.017241\n",
       "e    0.051724\n",
       "f    0.017241\n",
       "g    0.017241\n",
       "i    0.120690\n",
       "l    0.034483\n",
       "m    0.034483\n",
       "n    0.034483\n",
       "o    0.068966\n",
       "p    0.034483\n",
       "r    0.051724\n",
       "s    0.103448\n",
       "t    0.017241\n",
       "v    0.034483\n",
       "w    0.017241\n",
       "y    0.017241\n",
       "Name: , dtype: float64"
      ]
     },
     "execution_count": 55,
     "metadata": {},
     "output_type": "execute_result"
    }
   ],
   "source": [
    "letters = Pmf.from_seq(list('mississippi is a long river of USA and Tom Sawyer loves it')) \n",
    "letters"
   ]
  },
  {
   "cell_type": "code",
   "execution_count": 56,
   "metadata": {},
   "outputs": [],
   "source": [
    "from scipy.stats import norm\n",
    "N = norm()   # Normal Distribution\n",
    "\n",
    "from scipy.stats import bernoulli\n",
    "B = bernoulli(p=0.2)   # Bernoulli Distribution with p=0.2\n",
    "\n",
    "from scipy.stats import binom\n",
    "D = binom(p=0.1, n=50)   # Binomial Distribution with p=0.1, n=50"
   ]
  },
  {
   "cell_type": "code",
   "execution_count": 57,
   "metadata": {},
   "outputs": [],
   "source": [
    "COIN = binom(n=2, p=0.5)"
   ]
  },
  {
   "cell_type": "code",
   "execution_count": 58,
   "metadata": {},
   "outputs": [
    {
     "data": {
      "text/plain": [
       "0.25"
      ]
     },
     "execution_count": 58,
     "metadata": {},
     "output_type": "execute_result"
    }
   ],
   "source": [
    "COIN.pmf(2)"
   ]
  },
  {
   "cell_type": "code",
   "execution_count": 59,
   "metadata": {},
   "outputs": [
    {
     "data": {
      "text/plain": [
       "array([1, 1, 1, 1, 0, 0, 1, 1, 1, 1, 1, 1, 1, 0, 1, 1, 0, 2, 1, 1, 1, 2,\n",
       "       2, 2, 2, 1, 2, 2, 1, 0, 1, 2, 0, 1, 0, 0, 0, 0, 1, 1, 1, 1, 1, 0,\n",
       "       0, 1, 1, 2, 0, 1])"
      ]
     },
     "execution_count": 59,
     "metadata": {},
     "output_type": "execute_result"
    }
   ],
   "source": [
    "COIN.rvs(50)"
   ]
  },
  {
   "cell_type": "code",
   "execution_count": 60,
   "metadata": {},
   "outputs": [],
   "source": [
    "import numpy as np\n",
    "import matplotlib.pyplot as plt\n",
    "import pandas as pd"
   ]
  },
  {
   "cell_type": "code",
   "execution_count": 61,
   "metadata": {},
   "outputs": [
    {
     "name": "stdout",
     "output_type": "stream",
     "text": [
      "Cumulative sum of probabilities: [0.02777778 0.08333333 0.16666667 0.27777778 0.41666667 0.58333333\n",
      " 0.72222222 0.83333333 0.91666667 0.97222222 1.        ]\n"
     ]
    }
   ],
   "source": [
    "# Define the values and the probability distribution\n",
    "val = np.arange(2, 13, 1)  # Sequence from 2 to 12\n",
    "prob = np.array([1/36, 2/36, 3/36, 4/36, 5/36, 6/36, 5/36, 4/36, 3/36, 2/36, 1/36])\n",
    "\n",
    "# Cumulative sum of the probability distribution\n",
    "cumsum_prob = np.cumsum(prob)\n",
    "print(\"Cumulative sum of probabilities:\", cumsum_prob)"
   ]
  },
  {
   "cell_type": "code",
   "execution_count": 62,
   "metadata": {},
   "outputs": [],
   "source": [
    "# Define the function f(x) which computes the sum of probabilities for each value in val\n",
    "def f(x):\n",
    "    return np.sum(prob[val == x])\n",
    "\n",
    "# Vectorize the function f for the entire val range\n",
    "f_vec = np.vectorize(f)"
   ]
  },
  {
   "cell_type": "code",
   "execution_count": 63,
   "metadata": {},
   "outputs": [],
   "source": [
    "# Define the function F(x) which computes the cumulative sum of probabilities up to x\n",
    "def F(x):\n",
    "    return np.sum(prob[val <= x])\n",
    "\n",
    "# Vectorize the function F for the entire val range\n",
    "F_vec = np.vectorize(F)"
   ]
  },
  {
   "cell_type": "code",
   "execution_count": 64,
   "metadata": {},
   "outputs": [
    {
     "data": {
      "image/png": "[encoded data removed]",
      "text/plain": [
       "<Figure size 720x432 with 1 Axes>"
      ]
     },
     "metadata": {
      "needs_background": "light"
     },
     "output_type": "display_data"
    }
   ],
   "source": [
    "# Plot the function f (PMF)\n",
    "plt.figure(figsize=(10, 6))\n",
    "plt.step(val, f_vec(val), where='mid', label='f(x)', linestyle='-', color='b')\n",
    "plt.scatter(val, f_vec(val), color='b')\n",
    "plt.title('Probability Mass Function (f(x))')\n",
    "plt.xlabel('Value')\n",
    "plt.ylabel('f(x)')\n",
    "plt.grid(True)\n",
    "plt.show()"
   ]
  },
  {
   "cell_type": "code",
   "execution_count": 65,
   "metadata": {},
   "outputs": [
    {
     "data": {
      "image/png": "[encoded data removed]",
      "text/plain": [
       "<Figure size 720x432 with 1 Axes>"
      ]
     },
     "metadata": {
      "needs_background": "light"
     },
     "output_type": "display_data"
    }
   ],
   "source": [
    "# Plot the function F (CDF)\n",
    "x_vals = np.array([min(val)-1, *val, max(val)+1])  # Auxiliary variable for extended range\n",
    "plt.figure(figsize=(10, 6))\n",
    "plt.step(x_vals, F_vec(x_vals), where='mid', label='F(x)', linestyle='-', color='r')\n",
    "plt.scatter(val, F_vec(val), color='r')\n",
    "plt.title('Cumulative Distribution Function (F(x))')\n",
    "plt.xlabel('Value')\n",
    "plt.ylabel('F(x)')\n",
    "plt.grid(True)\n",
    "plt.show()"
   ]
  },
  {
   "cell_type": "code",
   "execution_count": 66,
   "metadata": {},
   "outputs": [],
   "source": [
    "# Function to compute the percentile (similar to the R version)\n",
    "def percentile(p):\n",
    "    for a in val:\n",
    "        if F(a) >= p:    \n",
    "            return a\n",
    "percentile_vec = np.vectorize(percentile)\n",
    "\n",
    "## Aquí es importante observar que val se presenta ordenado de menor a mayor \n",
    "## y se lee (con el for) de izquierda a derecha"
   ]
  },
  {
   "cell_type": "code",
   "execution_count": 67,
   "metadata": {},
   "outputs": [
    {
     "data": {
      "text/plain": [
       "array([5, 7, 9])"
      ]
     },
     "execution_count": 67,
     "metadata": {},
     "output_type": "execute_result"
    }
   ],
   "source": [
    "percentile_vec([0.25,0.5,0.75])"
   ]
  },
  {
   "cell_type": "code",
   "execution_count": 68,
   "metadata": {},
   "outputs": [
    {
     "name": "stdout",
     "output_type": "stream",
     "text": [
      "Media of Z: 6.999999999999998\n",
      "Variance of Z: 5.833333333333333\n",
      "Standard deviation of Z: 2.41522945769824\n"
     ]
    }
   ],
   "source": [
    "# Compute the mean of X (expected value)\n",
    "media_X = np.sum(val * f_vec(val))\n",
    "print(\"Media of Z:\", media_X)\n",
    "\n",
    "# Compute the variance of X\n",
    "var_X = np.sum((val - media_X)**2 * f_vec(val))\n",
    "print(\"Variance of Z:\", var_X)\n",
    "\n",
    "# Compute the standard deviation of X\n",
    "dt_X = np.sqrt(var_X)\n",
    "print(\"Standard deviation of Z:\", dt_X)"
   ]
  },
  {
   "cell_type": "code",
   "execution_count": 69,
   "metadata": {},
   "outputs": [
    {
     "name": "stdout",
     "output_type": "stream",
     "text": [
      "Frequency table: 2     0.0263\n",
      "3     0.0572\n",
      "4     0.0792\n",
      "5     0.1132\n",
      "6     0.1457\n",
      "7     0.1623\n",
      "8     0.1397\n",
      "9     0.1066\n",
      "10    0.0845\n",
      "11    0.0550\n",
      "12    0.0303\n",
      "dtype: float64\n",
      "Cumulative frequency table: 2     0.0263\n",
      "3     0.0835\n",
      "4     0.1627\n",
      "5     0.2759\n",
      "6     0.4216\n",
      "7     0.5839\n",
      "8     0.7236\n",
      "9     0.8302\n",
      "10    0.9147\n",
      "11    0.9697\n",
      "12    1.0000\n",
      "dtype: float64\n"
     ]
    }
   ],
   "source": [
    "# Generate 10000 samples from the distribution defined by prob\n",
    "datos = np.random.choice(val, size=10000, p=prob, replace=True)\n",
    "\n",
    "# Frequency table and its cumulative sum\n",
    "tabla_frec = pd.Series(datos).value_counts(normalize=True).sort_index()\n",
    "tabla_frec_acum = tabla_frec.cumsum()\n",
    "\n",
    "print(\"Frequency table:\", tabla_frec)\n",
    "print(\"Cumulative frequency table:\", tabla_frec_acum)"
   ]
  },
  {
   "cell_type": "code",
   "execution_count": 70,
   "metadata": {},
   "outputs": [
    {
     "data": {
      "image/png": "[encoded data removed]",
      "text/plain": [
       "<Figure size 720x432 with 1 Axes>"
      ]
     },
     "metadata": {
      "needs_background": "light"
     },
     "output_type": "display_data"
    }
   ],
   "source": [
    "# Plot the frequency table\n",
    "plt.figure(figsize=(10, 6))\n",
    "tabla_frec.plot(kind='bar', color='skyblue')\n",
    "plt.title('Frequency Table')\n",
    "plt.xlabel('Value')\n",
    "plt.ylabel('Relative Frequency')\n",
    "plt.show()"
   ]
  },
  {
   "cell_type": "code",
   "execution_count": 71,
   "metadata": {},
   "outputs": [
    {
     "data": {
      "image/png": "[encoded data removed]",
      "text/plain": [
       "<Figure size 720x432 with 1 Axes>"
      ]
     },
     "metadata": {
      "needs_background": "light"
     },
     "output_type": "display_data"
    }
   ],
   "source": [
    "# Plot the cumulative frequency table\n",
    "plt.figure(figsize=(10, 6))\n",
    "tabla_frec_acum.plot(kind='bar', color='orange')\n",
    "plt.title('Cumulative Frequency Table')\n",
    "plt.xlabel('Value')\n",
    "plt.ylabel('Cumulative Frequency')\n",
    "plt.show()"
   ]
  },
  {
   "cell_type": "code",
   "execution_count": 72,
   "metadata": {},
   "outputs": [
    {
     "ename": "NameError",
     "evalue": "name 'media_Z' is not defined",
     "output_type": "error",
     "traceback": [
      "\u001b[0;31m---------------------------------------------------------------------------\u001b[0m",
      "\u001b[0;31mNameError\u001b[0m                                 Traceback (most recent call last)",
      "\u001b[0;32m<ipython-input-72-30984b639f4e>\u001b[0m in \u001b[0;36m<module>\u001b[0;34m\u001b[0m\n\u001b[1;32m      1\u001b[0m \u001b[0;31m# Compare the theoretical and empirical mean, variance, and standard deviation\u001b[0m\u001b[0;34m\u001b[0m\u001b[0;34m\u001b[0m\u001b[0;34m\u001b[0m\u001b[0m\n\u001b[0;32m----> 2\u001b[0;31m \u001b[0mprint\u001b[0m\u001b[0;34m(\u001b[0m\u001b[0;34mf\"Empirical Mean: {np.mean(datos)}, Theoretical Mean: {media_Z}\"\u001b[0m\u001b[0;34m)\u001b[0m\u001b[0;34m\u001b[0m\u001b[0;34m\u001b[0m\u001b[0m\n\u001b[0m\u001b[1;32m      3\u001b[0m \u001b[0mprint\u001b[0m\u001b[0;34m(\u001b[0m\u001b[0;34mf\"Empirical Variance: {np.var(datos)}, Theoretical Variance: {var_Z}\"\u001b[0m\u001b[0;34m)\u001b[0m\u001b[0;34m\u001b[0m\u001b[0;34m\u001b[0m\u001b[0m\n\u001b[1;32m      4\u001b[0m \u001b[0mprint\u001b[0m\u001b[0;34m(\u001b[0m\u001b[0;34mf\"Empirical Standard Deviation: {np.std(datos)}, Theoretical Standard Deviation: {dt_Z}\"\u001b[0m\u001b[0;34m)\u001b[0m\u001b[0;34m\u001b[0m\u001b[0;34m\u001b[0m\u001b[0m\n\u001b[1;32m      5\u001b[0m \u001b[0;34m\u001b[0m\u001b[0m\n",
      "\u001b[0;31mNameError\u001b[0m: name 'media_Z' is not defined"
     ]
    }
   ],
   "source": [
    "# Compare the theoretical and empirical mean, variance, and standard deviation\n",
    "print(f\"Empirical Mean: {np.mean(datos)}, Theoretical Mean: {media_Z}\")\n",
    "print(f\"Empirical Variance: {np.var(datos)}, Theoretical Variance: {var_Z}\")\n",
    "print(f\"Empirical Standard Deviation: {np.std(datos)}, Theoretical Standard Deviation: {dt_Z}\")\n",
    "\n",
    "# Quantiles (25th, 50th, 75th percentiles)\n",
    "Q = np.quantile(datos, [0.25, 0.5, 0.75])\n",
    "print(\"Empirical Quantiles (25%, 50%, 75%):\", Q)\n",
    "\n",
    "# Theoretical percentiles\n",
    "percentiles = np.array([percentile(0.25), percentile(0.5), percentile(0.75)])\n",
    "print(\"Theoretical Percentiles (25%, 50%, 75%):\", percentiles)"
   ]
  },
  {
   "cell_type": "code",
   "execution_count": null,
   "metadata": {},
   "outputs": [],
   "source": []
  }
 ],
 "metadata": {
  "kernelspec": {
   "display_name": "Python 3",
   "language": "python",
   "name": "python3"
  },
  "language_info": {
   "codemirror_mode": {
    "name": "ipython",
    "version": 3
   },
   "file_extension": ".py",
   "mimetype": "text/x-python",
   "name": "python",
   "nbconvert_exporter": "python",
   "pygments_lexer": "ipython3",
   "version": "3.7.6"
  }
 },
 "nbformat": 4,
 "nbformat_minor": 4
}
