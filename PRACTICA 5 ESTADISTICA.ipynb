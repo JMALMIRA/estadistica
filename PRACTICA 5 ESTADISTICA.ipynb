{
 "cells": [
  {
   "cell_type": "markdown",
   "metadata": {},
   "source": [
    "<center>\n",
    "<strong><font size=\"5\">Práctica 5</font></strong>\n",
    "</center>\n",
    "\n",
    "<span style=\"color:blue\">Ej 1. Usa `random.choices()` para:</span>\n",
    "\n",
    "<span style=\"color:blue\">a) Simular una moneda.</span>\n"
   ]
  },
  {
   "cell_type": "code",
   "execution_count": 5,
   "metadata": {},
   "outputs": [],
   "source": [
    "import numpy as np\n",
    "import pandas as pd\n",
    "import matplotlib.pyplot as plt\n",
    "from collections import Counter"
   ]
  },
  {
   "cell_type": "code",
   "execution_count": 7,
   "metadata": {},
   "outputs": [
    {
     "name": "stdout",
     "output_type": "stream",
     "text": [
      "a) Moneda: cruz\n"
     ]
    }
   ],
   "source": [
    "import random\n",
    "\n",
    "moneda = [\"cara\", \"cruz\"]\n",
    "resultado = np.random.choice(moneda)\n",
    "print(\"a) Moneda:\", resultado)\n"
   ]
  },
  {
   "cell_type": "markdown",
   "metadata": {},
   "source": [
    "<span style=\"color:blue\">b) Simular un dado.</span>"
   ]
  },
  {
   "cell_type": "code",
   "execution_count": 14,
   "metadata": {},
   "outputs": [
    {
     "name": "stdout",
     "output_type": "stream",
     "text": [
      "Resultado del dado: 3\n"
     ]
    }
   ],
   "source": [
    "dado = [1,2,3,4,5,6]\n",
    "resultado = random.choice(dado)\n",
    "print(\"Resultado del dado:\", resultado)\n"
   ]
  },
  {
   "cell_type": "markdown",
   "metadata": {},
   "source": [
    "<span style=\"color:blue\">c) Simular una moneda con P(cara) = 0.4</span>"
   ]
  },
  {
   "cell_type": "code",
   "execution_count": 9,
   "metadata": {},
   "outputs": [
    {
     "name": "stdout",
     "output_type": "stream",
     "text": [
      "c) Moneda sesgada: cara\n"
     ]
    }
   ],
   "source": [
    "moneda = [\"cara\", \"cruz\"]\n",
    "resultado = np.random.choice(moneda, p=[0.4, 0.6])\n",
    "print(\"c) Moneda sesgada:\", resultado)\n"
   ]
  },
  {
   "cell_type": "markdown",
   "metadata": {},
   "source": [
    "<span style=\"color:blue\">d) Repite el experimento de c) 1000 veces y estudia la proporción.</span>"
   ]
  },
  {
   "cell_type": "code",
   "execution_count": 15,
   "metadata": {},
   "outputs": [
    {
     "name": "stdout",
     "output_type": "stream",
     "text": [
      "d) Proporciones: {'cara': 0.396, 'cruz': 0.604}\n"
     ]
    }
   ],
   "source": [
    "from collections import Counter\n",
    "\n",
    "moneda = [\"cara\", \"cruz\"]\n",
    "resultados = np.random.choice(moneda, size=1000, p=[0.4, 0.6])\n",
    "proporcion = dict(Counter(resultados))\n",
    "print(\"d) Proporciones:\", {k: v/1000 for k, v in proporcion.items()})\n"
   ]
  },
  {
   "cell_type": "code",
   "execution_count": 16,
   "metadata": {},
   "outputs": [
    {
     "data": {
      "image/png": "[encoded data removed]",
      "text/plain": [
       "<Figure size 432x288 with 1 Axes>"
      ]
     },
     "metadata": {
      "needs_background": "light"
     },
     "output_type": "display_data"
    }
   ],
   "source": [
    "# Frecuencias acumuladas\n",
    "frec_cara = []\n",
    "frec_cruz = []\n",
    "for i in range(1, 1001):\n",
    "    muestra = resultados[:i]\n",
    "    c = np.sum(muestra == \"cara\")\n",
    "    z = np.sum(muestra == \"cruz\")\n",
    "    frec_cara.append(c / i)\n",
    "    frec_cruz.append(z / i)\n",
    "\n",
    "plt.plot(frec_cara, label=\"cara\", color=\"red\")\n",
    "plt.plot(frec_cruz, label=\"cruz\", color=\"gray\")\n",
    "plt.ylim(0, 1)\n",
    "plt.xlabel(\"Evolución frec. rel.\")\n",
    "plt.legend()\n",
    "plt.show()"
   ]
  },
  {
   "cell_type": "code",
   "execution_count": 17,
   "metadata": {},
   "outputs": [
    {
     "name": "stdout",
     "output_type": "stream",
     "text": [
      "\n",
      "Ejercicio 2:\n",
      "a) P(R): 0.5396825396825397\n"
     ]
    }
   ],
   "source": [
    "# Ejercicio 2: Urnas\n",
    "print(\"\\nEjercicio 2:\")\n",
    "\n",
    "U1 = [\"R\"] * 2 + [\"B\"] * 4\n",
    "U2 = [\"R\"] * 5 + [\"B\"] * 2\n",
    "U3 = [\"R\"] * 4 + [\"B\"] * 3\n",
    "\n",
    "PR_U1 = 2 / 6\n",
    "PR_U2 = 5 / 7\n",
    "PR_U3 = 4 / 7\n",
    "PR = (1/3) * PR_U1 + (1/3) * PR_U2 + (1/3) * PR_U3\n",
    "print(\"a) P(R):\", PR)"
   ]
  },
  {
   "cell_type": "code",
   "execution_count": 18,
   "metadata": {},
   "outputs": [
    {
     "name": "stdout",
     "output_type": "stream",
     "text": [
      "b) Bola extraída: R\n"
     ]
    }
   ],
   "source": [
    "# b) Simular experimento\n",
    "urnas = [U1, U2, U3]\n",
    "urna = np.random.choice(urnas)\n",
    "bola = np.random.choice(urna)\n",
    "print(\"b) Bola extraída:\", bola)"
   ]
  },
  {
   "cell_type": "code",
   "execution_count": 19,
   "metadata": {},
   "outputs": [
    {
     "name": "stdout",
     "output_type": "stream",
     "text": [
      "c) Frecuencia de rojas: 0.545\n"
     ]
    }
   ],
   "source": [
    "# c) 1000 repeticiones\n",
    "bolas = []\n",
    "for _ in range(1000):\n",
    "    urna = np.random.choice(urnas)\n",
    "    bola = np.random.choice(urna)\n",
    "    bolas.append(bola)\n",
    "frecuencia_R = bolas.count(\"R\") / len(bolas)\n",
    "print(\"c) Frecuencia de rojas:\", frecuencia_R)"
   ]
  },
  {
   "cell_type": "code",
   "execution_count": 20,
   "metadata": {},
   "outputs": [
    {
     "name": "stdout",
     "output_type": "stream",
     "text": [
      "d) P(2 rojas): 0.2761904761904762\n"
     ]
    }
   ],
   "source": [
    "# d) Dos bolas\n",
    "def P2R(U):\n",
    "    return (Counter(U)[\"R\"] * (Counter(U)[\"R\"] - 1)) / (len(U)*(len(U)-1))\n",
    "\n",
    "P2R_U1 = P2R(U1)\n",
    "P2R_U2 = P2R(U2)\n",
    "P2R_U3 = P2R(U3)\n",
    "P2R_total = (1/3)*P2R_U1 + (1/3)*P2R_U2 + (1/3)*P2R_U3\n",
    "print(\"d) P(2 rojas):\", P2R_total)"
   ]
  },
  {
   "cell_type": "code",
   "execution_count": 21,
   "metadata": {},
   "outputs": [
    {
     "name": "stdout",
     "output_type": "stream",
     "text": [
      "Frecuencia de 2 rojas: 0.275\n"
     ]
    }
   ],
   "source": [
    "bolasRojas = []\n",
    "for _ in range(1000):\n",
    "    urna = np.random.choice(urnas)\n",
    "    bolas_extraidas = np.random.choice(urna, 2, replace=False)\n",
    "    rojas = list(bolas_extraidas).count(\"R\")\n",
    "    bolasRojas.append(rojas)\n",
    "\n",
    "frecuencia_2R = bolasRojas.count(2) / len(bolasRojas)\n",
    "print(\"Frecuencia de 2 rojas:\", frecuencia_2R)"
   ]
  },
  {
   "cell_type": "code",
   "execution_count": 22,
   "metadata": {},
   "outputs": [
    {
     "name": "stdout",
     "output_type": "stream",
     "text": [
      "\n",
      "Ejercicio 3:\n",
      "a) P(U1 | R): 0.20588235294117646\n"
     ]
    }
   ],
   "source": [
    "# Ejercicio 3\n",
    "print(\"\\nEjercicio 3:\")\n",
    "\n",
    "PU1_R = (PR_U1 * (1/3)) / PR\n",
    "print(\"a) P(U1 | R):\", PU1_R)\n",
    "\n"
   ]
  },
  {
   "cell_type": "code",
   "execution_count": 23,
   "metadata": {},
   "outputs": [
    {
     "name": "stdout",
     "output_type": "stream",
     "text": [
      "b) Urna: 1 Bola: B\n"
     ]
    }
   ],
   "source": [
    "# b) Simular extracción de bola\n",
    "urna_index = np.random.choice([0,1,2])\n",
    "urna = urnas[urna_index]\n",
    "bola = np.random.choice(urna)\n",
    "print(\"b) Urna:\", urna_index + 1, \"Bola:\", bola)"
   ]
  },
  {
   "cell_type": "code",
   "execution_count": 25,
   "metadata": {},
   "outputs": [
    {
     "data": {
      "text/html": [
       "<div>\n",
       "<style scoped>\n",
       "    .dataframe tbody tr th:only-of-type {\n",
       "        vertical-align: middle;\n",
       "    }\n",
       "\n",
       "    .dataframe tbody tr th {\n",
       "        vertical-align: top;\n",
       "    }\n",
       "\n",
       "    .dataframe thead th {\n",
       "        text-align: right;\n",
       "    }\n",
       "</style>\n",
       "<table border=\"1\" class=\"dataframe\">\n",
       "  <thead>\n",
       "    <tr style=\"text-align: right;\">\n",
       "      <th></th>\n",
       "      <th>urnas</th>\n",
       "      <th>bolas</th>\n",
       "    </tr>\n",
       "  </thead>\n",
       "  <tbody>\n",
       "    <tr>\n",
       "      <th>0</th>\n",
       "      <td>3</td>\n",
       "      <td>R</td>\n",
       "    </tr>\n",
       "    <tr>\n",
       "      <th>1</th>\n",
       "      <td>1</td>\n",
       "      <td>B</td>\n",
       "    </tr>\n",
       "    <tr>\n",
       "      <th>2</th>\n",
       "      <td>3</td>\n",
       "      <td>B</td>\n",
       "    </tr>\n",
       "    <tr>\n",
       "      <th>3</th>\n",
       "      <td>1</td>\n",
       "      <td>B</td>\n",
       "    </tr>\n",
       "    <tr>\n",
       "      <th>4</th>\n",
       "      <td>1</td>\n",
       "      <td>R</td>\n",
       "    </tr>\n",
       "    <tr>\n",
       "      <th>...</th>\n",
       "      <td>...</td>\n",
       "      <td>...</td>\n",
       "    </tr>\n",
       "    <tr>\n",
       "      <th>9995</th>\n",
       "      <td>1</td>\n",
       "      <td>R</td>\n",
       "    </tr>\n",
       "    <tr>\n",
       "      <th>9996</th>\n",
       "      <td>2</td>\n",
       "      <td>R</td>\n",
       "    </tr>\n",
       "    <tr>\n",
       "      <th>9997</th>\n",
       "      <td>2</td>\n",
       "      <td>B</td>\n",
       "    </tr>\n",
       "    <tr>\n",
       "      <th>9998</th>\n",
       "      <td>2</td>\n",
       "      <td>R</td>\n",
       "    </tr>\n",
       "    <tr>\n",
       "      <th>9999</th>\n",
       "      <td>1</td>\n",
       "      <td>B</td>\n",
       "    </tr>\n",
       "  </tbody>\n",
       "</table>\n",
       "<p>10000 rows × 2 columns</p>\n",
       "</div>"
      ],
      "text/plain": [
       "      urnas bolas\n",
       "0         3     R\n",
       "1         1     B\n",
       "2         3     B\n",
       "3         1     B\n",
       "4         1     R\n",
       "...     ...   ...\n",
       "9995      1     R\n",
       "9996      2     R\n",
       "9997      2     B\n",
       "9998      2     R\n",
       "9999      1     B\n",
       "\n",
       "[10000 rows x 2 columns]"
      ]
     },
     "execution_count": 25,
     "metadata": {},
     "output_type": "execute_result"
    }
   ],
   "source": [
    "# c) 10000 repeticiones\n",
    "urnasElegidas = []\n",
    "bolasCogidas = []\n",
    "for _ in range(10000):\n",
    "    i = np.random.choice([0,1,2])\n",
    "    bola = np.random.choice(urnas[i])\n",
    "    urnasElegidas.append(i + 1)\n",
    "    bolasCogidas.append(bola)\n",
    "\n",
    "df = pd.DataFrame({\"urnas\": urnasElegidas, \"bolas\": bolasCogidas})\n",
    "df"
   ]
  },
  {
   "cell_type": "code",
   "execution_count": 26,
   "metadata": {},
   "outputs": [
    {
     "name": "stdout",
     "output_type": "stream",
     "text": [
      "d) Frecuencia U1 dado R: 0.2035268185157972\n"
     ]
    }
   ],
   "source": [
    "# d) Filtrar por bolas rojas\n",
    "df_rojas = df[df[\"bolas\"] == \"R\"]\n",
    "freq_U1_given_R = len(df_rojas[df_rojas[\"urnas\"] == 1]) / len(df_rojas)\n",
    "print(\"d) Frecuencia U1 dado R:\", freq_U1_given_R)"
   ]
  },
  {
   "cell_type": "code",
   "execution_count": 27,
   "metadata": {},
   "outputs": [
    {
     "name": "stdout",
     "output_type": "stream",
     "text": [
      "\n",
      "Ejercicio 4:\n"
     ]
    }
   ],
   "source": [
    "# Ejercicio 4: Algoritmo Bayesiano\n",
    "print(\"\\nEjercicio 4:\")\n",
    "\n",
    "probRoja = np.array([2/6, 5/7, 4/7])\n",
    "probBlanca = 1 - probRoja\n",
    "probs = np.array([1/3, 1/3, 1/3])"
   ]
  },
  {
   "cell_type": "code",
   "execution_count": 34,
   "metadata": {},
   "outputs": [
    {
     "name": "stdout",
     "output_type": "stream",
     "text": [
      "2\n"
     ]
    },
    {
     "data": {
      "text/plain": [
       "array(['B', 'R', 'R', 'B', 'B', 'R', 'B', 'B', 'R', 'B', 'R', 'B', 'R',\n",
       "       'R', 'R', 'R', 'R', 'R', 'B', 'R', 'R', 'R', 'R', 'R', 'R', 'B',\n",
       "       'R', 'B', 'R', 'R', 'R', 'R', 'B', 'R', 'R', 'R', 'R', 'R', 'R',\n",
       "       'R', 'R', 'B', 'B', 'R', 'R', 'B', 'B', 'R', 'R', 'R', 'R', 'R',\n",
       "       'R', 'R', 'R', 'B', 'R', 'R', 'R', 'R', 'R', 'R', 'R', 'R', 'R',\n",
       "       'R', 'R', 'R', 'R', 'R', 'R', 'R', 'R', 'B', 'R', 'R', 'R', 'B',\n",
       "       'R', 'R', 'R', 'R', 'B', 'R', 'R', 'R', 'R', 'R', 'R', 'R', 'B',\n",
       "       'R', 'R', 'R', 'B', 'R', 'B', 'R', 'B', 'B', 'R', 'B', 'R', 'R',\n",
       "       'R', 'R', 'R', 'B', 'B', 'R', 'R', 'R', 'R', 'R', 'B', 'R', 'B',\n",
       "       'R', 'R', 'R', 'R', 'R', 'B', 'R', 'R', 'R', 'R', 'R', 'R', 'B',\n",
       "       'R', 'B', 'R', 'R', 'B', 'R', 'B', 'R', 'R', 'B', 'R', 'R', 'R',\n",
       "       'R', 'R', 'R', 'B', 'R', 'R', 'B', 'R', 'B', 'R', 'B', 'R', 'B',\n",
       "       'R', 'R', 'R', 'R', 'R', 'R', 'R', 'B', 'R', 'R', 'R', 'R', 'B',\n",
       "       'R', 'B', 'B', 'R', 'B', 'R', 'R', 'R', 'B', 'R', 'B', 'R', 'B',\n",
       "       'R', 'R', 'R', 'B', 'R', 'R', 'R', 'R', 'B', 'R', 'B', 'B', 'B',\n",
       "       'B', 'R', 'R', 'R', 'R'], dtype='<U1')"
      ]
     },
     "execution_count": 34,
     "metadata": {},
     "output_type": "execute_result"
    }
   ],
   "source": [
    "# b) Elegir urna y extraer bolas\n",
    "urnas = [U1, U2, U3]\n",
    "numero = np.random.choice([0,1,2])\n",
    "urna = urnas[numero]\n",
    "bolas = np.random.choice(urna, 200, replace=True)\n",
    "print(numero+1)\n",
    "bolas"
   ]
  },
  {
   "cell_type": "code",
   "execution_count": 35,
   "metadata": {},
   "outputs": [
    {
     "name": "stdout",
     "output_type": "stream",
     "text": [
      "Urna elegida: 2\n",
      "Probabilidades actualizadas: [2.20376600e-37 9.58434638e-01 4.15653623e-02]\n"
     ]
    },
    {
     "data": {
      "image/png": "[encoded data removed]",
      "text/plain": [
       "<Figure size 432x288 with 1 Axes>"
      ]
     },
     "metadata": {
      "needs_background": "light"
     },
     "output_type": "display_data"
    }
   ],
   "source": [
    "# c y d) Actualizar con Bayes\n",
    "for bola in bolas:\n",
    "    if bola == \"R\":\n",
    "        probs *= probRoja\n",
    "    else:\n",
    "        probs *= probBlanca\n",
    "    probs /= np.sum(probs)\n",
    "\n",
    "print(\"Urna elegida:\", numero+1)\n",
    "print(\"Probabilidades actualizadas:\", probs)\n",
    "plt.bar([\"U1\", \"U2\", \"U3\"], probs)\n",
    "plt.title(\"Creencias finales tras 200 bolas\")\n",
    "plt.show()"
   ]
  },
  {
   "cell_type": "code",
   "execution_count": 36,
   "metadata": {},
   "outputs": [
    {
     "data": {
      "image/png": "[encoded data removed]",
      "text/plain": [
       "<Figure size 432x288 with 1 Axes>"
      ]
     },
     "metadata": {
      "needs_background": "light"
     },
     "output_type": "display_data"
    }
   ],
   "source": [
    "# e) Evolución de las creencias\n",
    "probs = np.array([1/3, 1/3, 1/3])\n",
    "evol = [probs.copy()]\n",
    "for bola in bolas:\n",
    "    if bola == \"R\":\n",
    "        probs *= probRoja\n",
    "    else:\n",
    "        probs *= probBlanca\n",
    "    probs /= np.sum(probs)\n",
    "    evol.append(probs.copy())\n",
    "\n",
    "evol = np.array(evol)\n",
    "plt.plot(evol[:, 0], label=\"U1\", color=\"green\")\n",
    "plt.plot(evol[:, 1], label=\"U2\", color=\"blue\")\n",
    "plt.plot(evol[:, 2], label=\"U3\", color=\"orange\")\n",
    "plt.legend()\n",
    "plt.title(f\"Evolución de creencias (urna real: U{numero+1})\")\n",
    "plt.xlabel(\"Número de bolas observadas\")\n",
    "plt.ylabel(\"Probabilidad posterior\")\n",
    "plt.show()"
   ]
  },
  {
   "cell_type": "code",
   "execution_count": 37,
   "metadata": {},
   "outputs": [
    {
     "data": {
      "image/png": "[encoded data removed]",
      "text/plain": [
       "<Figure size 432x288 with 1 Axes>"
      ]
     },
     "metadata": {
      "needs_background": "light"
     },
     "output_type": "display_data"
    }
   ],
   "source": [
    "\n",
    "# f) Enfoque frecuentista\n",
    "frecuencia_rojas = []\n",
    "frecuencia_blancas = []\n",
    "for i in range(1, 201):\n",
    "    frecuencia_rojas.append(list(bolas[:i]).count(\"R\") / i)\n",
    "    frecuencia_blancas.append(list(bolas[:i]).count(\"B\") / i)\n",
    "\n",
    "plt.plot(frecuencia_rojas, label=\"R\", color=\"red\")\n",
    "plt.plot(frecuencia_blancas, label=\"B\", color=\"gray\")\n",
    "plt.axhline(2/6, color=\"green\", linestyle=\"--\")\n",
    "plt.axhline(5/7, color=\"blue\", linestyle=\"--\")\n",
    "plt.axhline(4/7, color=\"orange\", linestyle=\"--\")\n",
    "plt.title(\"Frecuencias relativas vs. probabilidad teórica\")\n",
    "plt.legend()\n",
    "plt.ylim(0, 1)\n",
    "plt.show()\n"
   ]
  },
  {
   "cell_type": "code",
   "execution_count": null,
   "metadata": {},
   "outputs": [],
   "source": []
  }
 ],
 "metadata": {
  "kernelspec": {
   "display_name": "Python 3",
   "language": "python",
   "name": "python3"
  },
  "language_info": {
   "codemirror_mode": {
    "name": "ipython",
    "version": 3
   },
   "file_extension": ".py",
   "mimetype": "text/x-python",
   "name": "python",
   "nbconvert_exporter": "python",
   "pygments_lexer": "ipython3",
   "version": "3.7.6"
  }
 },
 "nbformat": 4,
 "nbformat_minor": 4
}
