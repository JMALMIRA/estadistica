{
 "cells": [
  {
   "cell_type": "markdown",
   "metadata": {},
   "source": [
    "<h1> Variables aleatorias </h1>"
   ]
  },
  {
   "cell_type": "markdown",
   "metadata": {},
   "source": [
    "<strong>Definición</strong> Una variable aleatoria (v.a.) es una aplicación $X:\\Omega \\to \\mathbb{R}$, donde $\\Omega$ es el espacio muestral de un espacio de probabilidad $(\\Omega,\\Sigma,P)$. \n",
    "\n",
    "* El espacio de probabilidad no es más que la formalización matemática precisa de un experimento aleatorio, que podemos denotar por $\\mathcal{E}$. Los resultados elementales de dicho experimento son los elementos del espacio muestral $\\Omega$\n",
    "* La idea de introducir variables aleatorias es que, una vez realizado el experimento aleatorio $\\mathcal{E}$, habremos obtenido un elemento $w\\in \\Omega$ y la variable -que denotamos por $X$- nos sirve para transformar dicho resultado en un valor numérico $X(w)$. De este modo, podemos hacernos preguntas de tipo cuantitativo relacionadas con la probabilidad de que dicho valor, $X(w)$, pertenezca a cierto intervalo numérico. \n",
    "* Estas preguntas tendrán respuestas en términos de la medida de probabilidad, $P$, y su solución tendrá a menudo un enorme valor científico. \n"
   ]
  },
  {
   "cell_type": "markdown",
   "metadata": {},
   "source": [
    "Hay varios tipos de v.a. La forma más sencilla de clasificarlas es distinguir si el conjunto de posibles valores de la variable, $X(\\Omega)$, es  (o no es) un subconjunto discreto de la recta numérica:\n",
    "\n",
    "<strong> Definición </strong> La v.a. $X$ se dice:\n",
    "\n",
    "* <strong>finita</strong> si $X(\\Omega)=\\{x_1,\\cdots,x_n\\}$ es un conjunto finito de números reales. \n",
    "\n",
    "* <strong>discreta</strong> si $X(\\Omega)=\\{x_1,\\cdots,x_n,\\cdots\\}$ es una sucesión de números reales (Este caso contiene el anterior, si permitimos que los valores se repitan). \n",
    "\n",
    "* <strong>continua</strong> si $X(\\Omega)$ contiene un intervalo $]a,b[$ con a<b. "
   ]
  },
  {
   "cell_type": "markdown",
   "metadata": {},
   "source": [
    "<h2>Variables aleatorias discretas.</h2>\n",
    "\n",
    "Vamos a centrarnos en el caso de las variables aleatorias discretas. ¿Cómo se caracterizan matemáticamente? ¿Cómo se definen usando Python? ¿Cómo se trabaja con ellas? ¿Qué aspectos son relevantes para su comprensión y su uso?\n",
    "\n",
    "Supongamos que la v.a. $X$ toma los valores $X(\\Omega)=\\{x_1,\\cdots,x_n,\\cdots\\}$. Entonces todas las cuestiones que podamos hacernos sobre dicha variable van a depender de conocer los siguientes valores:\n",
    "$$p_k=P(X=x_k), \\quad k=1,2,\\cdots$$\n",
    "Dichos valores conforman lo que se conoce como <strong>\"distribución de probabilidades\"</strong> de la v.a. $X$. También se usa el término <strong> función de probabilidad de masas</strong> o pfm de la variable.  \n",
    "\n",
    "* Evidentemente, la pfm satisface que $0\\leq p_k\\leq 1$ para todo $k\\in\\{1,2,\\cdots\\}$ y, además, $$\\sum_{k=1}^{\\infty}p_k=1.$$ De hecho, cualquier sucesión de valores $p_k$ que verifica las dos propiedades anteriores define la pfm de una v.a. \n",
    "\n",
    "* En caso de que la v.a. $X$ sea finita, bastará considerar un número finito de valores $p_k$ que determinarán la pfm de la variable.\n",
    "\n",
    "* Dos v.a. discretas $X,Y$ se distribuyen igual (o comparten distribución de probabilidades) si poseen la misma función de probabilidad de masas (la notación es, en tal caso: $X\\sim Y$).  "
   ]
  },
  {
   "cell_type": "markdown",
   "metadata": {},
   "source": [
    "Supongamos que $X$ es una v.a. discreta, que toma valores en el conjunto $\\{x_1,\\cdots,x_n,\\cdots \\}$. \n",
    "Entonces tendremos que \n",
    "$$E(X)=\\sum_{i=1}^{\\infty}x_iP(X=x_i)=\\sum_{i=1}^nx_ip_i$$\n",
    "\n",
    "La <strong>esperanza o valor esperado</strong> es una medida de centralidad, que intenta resumir en un solo valor el comportamiento de la variable -el comportamiento probable o esperado-. \n",
    "\n",
    "Por otra parte, la <strong>varianza</strong> (o, mejor aún, la <strong>desviación típica</strong>) es una medida de dispersión, que muestra lo fiable que es $E(X)$ como resumen del comportamiento de la variable $X$: \n",
    "\n",
    "$$\\sigma_X^2=V(X)=E((X-E(X))^2)=\\sum_{i=1}^{\\infty}(x_i-E(X))^2p_i; \\quad \\sigma_X=\\sqrt{V(X)}$$\n",
    "\n",
    "<font color=\"red\"> <strong> Si la v.a. $X$ es finita y toma valores en el conjunto $\\{x_1,\\cdots,x_n\\}$, los cálculos son iguales, cambiando $\\infty$ por $n$ </strong> </font> \n"
   ]
  },
  {
   "cell_type": "markdown",
   "metadata": {},
   "source": [
    "<h2> Trabajar en Python con variables aleatorias discretas</h2>"
   ]
  },
  {
   "cell_type": "markdown",
   "metadata": {},
   "source": [
    "Antes de empezar, conviene cargar los paquetes que podamos necesitar"
   ]
  },
  {
   "cell_type": "code",
   "execution_count": 72,
   "metadata": {},
   "outputs": [],
   "source": [
    "import pandas as pd\n",
    "import numpy as np\n",
    "import matplotlib.pyplot as plt\n",
    "import random\n",
    "from collections import Counter"
   ]
  },
  {
   "cell_type": "markdown",
   "metadata": {},
   "source": [
    "<font color=\"blue\"> Una lista contiene los números $\\{1 , 3 , 7 , 8 , 13 , 15 , 18, 17\\}$. \n",
    "Saco un número al azar y me interesa X = ‘Número sacado’. </font>\n",
    "* <font color=\"blue\"> Analiza la variable </font>  <font color=\"green\"> (Es decir: calcula su Pmf, su función de distribución, dibuja ambas funciones, calcula la media, la varianza, la desviación típica y los cuartiles de la v.a.)</font> \n",
    "\n",
    "* <font color=\"blue\"> Calcula la probabilidad de que $X$ sea par o menor que 15. </font> \n",
    "* <font color=\"blue\"> Genera una muestra aleatoria simple de tamaño 10000 de esta variable y compara los datos obtenidos -que interpretamos como una variable estadística- con las propiedades de la variable aleatoria.  </font>"
   ]
  },
  {
   "cell_type": "markdown",
   "metadata": {},
   "source": [
    "<strong> Solución </strong> Obviamente se trata de una variable discreta que toma valores en el conjunto:"
   ]
  },
  {
   "cell_type": "code",
   "execution_count": 73,
   "metadata": {},
   "outputs": [
    {
     "data": {
      "text/plain": [
       "array([ 1,  3,  7,  8, 13, 15, 17, 18])"
      ]
     },
     "execution_count": 73,
     "metadata": {},
     "output_type": "execute_result"
    }
   ],
   "source": [
    "val=np.array([1,3,7,8,13,15,17,18])\n",
    "val"
   ]
  },
  {
   "cell_type": "markdown",
   "metadata": {},
   "source": [
    "Como no nos dan ningún tipo de información adicional, debemos suponer que la\n",
    "distribución es uniforme. Es decir, si $x_i$ es uno de los valores que aparecen en el vector val, asumimos que $P(X=x_i)=1/8$.\n",
    "\n",
    "Por tanto el vector de probabilidades asociado es:"
   ]
  },
  {
   "cell_type": "code",
   "execution_count": 74,
   "metadata": {},
   "outputs": [
    {
     "data": {
      "text/plain": [
       "array([0.125, 0.125, 0.125, 0.125, 0.125, 0.125, 0.125, 0.125])"
      ]
     },
     "execution_count": 74,
     "metadata": {},
     "output_type": "execute_result"
    }
   ],
   "source": [
    "prob=np.array([1/8,1/8,1/8,1/8,1/8,1/8,1/8,1/8])\n",
    "prob"
   ]
  },
  {
   "cell_type": "code",
   "execution_count": 75,
   "metadata": {},
   "outputs": [
    {
     "name": "stdout",
     "output_type": "stream",
     "text": [
      "Cumulative sum of probabilities: [0.125 0.25  0.375 0.5   0.625 0.75  0.875 1.   ]\n"
     ]
    }
   ],
   "source": [
    "cumsum_prob = np.cumsum(prob)\n",
    "print(\"Cumulative sum of probabilities:\", cumsum_prob)"
   ]
  },
  {
   "cell_type": "markdown",
   "metadata": {},
   "source": [
    "Obsérvese que val==h es un vector del mismo tamaño que val, obtenido de averiguar componente a componente cuál vale h, por tanto, como val y prob tienen el mismo tamaño, podemos hacer prob[val==h] para filtrar  la componente de prob donde se da la igualdad,\n",
    "lo cual permite definir la función densidad de probablidad:"
   ]
  },
  {
   "cell_type": "code",
   "execution_count": 76,
   "metadata": {},
   "outputs": [],
   "source": [
    "def f(x):\n",
    "    return np.sum(prob[val == x])"
   ]
  },
  {
   "cell_type": "code",
   "execution_count": 77,
   "metadata": {},
   "outputs": [
    {
     "data": {
      "text/plain": [
       "0.125"
      ]
     },
     "execution_count": 77,
     "metadata": {},
     "output_type": "execute_result"
    }
   ],
   "source": [
    "f(1)"
   ]
  },
  {
   "cell_type": "code",
   "execution_count": 78,
   "metadata": {},
   "outputs": [
    {
     "data": {
      "text/plain": [
       "0.0"
      ]
     },
     "execution_count": 78,
     "metadata": {},
     "output_type": "execute_result"
    }
   ],
   "source": [
    "f(2/3)"
   ]
  },
  {
   "cell_type": "markdown",
   "metadata": {},
   "source": [
    "Resulta muy útil modificar la función f para que esta pueda aplicarse directamente a vectores - de modo que: $$f([x_1,\\cdots,x_k])=[f(x_1),\\cdots,f(x_k)]$$\n",
    "(eso facilita, por ejemplo, dibujar f). \n",
    "\n",
    "Esto se consigue con la orden siguiente:"
   ]
  },
  {
   "cell_type": "code",
   "execution_count": 79,
   "metadata": {},
   "outputs": [],
   "source": [
    "f_vec = np.vectorize(f)"
   ]
  },
  {
   "cell_type": "code",
   "execution_count": 80,
   "metadata": {},
   "outputs": [
    {
     "data": {
      "text/plain": [
       "array([0.125, 0.125])"
      ]
     },
     "execution_count": 80,
     "metadata": {},
     "output_type": "execute_result"
    }
   ],
   "source": [
    "f_vec([1,3])"
   ]
  },
  {
   "cell_type": "markdown",
   "metadata": {},
   "source": [
    "Alternativamente, también podemos programar la vectorización de la función:"
   ]
  },
  {
   "cell_type": "code",
   "execution_count": 81,
   "metadata": {},
   "outputs": [],
   "source": [
    "def f_vec(val):\n",
    "    result=[]\n",
    "    for _ in val:\n",
    "        result.append(f(_))\n",
    "    return result"
   ]
  },
  {
   "cell_type": "code",
   "execution_count": 82,
   "metadata": {},
   "outputs": [
    {
     "data": {
      "text/plain": [
       "[0.125, 0.125]"
      ]
     },
     "execution_count": 82,
     "metadata": {},
     "output_type": "execute_result"
    }
   ],
   "source": [
    "f_vec([1,3])"
   ]
  },
  {
   "cell_type": "markdown",
   "metadata": {},
   "source": [
    "Ahora podemos definir la función de distribución:"
   ]
  },
  {
   "cell_type": "code",
   "execution_count": 83,
   "metadata": {},
   "outputs": [],
   "source": [
    "# Define the function F(x) which computes the cumulative sum of probabilities up to x\n",
    "def F(x):\n",
    "    return np.sum(prob[val <= x])\n",
    "\n",
    "# Vectorize the function F for the entire val range\n",
    "F_vec = np.vectorize(F)"
   ]
  },
  {
   "cell_type": "markdown",
   "metadata": {},
   "source": [
    "Ahora pintamos ambas funciones: la Pmf y la función de Distribución:"
   ]
  },
  {
   "cell_type": "code",
   "execution_count": 84,
   "metadata": {},
   "outputs": [
    {
     "data": {
      "image/png": "[encoded data removed]",
      "text/plain": [
       "<Figure size 720x432 with 2 Axes>"
      ]
     },
     "metadata": {
      "needs_background": "light"
     },
     "output_type": "display_data"
    }
   ],
   "source": [
    "# Plot PMF\n",
    "plt.figure(figsize=(10, 6))\n",
    "\n",
    "# Plot the PMF\n",
    "plt.subplot(1, 2, 1)\n",
    "plt.stem(val, f_vec(val), basefmt=\" \", use_line_collection=True)\n",
    "plt.title(\"PMF of Geometric Distribution (p = 0.3)\")\n",
    "plt.xlabel(\"Number of trials (k)\")\n",
    "plt.ylabel(\"Probability (P(X = k))\")\n",
    "plt.grid(True)\n",
    "\n",
    "# Plot the CDF\n",
    "plt.subplot(1, 2, 2)\n",
    "x_vals = np.array([min(val)-1, *val, max(val)+1])  # Auxiliary variable for extended range\n",
    "plt.step(x_vals, F_vec(x_vals), where='post', color='r', linestyle='-')\n",
    "plt.title(\"CDF of Geometric Distribution (p = 0.3)\")\n",
    "plt.xlabel(\"Number of trials (k)\")\n",
    "plt.ylabel(\"Cumulative Probability (P(X ≤ k))\")\n",
    "plt.grid(True)\n",
    "\n",
    "# Show the plots\n",
    "plt.tight_layout()\n",
    "plt.show()"
   ]
  },
  {
   "cell_type": "markdown",
   "metadata": {},
   "source": [
    "\n",
    "Ahora podemos calcular media, varianza, etc. de la v.a. X. \n",
    "\n"
   ]
  },
  {
   "cell_type": "code",
   "execution_count": 85,
   "metadata": {},
   "outputs": [
    {
     "name": "stdout",
     "output_type": "stream",
     "text": [
      "Media : 10.25\n",
      "Varianza : 36.1875\n",
      "Desviación típica : 6.015604707757983\n"
     ]
    }
   ],
   "source": [
    "# Cálculo de la media (o esperanza)\n",
    "media_X = np.sum(val * f_vec(val))\n",
    "print(\"Media :\", media_X)\n",
    "\n",
    "# Cálculo de la varianza \n",
    "var_X = np.sum((val - media_X)**2 * f_vec(val))\n",
    "print(\"Varianza :\", var_X)\n",
    "\n",
    "# Cálculo de la desviación típica\n",
    "dt_X = np.sqrt(var_X)\n",
    "print(\"Desviación típica :\", dt_X)"
   ]
  },
  {
   "cell_type": "markdown",
   "metadata": {},
   "source": [
    "También es importante poder calcular percentiles:"
   ]
  },
  {
   "cell_type": "code",
   "execution_count": 86,
   "metadata": {},
   "outputs": [
    {
     "data": {
      "text/plain": [
       "[3, 8, 15]"
      ]
     },
     "execution_count": 86,
     "metadata": {},
     "output_type": "execute_result"
    }
   ],
   "source": [
    "# Function to compute the percentile \n",
    "def percentile(p):\n",
    "    for a in val:\n",
    "        if F(a) >= p:\n",
    "            return a\n",
    "        \n",
    "## Aquí es importante observar que val se presenta ordenado de menor a mayor \n",
    "## y se lee (con el for) de izquierda a derecha\n",
    "\n",
    "percentile_vec = np.vectorize(percentile)\n",
    "Q1,Q2,Q3=percentile_vec([0.25,0.5,0.75])\n",
    "[Q1,Q2,Q3]"
   ]
  },
  {
   "cell_type": "markdown",
   "metadata": {},
   "source": [
    "Queremos averiguar la probabilidad de que $X$ sea par o menor que 15. Como los posibles valores de $X$ son los números 1,3,7,8,13,15,17,18, lo anterior equivale a calcular la probabilidad de que $X\\in \\{1,3,7,8,13,18\\}$. Dicho valor es $6\\cdot 1/8 =3/4=0.75$"
   ]
  },
  {
   "cell_type": "markdown",
   "metadata": {},
   "source": [
    "Hacemos ahora un programa que simule la variable. Esto se logra usando randon.choice con la distribución de probabilidades de la v.a. \n",
    "\n",
    "Utilizamos el programa que hemos creado para generar 10000 datos y comparamos sus tablas de frecuencias relativas y relativas acumuladas, barplot, media y varianza con los resultados de los apartados anteriores."
   ]
  },
  {
   "cell_type": "code",
   "execution_count": 87,
   "metadata": {},
   "outputs": [
    {
     "name": "stdout",
     "output_type": "stream",
     "text": [
      "Frequency table: 1     0.1261\n",
      "3     0.1269\n",
      "7     0.1254\n",
      "8     0.1243\n",
      "13    0.1230\n",
      "15    0.1177\n",
      "17    0.1297\n",
      "18    0.1269\n",
      "dtype: float64\n",
      "Cumulative frequency table: 1     0.1261\n",
      "3     0.2530\n",
      "7     0.3784\n",
      "8     0.5027\n",
      "13    0.6257\n",
      "15    0.7434\n",
      "17    0.8731\n",
      "18    1.0000\n",
      "dtype: float64\n"
     ]
    }
   ],
   "source": [
    "# Generate 10000 samples from the distribution defined by prob\n",
    "datos = np.random.choice(val, size=10000, p=prob, replace=True)\n",
    "\n",
    "# Frequency table and its cumulative sum\n",
    "tabla_frec = pd.Series(datos).value_counts(normalize=True).sort_index()\n",
    "tabla_frec_acum = tabla_frec.cumsum()\n",
    "\n",
    "print(\"Frequency table:\", tabla_frec)\n",
    "print(\"Cumulative frequency table:\", tabla_frec_acum)"
   ]
  },
  {
   "cell_type": "code",
   "execution_count": 88,
   "metadata": {},
   "outputs": [
    {
     "data": {
      "image/png": "[encoded data removed]",
      "text/plain": [
       "<Figure size 720x432 with 1 Axes>"
      ]
     },
     "metadata": {
      "needs_background": "light"
     },
     "output_type": "display_data"
    }
   ],
   "source": [
    "# Plot the frequency table\n",
    "plt.figure(figsize=(10, 6))\n",
    "tabla_frec.plot(kind='bar', color='skyblue')\n",
    "plt.title('Frequency Table')\n",
    "plt.xlabel('Value')\n",
    "plt.ylabel('Relative Frequency')\n",
    "plt.show()"
   ]
  },
  {
   "cell_type": "code",
   "execution_count": 89,
   "metadata": {},
   "outputs": [
    {
     "data": {
      "image/png": "[encoded data removed]",
      "text/plain": [
       "<Figure size 720x432 with 1 Axes>"
      ]
     },
     "metadata": {
      "needs_background": "light"
     },
     "output_type": "display_data"
    }
   ],
   "source": [
    "# Plot the cumulative frequency table\n",
    "plt.figure(figsize=(10, 6))\n",
    "tabla_frec_acum.plot(kind='bar', color='orange')\n",
    "plt.title('Cumulative Frequency Table')\n",
    "plt.xlabel('Value')\n",
    "plt.ylabel('Cumulative Frequency')\n",
    "plt.show()"
   ]
  },
  {
   "cell_type": "code",
   "execution_count": 90,
   "metadata": {},
   "outputs": [
    {
     "name": "stdout",
     "output_type": "stream",
     "text": [
      "Empirical Mean: 10.2326, Theoretical Mean: 10.25\n",
      "Empirical Variance: 36.53029724, Theoretical Variance: 36.1875\n",
      "Empirical Standard Deviation: 6.044029884108781, Theoretical Standard Deviation: 6.015604707757983\n",
      "Empirical Quantiles (25%, 50%, 75%): [ 3.  8. 17.]\n",
      "Theoretical Percentiles (25%, 50%, 75%): [ 3  8 15]\n"
     ]
    }
   ],
   "source": [
    "# Compare the theoretical and empirical mean, variance, and standard deviation\n",
    "print(f\"Empirical Mean: {np.mean(datos)}, Theoretical Mean: {media_X}\")\n",
    "print(f\"Empirical Variance: {np.var(datos)}, Theoretical Variance: {var_X}\")\n",
    "print(f\"Empirical Standard Deviation: {np.std(datos)}, Theoretical Standard Deviation: {dt_X}\")\n",
    "\n",
    "# Quantiles (25th, 50th, 75th percentiles)\n",
    "Q = np.quantile(datos, [0.25, 0.5, 0.75])\n",
    "print(\"Empirical Quantiles (25%, 50%, 75%):\", Q)\n",
    "\n",
    "# Theoretical percentiles\n",
    "percentiles = np.array([percentile(0.25), percentile(0.5), percentile(0.75)])\n",
    "print(\"Theoretical Percentiles (25%, 50%, 75%):\", percentiles)"
   ]
  },
  {
   "cell_type": "markdown",
   "metadata": {},
   "source": [
    "<font color=\"blue\"> 2. Una baraja tiene 40 cartas. Cada carta tiene un número del 1 al 10 y un palo. (Oros, Bastos, Copas, Espadas). Saco una carta y me interesa \n",
    "      $$X = Número\\ de\\ la\\ carta. $$ \n",
    "Analiza la variable. Calcula la probabilidad de que si saco dos cartas (una detrás de otra y distintas) al menos una de ellas sea mayor que 8.<font>"
   ]
  },
  {
   "cell_type": "markdown",
   "metadata": {},
   "source": [
    "<strong> Solución: </strong> Comenzamos con el análisis de la variable. \n",
    "\n",
    "La variable solo toma valores entre 1 y 10:"
   ]
  },
  {
   "cell_type": "code",
   "execution_count": 91,
   "metadata": {},
   "outputs": [],
   "source": [
    "val=np.array([1,2,3,4,5,6,7,8,9,10])"
   ]
  },
  {
   "cell_type": "markdown",
   "metadata": {},
   "source": [
    "Como todos los números aparecen el mismo número de veces en la baraja (una por palo), todos son equiprobables"
   ]
  },
  {
   "cell_type": "code",
   "execution_count": 92,
   "metadata": {},
   "outputs": [],
   "source": [
    "prob=np.array([1/10,1/10,1/10,1/10,1/10,1/10,1/10,1/10,1/10,1/10])"
   ]
  },
  {
   "cell_type": "markdown",
   "metadata": {},
   "source": [
    "También podríamos haber hecho el cálculo: $P(X=i)=\\frac{4}{40}$, $i=1,\\cdots,10$. La variable es, por tanto, uniforme.  Esto permite definir la función de probablidad de masas y, de igual modo, la función de distribución:"
   ]
  },
  {
   "cell_type": "code",
   "execution_count": 93,
   "metadata": {},
   "outputs": [],
   "source": [
    "def f(x):\n",
    "    return np.sum(prob[val == x])\n",
    "f_vec=np.vectorize(f)"
   ]
  },
  {
   "cell_type": "code",
   "execution_count": 94,
   "metadata": {},
   "outputs": [],
   "source": [
    "def F(x):\n",
    "    return np.sum(prob[val <= x])\n",
    "F_vec = np.vectorize(F)"
   ]
  },
  {
   "cell_type": "markdown",
   "metadata": {},
   "source": [
    "Ahora las pintamos ambas. Primero pintamos la función densidad de probabilidad f:"
   ]
  },
  {
   "cell_type": "code",
   "execution_count": 95,
   "metadata": {},
   "outputs": [
    {
     "data": {
      "image/png": "[encoded data removed]",
      "text/plain": [
       "<Figure size 720x432 with 2 Axes>"
      ]
     },
     "metadata": {
      "needs_background": "light"
     },
     "output_type": "display_data"
    }
   ],
   "source": [
    "# Plot PMF\n",
    "plt.figure(figsize=(10, 6))\n",
    "\n",
    "# Plot the PMF\n",
    "plt.subplot(1, 2, 1)\n",
    "plt.stem(val, f_vec(val), basefmt=\" \", use_line_collection=True)\n",
    "plt.title(\"PMF of Geometric Distribution (p = 0.3)\")\n",
    "plt.xlabel(\"Number of trials (k)\")\n",
    "plt.ylabel(\"Probability (P(X = k))\")\n",
    "plt.grid(True)\n",
    "\n",
    "# Plot the CDF\n",
    "plt.subplot(1, 2, 2)\n",
    "x_vals = np.array([min(val)-1, *val, max(val)+1])  # Auxiliary variable for extended range\n",
    "plt.step(x_vals, F_vec(x_vals), where='post', color='r', linestyle='-')\n",
    "plt.title(\"CDF of Geometric Distribution (p = 0.3)\")\n",
    "plt.xlabel(\"Number of trials (k)\")\n",
    "plt.ylabel(\"Cumulative Probability (P(X ≤ k))\")\n",
    "plt.grid(True)\n",
    "\n",
    "# Show the plots\n",
    "plt.tight_layout()\n",
    "plt.show()"
   ]
  },
  {
   "cell_type": "markdown",
   "metadata": {},
   "source": [
    "A continuación, pintamos la función de distribución F:"
   ]
  },
  {
   "cell_type": "code",
   "execution_count": 96,
   "metadata": {},
   "outputs": [
    {
     "name": "stdout",
     "output_type": "stream",
     "text": [
      "Media : 5.5\n",
      "Varianza : 8.25\n",
      "Desviación típica : 2.8722813232690143\n"
     ]
    }
   ],
   "source": [
    "# Cálculo de la media (o esperanza)\n",
    "media_X = np.sum(val * f_vec(val))\n",
    "print(\"Media :\", media_X)\n",
    "\n",
    "# Cálculo de la varianza \n",
    "var_X = np.sum((val - media_X)**2 * f_vec(val))\n",
    "print(\"Varianza :\", var_X)\n",
    "\n",
    "# Cálculo de la desviación típica\n",
    "dt_X = np.sqrt(var_X)\n",
    "print(\"Desviación típica :\", dt_X)"
   ]
  },
  {
   "cell_type": "code",
   "execution_count": 97,
   "metadata": {},
   "outputs": [
    {
     "data": {
      "text/plain": [
       "[3, 5, 8]"
      ]
     },
     "execution_count": 97,
     "metadata": {},
     "output_type": "execute_result"
    }
   ],
   "source": [
    "# Function to compute the percentile (similar to the R version)\n",
    "def percentile(p):\n",
    "    for a in val:\n",
    "        if F(a) >= p:\n",
    "            return a\n",
    "percentile_vec = np.vectorize(percentile)\n",
    "Q1,Q2,Q3=percentile_vec([0.25,0.5,0.75])\n",
    "[Q1,Q2,Q3]"
   ]
  },
  {
   "cell_type": "markdown",
   "metadata": {},
   "source": [
    "Respondemos ahora a la última pregunta del ejercicio: Calcular la probabilidad de que si saco dos cartas (una detrás de otra y distintas) al menos una de ellas sea mayor que 8.\n",
    "\n",
    "Llamemos $X_1,X_2$ a los resultados primero y segundo. Queremos calcular la probabilidad de\n",
    "$A\\equiv  \\{X_1>8\\}\\cup\\{X_2>8\\}$\n",
    "Este suceso lo podemos particionar como la unión disjunta\n",
    "de los sucesos:\n",
    "$$B_1\\equiv  \\{X_1\\leq 8\\} \\cap\\{X_2>8\\}$$\n",
    "$$B_2\\equiv  \\{X_1> 8\\} \\cap\\{X_2\\leq 8\\}$$\n",
    "$$B_3\\equiv  \\{X_1> 8\\} \\cap\\{X_2>8\\}$$\n",
    "Las probabilidades de esos sucesos se calculan usando la fórmula\n",
    "$$P(A\\cap B) = P(A|B)P(B) = P(B|A)P(A)$$\n",
    "Por tanto:\n",
    "$$\n",
    "P(A) =  P(B_1)+P(B_2)+P(B_3)\n",
    " = (32/40)\\cdot(8/39) +(8/40)\\cdot(32/39)+(8/40)\\cdot (7/39)\n",
    "$$\n",
    "Hacemos el cómputo con Python:"
   ]
  },
  {
   "cell_type": "code",
   "execution_count": 98,
   "metadata": {},
   "outputs": [
    {
     "data": {
      "text/plain": [
       "0.3641025641025641"
      ]
     },
     "execution_count": 98,
     "metadata": {},
     "output_type": "execute_result"
    }
   ],
   "source": [
    "PA=(32/40)*(8/39)+(8/40)*(32/39)+(8/40)*(7/39)\n",
    "PA"
   ]
  },
  {
   "cell_type": "markdown",
   "metadata": {},
   "source": [
    "<font color=\"blue\"> 3. Lanzamos dos dados (o, equivalentemente, lanzamos un dado dos veces) y anotamos los resultados \n",
    "    $$\\Omega=\\{(a,b):1\\leq a,b\\leq 6\\}$$ \n",
    "(se supone que todos ellos son equiprobables). Se pueden entonces considerar varias variables aleatorias asociadas a este experimento aleatorio:</font>\n",
    "<font color=\"blue\"> \n",
    "* $X=$ resultado del primer lanzamiento. $Y=$ resultado del segundo lanzamiento. \n",
    "* $Z=X+Y$, $W=X-Y$\n",
    "* $R=\\min\\{X,Y\\}$\n",
    "* $S=\\max\\{X,Y\\}$\n",
    "* $T=XY$\n",
    "\n",
    "Cada una de esas variables tendrá su propia distribución de probabilidad. Por ejemplo, para la variable aleatoria $Z=X+Y$ se puede comprobar fácilmente que \n",
    "    $$\\begin{array}{llllll} \n",
    "    P(Z=2) &=& \\frac{1}{36} \\\\\n",
    "    P(Z=3) &=& \\frac{2}{36} \\\\\n",
    "    P(Z=4) &=& \\frac{3}{36} \\\\\n",
    "    P(Z=5) &=& \\frac{4}{36} \\\\\n",
    "    P(Z=6) &=& \\frac{5}{36} \\\\\n",
    "    P(Z=7) &=& \\frac{6}{36} \\\\\n",
    "    P(Z=8) &=& \\frac{5}{36} \\\\\n",
    "    P(Z=9) &=& \\frac{4}{36} \\\\\n",
    "    P(Z=10) &=& \\frac{3}{36} \\\\\n",
    "    P(Z=11) &=& \\frac{2}{36} \\\\\n",
    "    P(Z=12) &=& \\frac{1}{36} \\end{array}$$\n",
    "\n",
    "Veamos cómo trabajar con Python el estudio de esta variable aleatoria: Esta variable toma valores en \n",
    "$\\{2,3,\\cdots, 12\\}$. <font>"
   ]
  },
  {
   "cell_type": "markdown",
   "metadata": {},
   "source": [
    "<font color=\"blue\"> Estudiar esta variable. Generar 10000 muestras y comparar los datos obtenidos con las propiedades de la variable. <font>"
   ]
  },
  {
   "cell_type": "code",
   "execution_count": 99,
   "metadata": {},
   "outputs": [
    {
     "name": "stdout",
     "output_type": "stream",
     "text": [
      "[ 2  3  4  5  6  7  8  9 10 11 12]\n",
      "Cumulative sum of probabilities: [0.02777778 0.08333333 0.16666667 0.27777778 0.41666667 0.58333333\n",
      " 0.72222222 0.83333333 0.91666667 0.97222222 1.        ]\n"
     ]
    }
   ],
   "source": [
    "# Define the values and the probability distribution\n",
    "val = np.arange(2, 13, 1)  # Sequence from 2 to 12\n",
    "print(val)\n",
    "prob = np.array([1/36, 2/36, 3/36, 4/36, 5/36, 6/36, 5/36, 4/36, 3/36, 2/36,1/36])\n",
    "\n",
    "# Cumulative sum of the probability distribution\n",
    "cumsum_prob = np.cumsum(prob)\n",
    "print(\"Cumulative sum of probabilities:\", cumsum_prob)"
   ]
  },
  {
   "cell_type": "code",
   "execution_count": 100,
   "metadata": {},
   "outputs": [],
   "source": [
    "# Define the function f(x) which computes the sum of probabilities for each value in val\n",
    "def f(x):\n",
    "    return np.sum(prob[val == x])\n",
    "\n",
    "# Vectorize the function f for the entire val range\n",
    "f_vec = np.vectorize(f)"
   ]
  },
  {
   "cell_type": "code",
   "execution_count": 101,
   "metadata": {},
   "outputs": [],
   "source": [
    "# Define the function F(x) which computes the cumulative sum of probabilities up to x\n",
    "def F(x):\n",
    "    return np.sum(prob[val <= x])\n",
    "\n",
    "# Vectorize the function F for the entire val range\n",
    "F_vec = np.vectorize(F)"
   ]
  },
  {
   "cell_type": "code",
   "execution_count": 102,
   "metadata": {},
   "outputs": [
    {
     "data": {
      "image/png": "[encoded data removed]",
      "text/plain": [
       "<Figure size 720x432 with 2 Axes>"
      ]
     },
     "metadata": {
      "needs_background": "light"
     },
     "output_type": "display_data"
    }
   ],
   "source": [
    "# Plot PMF\n",
    "plt.figure(figsize=(10, 6))\n",
    "\n",
    "# Plot the PMF\n",
    "plt.subplot(1, 2, 1)\n",
    "plt.stem(val, f_vec(val), basefmt=\" \", use_line_collection=True)\n",
    "plt.title(\"PMF of Geometric Distribution (p = 0.3)\")\n",
    "plt.xlabel(\"Number of trials (k)\")\n",
    "plt.ylabel(\"Probability (P(X = k))\")\n",
    "plt.grid(True)\n",
    "\n",
    "# Plot the CDF\n",
    "plt.subplot(1, 2, 2)\n",
    "x_vals = np.array([min(val)-1, *val, max(val)+1])  # Auxiliary variable for extended range\n",
    "plt.step(x_vals, F_vec(x_vals), where='post', color='r', linestyle='-')\n",
    "plt.title(\"CDF of Geometric Distribution (p = 0.3)\")\n",
    "plt.xlabel(\"Number of trials (k)\")\n",
    "plt.ylabel(\"Cumulative Probability (P(X ≤ k))\")\n",
    "plt.grid(True)\n",
    "\n",
    "# Show the plots\n",
    "plt.tight_layout()\n",
    "plt.show()"
   ]
  },
  {
   "cell_type": "code",
   "execution_count": 103,
   "metadata": {},
   "outputs": [],
   "source": [
    "# Function to compute the percentile (similar to the R version)\n",
    "def percentile(p):\n",
    "    for a in val:\n",
    "        if F(a) >= p:\n",
    "            return a\n",
    "percentile_vec = np.vectorize(percentile)"
   ]
  },
  {
   "cell_type": "code",
   "execution_count": 104,
   "metadata": {},
   "outputs": [
    {
     "data": {
      "text/plain": [
       "array([5, 7, 9])"
      ]
     },
     "execution_count": 104,
     "metadata": {},
     "output_type": "execute_result"
    }
   ],
   "source": [
    "percentile_vec([0.25,0.5,0.75])"
   ]
  },
  {
   "cell_type": "code",
   "execution_count": 105,
   "metadata": {},
   "outputs": [
    {
     "name": "stdout",
     "output_type": "stream",
     "text": [
      "Media of Z: 6.999999999999998\n",
      "Variance of Z: 5.833333333333333\n",
      "Standard deviation of Z: 2.41522945769824\n"
     ]
    }
   ],
   "source": [
    "# Compute the mean of X (expected value)\n",
    "media_X = np.sum(val * f_vec(val))\n",
    "print(\"Media of Z:\", media_X)\n",
    "\n",
    "# Compute the variance of X\n",
    "var_X = np.sum((val - media_X)**2 * f_vec(val))\n",
    "print(\"Variance of Z:\", var_X)\n",
    "\n",
    "# Compute the standard deviation of X\n",
    "dt_X = np.sqrt(var_X)\n",
    "print(\"Standard deviation of Z:\", dt_X)"
   ]
  },
  {
   "cell_type": "code",
   "execution_count": 106,
   "metadata": {
    "scrolled": true
   },
   "outputs": [
    {
     "name": "stdout",
     "output_type": "stream",
     "text": [
      "Frequency table: 2     0.0270\n",
      "3     0.0530\n",
      "4     0.0845\n",
      "5     0.1086\n",
      "6     0.1381\n",
      "7     0.1655\n",
      "8     0.1355\n",
      "9     0.1153\n",
      "10    0.0844\n",
      "11    0.0582\n",
      "12    0.0299\n",
      "dtype: float64\n",
      "Cumulative frequency table: 2     0.0270\n",
      "3     0.0800\n",
      "4     0.1645\n",
      "5     0.2731\n",
      "6     0.4112\n",
      "7     0.5767\n",
      "8     0.7122\n",
      "9     0.8275\n",
      "10    0.9119\n",
      "11    0.9701\n",
      "12    1.0000\n",
      "dtype: float64\n"
     ]
    }
   ],
   "source": [
    "# Generate 10000 samples from the distribution defined by prob\n",
    "datos = np.random.choice(val, size=10000, p=prob, replace=True)\n",
    "\n",
    "# Frequency table and its cumulative sum\n",
    "tabla_frec = pd.Series(datos).value_counts(normalize=True).sort_index()\n",
    "tabla_frec_acum = tabla_frec.cumsum()\n",
    "\n",
    "print(\"Frequency table:\", tabla_frec)\n",
    "print(\"Cumulative frequency table:\", tabla_frec_acum)"
   ]
  },
  {
   "cell_type": "code",
   "execution_count": 107,
   "metadata": {},
   "outputs": [
    {
     "data": {
      "image/png": "[encoded data removed]",
      "text/plain": [
       "<Figure size 720x432 with 1 Axes>"
      ]
     },
     "metadata": {
      "needs_background": "light"
     },
     "output_type": "display_data"
    }
   ],
   "source": [
    "# Plot the frequency table\n",
    "plt.figure(figsize=(10, 6))\n",
    "tabla_frec.plot(kind='bar', color='skyblue')\n",
    "plt.title('Frequency Table')\n",
    "plt.xlabel('Value')\n",
    "plt.ylabel('Relative Frequency')\n",
    "plt.show()"
   ]
  },
  {
   "cell_type": "code",
   "execution_count": 108,
   "metadata": {},
   "outputs": [
    {
     "data": {
      "image/png": "[encoded data removed]",
      "text/plain": [
       "<Figure size 720x432 with 1 Axes>"
      ]
     },
     "metadata": {
      "needs_background": "light"
     },
     "output_type": "display_data"
    }
   ],
   "source": [
    "# Plot the cumulative frequency table\n",
    "plt.figure(figsize=(10, 6))\n",
    "tabla_frec_acum.plot(kind='bar', color='orange')\n",
    "plt.title('Cumulative Frequency Table')\n",
    "plt.xlabel('Value')\n",
    "plt.ylabel('Cumulative Frequency')\n",
    "plt.show()"
   ]
  },
  {
   "cell_type": "code",
   "execution_count": 109,
   "metadata": {},
   "outputs": [
    {
     "name": "stdout",
     "output_type": "stream",
     "text": [
      "Empirical Mean: 7.0458, Theoretical Mean: 6.999999999999998\n",
      "Empirical Variance: 5.88890236, Theoretical Variance: 5.833333333333333\n",
      "Empirical Standard Deviation: 2.426706072024381, Theoretical Standard Deviation: 2.41522945769824\n",
      "Empirical Quantiles (25%, 50%, 75%): [5. 7. 9.]\n",
      "Theoretical Percentiles (25%, 50%, 75%): [5 7 9]\n"
     ]
    }
   ],
   "source": [
    "# Compare the theoretical and empirical mean, variance, and standard deviation\n",
    "print(f\"Empirical Mean: {np.mean(datos)}, Theoretical Mean: {media_X}\")\n",
    "print(f\"Empirical Variance: {np.var(datos)}, Theoretical Variance: {var_X}\")\n",
    "print(f\"Empirical Standard Deviation: {np.std(datos)}, Theoretical Standard Deviation: {dt_X}\")\n",
    "\n",
    "# Quantiles (25th, 50th, 75th percentiles)\n",
    "Q = np.quantile(datos, [0.25, 0.5, 0.75])\n",
    "print(\"Empirical Quantiles (25%, 50%, 75%):\", Q)\n",
    "\n",
    "# Theoretical percentiles\n",
    "percentiles = np.array([percentile(0.25), percentile(0.5), percentile(0.75)])\n",
    "print(\"Theoretical Percentiles (25%, 50%, 75%):\", percentiles)"
   ]
  },
  {
   "cell_type": "markdown",
   "metadata": {},
   "source": [
    "<h3>Un ejemplo interesante de v.a. discreta</h3>\n",
    "\n",
    "<font color=\"brown\"> Durante la II Guerra Mundial, en EEUU, hubo un momento en el que muchos reclutas tenían problemas de salud. Concretamente, la Sífilis se extendió en dicha población. Entonces fue necesario realizar análisis de sangre de forma masiva, para detectar la enfermedad. Estudiar el efecto (económico y de tiempo) que tendría realizar los análisis de sangre de forma grupal (agrupando $r$ extracciones por análisis).<font> "
   ]
  },
  {
   "cell_type": "markdown",
   "metadata": {},
   "source": [
    "Sea $q$ la prevalencia (es decir, la probabilidad de estar enfermo) en la población de reclutas. Si mezclamos la sangre de $r$ extracciones, podemos asumir que:\n",
    "\n",
    "* Si alguno de ellos tiene Sífilis, entonces la prueba dará positivo\n",
    "* La prueba dará negativo solo cuando ninguno de ellos está enfermo. Por tanto, la probabilidad de que el test resulte negativo es $p^r$, donde $p=1-q$. \n",
    "\n",
    "Sea  \n",
    "\n",
    "<font color=\"blue\"> $X_r = $ \"Número de extracciones que se realizan por cada grupo de $r$ individuos, de modo que se garantice detectar todos los enfermos de ese grupo.\"</font>\n",
    "\n",
    "Entonces tendremos que:\n",
    "\n",
    "* $X_r=1$ si el análisis grupal inicial sale negativo, lo cual sucede con probabilidad $p^r$. \n",
    "* $X_r=1+r$ con probabilidad $1-p^r$,  porque si el análisis grupal inicial es positivo, entonces debemos realizar $r$ extracciones (individuales) más, con sus correspondientes análisis.\n",
    "* $X_r$ solo puede tomar los valores $1$ y $1+r$.\n",
    "\n",
    "Por tanto, $$E(X_r)=1\\cdot P[X_r=1]+(r+1)\\cdot P[X_r=r+1] = p^r+(r+1)(1-p^r)=1+r-rp^r$$\n",
    "\n",
    "En el caso de que los análisis se hicieran de forma individual desde el principio, el número de análisis necesarios para estudiar los mismos r reclutas es, obviamente, r. Por tanto, se espera una mejora de $r- (1+r-rp^r)= rp^r-1$ análisis por cada $r$ individuos. En particular, al dividir por $r$ obtenemos la mejora por individuo: $p^r-1/r$. Necesitamos que esta cantidad sea positiva para poder garantizar un mejora real. De hecho, \n",
    "\n",
    "$$100(p^r-1/r)$$ \n",
    "\n",
    "representa el tanto por ciento de mejora que se espera al realizar los análisis en grupos de $r$ individuos. \n",
    "\n",
    "\n",
    "Para cada valor de $p$, buscamos  el valor de $r\\in \\mathbb{N}$ que optimiza la ganancia. \n",
    "\n",
    "Por ejemplo, para $p=0.99$ (que representa una prevalencia del $1\\%$ en la población de reclusos), el siguiente cálculo nos muestra que, tomando los grupos de $11$ individuos, ¡logramos una mejora de más del $80.44\\%$!  Eso fue exactamente lo que hizo el ejército norteamericano en el caso que estamos contando. \n"
   ]
  },
  {
   "cell_type": "code",
   "execution_count": 110,
   "metadata": {},
   "outputs": [
    {
     "name": "stdout",
     "output_type": "stream",
     "text": [
      "[-0.01        0.4801      0.63696567  0.71059601  0.75099005  0.77481348\n",
      "  0.78920821  0.79774469  0.80240614  0.80438208  0.80442916  0.80305154\n",
      "  0.80059795  0.79731724  0.79339169  0.78895777  0.78411966  0.77895821\n",
      "  0.77353704]\n"
     ]
    }
   ],
   "source": [
    "p = 0.99\n",
    "r = np.arange(1, 20)  \n",
    "result = p**r - 1 / r\n",
    "print(result)"
   ]
  },
  {
   "cell_type": "markdown",
   "metadata": {},
   "source": [
    "Es evidente que, a menor prevalencia, mayor es el ahorro que podemos lograr realizando análisis grupales (el caso extremo sería que la prevalencia es nula, por lo que un único análisis bastaría y el ahorro sería casi del 100$\\%$) tomando grupos cada vez más grandes. Si la prevalencia es del $20\\%$, tendremos $q=0.2$ y, por tanto, $p=0.8$. En tal caso los cálculos nos dan: "
   ]
  },
  {
   "cell_type": "code",
   "execution_count": 111,
   "metadata": {},
   "outputs": [
    {
     "name": "stdout",
     "output_type": "stream",
     "text": [
      "[-0.2         0.14        0.17866667  0.1596      0.12768     0.09547733\n",
      "  0.06685806  0.04277216  0.02310662  0.00737418 -0.00500974 -0.01461386\n",
      " -0.0219475  -0.02744811 -0.03148229 -0.0343525  -0.03630553 -0.03754116\n",
      " -0.03822006 -0.03847078]\n"
     ]
    }
   ],
   "source": [
    "p = 0.8\n",
    "r = np.arange(1, 21)  \n",
    "result = p**r - 1 / r\n",
    "print(result)"
   ]
  },
  {
   "cell_type": "markdown",
   "metadata": {},
   "source": [
    "\n",
    "Es decir, $r=3$ es el valor óptimo y el ahorro es del $17.867\\%$. Aún así, supone un ahorrro significativo si la población a estudiar es grande. \n",
    "\n",
    "<font color=\"brown\">Con este ejemplo debe quedar claro que un uso inteligente de las variables aleatorias puede tener gran interés económico, incluso con variables muy sencillas.</font>"
   ]
  },
  {
   "cell_type": "code",
   "execution_count": null,
   "metadata": {},
   "outputs": [],
   "source": []
  }
 ],
 "metadata": {
  "kernelspec": {
   "display_name": "Python 3",
   "language": "python",
   "name": "python3"
  },
  "language_info": {
   "codemirror_mode": {
    "name": "ipython",
    "version": 3
   },
   "file_extension": ".py",
   "mimetype": "text/x-python",
   "name": "python",
   "nbconvert_exporter": "python",
   "pygments_lexer": "ipython3",
   "version": "3.7.6"
  }
 },
 "nbformat": 4,
 "nbformat_minor": 4
}
