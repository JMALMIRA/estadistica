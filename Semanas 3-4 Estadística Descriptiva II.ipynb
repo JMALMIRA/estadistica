{
 "cells": [
  {
   "cell_type": "markdown",
   "metadata": {},
   "source": [
    "<h1> Estadística descriptiva II: Variables bidimensionales </h1>"
   ]
  },
  {
   "cell_type": "markdown",
   "metadata": {},
   "source": [
    "<h2> Introducción</h2>\n",
    "Supongamos que tenemos una población de la que hemos tomado observaciones sobre dos variables distintas $X$ e $Y$. Por ejemplo, podemos medir la altura y el peso de los distintos alumnos de una clase. \n",
    "\n",
    "Nos interesa averiguar de qué forma podemos representar estas observaciones - tal como se hizo en el caso de una única variable- para obtener conclusiones sobre la naturaleza de las mismas."
   ]
  },
  {
   "cell_type": "markdown",
   "metadata": {},
   "source": [
    "<strong>Objetivos:</strong>\n",
    "\n",
    "* Tabular los datos (i.e. introducirlos en una tabla).\n",
    "* Definir , Representar, y estudiar las propiedades de las Distribuciones de frecuencias.\n",
    "* Definir y calcular la Covarianza y la Correlación entre ambas variables.\n",
    "* Estudiar la Regresión lineal."
   ]
  },
  {
   "cell_type": "code",
   "execution_count": 39,
   "metadata": {},
   "outputs": [],
   "source": [
    "import pandas as pd\n",
    "import numpy as np\n",
    "import scipy as sp\n",
    "import matplotlib.pyplot as plt\n",
    "import seaborn as sns"
   ]
  },
  {
   "cell_type": "markdown",
   "metadata": {},
   "source": [
    "<h2> Tabular datos bivariados</h2>\n",
    "\n",
    "Lo primero que vamos a hacer es tabular los datos. \n",
    "\n",
    "\n",
    "Si:\n",
    "* X toma r valores diferentes: $x_1, x_2, \\cdots , x_r$    \n",
    "* Y toma s valores diferentes: $y_1, y_2, \\cdots , y_s$ \n",
    "entonces,la distribución conjunta de $(X,Y)$ es una tabla de frecuencias de doble entrada, tamaño $r \\times s$. La tabla queda determinada por una matriz de valores $T=(n_{i,j})_{i=1,\\cdots,r}^{j=1,\\cdots,s}$. \n",
    "\n",
    "$$\\begin{array}{lllllll} \\  & y_1 & y_2 & \\cdots & y_s \\\\\n",
    "x_1 & n_{11} & n_{12} &\\cdots &n_{1s} \\\\ \n",
    "x_2 & n_{21} & n_{22} &\\cdots &n_{2s} \\\\\n",
    "\\vdots & \\vdots & \\vdots &\\ddots & \\vdots \\\\\n",
    "x_r  & n_{r1} & n_{r2} &\\cdots &n_{rs}\n",
    "\\end{array}$$\n",
    "\n",
    "La entrada $n_{i,j}$ representa la frecuencia absoluta con la que se ha observado el par de valores $(x_i,y_j)$. El tamaño de la muestra (o de la población, en su caso), es $$n=\\sum_{i=1}^r\\sum_{j=1}^sn_{i,j}.$$ Las frecuencias relativas $$f_{i,j}=\\frac{n_{i,j}}{n}$$ dan otra matriz de contingencia, $T=(f_{i,j})_{i=1,\\cdots,r}^{j=1,\\cdots,s}$. \n",
    "\n"
   ]
  },
  {
   "cell_type": "markdown",
   "metadata": {},
   "source": [
    "A menudo la tabla de contingencias se completa sumando las filas y las columnas de forma adecuada (lo que se suele llamar ampliar márgenes), lo cual incluye las <strong>distribuciones marginales</strong> de X e Y:\n",
    "\n",
    "\n",
    "$$\\begin{array}{cccccc} \\  & y_1 & y_2 & \\cdots & y_s & \\text{Dist. Marginal de X}\\\\\n",
    "x_1 & n_{11} & n_{12} &\\cdots &n_{1s} & n_{1\\cdot}\\\\ \n",
    "x_2 & n_{21} & n_{22} &\\cdots &n_{2s} & n_{2\\cdot}\\\\\n",
    "\\vdots & \\vdots & \\vdots &\\ddots & \\vdots &\\vdots \\\\\n",
    "x_r  & n_{r1} & n_{r2} &\\cdots & n_{rs} & n_{r\\cdot}\\\\\n",
    "\\text{Dist. Marginal de Y} & n_{\\cdot1} & n_{\\cdot2} &\\cdots & n_{\\cdot s}& n\n",
    "\\end{array}$$\n",
    "\n",
    "Aquí $$n_{i\\cdot}=\\sum_{j=1}^sn_{ij},\\quad i=1,\\cdots,r$$ y $$n_{\\cdot j}=\\sum_{i=1}^rn_{ij},\\quad j=1,\\cdots,s.$$ \n",
    "\n",
    "Si lo hacemos con las frecuencias relativas, obtenemos la siguiente tabla:\n",
    "\n",
    "$$\\begin{array}{cccccc} \\  & y_1 & y_2 & \\cdots & y_s & \\text{Dist. Marginal de X}\\\\\n",
    "x_1 & f_{11} & f_{12} &\\cdots & f_{1s} & f_{1\\cdot}\\\\ \n",
    "x_2 & f_{21} & f_{22} &\\cdots &f_{2s} & f_{2\\cdot}\\\\\n",
    "\\vdots & \\vdots & \\vdots &\\ddots & \\vdots &\\vdots \\\\\n",
    "x_r  & f_{r1} & f_{r2} &\\cdots & f_{rs} & f_{r\\cdot}\\\\\n",
    "\\text{Dist. Marginal de Y} & f_{\\cdot1} & f_{\\cdot2} &\\cdots & f_{\\cdot s}& 1\n",
    "\\end{array}$$\n",
    "\n",
    "Otro aspecto interesante es el estudio de las <strong>distribuciones condicionadas</strong>. La distribución de la variable $X$ condicionada a que la variable $Y$ toma un valor concreto, pongamos que  $Y=y_j$, queda determinada por las frecuencias $$f_{i_{|j}}=\\frac{n_{ij}}{n_{\\cdot j}}.$$ Análogamente, la distribución de la variable $Y$ condicionada a que la variable $X$ toma un valor concreto $X=x_i$ queda determinada por las frecuencias $$f_{_{|i}j}=\\frac{n_{ij}}{n_{i \\cdot}}.$$  "
   ]
  },
  {
   "cell_type": "markdown",
   "metadata": {},
   "source": [
    "<h3> Un ejemplo sencillo: los fallecidos en el Titanic</h3>\n",
    "    Vamos a crear una base de datos que contabiliza los fallecidos en el accidente del Titanic en función del tipo de pasaje. \n",
    "\n",
    "Concretamente, vamos a generar los datos que deberían dar lugar a la siguiente tabla de contingencia (y luego vamos a calcular la tabla a partir de los datos):\n",
    "\n",
    "$$\\begin{array}{lllllll} \\  & \\text{Superviviente} & \\text{ Fallecido} \\\\\n",
    "\\text{ Primera Clase} & 203 & 122 \\\\ \n",
    "\\text{ Segunda Clase} & 118 & 167 \\\\\n",
    "\\text{ Tercera Clase} & 178 & 528 \\\\\n",
    "\\text{ Tripulación} & 212 & 673\n",
    "\\end{array}$$\n",
    "    \n",
    "Para ello, generamos primero los datos: "
   ]
  },
  {
   "cell_type": "markdown",
   "metadata": {},
   "source": [
    "Hay que tener en cuenta que debemos generar las observaciones de forma coherente. Si generamos una lista de supervivientes/fallecidos, esta debe ser tal que al fijarnos en los pasajeros de primera clase, encontremos que hay exactamente 203 supervivientes y 122 fallecidos, y lo mismo con el resto de clases. Así pues, generamos una lista ordenada que contenga los distintos tipos de pasajeros de tal modo que aparezcan primero 203 y luego 122 de primera clase, luego 118 y 167 de segunda clase, etc. Así luego podremos crear una lista paralela que contenga el desenlace de cada pasajero de forma coherente (donde pusimos 203 pasajeros de primera clase, colocaremos también 203 supervivientes, etc). Esto se hace así:"
   ]
  },
  {
   "cell_type": "code",
   "execution_count": 40,
   "metadata": {},
   "outputs": [
    {
     "data": {
      "text/html": [
       "<div>\n",
       "<style scoped>\n",
       "    .dataframe tbody tr th:only-of-type {\n",
       "        vertical-align: middle;\n",
       "    }\n",
       "\n",
       "    .dataframe tbody tr th {\n",
       "        vertical-align: top;\n",
       "    }\n",
       "\n",
       "    .dataframe thead th {\n",
       "        text-align: right;\n",
       "    }\n",
       "</style>\n",
       "<table border=\"1\" class=\"dataframe\">\n",
       "  <thead>\n",
       "    <tr style=\"text-align: right;\">\n",
       "      <th></th>\n",
       "      <th>Pasaje</th>\n",
       "      <th>Desenlace</th>\n",
       "    </tr>\n",
       "  </thead>\n",
       "  <tbody>\n",
       "    <tr>\n",
       "      <th>0</th>\n",
       "      <td>Primera Clase</td>\n",
       "      <td>Superviviente</td>\n",
       "    </tr>\n",
       "    <tr>\n",
       "      <th>1</th>\n",
       "      <td>Primera Clase</td>\n",
       "      <td>Superviviente</td>\n",
       "    </tr>\n",
       "    <tr>\n",
       "      <th>2</th>\n",
       "      <td>Primera Clase</td>\n",
       "      <td>Superviviente</td>\n",
       "    </tr>\n",
       "    <tr>\n",
       "      <th>3</th>\n",
       "      <td>Primera Clase</td>\n",
       "      <td>Superviviente</td>\n",
       "    </tr>\n",
       "    <tr>\n",
       "      <th>4</th>\n",
       "      <td>Primera Clase</td>\n",
       "      <td>Superviviente</td>\n",
       "    </tr>\n",
       "    <tr>\n",
       "      <th>...</th>\n",
       "      <td>...</td>\n",
       "      <td>...</td>\n",
       "    </tr>\n",
       "    <tr>\n",
       "      <th>2196</th>\n",
       "      <td>Tripulación</td>\n",
       "      <td>Fallecido</td>\n",
       "    </tr>\n",
       "    <tr>\n",
       "      <th>2197</th>\n",
       "      <td>Tripulación</td>\n",
       "      <td>Fallecido</td>\n",
       "    </tr>\n",
       "    <tr>\n",
       "      <th>2198</th>\n",
       "      <td>Tripulación</td>\n",
       "      <td>Fallecido</td>\n",
       "    </tr>\n",
       "    <tr>\n",
       "      <th>2199</th>\n",
       "      <td>Tripulación</td>\n",
       "      <td>Fallecido</td>\n",
       "    </tr>\n",
       "    <tr>\n",
       "      <th>2200</th>\n",
       "      <td>Tripulación</td>\n",
       "      <td>Fallecido</td>\n",
       "    </tr>\n",
       "  </tbody>\n",
       "</table>\n",
       "<p>2201 rows × 2 columns</p>\n",
       "</div>"
      ],
      "text/plain": [
       "             Pasaje      Desenlace\n",
       "0     Primera Clase  Superviviente\n",
       "1     Primera Clase  Superviviente\n",
       "2     Primera Clase  Superviviente\n",
       "3     Primera Clase  Superviviente\n",
       "4     Primera Clase  Superviviente\n",
       "...             ...            ...\n",
       "2196    Tripulación      Fallecido\n",
       "2197    Tripulación      Fallecido\n",
       "2198    Tripulación      Fallecido\n",
       "2199    Tripulación      Fallecido\n",
       "2200    Tripulación      Fallecido\n",
       "\n",
       "[2201 rows x 2 columns]"
      ]
     },
     "execution_count": 40,
     "metadata": {},
     "output_type": "execute_result"
    }
   ],
   "source": [
    "Pasaje=[\"Primera Clase\"]*203+[\"Primera Clase\"]*122+[\"Segunda Clase\"]*118+[\"Segunda Clase\"]*167+[\"Tercera Clase\"]*178+[\"Tercera Clase\"]*528+[\"Tripulación\"]*212+[\"Tripulación\"]*673\n",
    "Desenlace=[\"Superviviente\"]*203+[\"Fallecido\"]*122+[\"Superviviente\"]*118+[\"Fallecido\"]*167+[\"Superviviente\"]*178+[\"Fallecido\"]*528+[\"Superviviente\"]*212+[\"Fallecido\"]*673\n",
    "df =pd.DataFrame({'Pasaje':Pasaje,'Desenlace': Desenlace})\n",
    "df"
   ]
  },
  {
   "cell_type": "markdown",
   "metadata": {},
   "source": [
    "Ahora generamos la tabla de contingencia asociada. Primero con las frecuencias absolutas:"
   ]
  },
  {
   "cell_type": "code",
   "execution_count": 41,
   "metadata": {},
   "outputs": [
    {
     "data": {
      "text/html": [
       "<div>\n",
       "<style scoped>\n",
       "    .dataframe tbody tr th:only-of-type {\n",
       "        vertical-align: middle;\n",
       "    }\n",
       "\n",
       "    .dataframe tbody tr th {\n",
       "        vertical-align: top;\n",
       "    }\n",
       "\n",
       "    .dataframe thead th {\n",
       "        text-align: right;\n",
       "    }\n",
       "</style>\n",
       "<table border=\"1\" class=\"dataframe\">\n",
       "  <thead>\n",
       "    <tr style=\"text-align: right;\">\n",
       "      <th>Desenlace</th>\n",
       "      <th>Fallecido</th>\n",
       "      <th>Superviviente</th>\n",
       "      <th>Total</th>\n",
       "    </tr>\n",
       "    <tr>\n",
       "      <th>Pasaje</th>\n",
       "      <th></th>\n",
       "      <th></th>\n",
       "      <th></th>\n",
       "    </tr>\n",
       "  </thead>\n",
       "  <tbody>\n",
       "    <tr>\n",
       "      <th>Primera Clase</th>\n",
       "      <td>122</td>\n",
       "      <td>203</td>\n",
       "      <td>325</td>\n",
       "    </tr>\n",
       "    <tr>\n",
       "      <th>Segunda Clase</th>\n",
       "      <td>167</td>\n",
       "      <td>118</td>\n",
       "      <td>285</td>\n",
       "    </tr>\n",
       "    <tr>\n",
       "      <th>Tercera Clase</th>\n",
       "      <td>528</td>\n",
       "      <td>178</td>\n",
       "      <td>706</td>\n",
       "    </tr>\n",
       "    <tr>\n",
       "      <th>Tripulación</th>\n",
       "      <td>673</td>\n",
       "      <td>212</td>\n",
       "      <td>885</td>\n",
       "    </tr>\n",
       "    <tr>\n",
       "      <th>Total</th>\n",
       "      <td>1490</td>\n",
       "      <td>711</td>\n",
       "      <td>2201</td>\n",
       "    </tr>\n",
       "  </tbody>\n",
       "</table>\n",
       "</div>"
      ],
      "text/plain": [
       "Desenlace      Fallecido  Superviviente  Total\n",
       "Pasaje                                        \n",
       "Primera Clase        122            203    325\n",
       "Segunda Clase        167            118    285\n",
       "Tercera Clase        528            178    706\n",
       "Tripulación          673            212    885\n",
       "Total               1490            711   2201"
      ]
     },
     "execution_count": 41,
     "metadata": {},
     "output_type": "execute_result"
    }
   ],
   "source": [
    "pd.crosstab(df['Pasaje'],df['Desenlace'], margins_name='Total',margins=True)"
   ]
  },
  {
   "cell_type": "markdown",
   "metadata": {},
   "source": [
    "A continuación, con las frecuencias relativas: "
   ]
  },
  {
   "cell_type": "code",
   "execution_count": 42,
   "metadata": {},
   "outputs": [
    {
     "data": {
      "text/html": [
       "<div>\n",
       "<style scoped>\n",
       "    .dataframe tbody tr th:only-of-type {\n",
       "        vertical-align: middle;\n",
       "    }\n",
       "\n",
       "    .dataframe tbody tr th {\n",
       "        vertical-align: top;\n",
       "    }\n",
       "\n",
       "    .dataframe thead th {\n",
       "        text-align: right;\n",
       "    }\n",
       "</style>\n",
       "<table border=\"1\" class=\"dataframe\">\n",
       "  <thead>\n",
       "    <tr style=\"text-align: right;\">\n",
       "      <th>Desenlace</th>\n",
       "      <th>Fallecido</th>\n",
       "      <th>Superviviente</th>\n",
       "      <th>Total</th>\n",
       "    </tr>\n",
       "    <tr>\n",
       "      <th>Pasaje</th>\n",
       "      <th></th>\n",
       "      <th></th>\n",
       "      <th></th>\n",
       "    </tr>\n",
       "  </thead>\n",
       "  <tbody>\n",
       "    <tr>\n",
       "      <th>Primera Clase</th>\n",
       "      <td>0.055429</td>\n",
       "      <td>0.092231</td>\n",
       "      <td>0.147660</td>\n",
       "    </tr>\n",
       "    <tr>\n",
       "      <th>Segunda Clase</th>\n",
       "      <td>0.075875</td>\n",
       "      <td>0.053612</td>\n",
       "      <td>0.129487</td>\n",
       "    </tr>\n",
       "    <tr>\n",
       "      <th>Tercera Clase</th>\n",
       "      <td>0.239891</td>\n",
       "      <td>0.080872</td>\n",
       "      <td>0.320763</td>\n",
       "    </tr>\n",
       "    <tr>\n",
       "      <th>Tripulación</th>\n",
       "      <td>0.305770</td>\n",
       "      <td>0.096320</td>\n",
       "      <td>0.402090</td>\n",
       "    </tr>\n",
       "    <tr>\n",
       "      <th>Total</th>\n",
       "      <td>0.676965</td>\n",
       "      <td>0.323035</td>\n",
       "      <td>1.000000</td>\n",
       "    </tr>\n",
       "  </tbody>\n",
       "</table>\n",
       "</div>"
      ],
      "text/plain": [
       "Desenlace      Fallecido  Superviviente     Total\n",
       "Pasaje                                           \n",
       "Primera Clase   0.055429       0.092231  0.147660\n",
       "Segunda Clase   0.075875       0.053612  0.129487\n",
       "Tercera Clase   0.239891       0.080872  0.320763\n",
       "Tripulación     0.305770       0.096320  0.402090\n",
       "Total           0.676965       0.323035  1.000000"
      ]
     },
     "execution_count": 42,
     "metadata": {},
     "output_type": "execute_result"
    }
   ],
   "source": [
    "TC=pd.crosstab(df['Pasaje'],df['Desenlace'], margins_name='Total',margins=True,normalize=True)\n",
    "TC"
   ]
  },
  {
   "cell_type": "markdown",
   "metadata": {},
   "source": [
    "Si queremos fijarnos en las distribuciones condicionadas columna a columna (es decir, queremos averiguar cómo se distribuyen los fallecidos entre los distintos tipos de pasaje, y lo mismo con los supervivientes o, lo que es lo mismo, la distribución de la variable Pasaje condicionada a un valor concreto de la variable Desenlace), procedemos como sigue:"
   ]
  },
  {
   "cell_type": "code",
   "execution_count": 43,
   "metadata": {},
   "outputs": [
    {
     "data": {
      "text/html": [
       "<div>\n",
       "<style scoped>\n",
       "    .dataframe tbody tr th:only-of-type {\n",
       "        vertical-align: middle;\n",
       "    }\n",
       "\n",
       "    .dataframe tbody tr th {\n",
       "        vertical-align: top;\n",
       "    }\n",
       "\n",
       "    .dataframe thead th {\n",
       "        text-align: right;\n",
       "    }\n",
       "</style>\n",
       "<table border=\"1\" class=\"dataframe\">\n",
       "  <thead>\n",
       "    <tr style=\"text-align: right;\">\n",
       "      <th>Desenlace</th>\n",
       "      <th>Fallecido</th>\n",
       "      <th>Superviviente</th>\n",
       "    </tr>\n",
       "    <tr>\n",
       "      <th>Pasaje</th>\n",
       "      <th></th>\n",
       "      <th></th>\n",
       "    </tr>\n",
       "  </thead>\n",
       "  <tbody>\n",
       "    <tr>\n",
       "      <th>Primera Clase</th>\n",
       "      <td>0.081879</td>\n",
       "      <td>0.285513</td>\n",
       "    </tr>\n",
       "    <tr>\n",
       "      <th>Segunda Clase</th>\n",
       "      <td>0.112081</td>\n",
       "      <td>0.165963</td>\n",
       "    </tr>\n",
       "    <tr>\n",
       "      <th>Tercera Clase</th>\n",
       "      <td>0.354362</td>\n",
       "      <td>0.250352</td>\n",
       "    </tr>\n",
       "    <tr>\n",
       "      <th>Tripulación</th>\n",
       "      <td>0.451678</td>\n",
       "      <td>0.298172</td>\n",
       "    </tr>\n",
       "  </tbody>\n",
       "</table>\n",
       "</div>"
      ],
      "text/plain": [
       "Desenlace      Fallecido  Superviviente\n",
       "Pasaje                                 \n",
       "Primera Clase   0.081879       0.285513\n",
       "Segunda Clase   0.112081       0.165963\n",
       "Tercera Clase   0.354362       0.250352\n",
       "Tripulación     0.451678       0.298172"
      ]
     },
     "execution_count": 43,
     "metadata": {},
     "output_type": "execute_result"
    }
   ],
   "source": [
    "TCM1=pd.crosstab(df['Pasaje'],df['Desenlace'],normalize='columns')\n",
    "TCM1"
   ]
  },
  {
   "cell_type": "markdown",
   "metadata": {},
   "source": [
    "Ahora podemos fijarnos en las distribuciones condicionadas fila a fila (es decir, queremos averiguar cómo se distribuye cada clase de pasaje entre fallecidos y supervivientes, o, lo que es lo mismo, la distribución de la variable Desenlace condicionada a un valor concreto de la variable Pasaje). Procedemos como sigue:"
   ]
  },
  {
   "cell_type": "code",
   "execution_count": 44,
   "metadata": {},
   "outputs": [
    {
     "data": {
      "text/html": [
       "<div>\n",
       "<style scoped>\n",
       "    .dataframe tbody tr th:only-of-type {\n",
       "        vertical-align: middle;\n",
       "    }\n",
       "\n",
       "    .dataframe tbody tr th {\n",
       "        vertical-align: top;\n",
       "    }\n",
       "\n",
       "    .dataframe thead th {\n",
       "        text-align: right;\n",
       "    }\n",
       "</style>\n",
       "<table border=\"1\" class=\"dataframe\">\n",
       "  <thead>\n",
       "    <tr style=\"text-align: right;\">\n",
       "      <th>Desenlace</th>\n",
       "      <th>Fallecido</th>\n",
       "      <th>Superviviente</th>\n",
       "    </tr>\n",
       "    <tr>\n",
       "      <th>Pasaje</th>\n",
       "      <th></th>\n",
       "      <th></th>\n",
       "    </tr>\n",
       "  </thead>\n",
       "  <tbody>\n",
       "    <tr>\n",
       "      <th>Primera Clase</th>\n",
       "      <td>0.375385</td>\n",
       "      <td>0.624615</td>\n",
       "    </tr>\n",
       "    <tr>\n",
       "      <th>Segunda Clase</th>\n",
       "      <td>0.585965</td>\n",
       "      <td>0.414035</td>\n",
       "    </tr>\n",
       "    <tr>\n",
       "      <th>Tercera Clase</th>\n",
       "      <td>0.747875</td>\n",
       "      <td>0.252125</td>\n",
       "    </tr>\n",
       "    <tr>\n",
       "      <th>Tripulación</th>\n",
       "      <td>0.760452</td>\n",
       "      <td>0.239548</td>\n",
       "    </tr>\n",
       "  </tbody>\n",
       "</table>\n",
       "</div>"
      ],
      "text/plain": [
       "Desenlace      Fallecido  Superviviente\n",
       "Pasaje                                 \n",
       "Primera Clase   0.375385       0.624615\n",
       "Segunda Clase   0.585965       0.414035\n",
       "Tercera Clase   0.747875       0.252125\n",
       "Tripulación     0.760452       0.239548"
      ]
     },
     "execution_count": 44,
     "metadata": {},
     "output_type": "execute_result"
    }
   ],
   "source": [
    "TCM2=pd.crosstab(df['Pasaje'],df['Desenlace'], margins_name='Total',normalize='index')\n",
    "TCM2"
   ]
  },
  {
   "cell_type": "markdown",
   "metadata": {},
   "source": [
    "También podemos dibujar la información de la tabla de contingencia utilizando diagramas de barras. Primero lo hacemos con diagramas de barras apilados (i.e. stacked=True):"
   ]
  },
  {
   "cell_type": "code",
   "execution_count": 45,
   "metadata": {},
   "outputs": [
    {
     "data": {
      "image/png": "[encoded data removed]",
      "text/plain": [
       "<Figure size 432x288 with 1 Axes>"
      ]
     },
     "metadata": {
      "needs_background": "light"
     },
     "output_type": "display_data"
    }
   ],
   "source": [
    "# Apilados, con las frecuencias absolutas:\n",
    "TC=pd.crosstab(df['Pasaje'],df['Desenlace'])\n",
    "TC.plot.bar(stacked=True)\n",
    "plt.show()"
   ]
  },
  {
   "cell_type": "markdown",
   "metadata": {},
   "source": [
    "Y ahora lo hacemos con diagramas de barras agrupados (stacked=False):"
   ]
  },
  {
   "cell_type": "code",
   "execution_count": 46,
   "metadata": {},
   "outputs": [
    {
     "data": {
      "image/png": "[encoded data removed]",
      "text/plain": [
       "<Figure size 432x288 with 1 Axes>"
      ]
     },
     "metadata": {
      "needs_background": "light"
     },
     "output_type": "display_data"
    }
   ],
   "source": [
    "# Agrupados, con las frecuencias absolutas:\n",
    "TC=pd.crosstab(df['Pasaje'],df['Desenlace'])\n",
    "TC.plot.bar(stacked=False)\n",
    "plt.show()"
   ]
  },
  {
   "cell_type": "code",
   "execution_count": 47,
   "metadata": {},
   "outputs": [
    {
     "data": {
      "image/png": "[encoded data removed]",
      "text/plain": [
       "<Figure size 432x288 with 1 Axes>"
      ]
     },
     "metadata": {
      "needs_background": "light"
     },
     "output_type": "display_data"
    }
   ],
   "source": [
    "# Apilados, con las frecuencias relativas:\n",
    "TCnorm=pd.crosstab(df['Pasaje'],df['Desenlace'], normalize=True)\n",
    "TCnorm.plot.bar(stacked=True)\n",
    "plt.show()"
   ]
  },
  {
   "cell_type": "code",
   "execution_count": 48,
   "metadata": {},
   "outputs": [
    {
     "data": {
      "image/png": "[encoded data removed]",
      "text/plain": [
       "<Figure size 432x288 with 1 Axes>"
      ]
     },
     "metadata": {
      "needs_background": "light"
     },
     "output_type": "display_data"
    }
   ],
   "source": [
    "# Agrupados, con las frecuencias relativas:\n",
    "TCnorm=pd.crosstab(df['Pasaje'],df['Desenlace'], normalize=True)\n",
    "TCnorm.plot.bar(stacked=False)\n",
    "plt.show()"
   ]
  },
  {
   "cell_type": "markdown",
   "metadata": {},
   "source": [
    "Lo mismo podemos hacer con las variables cambiadas:"
   ]
  },
  {
   "cell_type": "code",
   "execution_count": 49,
   "metadata": {},
   "outputs": [
    {
     "data": {
      "image/png": "[encoded data removed]",
      "text/plain": [
       "<Figure size 432x288 with 1 Axes>"
      ]
     },
     "metadata": {
      "needs_background": "light"
     },
     "output_type": "display_data"
    }
   ],
   "source": [
    "# Apilados, con las frecuencias absolutas:\n",
    "TC=pd.crosstab(df['Desenlace'],df['Pasaje'])\n",
    "TC.plot.bar(stacked=True)\n",
    "plt.show()"
   ]
  },
  {
   "cell_type": "code",
   "execution_count": 50,
   "metadata": {},
   "outputs": [
    {
     "data": {
      "image/png": "[encoded data removed]",
      "text/plain": [
       "<Figure size 432x288 with 1 Axes>"
      ]
     },
     "metadata": {
      "needs_background": "light"
     },
     "output_type": "display_data"
    }
   ],
   "source": [
    "# Agrupados, con las frecuencias absolutas:\n",
    "TC=pd.crosstab(df['Desenlace'],df['Pasaje'])\n",
    "TC.plot.bar(stacked=False)\n",
    "plt.show()"
   ]
  },
  {
   "cell_type": "code",
   "execution_count": 51,
   "metadata": {},
   "outputs": [
    {
     "data": {
      "image/png": "[encoded data removed]",
      "text/plain": [
       "<Figure size 432x288 with 1 Axes>"
      ]
     },
     "metadata": {
      "needs_background": "light"
     },
     "output_type": "display_data"
    }
   ],
   "source": [
    "# Apilados, con las frecuencias relativas:\n",
    "TCnorm=pd.crosstab(df['Desenlace'], df['Pasaje'],normalize=True)\n",
    "TCnorm.plot.bar(stacked=True)\n",
    "plt.show()"
   ]
  },
  {
   "cell_type": "code",
   "execution_count": 52,
   "metadata": {},
   "outputs": [
    {
     "data": {
      "image/png": "[encoded data removed]",
      "text/plain": [
       "<Figure size 432x288 with 1 Axes>"
      ]
     },
     "metadata": {
      "needs_background": "light"
     },
     "output_type": "display_data"
    }
   ],
   "source": [
    "# Agrupados, con las frecuencias relativas:\n",
    "TCnorm=pd.crosstab(df['Desenlace'], df['Pasaje'],normalize=True)\n",
    "TCnorm.plot.bar(stacked=False)\n",
    "plt.show()"
   ]
  },
  {
   "cell_type": "markdown",
   "metadata": {},
   "source": [
    "Y también podemos visualizar las distribuciones condicionadas:"
   ]
  },
  {
   "cell_type": "code",
   "execution_count": 53,
   "metadata": {},
   "outputs": [
    {
     "data": {
      "image/png": "[encoded data removed]",
      "text/plain": [
       "<Figure size 432x288 with 1 Axes>"
      ]
     },
     "metadata": {
      "needs_background": "light"
     },
     "output_type": "display_data"
    }
   ],
   "source": [
    "# Apilados, con las distribuciones condicionadas Desenlace|Pasaje:\n",
    "TCnorm=pd.crosstab(df['Pasaje'],df['Desenlace'], normalize='index')\n",
    "TCnorm.plot.bar(stacked=True)\n",
    "plt.show()"
   ]
  },
  {
   "cell_type": "code",
   "execution_count": 54,
   "metadata": {},
   "outputs": [
    {
     "data": {
      "image/png": "[encoded data removed]",
      "text/plain": [
       "<Figure size 432x288 with 1 Axes>"
      ]
     },
     "metadata": {
      "needs_background": "light"
     },
     "output_type": "display_data"
    }
   ],
   "source": [
    "# Agrupados, con las distribuciones condicionadas Desenlace|Pasaje:\n",
    "TCnorm=pd.crosstab(df['Pasaje'],df['Desenlace'], normalize='index')\n",
    "TCnorm.plot.bar(stacked=False)\n",
    "plt.show()"
   ]
  },
  {
   "cell_type": "code",
   "execution_count": 55,
   "metadata": {},
   "outputs": [
    {
     "data": {
      "image/png": "[encoded data removed]",
      "text/plain": [
       "<Figure size 432x288 with 1 Axes>"
      ]
     },
     "metadata": {
      "needs_background": "light"
     },
     "output_type": "display_data"
    }
   ],
   "source": [
    "# Apilados, con las distribuciones condicionadas Pasaje|Desenlace:\n",
    "TCnorm=pd.crosstab(df['Desenlace'],df['Pasaje'], normalize='index')\n",
    "TCnorm.plot.bar(stacked=True)\n",
    "plt.show()"
   ]
  },
  {
   "cell_type": "code",
   "execution_count": 56,
   "metadata": {},
   "outputs": [
    {
     "data": {
      "image/png": "[encoded data removed]",
      "text/plain": [
       "<Figure size 432x288 with 1 Axes>"
      ]
     },
     "metadata": {
      "needs_background": "light"
     },
     "output_type": "display_data"
    }
   ],
   "source": [
    "# Agrupados, con las distribuciones condicionadas Pasaje|Desenlace:\n",
    "TCnorm=pd.crosstab(df['Desenlace'],df['Pasaje'], normalize='index')\n",
    "TCnorm.plot.bar(stacked=False)\n",
    "plt.show()"
   ]
  },
  {
   "cell_type": "markdown",
   "metadata": {},
   "source": [
    "<h2> Otro ejemplo detallado </h2>\n",
    "\n",
    "Hay varios algoritmos que permiten ordenar una lista. En el fichero <strong>tiempos.csv</strong> se encuentran\n",
    "datos sobre el tiempo que han tardado tres algoritmos en ordenar diferentes listas de números.\n",
    "Para cada experimento se ha almacenado el algoritmo usado (entre 0 y 2), el máximo número de\n",
    "veces que se ha repetido algún elemento de la lista, la longitud de la lista y el tiempo necesitado\n",
    "para ordenarla. Vamos a:\n",
    "\n",
    "* Crear una nueva variable llamada “Categoria” que parta los tiempos en tres categorías: “Rapido”,“Normal” y “Lento”. En la categoría ''Rapido'' se deben incluir el $25\\%$ de los tiempos más rápidos, en “Lento” el $25\\%$ de los tiempos más lentos y en “Normal” las demás.\n",
    "* Añadir esta variable al data frame.\n",
    "* Construir las tablas de contingencia (también se llaman tablas cruzadas) de “Categoria” respecto a “Algoritmo” para las frecuencias conjuntas absolutas y relativas, así como las tablas de contingencia marginales."
   ]
  },
  {
   "cell_type": "markdown",
   "metadata": {},
   "source": [
    "<h2>Solución</h2>\n",
    "Comenzamos cargando los paquetes que podriamos necesitar. A continuación, leemos el fichero que nos dan y mostramos el data frame:"
   ]
  },
  {
   "cell_type": "code",
   "execution_count": 57,
   "metadata": {},
   "outputs": [
    {
     "data": {
      "text/html": [
       "<div>\n",
       "<style scoped>\n",
       "    .dataframe tbody tr th:only-of-type {\n",
       "        vertical-align: middle;\n",
       "    }\n",
       "\n",
       "    .dataframe tbody tr th {\n",
       "        vertical-align: top;\n",
       "    }\n",
       "\n",
       "    .dataframe thead th {\n",
       "        text-align: right;\n",
       "    }\n",
       "</style>\n",
       "<table border=\"1\" class=\"dataframe\">\n",
       "  <thead>\n",
       "    <tr style=\"text-align: right;\">\n",
       "      <th></th>\n",
       "      <th>Algoritmo</th>\n",
       "      <th>Max_repeticiones</th>\n",
       "      <th>Longitud</th>\n",
       "      <th>Tiempo</th>\n",
       "    </tr>\n",
       "  </thead>\n",
       "  <tbody>\n",
       "    <tr>\n",
       "      <th>0</th>\n",
       "      <td>1</td>\n",
       "      <td>5</td>\n",
       "      <td>1022</td>\n",
       "      <td>0.003272</td>\n",
       "    </tr>\n",
       "    <tr>\n",
       "      <th>1</th>\n",
       "      <td>0</td>\n",
       "      <td>5</td>\n",
       "      <td>1529</td>\n",
       "      <td>0.161851</td>\n",
       "    </tr>\n",
       "    <tr>\n",
       "      <th>2</th>\n",
       "      <td>2</td>\n",
       "      <td>6</td>\n",
       "      <td>1495</td>\n",
       "      <td>0.069382</td>\n",
       "    </tr>\n",
       "    <tr>\n",
       "      <th>3</th>\n",
       "      <td>1</td>\n",
       "      <td>5</td>\n",
       "      <td>1059</td>\n",
       "      <td>0.003492</td>\n",
       "    </tr>\n",
       "    <tr>\n",
       "      <th>4</th>\n",
       "      <td>0</td>\n",
       "      <td>4</td>\n",
       "      <td>1153</td>\n",
       "      <td>0.088125</td>\n",
       "    </tr>\n",
       "    <tr>\n",
       "      <th>...</th>\n",
       "      <td>...</td>\n",
       "      <td>...</td>\n",
       "      <td>...</td>\n",
       "      <td>...</td>\n",
       "    </tr>\n",
       "    <tr>\n",
       "      <th>994</th>\n",
       "      <td>0</td>\n",
       "      <td>5</td>\n",
       "      <td>1422</td>\n",
       "      <td>0.136528</td>\n",
       "    </tr>\n",
       "    <tr>\n",
       "      <th>995</th>\n",
       "      <td>2</td>\n",
       "      <td>4</td>\n",
       "      <td>1091</td>\n",
       "      <td>0.035407</td>\n",
       "    </tr>\n",
       "    <tr>\n",
       "      <th>996</th>\n",
       "      <td>0</td>\n",
       "      <td>7</td>\n",
       "      <td>1800</td>\n",
       "      <td>0.220347</td>\n",
       "    </tr>\n",
       "    <tr>\n",
       "      <th>997</th>\n",
       "      <td>1</td>\n",
       "      <td>6</td>\n",
       "      <td>1030</td>\n",
       "      <td>0.003468</td>\n",
       "    </tr>\n",
       "    <tr>\n",
       "      <th>998</th>\n",
       "      <td>2</td>\n",
       "      <td>5</td>\n",
       "      <td>1121</td>\n",
       "      <td>0.038219</td>\n",
       "    </tr>\n",
       "  </tbody>\n",
       "</table>\n",
       "<p>999 rows × 4 columns</p>\n",
       "</div>"
      ],
      "text/plain": [
       "     Algoritmo  Max_repeticiones  Longitud    Tiempo\n",
       "0            1                 5      1022  0.003272\n",
       "1            0                 5      1529  0.161851\n",
       "2            2                 6      1495  0.069382\n",
       "3            1                 5      1059  0.003492\n",
       "4            0                 4      1153  0.088125\n",
       "..         ...               ...       ...       ...\n",
       "994          0                 5      1422  0.136528\n",
       "995          2                 4      1091  0.035407\n",
       "996          0                 7      1800  0.220347\n",
       "997          1                 6      1030  0.003468\n",
       "998          2                 5      1121  0.038219\n",
       "\n",
       "[999 rows x 4 columns]"
      ]
     },
     "execution_count": 57,
     "metadata": {},
     "output_type": "execute_result"
    }
   ],
   "source": [
    "import numpy as np\n",
    "import pandas as pd\n",
    "import seaborn as sns\n",
    "\n",
    "tiempos=pd.read_csv('tiempos.csv')\n",
    "tiempos"
   ]
  },
  {
   "cell_type": "markdown",
   "metadata": {},
   "source": [
    "Para poder clasificar los algoritmos por categorías, como \"Lento\", \"Rápido\" y \"Normal\", debemos antes fijarnos en los tiempos y obtener los cuartiles: "
   ]
  },
  {
   "cell_type": "code",
   "execution_count": 58,
   "metadata": {},
   "outputs": [
    {
     "name": "stdout",
     "output_type": "stream",
     "text": [
      "[0.003205060958862305, 0.005486726760864258, 0.0589139461517334, 0.09624671936035156, 0.2218468189239502]\n"
     ]
    }
   ],
   "source": [
    "Tiempo=tiempos[\"Tiempo\"]\n",
    "Q1=np.quantile(Tiempo,0.25)\n",
    "Q2=np.quantile(Tiempo,0.5)\n",
    "Q3=np.quantile(Tiempo,0.75)\n",
    "m=min(Tiempo)\n",
    "M=max(Tiempo)\n",
    "print([m,Q1,Q2,Q3,M])"
   ]
  },
  {
   "cell_type": "markdown",
   "metadata": {},
   "source": [
    "Ahora podemos cortar (o agrupar, o clasificar) los datos en términos de que el tiempo de ejecución sea inferior a Q1, esté entre Q1 y Q3, o sea superior a Q3. Esto nor permite crear una nueva variable, que llamamos Categoría, y que añadimos al data frame:"
   ]
  },
  {
   "cell_type": "code",
   "execution_count": 59,
   "metadata": {},
   "outputs": [],
   "source": [
    "Categoria=pd.cut(\n",
    "    Tiempo,\n",
    "    bins = [m,Q1,Q3,M],\n",
    "    labels=[\"Rápido\", \"Normal\", \"Lento\"],\n",
    ")"
   ]
  },
  {
   "cell_type": "code",
   "execution_count": 60,
   "metadata": {},
   "outputs": [
    {
     "data": {
      "text/html": [
       "<div>\n",
       "<style scoped>\n",
       "    .dataframe tbody tr th:only-of-type {\n",
       "        vertical-align: middle;\n",
       "    }\n",
       "\n",
       "    .dataframe tbody tr th {\n",
       "        vertical-align: top;\n",
       "    }\n",
       "\n",
       "    .dataframe thead th {\n",
       "        text-align: right;\n",
       "    }\n",
       "</style>\n",
       "<table border=\"1\" class=\"dataframe\">\n",
       "  <thead>\n",
       "    <tr style=\"text-align: right;\">\n",
       "      <th></th>\n",
       "      <th>Algoritmo</th>\n",
       "      <th>Max_repeticiones</th>\n",
       "      <th>Longitud</th>\n",
       "      <th>Tiempo</th>\n",
       "      <th>Categoria</th>\n",
       "    </tr>\n",
       "  </thead>\n",
       "  <tbody>\n",
       "    <tr>\n",
       "      <th>0</th>\n",
       "      <td>1</td>\n",
       "      <td>5</td>\n",
       "      <td>1022</td>\n",
       "      <td>0.003272</td>\n",
       "      <td>Rápido</td>\n",
       "    </tr>\n",
       "    <tr>\n",
       "      <th>1</th>\n",
       "      <td>0</td>\n",
       "      <td>5</td>\n",
       "      <td>1529</td>\n",
       "      <td>0.161851</td>\n",
       "      <td>Lento</td>\n",
       "    </tr>\n",
       "    <tr>\n",
       "      <th>2</th>\n",
       "      <td>2</td>\n",
       "      <td>6</td>\n",
       "      <td>1495</td>\n",
       "      <td>0.069382</td>\n",
       "      <td>Normal</td>\n",
       "    </tr>\n",
       "    <tr>\n",
       "      <th>3</th>\n",
       "      <td>1</td>\n",
       "      <td>5</td>\n",
       "      <td>1059</td>\n",
       "      <td>0.003492</td>\n",
       "      <td>Rápido</td>\n",
       "    </tr>\n",
       "    <tr>\n",
       "      <th>4</th>\n",
       "      <td>0</td>\n",
       "      <td>4</td>\n",
       "      <td>1153</td>\n",
       "      <td>0.088125</td>\n",
       "      <td>Normal</td>\n",
       "    </tr>\n",
       "    <tr>\n",
       "      <th>...</th>\n",
       "      <td>...</td>\n",
       "      <td>...</td>\n",
       "      <td>...</td>\n",
       "      <td>...</td>\n",
       "      <td>...</td>\n",
       "    </tr>\n",
       "    <tr>\n",
       "      <th>994</th>\n",
       "      <td>0</td>\n",
       "      <td>5</td>\n",
       "      <td>1422</td>\n",
       "      <td>0.136528</td>\n",
       "      <td>Lento</td>\n",
       "    </tr>\n",
       "    <tr>\n",
       "      <th>995</th>\n",
       "      <td>2</td>\n",
       "      <td>4</td>\n",
       "      <td>1091</td>\n",
       "      <td>0.035407</td>\n",
       "      <td>Normal</td>\n",
       "    </tr>\n",
       "    <tr>\n",
       "      <th>996</th>\n",
       "      <td>0</td>\n",
       "      <td>7</td>\n",
       "      <td>1800</td>\n",
       "      <td>0.220347</td>\n",
       "      <td>Lento</td>\n",
       "    </tr>\n",
       "    <tr>\n",
       "      <th>997</th>\n",
       "      <td>1</td>\n",
       "      <td>6</td>\n",
       "      <td>1030</td>\n",
       "      <td>0.003468</td>\n",
       "      <td>Rápido</td>\n",
       "    </tr>\n",
       "    <tr>\n",
       "      <th>998</th>\n",
       "      <td>2</td>\n",
       "      <td>5</td>\n",
       "      <td>1121</td>\n",
       "      <td>0.038219</td>\n",
       "      <td>Normal</td>\n",
       "    </tr>\n",
       "  </tbody>\n",
       "</table>\n",
       "<p>999 rows × 5 columns</p>\n",
       "</div>"
      ],
      "text/plain": [
       "     Algoritmo  Max_repeticiones  Longitud    Tiempo Categoria\n",
       "0            1                 5      1022  0.003272    Rápido\n",
       "1            0                 5      1529  0.161851     Lento\n",
       "2            2                 6      1495  0.069382    Normal\n",
       "3            1                 5      1059  0.003492    Rápido\n",
       "4            0                 4      1153  0.088125    Normal\n",
       "..         ...               ...       ...       ...       ...\n",
       "994          0                 5      1422  0.136528     Lento\n",
       "995          2                 4      1091  0.035407    Normal\n",
       "996          0                 7      1800  0.220347     Lento\n",
       "997          1                 6      1030  0.003468    Rápido\n",
       "998          2                 5      1121  0.038219    Normal\n",
       "\n",
       "[999 rows x 5 columns]"
      ]
     },
     "execution_count": 60,
     "metadata": {},
     "output_type": "execute_result"
    }
   ],
   "source": [
    "tiempos['Categoria']=Categoria\n",
    "tiempos"
   ]
  },
  {
   "cell_type": "markdown",
   "metadata": {},
   "source": [
    "Ahora podemos construir la tabla de contingencia (también llamada tabla cruzada) de Algoritmos frente a Categoría:"
   ]
  },
  {
   "cell_type": "code",
   "execution_count": 61,
   "metadata": {},
   "outputs": [
    {
     "data": {
      "text/html": [
       "<div>\n",
       "<style scoped>\n",
       "    .dataframe tbody tr th:only-of-type {\n",
       "        vertical-align: middle;\n",
       "    }\n",
       "\n",
       "    .dataframe tbody tr th {\n",
       "        vertical-align: top;\n",
       "    }\n",
       "\n",
       "    .dataframe thead th {\n",
       "        text-align: right;\n",
       "    }\n",
       "</style>\n",
       "<table border=\"1\" class=\"dataframe\">\n",
       "  <thead>\n",
       "    <tr style=\"text-align: right;\">\n",
       "      <th>Categoria</th>\n",
       "      <th>Rápido</th>\n",
       "      <th>Normal</th>\n",
       "      <th>Lento</th>\n",
       "      <th>All</th>\n",
       "    </tr>\n",
       "    <tr>\n",
       "      <th>Algoritmo</th>\n",
       "      <th></th>\n",
       "      <th></th>\n",
       "      <th></th>\n",
       "      <th></th>\n",
       "    </tr>\n",
       "  </thead>\n",
       "  <tbody>\n",
       "    <tr>\n",
       "      <th>0</th>\n",
       "      <td>0</td>\n",
       "      <td>83</td>\n",
       "      <td>241</td>\n",
       "      <td>324</td>\n",
       "    </tr>\n",
       "    <tr>\n",
       "      <th>1</th>\n",
       "      <td>249</td>\n",
       "      <td>85</td>\n",
       "      <td>0</td>\n",
       "      <td>334</td>\n",
       "    </tr>\n",
       "    <tr>\n",
       "      <th>2</th>\n",
       "      <td>0</td>\n",
       "      <td>331</td>\n",
       "      <td>9</td>\n",
       "      <td>340</td>\n",
       "    </tr>\n",
       "    <tr>\n",
       "      <th>All</th>\n",
       "      <td>249</td>\n",
       "      <td>499</td>\n",
       "      <td>250</td>\n",
       "      <td>998</td>\n",
       "    </tr>\n",
       "  </tbody>\n",
       "</table>\n",
       "</div>"
      ],
      "text/plain": [
       "Categoria  Rápido  Normal  Lento  All\n",
       "Algoritmo                            \n",
       "0               0      83    241  324\n",
       "1             249      85      0  334\n",
       "2               0     331      9  340\n",
       "All           249     499    250  998"
      ]
     },
     "execution_count": 61,
     "metadata": {},
     "output_type": "execute_result"
    }
   ],
   "source": [
    "Algoritmos=tiempos['Algoritmo']\n",
    "Categorias=tiempos['Categoria']\n",
    "pd.crosstab(Algoritmos, Categorias,margins=True)"
   ]
  },
  {
   "cell_type": "markdown",
   "metadata": {},
   "source": [
    "Esta tabla está construida con las frecuencias absolutas. Si queremos obtener las frecuencias relativas (respecto del total de observaciones), podemos hacerlo con la orden normalize:"
   ]
  },
  {
   "cell_type": "code",
   "execution_count": 62,
   "metadata": {},
   "outputs": [
    {
     "data": {
      "text/html": [
       "<div>\n",
       "<style scoped>\n",
       "    .dataframe tbody tr th:only-of-type {\n",
       "        vertical-align: middle;\n",
       "    }\n",
       "\n",
       "    .dataframe tbody tr th {\n",
       "        vertical-align: top;\n",
       "    }\n",
       "\n",
       "    .dataframe thead th {\n",
       "        text-align: right;\n",
       "    }\n",
       "</style>\n",
       "<table border=\"1\" class=\"dataframe\">\n",
       "  <thead>\n",
       "    <tr style=\"text-align: right;\">\n",
       "      <th>Categoria</th>\n",
       "      <th>Rápido</th>\n",
       "      <th>Normal</th>\n",
       "      <th>Lento</th>\n",
       "      <th>All</th>\n",
       "    </tr>\n",
       "    <tr>\n",
       "      <th>Algoritmo</th>\n",
       "      <th></th>\n",
       "      <th></th>\n",
       "      <th></th>\n",
       "      <th></th>\n",
       "    </tr>\n",
       "  </thead>\n",
       "  <tbody>\n",
       "    <tr>\n",
       "      <th>0</th>\n",
       "      <td>0.000000</td>\n",
       "      <td>0.083166</td>\n",
       "      <td>0.241483</td>\n",
       "      <td>0.324649</td>\n",
       "    </tr>\n",
       "    <tr>\n",
       "      <th>1</th>\n",
       "      <td>0.249499</td>\n",
       "      <td>0.085170</td>\n",
       "      <td>0.000000</td>\n",
       "      <td>0.334669</td>\n",
       "    </tr>\n",
       "    <tr>\n",
       "      <th>2</th>\n",
       "      <td>0.000000</td>\n",
       "      <td>0.331663</td>\n",
       "      <td>0.009018</td>\n",
       "      <td>0.340681</td>\n",
       "    </tr>\n",
       "    <tr>\n",
       "      <th>All</th>\n",
       "      <td>0.249499</td>\n",
       "      <td>0.500000</td>\n",
       "      <td>0.250501</td>\n",
       "      <td>1.000000</td>\n",
       "    </tr>\n",
       "  </tbody>\n",
       "</table>\n",
       "</div>"
      ],
      "text/plain": [
       "Categoria    Rápido    Normal     Lento       All\n",
       "Algoritmo                                        \n",
       "0          0.000000  0.083166  0.241483  0.324649\n",
       "1          0.249499  0.085170  0.000000  0.334669\n",
       "2          0.000000  0.331663  0.009018  0.340681\n",
       "All        0.249499  0.500000  0.250501  1.000000"
      ]
     },
     "execution_count": 62,
     "metadata": {},
     "output_type": "execute_result"
    }
   ],
   "source": [
    "pd.crosstab(Algoritmos, Categorias,margins=True,normalize=True)"
   ]
  },
  {
   "cell_type": "markdown",
   "metadata": {},
   "source": [
    "Ahora bien, si lo que queremos es conocer las frecuencias relativas marginales por filas (es decir, las calculamos de forma separada en cada una de las filas del data frame, lo que en nuestro ejemplo significa que calculamos para cada algoritmo, con qué frecuencia éste ha sido clasificado como Rápido, Normal o Lento), lo hacemos normalizando respecto de index:"
   ]
  },
  {
   "cell_type": "code",
   "execution_count": 63,
   "metadata": {},
   "outputs": [
    {
     "data": {
      "text/html": [
       "<div>\n",
       "<style scoped>\n",
       "    .dataframe tbody tr th:only-of-type {\n",
       "        vertical-align: middle;\n",
       "    }\n",
       "\n",
       "    .dataframe tbody tr th {\n",
       "        vertical-align: top;\n",
       "    }\n",
       "\n",
       "    .dataframe thead th {\n",
       "        text-align: right;\n",
       "    }\n",
       "</style>\n",
       "<table border=\"1\" class=\"dataframe\">\n",
       "  <thead>\n",
       "    <tr style=\"text-align: right;\">\n",
       "      <th>Categoria</th>\n",
       "      <th>Rápido</th>\n",
       "      <th>Normal</th>\n",
       "      <th>Lento</th>\n",
       "    </tr>\n",
       "    <tr>\n",
       "      <th>Algoritmo</th>\n",
       "      <th></th>\n",
       "      <th></th>\n",
       "      <th></th>\n",
       "    </tr>\n",
       "  </thead>\n",
       "  <tbody>\n",
       "    <tr>\n",
       "      <th>0</th>\n",
       "      <td>0.000000</td>\n",
       "      <td>0.256173</td>\n",
       "      <td>0.743827</td>\n",
       "    </tr>\n",
       "    <tr>\n",
       "      <th>1</th>\n",
       "      <td>0.745509</td>\n",
       "      <td>0.254491</td>\n",
       "      <td>0.000000</td>\n",
       "    </tr>\n",
       "    <tr>\n",
       "      <th>2</th>\n",
       "      <td>0.000000</td>\n",
       "      <td>0.973529</td>\n",
       "      <td>0.026471</td>\n",
       "    </tr>\n",
       "  </tbody>\n",
       "</table>\n",
       "</div>"
      ],
      "text/plain": [
       "Categoria    Rápido    Normal     Lento\n",
       "Algoritmo                              \n",
       "0          0.000000  0.256173  0.743827\n",
       "1          0.745509  0.254491  0.000000\n",
       "2          0.000000  0.973529  0.026471"
      ]
     },
     "execution_count": 63,
     "metadata": {},
     "output_type": "execute_result"
    }
   ],
   "source": [
    "pd.crosstab(Algoritmos, Categorias,normalize='index')"
   ]
  },
  {
   "cell_type": "markdown",
   "metadata": {},
   "source": [
    "Finalmente, si lo que queremos es conocer las frecuencias relativas marginales por columnas (es decir, las calculamos de forma separada en cada una de las columnas del data frame, lo que en nuestro ejemplo significa que calculamos para cada categoría, con qué frecuencia ésta ha sido obtenida por cada uno de los algoritmos: 0,1 y 2), lo hacemos normalizando respecto de columns:"
   ]
  },
  {
   "cell_type": "code",
   "execution_count": 64,
   "metadata": {},
   "outputs": [
    {
     "data": {
      "text/html": [
       "<div>\n",
       "<style scoped>\n",
       "    .dataframe tbody tr th:only-of-type {\n",
       "        vertical-align: middle;\n",
       "    }\n",
       "\n",
       "    .dataframe tbody tr th {\n",
       "        vertical-align: top;\n",
       "    }\n",
       "\n",
       "    .dataframe thead th {\n",
       "        text-align: right;\n",
       "    }\n",
       "</style>\n",
       "<table border=\"1\" class=\"dataframe\">\n",
       "  <thead>\n",
       "    <tr style=\"text-align: right;\">\n",
       "      <th>Categoria</th>\n",
       "      <th>Rápido</th>\n",
       "      <th>Normal</th>\n",
       "      <th>Lento</th>\n",
       "    </tr>\n",
       "    <tr>\n",
       "      <th>Algoritmo</th>\n",
       "      <th></th>\n",
       "      <th></th>\n",
       "      <th></th>\n",
       "    </tr>\n",
       "  </thead>\n",
       "  <tbody>\n",
       "    <tr>\n",
       "      <th>0</th>\n",
       "      <td>0.0</td>\n",
       "      <td>0.166333</td>\n",
       "      <td>0.964</td>\n",
       "    </tr>\n",
       "    <tr>\n",
       "      <th>1</th>\n",
       "      <td>1.0</td>\n",
       "      <td>0.170341</td>\n",
       "      <td>0.000</td>\n",
       "    </tr>\n",
       "    <tr>\n",
       "      <th>2</th>\n",
       "      <td>0.0</td>\n",
       "      <td>0.663327</td>\n",
       "      <td>0.036</td>\n",
       "    </tr>\n",
       "  </tbody>\n",
       "</table>\n",
       "</div>"
      ],
      "text/plain": [
       "Categoria  Rápido    Normal  Lento\n",
       "Algoritmo                         \n",
       "0             0.0  0.166333  0.964\n",
       "1             1.0  0.170341  0.000\n",
       "2             0.0  0.663327  0.036"
      ]
     },
     "execution_count": 64,
     "metadata": {},
     "output_type": "execute_result"
    }
   ],
   "source": [
    "pd.crosstab(Algoritmos, Categorias,normalize='columns')"
   ]
  },
  {
   "cell_type": "markdown",
   "metadata": {},
   "source": [
    "La tabla de contingencia puede ser representada gráficamente usando un diagrama de barras apiladas:"
   ]
  },
  {
   "cell_type": "code",
   "execution_count": 65,
   "metadata": {},
   "outputs": [
    {
     "data": {
      "image/png": "[encoded data removed]",
      "text/plain": [
       "<Figure size 432x288 with 1 Axes>"
      ]
     },
     "metadata": {
      "needs_background": "light"
     },
     "output_type": "display_data"
    }
   ],
   "source": [
    "TC=pd.crosstab(Algoritmos, Categorias,normalize=True)\n",
    "TC.plot.bar(stacked=True)\n",
    "plt.show()"
   ]
  },
  {
   "cell_type": "markdown",
   "metadata": {},
   "source": [
    "Pero también puede hacerse con un diagrama de barras agrupadas:"
   ]
  },
  {
   "cell_type": "code",
   "execution_count": 66,
   "metadata": {},
   "outputs": [
    {
     "data": {
      "image/png": "[encoded data removed]",
      "text/plain": [
       "<Figure size 432x288 with 1 Axes>"
      ]
     },
     "metadata": {
      "needs_background": "light"
     },
     "output_type": "display_data"
    }
   ],
   "source": [
    "TC=pd.crosstab(Algoritmos, Categorias,normalize=True)\n",
    "TC.plot.bar(stacked=False)\n",
    "plt.show()"
   ]
  },
  {
   "cell_type": "code",
   "execution_count": 67,
   "metadata": {},
   "outputs": [
    {
     "data": {
      "image/png": "[encoded data removed]",
      "text/plain": [
       "<Figure size 432x288 with 1 Axes>"
      ]
     },
     "metadata": {
      "needs_background": "light"
     },
     "output_type": "display_data"
    }
   ],
   "source": [
    "# Apilados, con las distribuciones condicionadas Categoría|Algoritmo:\n",
    "TCnorm=pd.crosstab(Algoritmos,Categorias, normalize='index')\n",
    "TCnorm.plot.bar(stacked=True)\n",
    "plt.show()"
   ]
  },
  {
   "cell_type": "code",
   "execution_count": 68,
   "metadata": {},
   "outputs": [
    {
     "data": {
      "image/png": "[encoded data removed]",
      "text/plain": [
       "<Figure size 432x288 with 1 Axes>"
      ]
     },
     "metadata": {
      "needs_background": "light"
     },
     "output_type": "display_data"
    }
   ],
   "source": [
    "# Apilados, con las distribuciones condicionadas Algoritmo|Categoría:\n",
    "TCnorm=pd.crosstab(Categorias,Algoritmos, normalize='index')\n",
    "TCnorm.plot.bar(stacked=True)\n",
    "plt.show()"
   ]
  },
  {
   "cell_type": "markdown",
   "metadata": {},
   "source": [
    "<h2> Covarianza, correlación, y regresión lineal</h2>\n",
    "\n",
    "Supongamos que tenemos dos variables cuantitativas X e Y de las que hemos realizado $n$ observaciones (i.e. tenemos una muestra de tamaño $n$ de la variable bidimensional $(X,Y)$: $$\\{(x_1,y_1),(x_2,y_2),\\cdots, (x_n,y_n)\\}$$\n",
    "donde los valores pueden aparecer de forma repetida. La forma habitual de representar este conjunto de observaciones es dibujando la nube de puntos asociada.\n"
   ]
  },
  {
   "cell_type": "code",
   "execution_count": 69,
   "metadata": {},
   "outputs": [
    {
     "data": {
      "image/png": "[encoded data removed]",
      "text/plain": [
       "<Figure size 720x504 with 1 Axes>"
      ]
     },
     "metadata": {
      "needs_background": "light"
     },
     "output_type": "display_data"
    }
   ],
   "source": [
    "import numpy as np\n",
    "import matplotlib.pyplot as plt\n",
    "n = 5000\n",
    "x = [1,1.1,2,1.9,3.5,4,6,2]\n",
    "y = [1,-1.1,3,2.9,5.5,6,7,2]\n",
    "plt.figure(figsize=(10,7))\n",
    "plt.scatter(x, y) # Un gráfico similar se obtiene con: plt.plot(x,y,'o',markersize=4)\n",
    "plt.show()"
   ]
  },
  {
   "cell_type": "markdown",
   "metadata": {},
   "source": [
    "Dadas las variables estadísticas $X,Y$ de las que tenemos $n$ observaciones $\\mathcal{X}=(x_1,\\cdots,x_n)$ e $\\mathcal{Y}=(y_1,\\cdots,y_n)$, consideremos los vectores $\\overline{\\mathcal{X}}=(\\overline{X},\\cdots,\\overline{X})$ e $\\overline{\\mathcal{Y}}=(\\overline{Y},\\cdots,\\overline{Y})$. El <strong>coeficiente de correlación de Pearson</strong> $r_{X,Y}$ viene dado por la expresión:\n",
    "$$r_{X,Y}=\\frac{\\langle \\mathcal{X}-\\overline{\\mathcal{X}},\\mathcal{Y}-\\overline{\\mathcal{Y}}\\rangle}{\\|\\mathcal{X}-\\overline{\\mathcal{X}}\\|\\|\\mathcal{Y}-\\overline{\\mathcal{Y}}\\|}=\\frac{\\sum_{i=1}^n(x_i-\\overline{X})(y_i-\\overline{Y})}{\\sqrt{\\sum_{i=1}^n(x_i-\\overline{X})^2}\\sqrt{\\sum_{i=1}^n(y_i-\\overline{Y})^2}}$$\n",
    "\n",
    "Es evidente (consecuencia directa de la desigualdad de Cauchy-Schwarz) que $-1\\leq r_{X,Y}\\leq 1$. Cuando $r_{X,Y}=0$ las variables se dicen incorreladas (o no correlacionadas). Cuando $r_{X,Y}=1$ la correlación es óptima. Por ejemplo, siempre se tiene que $r_{X,X}=1$. \n",
    "\n",
    "Si llamamos <strong>covarianza</strong> $s_{X,Y}$ al valor \n",
    "$$s_{X,Y}=\\frac{1}{n-1}\\sum_{i=1}^n(x_i-\\overline{X})(y_i-\\overline{Y})=s_{Y,X}$$\n",
    "es claro que \n",
    "$$r_{X,Y}=\\frac{s_{X,Y}}{s_Xs_Y}=r_{Y,X},$$\n",
    "donde $s_X^2:=s_{X,X}$ y $s_Y^2:=s_{Y,Y}$.  La matrix \n",
    "$$cov_{X,Y}=\\left[\\begin{array}{ccc} s_X^2 & s_{X,Y} \\\\ s_{X,Y} & s_Y^2\\end{array}\\right]$$\n",
    "recibe el nombre de <strong>matrix de covarianzas</strong> de las variables $X,Y$. \n",
    "Análogamente, podemos calcular la matriz de correlaciones: \n",
    "$$corr_{X,Y}=\\left[\\begin{array}{ccc} r_{X,X} & r_{X,Y} \\\\ r_{X,Y} & r_{Y,Y}\\end{array}\\right]=\\left[\\begin{array}{ccc} 1 & r_{X,Y} \\\\ r_{X,Y} & 1\\end{array}\\right]$$\n",
    "\n",
    "Nota: A menudo usamos $r$ para denotar $r_{X,Y}$, cuando no hay posibilidad de confusión con las variables $X,Y$. \n",
    "\n",
    "<h3>Regresión lineal</h3>\n",
    "\n",
    "Dadas $n$ observaciones $\\mathcal{X}=(x_1,\\cdots,x_n)$ e $\\mathcal{Y}=(y_1,\\cdots,y_n)$, nos interesa calcular la recta $y=ax+b$ que mejor aproxime los datos. En otras palabras, buscamos los valores $a,b$ que minimizan la cantidad $$E(a,b)=\\|(ax_1+b-y_1,\\cdots,ax_n+b-y_n)\\|^2=\\sum_{i=1}^n(ax_i+b-y_i)^2.$$\n",
    "\n",
    "Hay dos modos de abordar este problema: O bien consideramos que estamos ante un problema de optimización de una función de dos variables (en cuyo caso debemos calcular la solución de $\\frac{\\partial E}{\\partial a}=\\frac{\\partial E}{\\partial b}=0$) o bien consideramos que estamos ante un problema geométrico y calculamos la proyección ortogonal del vector $\\mathcal{Y}=(y_1,\\cdots,y_n)$ sobre el espacio $V=\\mathbf{span}\\{(x_1,\\cdots,x_n),(1,\\cdots,1)\\}$. \n",
    "\n",
    "En ambos casos llegamos a la misma solución: \n",
    "$$a=\\frac{s_{X,Y}}{s_X^2};\\quad b=\\overline{Y}-a\\overline{X}$$ \n",
    "y la recta $y=ax+b$ se llama recta de regresión de la nube de puntos $\\{(x_i,y_i)\\}_{i=1}^n$.  \n"
   ]
  },
  {
   "cell_type": "markdown",
   "metadata": {},
   "source": [
    "<h4>Bondad de ajuste de la recta de regresión</h4>\n",
    "\n",
    "Supongamos que $Y'=aX+b$ es la recta de regresión. Entonces podemos estimar los  errores $e_i=y_i-(ax_i+b)$, $i=1,\\cdots, n$ (que se llaman residuos). Llamamos <strong> variable residual </strong> $Y'$ a la que toma los valores $y_i'=ax_i+b$, $i=1,\\cdots,n$, y llamamos variable residual $e$ a la que toma los valores $e_i$, $i=1,\\cdots,n$. De modo que $Y=Y'+e$, y nos interesa estimar $$\\|\\mathcal{Y}-\\mathcal{Y'}\\|=\\|(e_1,\\cdots,e_n)\\|=\\left(\\sum_{i=1}^ne_i^2 \\right)^{\\frac{1}{2}}.$$\n",
    "\n",
    "Es fácil comprobar que $$e_i=y_i-ax_i-b=(y_i-\\overline{Y})-a(x_i-\\overline{X}),\\quad i=1,\\cdots,n$$\n",
    "y por tanto\n",
    "$$\\overline{e}= \\frac{1}{n}\\sum_{i=1}^ne_i= \\frac{1}{n}\\sum_{i=1}^n (y_i-\\overline{Y})-a(x_i-\\overline{X})=0$$\n",
    "Se sigue que $s_e^2= \\frac{1}{n-1}\\sum_{i=1}^ne_i^2$. Ahora, un sencillo cálculo nos da la identidad\n",
    "$$s_e^2= s_Y^2(1-r_{X,Y}^2)$$\n",
    "Es por ello que $R^2=r_{X,Y}^2$ recibe el nombre de coeficiente de determinación. Si su valor supera $0.9$, decimos que el ajuste de la recta de regresión es muy bueno, si supera $0.8$, decimos que es bueno. En el resto de casos, no es bueno. \n",
    "\n"
   ]
  },
  {
   "cell_type": "markdown",
   "metadata": {},
   "source": [
    "<h3>Un primer ejemplo</h3> \n",
    "Veamos cómo se calcula la recta de regresión en un ejemplo sencillo."
   ]
  },
  {
   "cell_type": "code",
   "execution_count": 70,
   "metadata": {},
   "outputs": [
    {
     "data": {
      "image/png": "[encoded data removed]",
      "text/plain": [
       "<Figure size 360x360 with 1 Axes>"
      ]
     },
     "metadata": {
      "needs_background": "light"
     },
     "output_type": "display_data"
    },
    {
     "name": "stdout",
     "output_type": "stream",
     "text": [
      "a =  0.4908675613191466\n",
      "b =  1.2121132214358799\n",
      "The best fit simple linear regression line is 0.49x + 1.21.\n",
      "La recta de regresión es 0.4908675613191466 x +  1.2121132214358799\n"
     ]
    },
    {
     "data": {
      "image/png": "[encoded data removed]",
      "text/plain": [
       "<Figure size 432x288 with 1 Axes>"
      ]
     },
     "metadata": {
      "needs_background": "light"
     },
     "output_type": "display_data"
    }
   ],
   "source": [
    "import numpy as np\n",
    "import matplotlib.pyplot as plt\n",
    "import numpy as np\n",
    "import sympy as sym # Esto permite cálculo simbólico (quizás no lo usemos)\n",
    "\n",
    "np.random.seed(777)  # para fijar números aleatorios\n",
    "x = [xi + np.random.rand() for xi in np.linspace(0, 100, 40)]\n",
    "y = [yi + np.random.rand() for yi in np.linspace(1, 50, 40)]\n",
    "\n",
    "plt.figure(figsize=(5, 5))\n",
    "plt.scatter(x, y)\n",
    "plt.show()\n",
    "\n",
    "a, b = np.polyfit(x,y,1) \n",
    "print('a = ', a)\n",
    "print('b = ', b)\n",
    "print ('The best fit simple linear regression line is {:.2f}x + {:.2f}.'.format(a,b))\n",
    "print ('La recta de regresión es',a, 'x + ',b)\n",
    "\n",
    "# grafica\n",
    "\n",
    "\n",
    "z=np.linspace(0, 100, 400)\n",
    "f=a*z+b\n",
    "plt.plot(x,y,'o',label='(xi,yi)')\n",
    "plt.plot(z,f, color='orange',  label=f)\n",
    "plt.show()"
   ]
  },
  {
   "cell_type": "code",
   "execution_count": 71,
   "metadata": {},
   "outputs": [
    {
     "name": "stdout",
     "output_type": "stream",
     "text": [
      "El coef. de correlación de Pearson es =  0.99979848082162\n",
      "El coef. de determinación es =  0.9995970022532193\n"
     ]
    }
   ],
   "source": [
    "df =pd.DataFrame({'X':x,'Y': y})\n",
    "df\n",
    "corr_matrix = df.corr(method='pearson')\n",
    "corr_matrix\n",
    "r=corr_matrix[\"X\"][1]\n",
    "R2=r*r\n",
    "print(\"El coef. de correlación de Pearson es = \",r)\n",
    "print(\"El coef. de determinación es = \",R2)"
   ]
  },
  {
   "cell_type": "markdown",
   "metadata": {},
   "source": [
    "Veamos otro ejemplo, tomando los datos de un fichero que está en una página web:"
   ]
  },
  {
   "cell_type": "markdown",
   "metadata": {},
   "source": [
    "Primero descargamos los datos:"
   ]
  },
  {
   "cell_type": "code",
   "execution_count": 101,
   "metadata": {},
   "outputs": [
    {
     "data": {
      "text/html": [
       "<div>\n",
       "<style scoped>\n",
       "    .dataframe tbody tr th:only-of-type {\n",
       "        vertical-align: middle;\n",
       "    }\n",
       "\n",
       "    .dataframe tbody tr th {\n",
       "        vertical-align: top;\n",
       "    }\n",
       "\n",
       "    .dataframe thead th {\n",
       "        text-align: right;\n",
       "    }\n",
       "</style>\n",
       "<table border=\"1\" class=\"dataframe\">\n",
       "  <thead>\n",
       "    <tr style=\"text-align: right;\">\n",
       "      <th></th>\n",
       "      <th>Manufacturer</th>\n",
       "      <th>Model</th>\n",
       "      <th>Type</th>\n",
       "      <th>Min.Price</th>\n",
       "      <th>Price</th>\n",
       "      <th>Max.Price</th>\n",
       "      <th>MPG.city</th>\n",
       "      <th>MPG.highway</th>\n",
       "      <th>AirBags</th>\n",
       "      <th>DriveTrain</th>\n",
       "      <th>...</th>\n",
       "      <th>Passengers</th>\n",
       "      <th>Length</th>\n",
       "      <th>Wheelbase</th>\n",
       "      <th>Width</th>\n",
       "      <th>Turn.circle</th>\n",
       "      <th>Rear.seat.room</th>\n",
       "      <th>Luggage.room</th>\n",
       "      <th>Weight</th>\n",
       "      <th>Origin</th>\n",
       "      <th>Make</th>\n",
       "    </tr>\n",
       "  </thead>\n",
       "  <tbody>\n",
       "    <tr>\n",
       "      <th>0</th>\n",
       "      <td>Acura</td>\n",
       "      <td>Integra</td>\n",
       "      <td>Small</td>\n",
       "      <td>12.9</td>\n",
       "      <td>15.9</td>\n",
       "      <td>18.8</td>\n",
       "      <td>25</td>\n",
       "      <td>31</td>\n",
       "      <td>None</td>\n",
       "      <td>Front</td>\n",
       "      <td>...</td>\n",
       "      <td>5</td>\n",
       "      <td>177</td>\n",
       "      <td>102</td>\n",
       "      <td>68</td>\n",
       "      <td>37</td>\n",
       "      <td>26.5</td>\n",
       "      <td>11.0</td>\n",
       "      <td>2705</td>\n",
       "      <td>non-USA</td>\n",
       "      <td>Acura Integra</td>\n",
       "    </tr>\n",
       "    <tr>\n",
       "      <th>1</th>\n",
       "      <td>Acura</td>\n",
       "      <td>Legend</td>\n",
       "      <td>Midsize</td>\n",
       "      <td>29.2</td>\n",
       "      <td>33.9</td>\n",
       "      <td>38.7</td>\n",
       "      <td>18</td>\n",
       "      <td>25</td>\n",
       "      <td>Driver &amp; Passenger</td>\n",
       "      <td>Front</td>\n",
       "      <td>...</td>\n",
       "      <td>5</td>\n",
       "      <td>195</td>\n",
       "      <td>115</td>\n",
       "      <td>71</td>\n",
       "      <td>38</td>\n",
       "      <td>30.0</td>\n",
       "      <td>15.0</td>\n",
       "      <td>3560</td>\n",
       "      <td>non-USA</td>\n",
       "      <td>Acura Legend</td>\n",
       "    </tr>\n",
       "    <tr>\n",
       "      <th>2</th>\n",
       "      <td>Audi</td>\n",
       "      <td>90</td>\n",
       "      <td>Compact</td>\n",
       "      <td>25.9</td>\n",
       "      <td>29.1</td>\n",
       "      <td>32.3</td>\n",
       "      <td>20</td>\n",
       "      <td>26</td>\n",
       "      <td>Driver only</td>\n",
       "      <td>Front</td>\n",
       "      <td>...</td>\n",
       "      <td>5</td>\n",
       "      <td>180</td>\n",
       "      <td>102</td>\n",
       "      <td>67</td>\n",
       "      <td>37</td>\n",
       "      <td>28.0</td>\n",
       "      <td>14.0</td>\n",
       "      <td>3375</td>\n",
       "      <td>non-USA</td>\n",
       "      <td>Audi 90</td>\n",
       "    </tr>\n",
       "    <tr>\n",
       "      <th>3</th>\n",
       "      <td>Audi</td>\n",
       "      <td>100</td>\n",
       "      <td>Midsize</td>\n",
       "      <td>30.8</td>\n",
       "      <td>37.7</td>\n",
       "      <td>44.6</td>\n",
       "      <td>19</td>\n",
       "      <td>26</td>\n",
       "      <td>Driver &amp; Passenger</td>\n",
       "      <td>Front</td>\n",
       "      <td>...</td>\n",
       "      <td>6</td>\n",
       "      <td>193</td>\n",
       "      <td>106</td>\n",
       "      <td>70</td>\n",
       "      <td>37</td>\n",
       "      <td>31.0</td>\n",
       "      <td>17.0</td>\n",
       "      <td>3405</td>\n",
       "      <td>non-USA</td>\n",
       "      <td>Audi 100</td>\n",
       "    </tr>\n",
       "    <tr>\n",
       "      <th>4</th>\n",
       "      <td>BMW</td>\n",
       "      <td>535i</td>\n",
       "      <td>Midsize</td>\n",
       "      <td>23.7</td>\n",
       "      <td>30.0</td>\n",
       "      <td>36.2</td>\n",
       "      <td>22</td>\n",
       "      <td>30</td>\n",
       "      <td>Driver only</td>\n",
       "      <td>Rear</td>\n",
       "      <td>...</td>\n",
       "      <td>4</td>\n",
       "      <td>186</td>\n",
       "      <td>109</td>\n",
       "      <td>69</td>\n",
       "      <td>39</td>\n",
       "      <td>27.0</td>\n",
       "      <td>13.0</td>\n",
       "      <td>3640</td>\n",
       "      <td>non-USA</td>\n",
       "      <td>BMW 535i</td>\n",
       "    </tr>\n",
       "    <tr>\n",
       "      <th>...</th>\n",
       "      <td>...</td>\n",
       "      <td>...</td>\n",
       "      <td>...</td>\n",
       "      <td>...</td>\n",
       "      <td>...</td>\n",
       "      <td>...</td>\n",
       "      <td>...</td>\n",
       "      <td>...</td>\n",
       "      <td>...</td>\n",
       "      <td>...</td>\n",
       "      <td>...</td>\n",
       "      <td>...</td>\n",
       "      <td>...</td>\n",
       "      <td>...</td>\n",
       "      <td>...</td>\n",
       "      <td>...</td>\n",
       "      <td>...</td>\n",
       "      <td>...</td>\n",
       "      <td>...</td>\n",
       "      <td>...</td>\n",
       "      <td>...</td>\n",
       "    </tr>\n",
       "    <tr>\n",
       "      <th>88</th>\n",
       "      <td>Volkswagen</td>\n",
       "      <td>Eurovan</td>\n",
       "      <td>Van</td>\n",
       "      <td>16.6</td>\n",
       "      <td>19.7</td>\n",
       "      <td>22.7</td>\n",
       "      <td>17</td>\n",
       "      <td>21</td>\n",
       "      <td>None</td>\n",
       "      <td>Front</td>\n",
       "      <td>...</td>\n",
       "      <td>7</td>\n",
       "      <td>187</td>\n",
       "      <td>115</td>\n",
       "      <td>72</td>\n",
       "      <td>38</td>\n",
       "      <td>34.0</td>\n",
       "      <td>NaN</td>\n",
       "      <td>3960</td>\n",
       "      <td>non-USA</td>\n",
       "      <td>Volkswagen Eurovan</td>\n",
       "    </tr>\n",
       "    <tr>\n",
       "      <th>89</th>\n",
       "      <td>Volkswagen</td>\n",
       "      <td>Passat</td>\n",
       "      <td>Compact</td>\n",
       "      <td>17.6</td>\n",
       "      <td>20.0</td>\n",
       "      <td>22.4</td>\n",
       "      <td>21</td>\n",
       "      <td>30</td>\n",
       "      <td>None</td>\n",
       "      <td>Front</td>\n",
       "      <td>...</td>\n",
       "      <td>5</td>\n",
       "      <td>180</td>\n",
       "      <td>103</td>\n",
       "      <td>67</td>\n",
       "      <td>35</td>\n",
       "      <td>31.5</td>\n",
       "      <td>14.0</td>\n",
       "      <td>2985</td>\n",
       "      <td>non-USA</td>\n",
       "      <td>Volkswagen Passat</td>\n",
       "    </tr>\n",
       "    <tr>\n",
       "      <th>90</th>\n",
       "      <td>Volkswagen</td>\n",
       "      <td>Corrado</td>\n",
       "      <td>Sporty</td>\n",
       "      <td>22.9</td>\n",
       "      <td>23.3</td>\n",
       "      <td>23.7</td>\n",
       "      <td>18</td>\n",
       "      <td>25</td>\n",
       "      <td>None</td>\n",
       "      <td>Front</td>\n",
       "      <td>...</td>\n",
       "      <td>4</td>\n",
       "      <td>159</td>\n",
       "      <td>97</td>\n",
       "      <td>66</td>\n",
       "      <td>36</td>\n",
       "      <td>26.0</td>\n",
       "      <td>15.0</td>\n",
       "      <td>2810</td>\n",
       "      <td>non-USA</td>\n",
       "      <td>Volkswagen Corrado</td>\n",
       "    </tr>\n",
       "    <tr>\n",
       "      <th>91</th>\n",
       "      <td>Volvo</td>\n",
       "      <td>240</td>\n",
       "      <td>Compact</td>\n",
       "      <td>21.8</td>\n",
       "      <td>22.7</td>\n",
       "      <td>23.5</td>\n",
       "      <td>21</td>\n",
       "      <td>28</td>\n",
       "      <td>Driver only</td>\n",
       "      <td>Rear</td>\n",
       "      <td>...</td>\n",
       "      <td>5</td>\n",
       "      <td>190</td>\n",
       "      <td>104</td>\n",
       "      <td>67</td>\n",
       "      <td>37</td>\n",
       "      <td>29.5</td>\n",
       "      <td>14.0</td>\n",
       "      <td>2985</td>\n",
       "      <td>non-USA</td>\n",
       "      <td>Volvo 240</td>\n",
       "    </tr>\n",
       "    <tr>\n",
       "      <th>92</th>\n",
       "      <td>Volvo</td>\n",
       "      <td>850</td>\n",
       "      <td>Midsize</td>\n",
       "      <td>24.8</td>\n",
       "      <td>26.7</td>\n",
       "      <td>28.5</td>\n",
       "      <td>20</td>\n",
       "      <td>28</td>\n",
       "      <td>Driver &amp; Passenger</td>\n",
       "      <td>Front</td>\n",
       "      <td>...</td>\n",
       "      <td>5</td>\n",
       "      <td>184</td>\n",
       "      <td>105</td>\n",
       "      <td>69</td>\n",
       "      <td>38</td>\n",
       "      <td>30.0</td>\n",
       "      <td>15.0</td>\n",
       "      <td>3245</td>\n",
       "      <td>non-USA</td>\n",
       "      <td>Volvo 850</td>\n",
       "    </tr>\n",
       "  </tbody>\n",
       "</table>\n",
       "<p>93 rows × 27 columns</p>\n",
       "</div>"
      ],
      "text/plain": [
       "   Manufacturer    Model     Type  Min.Price  Price  Max.Price  MPG.city  \\\n",
       "0         Acura  Integra    Small       12.9   15.9       18.8        25   \n",
       "1         Acura   Legend  Midsize       29.2   33.9       38.7        18   \n",
       "2          Audi       90  Compact       25.9   29.1       32.3        20   \n",
       "3          Audi      100  Midsize       30.8   37.7       44.6        19   \n",
       "4           BMW     535i  Midsize       23.7   30.0       36.2        22   \n",
       "..          ...      ...      ...        ...    ...        ...       ...   \n",
       "88   Volkswagen  Eurovan      Van       16.6   19.7       22.7        17   \n",
       "89   Volkswagen   Passat  Compact       17.6   20.0       22.4        21   \n",
       "90   Volkswagen  Corrado   Sporty       22.9   23.3       23.7        18   \n",
       "91        Volvo      240  Compact       21.8   22.7       23.5        21   \n",
       "92        Volvo      850  Midsize       24.8   26.7       28.5        20   \n",
       "\n",
       "    MPG.highway             AirBags DriveTrain  ... Passengers  Length  \\\n",
       "0            31                None      Front  ...          5     177   \n",
       "1            25  Driver & Passenger      Front  ...          5     195   \n",
       "2            26         Driver only      Front  ...          5     180   \n",
       "3            26  Driver & Passenger      Front  ...          6     193   \n",
       "4            30         Driver only       Rear  ...          4     186   \n",
       "..          ...                 ...        ...  ...        ...     ...   \n",
       "88           21                None      Front  ...          7     187   \n",
       "89           30                None      Front  ...          5     180   \n",
       "90           25                None      Front  ...          4     159   \n",
       "91           28         Driver only       Rear  ...          5     190   \n",
       "92           28  Driver & Passenger      Front  ...          5     184   \n",
       "\n",
       "    Wheelbase  Width  Turn.circle Rear.seat.room  Luggage.room  Weight  \\\n",
       "0         102     68           37           26.5          11.0    2705   \n",
       "1         115     71           38           30.0          15.0    3560   \n",
       "2         102     67           37           28.0          14.0    3375   \n",
       "3         106     70           37           31.0          17.0    3405   \n",
       "4         109     69           39           27.0          13.0    3640   \n",
       "..        ...    ...          ...            ...           ...     ...   \n",
       "88        115     72           38           34.0           NaN    3960   \n",
       "89        103     67           35           31.5          14.0    2985   \n",
       "90         97     66           36           26.0          15.0    2810   \n",
       "91        104     67           37           29.5          14.0    2985   \n",
       "92        105     69           38           30.0          15.0    3245   \n",
       "\n",
       "     Origin                Make  \n",
       "0   non-USA       Acura Integra  \n",
       "1   non-USA        Acura Legend  \n",
       "2   non-USA             Audi 90  \n",
       "3   non-USA            Audi 100  \n",
       "4   non-USA            BMW 535i  \n",
       "..      ...                 ...  \n",
       "88  non-USA  Volkswagen Eurovan  \n",
       "89  non-USA   Volkswagen Passat  \n",
       "90  non-USA  Volkswagen Corrado  \n",
       "91  non-USA           Volvo 240  \n",
       "92  non-USA           Volvo 850  \n",
       "\n",
       "[93 rows x 27 columns]"
      ]
     },
     "execution_count": 101,
     "metadata": {},
     "output_type": "execute_result"
    }
   ],
   "source": [
    "url = ('https://raw.githubusercontent.com/JoaquinAmatRodrigo/' +\n",
    "       'Estadistica-machine-learning-python/master/data/Cars93.csv')\n",
    "datos = pd.read_csv(url)\n",
    "datos"
   ]
  },
  {
   "cell_type": "markdown",
   "metadata": {},
   "source": [
    "Queremos analizar la relación que hay entre las variables Peso (W) y Precio (P). Pensamos que debe haber una relación del tipo $$ P\\approx a \\log W+b$$ y por tanto vamos a buscar la recta de regresión entre las variables $X=\\log W$ e $Y=P$. "
   ]
  },
  {
   "cell_type": "code",
   "execution_count": 149,
   "metadata": {},
   "outputs": [
    {
     "data": {
      "image/png": "[encoded data removed]",
      "text/plain": [
       "<Figure size 432x288 with 1 Axes>"
      ]
     },
     "metadata": {
      "needs_background": "light"
     },
     "output_type": "display_data"
    },
    {
     "name": "stdout",
     "output_type": "stream",
     "text": [
      "a =  31.088228702541702\n",
      "b =  -229.53807094258343\n",
      "La recta de regresión es 31.088228702541702 x +  -229.53807094258343\n"
     ]
    }
   ],
   "source": [
    "datos['log_Weight'] = np.log(datos['Weight'])\n",
    "x=datos['log_Weight']\n",
    "y=datos['Price']\n",
    "z=np.linspace(min(x), max(x), 4000)\n",
    "a, b = np.polyfit(x,y,1)\n",
    "f=a*z+b\n",
    "\n",
    "plt.scatter(x, y)\n",
    "plt.plot(x,y,'o',label='(xi,yi)')\n",
    "plt.plot(z,f, color='orange',  label=f)\n",
    "plt.show()\n",
    "\n",
    "print('a = ', a)\n",
    "print('b = ', b)\n",
    "print ('La recta de regresión es',a, 'x + ',b)"
   ]
  },
  {
   "cell_type": "code",
   "execution_count": 157,
   "metadata": {},
   "outputs": [
    {
     "data": {
      "text/html": [
       "<div>\n",
       "<style scoped>\n",
       "    .dataframe tbody tr th:only-of-type {\n",
       "        vertical-align: middle;\n",
       "    }\n",
       "\n",
       "    .dataframe tbody tr th {\n",
       "        vertical-align: top;\n",
       "    }\n",
       "\n",
       "    .dataframe thead th {\n",
       "        text-align: right;\n",
       "    }\n",
       "</style>\n",
       "<table border=\"1\" class=\"dataframe\">\n",
       "  <thead>\n",
       "    <tr style=\"text-align: right;\">\n",
       "      <th></th>\n",
       "      <th>log(Weight)</th>\n",
       "      <th>Price</th>\n",
       "    </tr>\n",
       "  </thead>\n",
       "  <tbody>\n",
       "    <tr>\n",
       "      <th>log(Weight)</th>\n",
       "      <td>1.00000</td>\n",
       "      <td>0.64862</td>\n",
       "    </tr>\n",
       "    <tr>\n",
       "      <th>Price</th>\n",
       "      <td>0.64862</td>\n",
       "      <td>1.00000</td>\n",
       "    </tr>\n",
       "  </tbody>\n",
       "</table>\n",
       "</div>"
      ],
      "text/plain": [
       "             log(Weight)    Price\n",
       "log(Weight)      1.00000  0.64862\n",
       "Price            0.64862  1.00000"
      ]
     },
     "execution_count": 157,
     "metadata": {},
     "output_type": "execute_result"
    }
   ],
   "source": [
    "df =pd.DataFrame({'log(Weight)':x,'Price': y})\n",
    "corr_matrix = df.corr()\n",
    "corr_matrix"
   ]
  },
  {
   "cell_type": "code",
   "execution_count": 164,
   "metadata": {},
   "outputs": [
    {
     "data": {
      "image/png": "[encoded data removed]",
      "text/plain": [
       "<Figure size 216x216 with 2 Axes>"
      ]
     },
     "metadata": {
      "needs_background": "light"
     },
     "output_type": "display_data"
    }
   ],
   "source": [
    "# Mapa de calor (Heatmap) de la matriz de correlaciones\n",
    "# ==============================================================================\n",
    "fig, ax = plt.subplots(nrows=1, ncols=1, figsize=(3, 3))\n",
    "\n",
    "sns.heatmap(\n",
    "    corr_matrix,\n",
    "    annot     = True,\n",
    "    vmin      = -1,\n",
    "    vmax      = 1\n",
    ")\n",
    "\n",
    "ax.set_xticklabels(\n",
    "    ax.get_xticklabels()\n",
    ")\n",
    "\n",
    "ax.tick_params(labelsize = 10)"
   ]
  },
  {
   "cell_type": "code",
   "execution_count": 159,
   "metadata": {},
   "outputs": [
    {
     "name": "stdout",
     "output_type": "stream",
     "text": [
      "El coef. de correlación de Pearson es =  0.648620411857384\n",
      "El coef. de determinación es =  0.42070843867804236\n"
     ]
    }
   ],
   "source": [
    "r=corr_matrix[\"log(Weight)\"][1]\n",
    "R2=r*r\n",
    "print(\"El coef. de correlación de Pearson es = \",r)\n",
    "print(\"El coef. de determinación es = \",R2)"
   ]
  },
  {
   "cell_type": "markdown",
   "metadata": {},
   "source": [
    "Evidentemente, la bondad de ajuste de la recta de regresión es en este caso pésima. "
   ]
  },
  {
   "cell_type": "markdown",
   "metadata": {},
   "source": [
    "También se puede calcular directamente la matrix de covarianzas\n",
    "$$cov_{X,Y}=\\left[\\begin{array}{ccc} s_X^2 & s_{X,Y} \\\\ s_{X,Y} & s_Y^2\\end{array}\\right]$$"
   ]
  },
  {
   "cell_type": "code",
   "execution_count": 160,
   "metadata": {},
   "outputs": [
    {
     "data": {
      "text/html": [
       "<div>\n",
       "<style scoped>\n",
       "    .dataframe tbody tr th:only-of-type {\n",
       "        vertical-align: middle;\n",
       "    }\n",
       "\n",
       "    .dataframe tbody tr th {\n",
       "        vertical-align: top;\n",
       "    }\n",
       "\n",
       "    .dataframe thead th {\n",
       "        text-align: right;\n",
       "    }\n",
       "</style>\n",
       "<table border=\"1\" class=\"dataframe\">\n",
       "  <thead>\n",
       "    <tr style=\"text-align: right;\">\n",
       "      <th></th>\n",
       "      <th>log(Weight)</th>\n",
       "      <th>Price</th>\n",
       "    </tr>\n",
       "  </thead>\n",
       "  <tbody>\n",
       "    <tr>\n",
       "      <th>log(Weight)</th>\n",
       "      <td>0.040616</td>\n",
       "      <td>1.262665</td>\n",
       "    </tr>\n",
       "    <tr>\n",
       "      <th>Price</th>\n",
       "      <td>1.262665</td>\n",
       "      <td>93.304579</td>\n",
       "    </tr>\n",
       "  </tbody>\n",
       "</table>\n",
       "</div>"
      ],
      "text/plain": [
       "             log(Weight)      Price\n",
       "log(Weight)     0.040616   1.262665\n",
       "Price           1.262665  93.304579"
      ]
     },
     "execution_count": 160,
     "metadata": {},
     "output_type": "execute_result"
    }
   ],
   "source": [
    "covariance_matrix =  df.cov()\n",
    "covariance_matrix"
   ]
  },
  {
   "cell_type": "markdown",
   "metadata": {},
   "source": [
    "<h2> Un ejemplo hecho ''a mano''</h2>"
   ]
  },
  {
   "cell_type": "code",
   "execution_count": 76,
   "metadata": {},
   "outputs": [
    {
     "name": "stdout",
     "output_type": "stream",
     "text": [
      " f =  0.839285714285714*x + 0.0714285714285712\n",
      "coef_correlación   r  =  0.9318356132188194\n",
      "coef_determinación r2 =  0.8683176100628931\n",
      "86.83% de los datos\n",
      "     está descrito en el modelo lineal\n"
     ]
    },
    {
     "data": {
      "image/png": "[encoded data removed]",
      "text/plain": [
       "<Figure size 432x288 with 1 Axes>"
      ]
     },
     "metadata": {
      "needs_background": "light"
     },
     "output_type": "display_data"
    }
   ],
   "source": [
    "# mínimos cuadrados, regresión con polinomio grado 1\n",
    "import numpy as np\n",
    "import sympy as sym\n",
    "import matplotlib.pyplot as plt\n",
    "\n",
    "# INGRESO\n",
    "xi = [1,   2,   3,  4,  5,   6, 7]\n",
    "yi = [0.5, 2.5, 2., 4., 3.5, 6, 5.5]\n",
    "\n",
    "# PROCEDIMIENTO\n",
    "xi = np.array(xi,dtype=float)\n",
    "yi = np.array(yi,dtype=float)\n",
    "n  = len(xi)\n",
    "\n",
    "# sumatorias y medias\n",
    "xm  = np.mean(xi)\n",
    "ym  = np.mean(yi)\n",
    "sx  = np.sum(xi)\n",
    "sy  = np.sum(yi)\n",
    "sxy = np.sum(xi*yi)\n",
    "sx2 = np.sum(xi**2)\n",
    "sy2 = np.sum(yi**2)\n",
    "\n",
    "# coeficientes a0 y a1\n",
    "a1 = (n*sxy-sx*sy)/(n*sx2-sx**2)\n",
    "a0 = ym - a1*xm\n",
    "\n",
    "# polinomio grado 1\n",
    "x = sym.Symbol('x')\n",
    "f = a0 + a1*x\n",
    "\n",
    "fx = sym.lambdify(x,f)\n",
    "fi = fx(xi)\n",
    "\n",
    "# coeficiente de correlación\n",
    "numerador = n*sxy - sx*sy\n",
    "raiz1 = np.sqrt(n*sx2-sx**2)\n",
    "raiz2 = np.sqrt(n*sy2-sy**2)\n",
    "r = numerador/(raiz1*raiz2)\n",
    "\n",
    "# coeficiente de determinacion\n",
    "r2 = r**2\n",
    "r2_porcentaje = np.around(r2*100,2)\n",
    "\n",
    "# SALIDA\n",
    "# print('ymedia =',ym)\n",
    "print(' f = ',f)\n",
    "print('coef_correlación   r  = ', r)\n",
    "print('coef_determinación r2 = ', r2)\n",
    "print(str(r2_porcentaje)+'% de los datos')\n",
    "print('     está descrito en el modelo lineal')\n",
    "\n",
    "# grafica\n",
    "plt.plot(xi,yi,'o',label='(xi,yi)')\n",
    "# plt.stem(xi,yi,bottom=ym,linefmt ='--')\n",
    "plt.plot(xi,fi, color='orange',  label=f)\n",
    "\n",
    "# lineas de error\n",
    "for i in range(0,n,1):\n",
    "    y0 = np.min([yi[i],fi[i]])\n",
    "    y1 = np.max([yi[i],fi[i]])\n",
    "    plt.vlines(xi[i],y0,y1, color='red',\n",
    "               linestyle ='dotted')\n",
    "plt.legend()\n",
    "plt.xlabel('xi')\n",
    "plt.title('minimos cuadrados')\n",
    "plt.show()"
   ]
  },
  {
   "cell_type": "markdown",
   "metadata": {},
   "source": [
    "<h2> Matriz de correlaciones </h2>\n",
    "\n",
    "A menudo, disponemos de varias variables estadísticas que queremos estudiar de forma simultánea. En estos casos suele ser interesante (para las variables cuantitativas), conocer las distintas correlaciones que existen. Todas ellas quedan recogidas en una única matriz, llamada  <strong> matrix de correlaciones</strong>. Vamos a calcularla en un ejemplo concreto. También vamos a representarla gráficamente con un mapa de calor (un mapa de colores que representan lo fuerte o débil que es la correlación entre cada par de variables)."
   ]
  },
  {
   "cell_type": "code",
   "execution_count": 165,
   "metadata": {},
   "outputs": [
    {
     "name": "stdout",
     "output_type": "stream",
     "text": [
      "<class 'pandas.core.frame.DataFrame'>\n",
      "RangeIndex: 1728 entries, 0 to 1727\n",
      "Data columns (total 16 columns):\n",
      " #   Column           Non-Null Count  Dtype  \n",
      "---  ------           --------------  -----  \n",
      " 0   price            1728 non-null   int64  \n",
      " 1   lotSize          1728 non-null   float64\n",
      " 2   age              1728 non-null   int64  \n",
      " 3   landValue        1728 non-null   int64  \n",
      " 4   livingArea       1728 non-null   int64  \n",
      " 5   pctCollege       1728 non-null   int64  \n",
      " 6   bedrooms         1728 non-null   int64  \n",
      " 7   fireplaces       1728 non-null   int64  \n",
      " 8   bathrooms        1728 non-null   float64\n",
      " 9   rooms            1728 non-null   int64  \n",
      " 10  heating          1728 non-null   object \n",
      " 11  fuel             1728 non-null   object \n",
      " 12  sewer            1728 non-null   object \n",
      " 13  waterfront       1728 non-null   object \n",
      " 14  newConstruction  1728 non-null   object \n",
      " 15  centralAir       1728 non-null   object \n",
      "dtypes: float64(2), int64(8), object(6)\n",
      "memory usage: 216.1+ KB\n"
     ]
    }
   ],
   "source": [
    "# Datos\n",
    "# ==============================================================================\n",
    "url = ('https://raw.githubusercontent.com/JoaquinAmatRodrigo/' +\n",
    "       'Estadistica-machine-learning-python/master/data/SaratogaHouses.csv')\n",
    "datos = pd.read_csv(url, sep=\",\")\n",
    "\n",
    "datos.info()\n"
   ]
  },
  {
   "cell_type": "code",
   "execution_count": 166,
   "metadata": {},
   "outputs": [],
   "source": [
    "# Se renombran las columnas para que sean más descriptivas\n",
    "datos.columns = [\"precio\", \"metros_totales\", \"antiguedad\", \"precio_terreno\",\n",
    "                 \"metros_habitables\", \"universitarios\", \"dormitorios\", \n",
    "                 \"chimenea\", \"banyos\", \"habitaciones\", \"calefaccion\",\n",
    "                 \"consumo_calefacion\", \"desague\", \"vistas_lago\",\n",
    "                 \"nueva_construccion\", \"aire_acondicionado\"]\n",
    "       \n",
    "# Nos quedamos solo con las variables cuantitativas\n",
    "datos = datos.select_dtypes(include=['float64', 'int'])"
   ]
  },
  {
   "cell_type": "code",
   "execution_count": 79,
   "metadata": {},
   "outputs": [
    {
     "data": {
      "text/html": [
       "<div>\n",
       "<style scoped>\n",
       "    .dataframe tbody tr th:only-of-type {\n",
       "        vertical-align: middle;\n",
       "    }\n",
       "\n",
       "    .dataframe tbody tr th {\n",
       "        vertical-align: top;\n",
       "    }\n",
       "\n",
       "    .dataframe thead th {\n",
       "        text-align: right;\n",
       "    }\n",
       "</style>\n",
       "<table border=\"1\" class=\"dataframe\">\n",
       "  <thead>\n",
       "    <tr style=\"text-align: right;\">\n",
       "      <th></th>\n",
       "      <th>precio</th>\n",
       "      <th>metros_totales</th>\n",
       "      <th>antiguedad</th>\n",
       "      <th>precio_terreno</th>\n",
       "      <th>metros_habitables</th>\n",
       "      <th>universitarios</th>\n",
       "      <th>dormitorios</th>\n",
       "      <th>chimenea</th>\n",
       "      <th>banyos</th>\n",
       "      <th>habitaciones</th>\n",
       "    </tr>\n",
       "  </thead>\n",
       "  <tbody>\n",
       "    <tr>\n",
       "      <th>0</th>\n",
       "      <td>132500</td>\n",
       "      <td>0.09</td>\n",
       "      <td>42</td>\n",
       "      <td>50000</td>\n",
       "      <td>906</td>\n",
       "      <td>35</td>\n",
       "      <td>2</td>\n",
       "      <td>1</td>\n",
       "      <td>1.0</td>\n",
       "      <td>5</td>\n",
       "    </tr>\n",
       "    <tr>\n",
       "      <th>1</th>\n",
       "      <td>181115</td>\n",
       "      <td>0.92</td>\n",
       "      <td>0</td>\n",
       "      <td>22300</td>\n",
       "      <td>1953</td>\n",
       "      <td>51</td>\n",
       "      <td>3</td>\n",
       "      <td>0</td>\n",
       "      <td>2.5</td>\n",
       "      <td>6</td>\n",
       "    </tr>\n",
       "    <tr>\n",
       "      <th>2</th>\n",
       "      <td>109000</td>\n",
       "      <td>0.19</td>\n",
       "      <td>133</td>\n",
       "      <td>7300</td>\n",
       "      <td>1944</td>\n",
       "      <td>51</td>\n",
       "      <td>4</td>\n",
       "      <td>1</td>\n",
       "      <td>1.0</td>\n",
       "      <td>8</td>\n",
       "    </tr>\n",
       "    <tr>\n",
       "      <th>3</th>\n",
       "      <td>155000</td>\n",
       "      <td>0.41</td>\n",
       "      <td>13</td>\n",
       "      <td>18700</td>\n",
       "      <td>1944</td>\n",
       "      <td>51</td>\n",
       "      <td>3</td>\n",
       "      <td>1</td>\n",
       "      <td>1.5</td>\n",
       "      <td>5</td>\n",
       "    </tr>\n",
       "    <tr>\n",
       "      <th>4</th>\n",
       "      <td>86060</td>\n",
       "      <td>0.11</td>\n",
       "      <td>0</td>\n",
       "      <td>15000</td>\n",
       "      <td>840</td>\n",
       "      <td>51</td>\n",
       "      <td>2</td>\n",
       "      <td>0</td>\n",
       "      <td>1.0</td>\n",
       "      <td>3</td>\n",
       "    </tr>\n",
       "    <tr>\n",
       "      <th>...</th>\n",
       "      <td>...</td>\n",
       "      <td>...</td>\n",
       "      <td>...</td>\n",
       "      <td>...</td>\n",
       "      <td>...</td>\n",
       "      <td>...</td>\n",
       "      <td>...</td>\n",
       "      <td>...</td>\n",
       "      <td>...</td>\n",
       "      <td>...</td>\n",
       "    </tr>\n",
       "    <tr>\n",
       "      <th>1723</th>\n",
       "      <td>289000</td>\n",
       "      <td>0.38</td>\n",
       "      <td>32</td>\n",
       "      <td>24200</td>\n",
       "      <td>2310</td>\n",
       "      <td>61</td>\n",
       "      <td>5</td>\n",
       "      <td>1</td>\n",
       "      <td>2.5</td>\n",
       "      <td>11</td>\n",
       "    </tr>\n",
       "    <tr>\n",
       "      <th>1724</th>\n",
       "      <td>285000</td>\n",
       "      <td>0.94</td>\n",
       "      <td>37</td>\n",
       "      <td>36200</td>\n",
       "      <td>2564</td>\n",
       "      <td>61</td>\n",
       "      <td>4</td>\n",
       "      <td>1</td>\n",
       "      <td>2.5</td>\n",
       "      <td>11</td>\n",
       "    </tr>\n",
       "    <tr>\n",
       "      <th>1725</th>\n",
       "      <td>194900</td>\n",
       "      <td>0.39</td>\n",
       "      <td>9</td>\n",
       "      <td>20400</td>\n",
       "      <td>1099</td>\n",
       "      <td>51</td>\n",
       "      <td>2</td>\n",
       "      <td>0</td>\n",
       "      <td>1.0</td>\n",
       "      <td>3</td>\n",
       "    </tr>\n",
       "    <tr>\n",
       "      <th>1726</th>\n",
       "      <td>125000</td>\n",
       "      <td>0.24</td>\n",
       "      <td>48</td>\n",
       "      <td>16800</td>\n",
       "      <td>1225</td>\n",
       "      <td>51</td>\n",
       "      <td>3</td>\n",
       "      <td>1</td>\n",
       "      <td>1.0</td>\n",
       "      <td>7</td>\n",
       "    </tr>\n",
       "    <tr>\n",
       "      <th>1727</th>\n",
       "      <td>111300</td>\n",
       "      <td>0.59</td>\n",
       "      <td>86</td>\n",
       "      <td>26000</td>\n",
       "      <td>1959</td>\n",
       "      <td>51</td>\n",
       "      <td>3</td>\n",
       "      <td>0</td>\n",
       "      <td>1.0</td>\n",
       "      <td>6</td>\n",
       "    </tr>\n",
       "  </tbody>\n",
       "</table>\n",
       "<p>1728 rows × 10 columns</p>\n",
       "</div>"
      ],
      "text/plain": [
       "      precio  metros_totales  antiguedad  precio_terreno  metros_habitables  \\\n",
       "0     132500            0.09          42           50000                906   \n",
       "1     181115            0.92           0           22300               1953   \n",
       "2     109000            0.19         133            7300               1944   \n",
       "3     155000            0.41          13           18700               1944   \n",
       "4      86060            0.11           0           15000                840   \n",
       "...      ...             ...         ...             ...                ...   \n",
       "1723  289000            0.38          32           24200               2310   \n",
       "1724  285000            0.94          37           36200               2564   \n",
       "1725  194900            0.39           9           20400               1099   \n",
       "1726  125000            0.24          48           16800               1225   \n",
       "1727  111300            0.59          86           26000               1959   \n",
       "\n",
       "      universitarios  dormitorios  chimenea  banyos  habitaciones  \n",
       "0                 35            2         1     1.0             5  \n",
       "1                 51            3         0     2.5             6  \n",
       "2                 51            4         1     1.0             8  \n",
       "3                 51            3         1     1.5             5  \n",
       "4                 51            2         0     1.0             3  \n",
       "...              ...          ...       ...     ...           ...  \n",
       "1723              61            5         1     2.5            11  \n",
       "1724              61            4         1     2.5            11  \n",
       "1725              51            2         0     1.0             3  \n",
       "1726              51            3         1     1.0             7  \n",
       "1727              51            3         0     1.0             6  \n",
       "\n",
       "[1728 rows x 10 columns]"
      ]
     },
     "execution_count": 79,
     "metadata": {},
     "output_type": "execute_result"
    }
   ],
   "source": [
    "datos"
   ]
  },
  {
   "cell_type": "code",
   "execution_count": 167,
   "metadata": {},
   "outputs": [
    {
     "data": {
      "text/html": [
       "<div>\n",
       "<style scoped>\n",
       "    .dataframe tbody tr th:only-of-type {\n",
       "        vertical-align: middle;\n",
       "    }\n",
       "\n",
       "    .dataframe tbody tr th {\n",
       "        vertical-align: top;\n",
       "    }\n",
       "\n",
       "    .dataframe thead th {\n",
       "        text-align: right;\n",
       "    }\n",
       "</style>\n",
       "<table border=\"1\" class=\"dataframe\">\n",
       "  <thead>\n",
       "    <tr style=\"text-align: right;\">\n",
       "      <th></th>\n",
       "      <th>precio</th>\n",
       "      <th>metros_totales</th>\n",
       "      <th>antiguedad</th>\n",
       "      <th>precio_terreno</th>\n",
       "      <th>metros_habitables</th>\n",
       "      <th>universitarios</th>\n",
       "      <th>dormitorios</th>\n",
       "      <th>chimenea</th>\n",
       "      <th>banyos</th>\n",
       "      <th>habitaciones</th>\n",
       "    </tr>\n",
       "  </thead>\n",
       "  <tbody>\n",
       "    <tr>\n",
       "      <th>precio</th>\n",
       "      <td>1.000000</td>\n",
       "      <td>0.158333</td>\n",
       "      <td>-0.188793</td>\n",
       "      <td>0.581266</td>\n",
       "      <td>0.712390</td>\n",
       "      <td>0.200119</td>\n",
       "      <td>0.400349</td>\n",
       "      <td>0.376786</td>\n",
       "      <td>0.597250</td>\n",
       "      <td>0.531170</td>\n",
       "    </tr>\n",
       "    <tr>\n",
       "      <th>metros_totales</th>\n",
       "      <td>0.158333</td>\n",
       "      <td>1.000000</td>\n",
       "      <td>-0.016352</td>\n",
       "      <td>0.059222</td>\n",
       "      <td>0.163450</td>\n",
       "      <td>-0.033148</td>\n",
       "      <td>0.113982</td>\n",
       "      <td>0.085226</td>\n",
       "      <td>0.084823</td>\n",
       "      <td>0.137604</td>\n",
       "    </tr>\n",
       "    <tr>\n",
       "      <th>antiguedad</th>\n",
       "      <td>-0.188793</td>\n",
       "      <td>-0.016352</td>\n",
       "      <td>1.000000</td>\n",
       "      <td>-0.021818</td>\n",
       "      <td>-0.174242</td>\n",
       "      <td>-0.037785</td>\n",
       "      <td>0.027125</td>\n",
       "      <td>-0.172022</td>\n",
       "      <td>-0.361897</td>\n",
       "      <td>-0.082264</td>\n",
       "    </tr>\n",
       "    <tr>\n",
       "      <th>precio_terreno</th>\n",
       "      <td>0.581266</td>\n",
       "      <td>0.059222</td>\n",
       "      <td>-0.021818</td>\n",
       "      <td>1.000000</td>\n",
       "      <td>0.423441</td>\n",
       "      <td>0.228427</td>\n",
       "      <td>0.202449</td>\n",
       "      <td>0.211727</td>\n",
       "      <td>0.297498</td>\n",
       "      <td>0.298865</td>\n",
       "    </tr>\n",
       "    <tr>\n",
       "      <th>metros_habitables</th>\n",
       "      <td>0.712390</td>\n",
       "      <td>0.163450</td>\n",
       "      <td>-0.174242</td>\n",
       "      <td>0.423441</td>\n",
       "      <td>1.000000</td>\n",
       "      <td>0.209981</td>\n",
       "      <td>0.656196</td>\n",
       "      <td>0.473788</td>\n",
       "      <td>0.718564</td>\n",
       "      <td>0.733666</td>\n",
       "    </tr>\n",
       "    <tr>\n",
       "      <th>universitarios</th>\n",
       "      <td>0.200119</td>\n",
       "      <td>-0.033148</td>\n",
       "      <td>-0.037785</td>\n",
       "      <td>0.228427</td>\n",
       "      <td>0.209981</td>\n",
       "      <td>1.000000</td>\n",
       "      <td>0.162919</td>\n",
       "      <td>0.246626</td>\n",
       "      <td>0.179541</td>\n",
       "      <td>0.157068</td>\n",
       "    </tr>\n",
       "    <tr>\n",
       "      <th>dormitorios</th>\n",
       "      <td>0.400349</td>\n",
       "      <td>0.113982</td>\n",
       "      <td>0.027125</td>\n",
       "      <td>0.202449</td>\n",
       "      <td>0.656196</td>\n",
       "      <td>0.162919</td>\n",
       "      <td>1.000000</td>\n",
       "      <td>0.284475</td>\n",
       "      <td>0.458033</td>\n",
       "      <td>0.671863</td>\n",
       "    </tr>\n",
       "    <tr>\n",
       "      <th>chimenea</th>\n",
       "      <td>0.376786</td>\n",
       "      <td>0.085226</td>\n",
       "      <td>-0.172022</td>\n",
       "      <td>0.211727</td>\n",
       "      <td>0.473788</td>\n",
       "      <td>0.246626</td>\n",
       "      <td>0.284475</td>\n",
       "      <td>1.000000</td>\n",
       "      <td>0.436234</td>\n",
       "      <td>0.319894</td>\n",
       "    </tr>\n",
       "    <tr>\n",
       "      <th>banyos</th>\n",
       "      <td>0.597250</td>\n",
       "      <td>0.084823</td>\n",
       "      <td>-0.361897</td>\n",
       "      <td>0.297498</td>\n",
       "      <td>0.718564</td>\n",
       "      <td>0.179541</td>\n",
       "      <td>0.458033</td>\n",
       "      <td>0.436234</td>\n",
       "      <td>1.000000</td>\n",
       "      <td>0.517585</td>\n",
       "    </tr>\n",
       "    <tr>\n",
       "      <th>habitaciones</th>\n",
       "      <td>0.531170</td>\n",
       "      <td>0.137604</td>\n",
       "      <td>-0.082264</td>\n",
       "      <td>0.298865</td>\n",
       "      <td>0.733666</td>\n",
       "      <td>0.157068</td>\n",
       "      <td>0.671863</td>\n",
       "      <td>0.319894</td>\n",
       "      <td>0.517585</td>\n",
       "      <td>1.000000</td>\n",
       "    </tr>\n",
       "  </tbody>\n",
       "</table>\n",
       "</div>"
      ],
      "text/plain": [
       "                     precio  metros_totales  antiguedad  precio_terreno  \\\n",
       "precio             1.000000        0.158333   -0.188793        0.581266   \n",
       "metros_totales     0.158333        1.000000   -0.016352        0.059222   \n",
       "antiguedad        -0.188793       -0.016352    1.000000       -0.021818   \n",
       "precio_terreno     0.581266        0.059222   -0.021818        1.000000   \n",
       "metros_habitables  0.712390        0.163450   -0.174242        0.423441   \n",
       "universitarios     0.200119       -0.033148   -0.037785        0.228427   \n",
       "dormitorios        0.400349        0.113982    0.027125        0.202449   \n",
       "chimenea           0.376786        0.085226   -0.172022        0.211727   \n",
       "banyos             0.597250        0.084823   -0.361897        0.297498   \n",
       "habitaciones       0.531170        0.137604   -0.082264        0.298865   \n",
       "\n",
       "                   metros_habitables  universitarios  dormitorios  chimenea  \\\n",
       "precio                      0.712390        0.200119     0.400349  0.376786   \n",
       "metros_totales              0.163450       -0.033148     0.113982  0.085226   \n",
       "antiguedad                 -0.174242       -0.037785     0.027125 -0.172022   \n",
       "precio_terreno              0.423441        0.228427     0.202449  0.211727   \n",
       "metros_habitables           1.000000        0.209981     0.656196  0.473788   \n",
       "universitarios              0.209981        1.000000     0.162919  0.246626   \n",
       "dormitorios                 0.656196        0.162919     1.000000  0.284475   \n",
       "chimenea                    0.473788        0.246626     0.284475  1.000000   \n",
       "banyos                      0.718564        0.179541     0.458033  0.436234   \n",
       "habitaciones                0.733666        0.157068     0.671863  0.319894   \n",
       "\n",
       "                     banyos  habitaciones  \n",
       "precio             0.597250      0.531170  \n",
       "metros_totales     0.084823      0.137604  \n",
       "antiguedad        -0.361897     -0.082264  \n",
       "precio_terreno     0.297498      0.298865  \n",
       "metros_habitables  0.718564      0.733666  \n",
       "universitarios     0.179541      0.157068  \n",
       "dormitorios        0.458033      0.671863  \n",
       "chimenea           0.436234      0.319894  \n",
       "banyos             1.000000      0.517585  \n",
       "habitaciones       0.517585      1.000000  "
      ]
     },
     "execution_count": 167,
     "metadata": {},
     "output_type": "execute_result"
    }
   ],
   "source": [
    "# Matriz de correlación\n",
    "# ==============================================================================\n",
    "corr_matrix = datos.corr(method='pearson')\n",
    "corr_matrix"
   ]
  },
  {
   "cell_type": "code",
   "execution_count": 168,
   "metadata": {
    "scrolled": true
   },
   "outputs": [
    {
     "data": {
      "image/png": "[encoded data removed]",
      "text/plain": [
       "<Figure size 720x720 with 2 Axes>"
      ]
     },
     "metadata": {
      "needs_background": "light"
     },
     "output_type": "display_data"
    }
   ],
   "source": [
    "# Mapa de calor (Heatmap) de la matriz de correlaciones\n",
    "# ==============================================================================\n",
    "fig, ax = plt.subplots(nrows=1, ncols=1, figsize=(10, 10))\n",
    "\n",
    "sns.heatmap(\n",
    "    corr_matrix,\n",
    "    annot     = True,\n",
    "    vmin      = -1,\n",
    "    vmax      = 1\n",
    ")\n",
    "\n",
    "ax.set_xticklabels(\n",
    "    ax.get_xticklabels()\n",
    ")\n",
    "\n",
    "ax.tick_params(labelsize = 10)"
   ]
  },
  {
   "cell_type": "markdown",
   "metadata": {},
   "source": [
    "Seleccionamos ahora, a la vista de la matriz de correlaciones, dos variables que muestran cierta correlación y calculamos la correspondiente recta de regresión. En nuestro caso, vamos a estudiar las variables \"metros_habitables\" y \"precio\". (La correlación entre ambas es $0.72$)."
   ]
  },
  {
   "cell_type": "code",
   "execution_count": 169,
   "metadata": {},
   "outputs": [
    {
     "data": {
      "image/png": "[encoded data removed]",
      "text/plain": [
       "<Figure size 432x288 with 1 Axes>"
      ]
     },
     "metadata": {
      "needs_background": "light"
     },
     "output_type": "display_data"
    },
    {
     "name": "stdout",
     "output_type": "stream",
     "text": [
      "a =  113.12254184680948\n",
      "b =  13439.394004889531\n",
      "La recta de regresión es 113.12254184680948 x +  13439.394004889531\n"
     ]
    }
   ],
   "source": [
    "x=datos[\"metros_habitables\"]\n",
    "y=datos[\"precio\"]\n",
    "z=np.linspace(min(x), max(x), 4000)\n",
    "a, b = np.polyfit(x,y,1)\n",
    "f=a*z+b\n",
    "\n",
    "plt.scatter(x, y)\n",
    "plt.plot(x,y,'o',label='(xi,yi)')\n",
    "plt.plot(z,f, color='orange',  label=f)\n",
    "plt.show()\n",
    "\n",
    "print('a = ', a)\n",
    "print('b = ', b)\n",
    "print ('La recta de regresión es',a, 'x + ',b)"
   ]
  },
  {
   "cell_type": "code",
   "execution_count": 170,
   "metadata": {},
   "outputs": [
    {
     "name": "stdout",
     "output_type": "stream",
     "text": [
      "El coef. de correlación de Pearson es =  0.718563679038253\n",
      "El coef. de determinación es =  0.5163337608329895\n"
     ]
    }
   ],
   "source": [
    "r=corr_matrix[\"metros_habitables\"][8]\n",
    "R2=r*r\n",
    "print(\"El coef. de correlación de Pearson es = \",r)\n",
    "print(\"El coef. de determinación es = \",R2)"
   ]
  },
  {
   "cell_type": "markdown",
   "metadata": {},
   "source": [
    "La bondad de ajuste no es buena.  "
   ]
  },
  {
   "cell_type": "code",
   "execution_count": null,
   "metadata": {},
   "outputs": [],
   "source": []
  }
 ],
 "metadata": {
  "kernelspec": {
   "display_name": "Python 3",
   "language": "python",
   "name": "python3"
  },
  "language_info": {
   "codemirror_mode": {
    "name": "ipython",
    "version": 3
   },
   "file_extension": ".py",
   "mimetype": "text/x-python",
   "name": "python",
   "nbconvert_exporter": "python",
   "pygments_lexer": "ipython3",
   "version": "3.7.6"
  }
 },
 "nbformat": 4,
 "nbformat_minor": 4
}
