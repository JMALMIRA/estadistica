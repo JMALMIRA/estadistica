{
 "cells": [
  {
   "cell_type": "markdown",
   "metadata": {},
   "source": [
    "<h1> Práctica 2</h1>"
   ]
  },
  {
   "cell_type": "markdown",
   "metadata": {},
   "source": [
    "<font color=\"blue\"> <strong>Ejercicio 1.</strong> Importa los datos del fichero ``Juegos.csv'' y crea la tabla de frecuencias absolutas, absolutas acumuladas, relativas y relativas acumuladas de  la variable \"Fecha\". </font>"
   ]
  },
  {
   "cell_type": "markdown",
   "metadata": {},
   "source": [
    "<strong>Solución.</strong> \n",
    "Lo primero que hacemos es cargar los datos leyendolos  del fichero \"Juegos.csv\":"
   ]
  },
  {
   "cell_type": "code",
   "execution_count": 1,
   "metadata": {},
   "outputs": [],
   "source": [
    "import pandas as pd\n",
    "import numpy as np\n",
    "import matplotlib.pyplot as plt\n",
    "import seaborn as sns"
   ]
  },
  {
   "cell_type": "code",
   "execution_count": 2,
   "metadata": {},
   "outputs": [
    {
     "data": {
      "text/html": [
       "<div>\n",
       "<style scoped>\n",
       "    .dataframe tbody tr th:only-of-type {\n",
       "        vertical-align: middle;\n",
       "    }\n",
       "\n",
       "    .dataframe tbody tr th {\n",
       "        vertical-align: top;\n",
       "    }\n",
       "\n",
       "    .dataframe thead th {\n",
       "        text-align: right;\n",
       "    }\n",
       "</style>\n",
       "<table border=\"1\" class=\"dataframe\">\n",
       "  <thead>\n",
       "    <tr style=\"text-align: right;\">\n",
       "      <th></th>\n",
       "      <th>Nombre</th>\n",
       "      <th>Plataforma</th>\n",
       "      <th>Fecha</th>\n",
       "      <th>Genero</th>\n",
       "      <th>VentasEEUU</th>\n",
       "      <th>VentasEU</th>\n",
       "      <th>VentasJP</th>\n",
       "      <th>VentasOtros</th>\n",
       "      <th>Ventas</th>\n",
       "    </tr>\n",
       "  </thead>\n",
       "  <tbody>\n",
       "    <tr>\n",
       "      <th>0</th>\n",
       "      <td>Wii Sports</td>\n",
       "      <td>Wii</td>\n",
       "      <td>2006.0</td>\n",
       "      <td>Sports</td>\n",
       "      <td>41.49</td>\n",
       "      <td>29.02</td>\n",
       "      <td>3.77</td>\n",
       "      <td>8.46</td>\n",
       "      <td>82.74</td>\n",
       "    </tr>\n",
       "    <tr>\n",
       "      <th>1</th>\n",
       "      <td>Mario Kart Wii</td>\n",
       "      <td>Wii</td>\n",
       "      <td>2008.0</td>\n",
       "      <td>Racing</td>\n",
       "      <td>15.85</td>\n",
       "      <td>12.88</td>\n",
       "      <td>3.79</td>\n",
       "      <td>3.31</td>\n",
       "      <td>35.82</td>\n",
       "    </tr>\n",
       "    <tr>\n",
       "      <th>2</th>\n",
       "      <td>Wii Sports Resort</td>\n",
       "      <td>Wii</td>\n",
       "      <td>2009.0</td>\n",
       "      <td>Sports</td>\n",
       "      <td>15.75</td>\n",
       "      <td>11.01</td>\n",
       "      <td>3.28</td>\n",
       "      <td>2.96</td>\n",
       "      <td>33.00</td>\n",
       "    </tr>\n",
       "    <tr>\n",
       "      <th>3</th>\n",
       "      <td>New Super Mario Bros.</td>\n",
       "      <td>DS</td>\n",
       "      <td>2006.0</td>\n",
       "      <td>Platform</td>\n",
       "      <td>11.38</td>\n",
       "      <td>9.23</td>\n",
       "      <td>6.50</td>\n",
       "      <td>2.90</td>\n",
       "      <td>30.01</td>\n",
       "    </tr>\n",
       "    <tr>\n",
       "      <th>4</th>\n",
       "      <td>Wii Play</td>\n",
       "      <td>Wii</td>\n",
       "      <td>2006.0</td>\n",
       "      <td>Misc</td>\n",
       "      <td>14.03</td>\n",
       "      <td>9.20</td>\n",
       "      <td>2.93</td>\n",
       "      <td>2.85</td>\n",
       "      <td>29.02</td>\n",
       "    </tr>\n",
       "    <tr>\n",
       "      <th>...</th>\n",
       "      <td>...</td>\n",
       "      <td>...</td>\n",
       "      <td>...</td>\n",
       "      <td>...</td>\n",
       "      <td>...</td>\n",
       "      <td>...</td>\n",
       "      <td>...</td>\n",
       "      <td>...</td>\n",
       "      <td>...</td>\n",
       "    </tr>\n",
       "    <tr>\n",
       "      <th>16154</th>\n",
       "      <td>Woody Woodpecker in Crazy Castle 5</td>\n",
       "      <td>GBA</td>\n",
       "      <td>2002.0</td>\n",
       "      <td>Platform</td>\n",
       "      <td>0.01</td>\n",
       "      <td>0.00</td>\n",
       "      <td>0.00</td>\n",
       "      <td>0.00</td>\n",
       "      <td>0.01</td>\n",
       "    </tr>\n",
       "    <tr>\n",
       "      <th>16155</th>\n",
       "      <td>Men in Black II: Alien Escape</td>\n",
       "      <td>GC</td>\n",
       "      <td>2003.0</td>\n",
       "      <td>Shooter</td>\n",
       "      <td>0.01</td>\n",
       "      <td>0.00</td>\n",
       "      <td>0.00</td>\n",
       "      <td>0.00</td>\n",
       "      <td>0.01</td>\n",
       "    </tr>\n",
       "    <tr>\n",
       "      <th>16156</th>\n",
       "      <td>SCORE International Baja 1000: The Official Game</td>\n",
       "      <td>PS2</td>\n",
       "      <td>2008.0</td>\n",
       "      <td>Racing</td>\n",
       "      <td>0.00</td>\n",
       "      <td>0.00</td>\n",
       "      <td>0.00</td>\n",
       "      <td>0.00</td>\n",
       "      <td>0.01</td>\n",
       "    </tr>\n",
       "    <tr>\n",
       "      <th>16157</th>\n",
       "      <td>Know How 2</td>\n",
       "      <td>DS</td>\n",
       "      <td>2010.0</td>\n",
       "      <td>Puzzle</td>\n",
       "      <td>0.00</td>\n",
       "      <td>0.01</td>\n",
       "      <td>0.00</td>\n",
       "      <td>0.00</td>\n",
       "      <td>0.01</td>\n",
       "    </tr>\n",
       "    <tr>\n",
       "      <th>16158</th>\n",
       "      <td>Spirits &amp; Spells</td>\n",
       "      <td>GBA</td>\n",
       "      <td>2003.0</td>\n",
       "      <td>Platform</td>\n",
       "      <td>0.01</td>\n",
       "      <td>0.00</td>\n",
       "      <td>0.00</td>\n",
       "      <td>0.00</td>\n",
       "      <td>0.01</td>\n",
       "    </tr>\n",
       "  </tbody>\n",
       "</table>\n",
       "<p>16159 rows × 9 columns</p>\n",
       "</div>"
      ],
      "text/plain": [
       "                                                 Nombre Plataforma   Fecha  \\\n",
       "0                                            Wii Sports        Wii  2006.0   \n",
       "1                                        Mario Kart Wii        Wii  2008.0   \n",
       "2                                     Wii Sports Resort        Wii  2009.0   \n",
       "3                                 New Super Mario Bros.         DS  2006.0   \n",
       "4                                              Wii Play        Wii  2006.0   \n",
       "...                                                 ...        ...     ...   \n",
       "16154                Woody Woodpecker in Crazy Castle 5        GBA  2002.0   \n",
       "16155                     Men in Black II: Alien Escape         GC  2003.0   \n",
       "16156  SCORE International Baja 1000: The Official Game        PS2  2008.0   \n",
       "16157                                        Know How 2         DS  2010.0   \n",
       "16158                                  Spirits & Spells        GBA  2003.0   \n",
       "\n",
       "         Genero  VentasEEUU  VentasEU  VentasJP  VentasOtros  Ventas  \n",
       "0        Sports       41.49     29.02      3.77         8.46   82.74  \n",
       "1        Racing       15.85     12.88      3.79         3.31   35.82  \n",
       "2        Sports       15.75     11.01      3.28         2.96   33.00  \n",
       "3      Platform       11.38      9.23      6.50         2.90   30.01  \n",
       "4          Misc       14.03      9.20      2.93         2.85   29.02  \n",
       "...         ...         ...       ...       ...          ...     ...  \n",
       "16154  Platform        0.01      0.00      0.00         0.00    0.01  \n",
       "16155   Shooter        0.01      0.00      0.00         0.00    0.01  \n",
       "16156    Racing        0.00      0.00      0.00         0.00    0.01  \n",
       "16157    Puzzle        0.00      0.01      0.00         0.00    0.01  \n",
       "16158  Platform        0.01      0.00      0.00         0.00    0.01  \n",
       "\n",
       "[16159 rows x 9 columns]"
      ]
     },
     "execution_count": 2,
     "metadata": {},
     "output_type": "execute_result"
    }
   ],
   "source": [
    "juegos = pd.read_csv('Juegos.csv')\n",
    "juegos"
   ]
  },
  {
   "cell_type": "code",
   "execution_count": 3,
   "metadata": {},
   "outputs": [
    {
     "data": {
      "text/plain": [
       "0        2006.0\n",
       "1        2008.0\n",
       "2        2009.0\n",
       "3        2006.0\n",
       "4        2006.0\n",
       "          ...  \n",
       "16154    2002.0\n",
       "16155    2003.0\n",
       "16156    2008.0\n",
       "16157    2010.0\n",
       "16158    2003.0\n",
       "Name: Fecha, Length: 16159, dtype: float64"
      ]
     },
     "execution_count": 3,
     "metadata": {},
     "output_type": "execute_result"
    }
   ],
   "source": [
    "Fecha=juegos[\"Fecha\"]\n",
    "Fecha"
   ]
  },
  {
   "cell_type": "code",
   "execution_count": 4,
   "metadata": {},
   "outputs": [
    {
     "data": {
      "text/plain": [
       "2009.0    1431\n",
       "2008.0    1427\n",
       "2010.0    1259\n",
       "2007.0    1201\n",
       "2011.0    1139\n",
       "2006.0    1008\n",
       "2005.0     941\n",
       "2002.0     828\n",
       "2003.0     775\n",
       "2004.0     763\n",
       "2012.0     657\n",
       "2015.0     614\n",
       "2014.0     582\n",
       "2013.0     546\n",
       "2001.0     462\n",
       "1998.0     364\n",
       "2016.0     344\n",
       "1999.0     311\n",
       "2000.0     310\n",
       "1997.0     281\n",
       "1996.0     254\n",
       "1995.0     207\n",
       "1994.0      95\n",
       "1993.0      46\n",
       "1992.0      26\n",
       "1991.0      24\n",
       "1990.0       4\n",
       "2017.0       3\n",
       "1985.0       2\n",
       "1988.0       1\n",
       "2020.0       1\n",
       "Name: Fecha, dtype: int64"
      ]
     },
     "execution_count": 4,
     "metadata": {},
     "output_type": "execute_result"
    }
   ],
   "source": [
    "counts =Fecha.value_counts()\n",
    "counts"
   ]
  },
  {
   "cell_type": "code",
   "execution_count": 5,
   "metadata": {},
   "outputs": [
    {
     "data": {
      "text/html": [
       "<div>\n",
       "<style scoped>\n",
       "    .dataframe tbody tr th:only-of-type {\n",
       "        vertical-align: middle;\n",
       "    }\n",
       "\n",
       "    .dataframe tbody tr th {\n",
       "        vertical-align: top;\n",
       "    }\n",
       "\n",
       "    .dataframe thead th {\n",
       "        text-align: right;\n",
       "    }\n",
       "</style>\n",
       "<table border=\"1\" class=\"dataframe\">\n",
       "  <thead>\n",
       "    <tr style=\"text-align: right;\">\n",
       "      <th></th>\n",
       "      <th>Frecuencia Absoluta</th>\n",
       "      <th>Frecuencia Relativa</th>\n",
       "      <th>Frecuencia Absoluta Acumulada</th>\n",
       "      <th>Frecuencia Relativa Acumulada</th>\n",
       "    </tr>\n",
       "  </thead>\n",
       "  <tbody>\n",
       "    <tr>\n",
       "      <th>2009.0</th>\n",
       "      <td>1431</td>\n",
       "      <td>0.088557</td>\n",
       "      <td>1431</td>\n",
       "      <td>0.088557</td>\n",
       "    </tr>\n",
       "    <tr>\n",
       "      <th>2008.0</th>\n",
       "      <td>1427</td>\n",
       "      <td>0.088310</td>\n",
       "      <td>2858</td>\n",
       "      <td>0.176867</td>\n",
       "    </tr>\n",
       "    <tr>\n",
       "      <th>2010.0</th>\n",
       "      <td>1259</td>\n",
       "      <td>0.077913</td>\n",
       "      <td>4117</td>\n",
       "      <td>0.254781</td>\n",
       "    </tr>\n",
       "    <tr>\n",
       "      <th>2007.0</th>\n",
       "      <td>1201</td>\n",
       "      <td>0.074324</td>\n",
       "      <td>5318</td>\n",
       "      <td>0.329105</td>\n",
       "    </tr>\n",
       "    <tr>\n",
       "      <th>2011.0</th>\n",
       "      <td>1139</td>\n",
       "      <td>0.070487</td>\n",
       "      <td>6457</td>\n",
       "      <td>0.399592</td>\n",
       "    </tr>\n",
       "    <tr>\n",
       "      <th>2006.0</th>\n",
       "      <td>1008</td>\n",
       "      <td>0.062380</td>\n",
       "      <td>7465</td>\n",
       "      <td>0.461972</td>\n",
       "    </tr>\n",
       "    <tr>\n",
       "      <th>2005.0</th>\n",
       "      <td>941</td>\n",
       "      <td>0.058234</td>\n",
       "      <td>8406</td>\n",
       "      <td>0.520205</td>\n",
       "    </tr>\n",
       "    <tr>\n",
       "      <th>2002.0</th>\n",
       "      <td>828</td>\n",
       "      <td>0.051241</td>\n",
       "      <td>9234</td>\n",
       "      <td>0.571446</td>\n",
       "    </tr>\n",
       "    <tr>\n",
       "      <th>2003.0</th>\n",
       "      <td>775</td>\n",
       "      <td>0.047961</td>\n",
       "      <td>10009</td>\n",
       "      <td>0.619407</td>\n",
       "    </tr>\n",
       "    <tr>\n",
       "      <th>2004.0</th>\n",
       "      <td>763</td>\n",
       "      <td>0.047218</td>\n",
       "      <td>10772</td>\n",
       "      <td>0.666625</td>\n",
       "    </tr>\n",
       "    <tr>\n",
       "      <th>2012.0</th>\n",
       "      <td>657</td>\n",
       "      <td>0.040658</td>\n",
       "      <td>11429</td>\n",
       "      <td>0.707284</td>\n",
       "    </tr>\n",
       "    <tr>\n",
       "      <th>2015.0</th>\n",
       "      <td>614</td>\n",
       "      <td>0.037997</td>\n",
       "      <td>12043</td>\n",
       "      <td>0.745281</td>\n",
       "    </tr>\n",
       "    <tr>\n",
       "      <th>2014.0</th>\n",
       "      <td>582</td>\n",
       "      <td>0.036017</td>\n",
       "      <td>12625</td>\n",
       "      <td>0.781298</td>\n",
       "    </tr>\n",
       "    <tr>\n",
       "      <th>2013.0</th>\n",
       "      <td>546</td>\n",
       "      <td>0.033789</td>\n",
       "      <td>13171</td>\n",
       "      <td>0.815088</td>\n",
       "    </tr>\n",
       "    <tr>\n",
       "      <th>2001.0</th>\n",
       "      <td>462</td>\n",
       "      <td>0.028591</td>\n",
       "      <td>13633</td>\n",
       "      <td>0.843678</td>\n",
       "    </tr>\n",
       "    <tr>\n",
       "      <th>1998.0</th>\n",
       "      <td>364</td>\n",
       "      <td>0.022526</td>\n",
       "      <td>13997</td>\n",
       "      <td>0.866205</td>\n",
       "    </tr>\n",
       "    <tr>\n",
       "      <th>2016.0</th>\n",
       "      <td>344</td>\n",
       "      <td>0.021288</td>\n",
       "      <td>14341</td>\n",
       "      <td>0.887493</td>\n",
       "    </tr>\n",
       "    <tr>\n",
       "      <th>1999.0</th>\n",
       "      <td>311</td>\n",
       "      <td>0.019246</td>\n",
       "      <td>14652</td>\n",
       "      <td>0.906739</td>\n",
       "    </tr>\n",
       "    <tr>\n",
       "      <th>2000.0</th>\n",
       "      <td>310</td>\n",
       "      <td>0.019184</td>\n",
       "      <td>14962</td>\n",
       "      <td>0.925924</td>\n",
       "    </tr>\n",
       "    <tr>\n",
       "      <th>1997.0</th>\n",
       "      <td>281</td>\n",
       "      <td>0.017390</td>\n",
       "      <td>15243</td>\n",
       "      <td>0.943313</td>\n",
       "    </tr>\n",
       "    <tr>\n",
       "      <th>1996.0</th>\n",
       "      <td>254</td>\n",
       "      <td>0.015719</td>\n",
       "      <td>15497</td>\n",
       "      <td>0.959032</td>\n",
       "    </tr>\n",
       "    <tr>\n",
       "      <th>1995.0</th>\n",
       "      <td>207</td>\n",
       "      <td>0.012810</td>\n",
       "      <td>15704</td>\n",
       "      <td>0.971842</td>\n",
       "    </tr>\n",
       "    <tr>\n",
       "      <th>1994.0</th>\n",
       "      <td>95</td>\n",
       "      <td>0.005879</td>\n",
       "      <td>15799</td>\n",
       "      <td>0.977721</td>\n",
       "    </tr>\n",
       "    <tr>\n",
       "      <th>1993.0</th>\n",
       "      <td>46</td>\n",
       "      <td>0.002847</td>\n",
       "      <td>15845</td>\n",
       "      <td>0.980568</td>\n",
       "    </tr>\n",
       "    <tr>\n",
       "      <th>1992.0</th>\n",
       "      <td>26</td>\n",
       "      <td>0.001609</td>\n",
       "      <td>15871</td>\n",
       "      <td>0.982177</td>\n",
       "    </tr>\n",
       "    <tr>\n",
       "      <th>1991.0</th>\n",
       "      <td>24</td>\n",
       "      <td>0.001485</td>\n",
       "      <td>15895</td>\n",
       "      <td>0.983662</td>\n",
       "    </tr>\n",
       "    <tr>\n",
       "      <th>1990.0</th>\n",
       "      <td>4</td>\n",
       "      <td>0.000248</td>\n",
       "      <td>15899</td>\n",
       "      <td>0.983910</td>\n",
       "    </tr>\n",
       "    <tr>\n",
       "      <th>2017.0</th>\n",
       "      <td>3</td>\n",
       "      <td>0.000186</td>\n",
       "      <td>15902</td>\n",
       "      <td>0.984096</td>\n",
       "    </tr>\n",
       "    <tr>\n",
       "      <th>1985.0</th>\n",
       "      <td>2</td>\n",
       "      <td>0.000124</td>\n",
       "      <td>15904</td>\n",
       "      <td>0.984219</td>\n",
       "    </tr>\n",
       "    <tr>\n",
       "      <th>1988.0</th>\n",
       "      <td>1</td>\n",
       "      <td>0.000062</td>\n",
       "      <td>15905</td>\n",
       "      <td>0.984281</td>\n",
       "    </tr>\n",
       "    <tr>\n",
       "      <th>2020.0</th>\n",
       "      <td>1</td>\n",
       "      <td>0.000062</td>\n",
       "      <td>15906</td>\n",
       "      <td>0.984343</td>\n",
       "    </tr>\n",
       "  </tbody>\n",
       "</table>\n",
       "</div>"
      ],
      "text/plain": [
       "        Frecuencia Absoluta  Frecuencia Relativa  \\\n",
       "2009.0                 1431             0.088557   \n",
       "2008.0                 1427             0.088310   \n",
       "2010.0                 1259             0.077913   \n",
       "2007.0                 1201             0.074324   \n",
       "2011.0                 1139             0.070487   \n",
       "2006.0                 1008             0.062380   \n",
       "2005.0                  941             0.058234   \n",
       "2002.0                  828             0.051241   \n",
       "2003.0                  775             0.047961   \n",
       "2004.0                  763             0.047218   \n",
       "2012.0                  657             0.040658   \n",
       "2015.0                  614             0.037997   \n",
       "2014.0                  582             0.036017   \n",
       "2013.0                  546             0.033789   \n",
       "2001.0                  462             0.028591   \n",
       "1998.0                  364             0.022526   \n",
       "2016.0                  344             0.021288   \n",
       "1999.0                  311             0.019246   \n",
       "2000.0                  310             0.019184   \n",
       "1997.0                  281             0.017390   \n",
       "1996.0                  254             0.015719   \n",
       "1995.0                  207             0.012810   \n",
       "1994.0                   95             0.005879   \n",
       "1993.0                   46             0.002847   \n",
       "1992.0                   26             0.001609   \n",
       "1991.0                   24             0.001485   \n",
       "1990.0                    4             0.000248   \n",
       "2017.0                    3             0.000186   \n",
       "1985.0                    2             0.000124   \n",
       "1988.0                    1             0.000062   \n",
       "2020.0                    1             0.000062   \n",
       "\n",
       "        Frecuencia Absoluta Acumulada  Frecuencia Relativa Acumulada  \n",
       "2009.0                           1431                       0.088557  \n",
       "2008.0                           2858                       0.176867  \n",
       "2010.0                           4117                       0.254781  \n",
       "2007.0                           5318                       0.329105  \n",
       "2011.0                           6457                       0.399592  \n",
       "2006.0                           7465                       0.461972  \n",
       "2005.0                           8406                       0.520205  \n",
       "2002.0                           9234                       0.571446  \n",
       "2003.0                          10009                       0.619407  \n",
       "2004.0                          10772                       0.666625  \n",
       "2012.0                          11429                       0.707284  \n",
       "2015.0                          12043                       0.745281  \n",
       "2014.0                          12625                       0.781298  \n",
       "2013.0                          13171                       0.815088  \n",
       "2001.0                          13633                       0.843678  \n",
       "1998.0                          13997                       0.866205  \n",
       "2016.0                          14341                       0.887493  \n",
       "1999.0                          14652                       0.906739  \n",
       "2000.0                          14962                       0.925924  \n",
       "1997.0                          15243                       0.943313  \n",
       "1996.0                          15497                       0.959032  \n",
       "1995.0                          15704                       0.971842  \n",
       "1994.0                          15799                       0.977721  \n",
       "1993.0                          15845                       0.980568  \n",
       "1992.0                          15871                       0.982177  \n",
       "1991.0                          15895                       0.983662  \n",
       "1990.0                          15899                       0.983910  \n",
       "2017.0                          15902                       0.984096  \n",
       "1985.0                          15904                       0.984219  \n",
       "1988.0                          15905                       0.984281  \n",
       "2020.0                          15906                       0.984343  "
      ]
     },
     "execution_count": 5,
     "metadata": {},
     "output_type": "execute_result"
    }
   ],
   "source": [
    "# Frecuencias absolutas y relativas de Fecha\n",
    "ni = Fecha.value_counts()\n",
    "fi = ni / len(juegos)\n",
    "Ni = np.cumsum(ni)\n",
    "Fi=np.cumsum(fi)\n",
    "tabla_Fecha = pd.DataFrame(\n",
    "    {'Frecuencia Absoluta': ni, \n",
    "     'Frecuencia Relativa': fi,\n",
    "     'Frecuencia Absoluta Acumulada': Ni, \n",
    "     'Frecuencia Relativa Acumulada': Fi})\n",
    "tabla_Fecha"
   ]
  },
  {
   "cell_type": "markdown",
   "metadata": {},
   "source": [
    "Observa que la suma de las frecuencias absolutas da 15906, que es inferior al número total de observaciones. Esto es así porque hay entradas que son NaN (no son números) porque no sabemos asignar una fecha concreta a un juego. Esto hace que en el extremo inferior derecho de la tabla no veamos un 1 sino un valor ligeramente inferior. "
   ]
  },
  {
   "cell_type": "code",
   "execution_count": 6,
   "metadata": {},
   "outputs": [
    {
     "data": {
      "text/plain": [
       "253"
      ]
     },
     "execution_count": 6,
     "metadata": {},
     "output_type": "execute_result"
    }
   ],
   "source": [
    "Fecha.isna().sum()"
   ]
  },
  {
   "cell_type": "code",
   "execution_count": 7,
   "metadata": {},
   "outputs": [
    {
     "data": {
      "text/plain": [
       "253"
      ]
     },
     "execution_count": 7,
     "metadata": {},
     "output_type": "execute_result"
    }
   ],
   "source": [
    "Fecha.isnull().sum()"
   ]
  },
  {
   "cell_type": "markdown",
   "metadata": {},
   "source": [
    "<font color=\"brown\"> <strong> El Ejercicio 2 se hace en pizarra. Basta aplicar la definición de cada tipo de frecuencia. </strong> </font>"
   ]
  },
  {
   "cell_type": "markdown",
   "metadata": {},
   "source": [
    "<font color=\"blue\"> <strong> Ejercicio 3.</strong>  Importa los datos del fichero \"Juegos.dat\". Para la variable VentasEU se pide:\n",
    "\n",
    "(a) Calcula la media y la varianza de los tres primeros datos usando la fórmula.\n",
    "    \n",
    "\n",
    "(b)  Calcula media, moda y mediana de todos los datos.\n",
    "\n",
    "(c)  Dibuja su histograma\n",
    "\n",
    "(d)  Crea una variable llamada VentasEU1 que contenga las ventas en EU que sean menores o iguales que 1. \n",
    "\n",
    "(e)  Dibuja su histograma y corta la variable VentasEU1 en intervalos de acuerdo con el histograma anterior.\n",
    "\n",
    "(f)  Haz la tabla estadística de la variable VentasEU1 cortada por intervalos. Compara su tabla de frecuencias absolutas con las frecuencias del histograma.\n",
    "\n",
    "(g)  Calcula media y varianza de VentasEU1 usando las clases del apartado anterior (usando frecuencias y marcas de clase)\n",
    "\n",
    "(h)  Calcula la media de VentasEU1 ¿por qué crees que salen diferentes?\n",
    "</font>"
   ]
  },
  {
   "cell_type": "markdown",
   "metadata": {},
   "source": [
    "Comenzamos pidiendo a Python que nos muestre las primeras observaciones de la variable VentasEU (que representa las ventas de videojuegos realizadas en la unión europea):"
   ]
  },
  {
   "cell_type": "code",
   "execution_count": 8,
   "metadata": {},
   "outputs": [
    {
     "data": {
      "text/plain": [
       "0    29.02\n",
       "1    12.88\n",
       "2    11.01\n",
       "3     9.23\n",
       "4     9.20\n",
       "Name: VentasEU, dtype: float64"
      ]
     },
     "execution_count": 8,
     "metadata": {},
     "output_type": "execute_result"
    }
   ],
   "source": [
    "VentasEU=juegos[\"VentasEU\"]\n",
    "VentasEU.head()"
   ]
  },
  {
   "cell_type": "markdown",
   "metadata": {},
   "source": [
    "VentasEU contiene muchísimas observaciones (de hecho, son 16159).  Al poner VentasEU[:3], nos restringimos a las tres primeras observaciones:"
   ]
  },
  {
   "cell_type": "code",
   "execution_count": 9,
   "metadata": {},
   "outputs": [
    {
     "data": {
      "text/plain": [
       "0    29.02\n",
       "1    12.88\n",
       "2    11.01\n",
       "Name: VentasEU, dtype: float64"
      ]
     },
     "execution_count": 9,
     "metadata": {},
     "output_type": "execute_result"
    }
   ],
   "source": [
    "datos=VentasEU[:3]\n",
    "datos"
   ]
  },
  {
   "cell_type": "markdown",
   "metadata": {},
   "source": [
    "Ahora podemos calcular la media $$\\overline{X}=\\frac{1}{N}\\sum_{i=1}^N x_i$$ y la varianza \n",
    "$$V(X)= \\frac{1}{N}\\sum_{i=1}^N(x_i-\\overline{X})^2$$ \n",
    "(Para datos, N=3, para VentasEU, N=16159)"
   ]
  },
  {
   "cell_type": "code",
   "execution_count": 10,
   "metadata": {},
   "outputs": [
    {
     "data": {
      "text/plain": [
       "17.636666666666667"
      ]
     },
     "execution_count": 10,
     "metadata": {},
     "output_type": "execute_result"
    }
   ],
   "source": [
    "N=len(datos)\n",
    "m1=sum(datos)/N\n",
    "m1"
   ]
  },
  {
   "cell_type": "code",
   "execution_count": 11,
   "metadata": {},
   "outputs": [
    {
     "data": {
      "text/plain": [
       "65.37295555555555"
      ]
     },
     "execution_count": 11,
     "metadata": {},
     "output_type": "execute_result"
    }
   ],
   "source": [
    "v1=sum((datos-m1)**2)/N\n",
    "v1"
   ]
  },
  {
   "cell_type": "markdown",
   "metadata": {},
   "source": [
    "Podemos repetir la cuenta usando órdenes específicas de Python. Concretamente, np.mean(x) calcula la media de las entradas del vector $X=(x_1,\\cdots,x_N)$, y \n",
    "np.var(X) calcula la varianza. Comprobamos que producen los mismos resultados que obtuvimos antes \"a mano\" (recordemos que N=length(datos) para la variable datos y length(VentasEU) para VentasEU):"
   ]
  },
  {
   "cell_type": "code",
   "execution_count": 12,
   "metadata": {},
   "outputs": [
    {
     "data": {
      "text/plain": [
       "17.636666666666667"
      ]
     },
     "execution_count": 12,
     "metadata": {},
     "output_type": "execute_result"
    }
   ],
   "source": [
    "m2=np.mean(datos)\n",
    "m2"
   ]
  },
  {
   "cell_type": "code",
   "execution_count": 13,
   "metadata": {},
   "outputs": [
    {
     "data": {
      "text/plain": [
       "65.37295555555555"
      ]
     },
     "execution_count": 13,
     "metadata": {},
     "output_type": "execute_result"
    }
   ],
   "source": [
    "v2=np.var(datos)\n",
    "v2"
   ]
  },
  {
   "cell_type": "markdown",
   "metadata": {},
   "source": [
    "Calculamos ahora la media, varianza y moda de VentasEU al completo:"
   ]
  },
  {
   "cell_type": "code",
   "execution_count": 14,
   "metadata": {},
   "outputs": [
    {
     "data": {
      "text/plain": [
       "0.00     5550\n",
       "0.01     1470\n",
       "0.02     1232\n",
       "0.03      907\n",
       "0.04      737\n",
       "         ... \n",
       "5.49        1\n",
       "2.64        1\n",
       "1.80        1\n",
       "1.64        1\n",
       "11.00       1\n",
       "Name: VentasEU, Length: 300, dtype: int64"
      ]
     },
     "execution_count": 14,
     "metadata": {},
     "output_type": "execute_result"
    }
   ],
   "source": [
    "N=len(VentasEU)\n",
    "[np.mean(VentasEU),sum(VentasEU)/N]\n",
    "[np.var(VentasEU), sum((VentasEU-np.mean(VentasEU))**2)/N]\n",
    "ni=VentasEU.value_counts()\n",
    "ni"
   ]
  },
  {
   "cell_type": "code",
   "execution_count": 15,
   "metadata": {},
   "outputs": [
    {
     "data": {
      "text/plain": [
       "0.02"
      ]
     },
     "execution_count": 15,
     "metadata": {},
     "output_type": "execute_result"
    }
   ],
   "source": [
    "np.median(VentasEU)"
   ]
  },
  {
   "cell_type": "code",
   "execution_count": 16,
   "metadata": {},
   "outputs": [
    {
     "data": {
      "text/plain": [
       "0.0    5550\n",
       "Name: VentasEU, dtype: int64"
      ]
     },
     "execution_count": 16,
     "metadata": {},
     "output_type": "execute_result"
    }
   ],
   "source": [
    "Frec_Maxima=np.sort(ni)[len(ni)-1]\n",
    "ModaVentasEU=ni[ni==Frec_Maxima]\n",
    "ModaVentasEU"
   ]
  },
  {
   "cell_type": "markdown",
   "metadata": {},
   "source": [
    "Con estos cálculos hemos respondido ya los apartados a) y b) del Ejercicio 1. "
   ]
  },
  {
   "cell_type": "markdown",
   "metadata": {},
   "source": [
    "Observemos que no tiene sentido hacer una tabla directamente con las frecuencias absolutas de los valores de la variable VentasEU por la sencilla razón de que la mayor parte de las veces son valores distintos (su frecuencia es 1), y hay demasiados. Es por ello que <font color=\"brown\"> conviene agrupar los datos por intervalos. Una forma de hacer esto es calculando un histograma para la variable.</font> Si no decimos nada sobre cómo cortar (agrupar) la variable en intervalos y, sencillamente, pedimos su histograma, obtenemos lo siguiente (que será en general una mala representación de la variable, y que responde al apartado c) del problema): "
   ]
  },
  {
   "cell_type": "code",
   "execution_count": 17,
   "metadata": {},
   "outputs": [
    {
     "data": {
      "text/plain": [
       "<matplotlib.axes._subplots.AxesSubplot at 0x10949c950>"
      ]
     },
     "execution_count": 17,
     "metadata": {},
     "output_type": "execute_result"
    },
    {
     "data": {
      "image/png": "[encoded data removed]",
      "text/plain": [
       "<Figure size 432x288 with 1 Axes>"
      ]
     },
     "metadata": {
      "needs_background": "light"
     },
     "output_type": "display_data"
    }
   ],
   "source": [
    "VentasEU.hist()"
   ]
  },
  {
   "cell_type": "markdown",
   "metadata": {},
   "source": [
    "Obsérvese que el histograma resultante es muy pobre: apenas hay un par de barras. Esto se debe a que la división que hemos hecho de los intervalos no es la mejor posible. Las observaciones de esta variable miden, en millones de euros, las ventas realizadas en videojuegos en la unión europea durante un determinado periodo de tiempo. Obviamente, solo unos pocos videojuegos superan el millón de Euros en ventas -aunque algunos lo superan, con creces. Por tanto, quizás sería más propiado prestar mayor atención a las ventas menores que 1. Para ello, creamos una nueva variable llamada VentasEU1 que resulta de restringirnos a los valores de VentasEU menores que 1 millón de dólares (esto da respuesta al apartado d) del problema) y dibujamos su histograma y cortamos (agrupamos) la variable VentasEU1 de acuerdo con el histograma que acabamos de calcular (esto responde al apartado e) del problema):"
   ]
  },
  {
   "cell_type": "code",
   "execution_count": 18,
   "metadata": {},
   "outputs": [
    {
     "data": {
      "text/plain": [
       "<matplotlib.axes._subplots.AxesSubplot at 0x1a1ee84690>"
      ]
     },
     "execution_count": 18,
     "metadata": {},
     "output_type": "execute_result"
    },
    {
     "data": {
      "image/png": "[encoded data removed]",
      "text/plain": [
       "<Figure size 432x288 with 1 Axes>"
      ]
     },
     "metadata": {
      "needs_background": "light"
     },
     "output_type": "display_data"
    }
   ],
   "source": [
    "VentasEU1=VentasEU[VentasEU<=1]\n",
    "VentasEU1.hist()"
   ]
  },
  {
   "cell_type": "markdown",
   "metadata": {},
   "source": [
    "Ya hemos dibujado el histograma. Vamos a cortar la variable de acuerdo con el histograma. Para ello, necesitamos conocer cuáles son los puntos de corte. La orden np.histogram() te proporciona la información tanto de los cortes como de las frecuencias del histograma:"
   ]
  },
  {
   "cell_type": "code",
   "execution_count": 19,
   "metadata": {},
   "outputs": [
    {
     "data": {
      "text/plain": [
       "(array([11756,  1703,   855,   422,   350,   238,   136,    85,    87,\n",
       "           70]),\n",
       " array([0. , 0.1, 0.2, 0.3, 0.4, 0.5, 0.6, 0.7, 0.8, 0.9, 1. ]))"
      ]
     },
     "execution_count": 19,
     "metadata": {},
     "output_type": "execute_result"
    }
   ],
   "source": [
    "np.histogram(VentasEU1)"
   ]
  },
  {
   "cell_type": "code",
   "execution_count": 20,
   "metadata": {},
   "outputs": [
    {
     "data": {
      "text/plain": [
       "array([11756,  1703,   855,   422,   350,   238,   136,    85,    87,\n",
       "          70])"
      ]
     },
     "execution_count": 20,
     "metadata": {},
     "output_type": "execute_result"
    }
   ],
   "source": [
    "frecuencias=np.histogram(VentasEU1)[0]\n",
    "frecuencias"
   ]
  },
  {
   "cell_type": "code",
   "execution_count": 21,
   "metadata": {},
   "outputs": [
    {
     "data": {
      "text/plain": [
       "array([0. , 0.1, 0.2, 0.3, 0.4, 0.5, 0.6, 0.7, 0.8, 0.9, 1. ])"
      ]
     },
     "execution_count": 21,
     "metadata": {},
     "output_type": "execute_result"
    }
   ],
   "source": [
    "cortes=np.histogram(VentasEU1)[1]\n",
    "cortes"
   ]
  },
  {
   "cell_type": "markdown",
   "metadata": {},
   "source": [
    "Como ya conocemos los cortes, podemos proceder a agrupar la variable como nos han pedido:"
   ]
  },
  {
   "cell_type": "code",
   "execution_count": 22,
   "metadata": {},
   "outputs": [
    {
     "data": {
      "text/plain": [
       "12          (0.3, 0.4]\n",
       "39       (-0.001, 0.1]\n",
       "123         (0.8, 0.9]\n",
       "133      (-0.001, 0.1]\n",
       "135         (0.6, 0.7]\n",
       "             ...      \n",
       "16154    (-0.001, 0.1]\n",
       "16155    (-0.001, 0.1]\n",
       "16156    (-0.001, 0.1]\n",
       "16157    (-0.001, 0.1]\n",
       "16158    (-0.001, 0.1]\n",
       "Name: VentasEU, Length: 15702, dtype: category\n",
       "Categories (10, interval[float64]): [(-0.001, 0.1] < (0.1, 0.2] < (0.2, 0.3] < (0.3, 0.4] ... (0.6, 0.7] < (0.7, 0.8] < (0.8, 0.9] < (0.9, 1.0]]"
      ]
     },
     "execution_count": 22,
     "metadata": {},
     "output_type": "execute_result"
    }
   ],
   "source": [
    "VentasEU1_datos_agrupados=pd.cut(\n",
    "    VentasEU1,\n",
    "    bins = cortes,\n",
    "    right=True,\n",
    "    include_lowest=True\n",
    ")\n",
    "VentasEU1_datos_agrupados"
   ]
  },
  {
   "cell_type": "markdown",
   "metadata": {},
   "source": [
    "Ahora respondemos el siguiente apartado: <font color=\"blue\">Haz la tabla estadística de la variable VentasEU1 cortada por intervalos. Compara su tabla de frecuencias absolutas con las frecuencias del histograma.</font>"
   ]
  },
  {
   "cell_type": "code",
   "execution_count": 23,
   "metadata": {},
   "outputs": [
    {
     "data": {
      "text/plain": [
       "(-0.001, 0.1]    12001\n",
       "(0.1, 0.2]        1580\n",
       "(0.2, 0.3]         733\n",
       "(0.3, 0.4]         479\n",
       "(0.4, 0.5]         319\n",
       "(0.5, 0.6]         212\n",
       "(0.6, 0.7]         136\n",
       "(0.7, 0.8]          98\n",
       "(0.8, 0.9]          82\n",
       "(0.9, 1.0]          62\n",
       "Name: VentasEU, dtype: int64"
      ]
     },
     "execution_count": 23,
     "metadata": {},
     "output_type": "execute_result"
    }
   ],
   "source": [
    "counts = VentasEU1_datos_agrupados.value_counts()\n",
    "counts"
   ]
  },
  {
   "cell_type": "code",
   "execution_count": 24,
   "metadata": {},
   "outputs": [
    {
     "data": {
      "text/plain": [
       "[15702, 15702]"
      ]
     },
     "execution_count": 24,
     "metadata": {},
     "output_type": "execute_result"
    }
   ],
   "source": [
    "[sum(counts),len(VentasEU1)]"
   ]
  },
  {
   "cell_type": "code",
   "execution_count": 25,
   "metadata": {},
   "outputs": [
    {
     "data": {
      "text/plain": [
       "array([11756,  1703,   855,   422,   350,   238,   136,    85,    87,\n",
       "          70])"
      ]
     },
     "execution_count": 25,
     "metadata": {},
     "output_type": "execute_result"
    }
   ],
   "source": [
    "frecuencias"
   ]
  },
  {
   "cell_type": "code",
   "execution_count": 26,
   "metadata": {},
   "outputs": [
    {
     "data": {
      "image/png": "[encoded data removed]",
      "text/plain": [
       "<Figure size 432x288 with 1 Axes>"
      ]
     },
     "metadata": {
      "needs_background": "light"
     },
     "output_type": "display_data"
    }
   ],
   "source": [
    "counts.plot(kind='bar')\n",
    "plt.show()"
   ]
  },
  {
   "cell_type": "code",
   "execution_count": 27,
   "metadata": {},
   "outputs": [
    {
     "data": {
      "text/html": [
       "<div>\n",
       "<style scoped>\n",
       "    .dataframe tbody tr th:only-of-type {\n",
       "        vertical-align: middle;\n",
       "    }\n",
       "\n",
       "    .dataframe tbody tr th {\n",
       "        vertical-align: top;\n",
       "    }\n",
       "\n",
       "    .dataframe thead th {\n",
       "        text-align: right;\n",
       "    }\n",
       "</style>\n",
       "<table border=\"1\" class=\"dataframe\">\n",
       "  <thead>\n",
       "    <tr style=\"text-align: right;\">\n",
       "      <th></th>\n",
       "      <th>Frecuencia Absoluta</th>\n",
       "      <th>Frecuencia Relativa</th>\n",
       "      <th>Frec. Absoluta Acumulada</th>\n",
       "      <th>Frec. Relativa Acumulada</th>\n",
       "    </tr>\n",
       "  </thead>\n",
       "  <tbody>\n",
       "    <tr>\n",
       "      <th>(-0.001, 0.1]</th>\n",
       "      <td>12001</td>\n",
       "      <td>0.764298</td>\n",
       "      <td>12001</td>\n",
       "      <td>0.764298</td>\n",
       "    </tr>\n",
       "    <tr>\n",
       "      <th>(0.1, 0.2]</th>\n",
       "      <td>1580</td>\n",
       "      <td>0.100624</td>\n",
       "      <td>13581</td>\n",
       "      <td>0.864922</td>\n",
       "    </tr>\n",
       "    <tr>\n",
       "      <th>(0.2, 0.3]</th>\n",
       "      <td>733</td>\n",
       "      <td>0.046682</td>\n",
       "      <td>14314</td>\n",
       "      <td>0.911604</td>\n",
       "    </tr>\n",
       "    <tr>\n",
       "      <th>(0.3, 0.4]</th>\n",
       "      <td>479</td>\n",
       "      <td>0.030506</td>\n",
       "      <td>14793</td>\n",
       "      <td>0.942109</td>\n",
       "    </tr>\n",
       "    <tr>\n",
       "      <th>(0.4, 0.5]</th>\n",
       "      <td>319</td>\n",
       "      <td>0.020316</td>\n",
       "      <td>15112</td>\n",
       "      <td>0.962425</td>\n",
       "    </tr>\n",
       "    <tr>\n",
       "      <th>(0.5, 0.6]</th>\n",
       "      <td>212</td>\n",
       "      <td>0.013501</td>\n",
       "      <td>15324</td>\n",
       "      <td>0.975927</td>\n",
       "    </tr>\n",
       "    <tr>\n",
       "      <th>(0.6, 0.7]</th>\n",
       "      <td>136</td>\n",
       "      <td>0.008661</td>\n",
       "      <td>15460</td>\n",
       "      <td>0.984588</td>\n",
       "    </tr>\n",
       "    <tr>\n",
       "      <th>(0.7, 0.8]</th>\n",
       "      <td>98</td>\n",
       "      <td>0.006241</td>\n",
       "      <td>15558</td>\n",
       "      <td>0.990829</td>\n",
       "    </tr>\n",
       "    <tr>\n",
       "      <th>(0.8, 0.9]</th>\n",
       "      <td>82</td>\n",
       "      <td>0.005222</td>\n",
       "      <td>15640</td>\n",
       "      <td>0.996051</td>\n",
       "    </tr>\n",
       "    <tr>\n",
       "      <th>(0.9, 1.0]</th>\n",
       "      <td>62</td>\n",
       "      <td>0.003949</td>\n",
       "      <td>15702</td>\n",
       "      <td>1.000000</td>\n",
       "    </tr>\n",
       "  </tbody>\n",
       "</table>\n",
       "</div>"
      ],
      "text/plain": [
       "               Frecuencia Absoluta  Frecuencia Relativa  \\\n",
       "(-0.001, 0.1]                12001             0.764298   \n",
       "(0.1, 0.2]                    1580             0.100624   \n",
       "(0.2, 0.3]                     733             0.046682   \n",
       "(0.3, 0.4]                     479             0.030506   \n",
       "(0.4, 0.5]                     319             0.020316   \n",
       "(0.5, 0.6]                     212             0.013501   \n",
       "(0.6, 0.7]                     136             0.008661   \n",
       "(0.7, 0.8]                      98             0.006241   \n",
       "(0.8, 0.9]                      82             0.005222   \n",
       "(0.9, 1.0]                      62             0.003949   \n",
       "\n",
       "               Frec. Absoluta Acumulada  Frec. Relativa Acumulada  \n",
       "(-0.001, 0.1]                     12001                  0.764298  \n",
       "(0.1, 0.2]                        13581                  0.864922  \n",
       "(0.2, 0.3]                        14314                  0.911604  \n",
       "(0.3, 0.4]                        14793                  0.942109  \n",
       "(0.4, 0.5]                        15112                  0.962425  \n",
       "(0.5, 0.6]                        15324                  0.975927  \n",
       "(0.6, 0.7]                        15460                  0.984588  \n",
       "(0.7, 0.8]                        15558                  0.990829  \n",
       "(0.8, 0.9]                        15640                  0.996051  \n",
       "(0.9, 1.0]                        15702                  1.000000  "
      ]
     },
     "execution_count": 27,
     "metadata": {},
     "output_type": "execute_result"
    }
   ],
   "source": [
    "ni = counts\n",
    "fi = ni/len(VentasEU1)\n",
    "Ni=np.cumsum(ni)\n",
    "Fi=Ni/len(VentasEU1)\n",
    "tabla_frecuencias = pd.DataFrame(\n",
    "    {'Frecuencia Absoluta': ni, \n",
    "     'Frecuencia Relativa': fi, \n",
    "     'Frec. Absoluta Acumulada': Ni, \n",
    "     'Frec. Relativa Acumulada': Fi})\n",
    "tabla_frecuencias "
   ]
  },
  {
   "cell_type": "markdown",
   "metadata": {},
   "source": [
    "Respondemos ahora a los siguientes apartados: \n",
    "<font color=\"blue\"> (g)  Calcula media y varianza de VentasEU1 usando las clases del apartado anterior (usando frecuencias y marcas de clase)\n",
    "\n",
    "(h)  Calcula la media de VentasEU1 ¿por qué crees que salen diferentes?</font>"
   ]
  },
  {
   "cell_type": "markdown",
   "metadata": {},
   "source": [
    "Primero calculamos los puntos medios de los intervalos, que usamos como representantes de cada clase y, por tanto, para el cálculo de la media y la varianza:"
   ]
  },
  {
   "cell_type": "code",
   "execution_count": 28,
   "metadata": {},
   "outputs": [
    {
     "data": {
      "text/plain": [
       "array([0.05, 0.15, 0.25, 0.35, 0.45, 0.55, 0.65, 0.75, 0.85, 0.95])"
      ]
     },
     "execution_count": 28,
     "metadata": {},
     "output_type": "execute_result"
    }
   ],
   "source": [
    "midpoints = (cortes[:-1] + cortes[1:]) / 2\n",
    "midpoints"
   ]
  },
  {
   "cell_type": "markdown",
   "metadata": {},
   "source": [
    "Ahora hallamos la media y la varianza:"
   ]
  },
  {
   "cell_type": "code",
   "execution_count": 29,
   "metadata": {},
   "outputs": [
    {
     "data": {
      "text/plain": [
       "0.11072474843968921"
      ]
     },
     "execution_count": 29,
     "metadata": {},
     "output_type": "execute_result"
    }
   ],
   "source": [
    "media_clase=sum(midpoints*fi)\n",
    "media_clase"
   ]
  },
  {
   "cell_type": "code",
   "execution_count": 30,
   "metadata": {},
   "outputs": [
    {
     "data": {
      "text/plain": [
       "0.08819513437777464"
      ]
     },
     "execution_count": 30,
     "metadata": {},
     "output_type": "execute_result"
    }
   ],
   "source": [
    "np.mean(VentasEU1)"
   ]
  },
  {
   "cell_type": "markdown",
   "metadata": {},
   "source": [
    "La media real es más pequeña, lo que quiere decir que tiende a haber más datos en la primera\n",
    "mitad de los intervalos. En otras palabras, los datos tienden a ser menores que su marca de clase."
   ]
  },
  {
   "cell_type": "code",
   "execution_count": 31,
   "metadata": {},
   "outputs": [
    {
     "data": {
      "text/plain": [
       "0.021274293234158477"
      ]
     },
     "execution_count": 31,
     "metadata": {},
     "output_type": "execute_result"
    }
   ],
   "source": [
    "varianza_clase=sum(((midpoints-media_clase)**2)*fi)\n",
    "varianza_clase"
   ]
  },
  {
   "cell_type": "code",
   "execution_count": 32,
   "metadata": {},
   "outputs": [
    {
     "data": {
      "text/plain": [
       "array([587.8 , 255.45, 213.75, 147.7 , 157.5 , 130.9 ,  88.4 ,  63.75,\n",
       "        73.95,  66.5 ])"
      ]
     },
     "execution_count": 32,
     "metadata": {},
     "output_type": "execute_result"
    }
   ],
   "source": [
    "midpoints*frecuencias"
   ]
  },
  {
   "cell_type": "markdown",
   "metadata": {},
   "source": [
    "<font color=\"blue\"> <strong> Ejercicio 4.</strong>  Dibuja los histogramas de los siguientes conjuntos de datos agrupándolos en los intervalos que se indica:\n",
    "* Los datos de VentasEEUU en intervalos de longitud 5.\n",
    "\n",
    "* Los datos de Ventas que sean menores o iguales que 10 en los intervalos [0, 0.1), [0.1, 0.5), [0.5, 1), [1, 5), [5, 20).\n",
    "\n",
    "* Los datos de VentasJP que sean menores o iguales que 1 en los intervalos [0, 0.1], (0.1, 0.3], (0.3, 0.7), (0.7, 1].\n",
    "</font> \n",
    "\n",
    "<strong> Solución.</strong>  Comenzamos con el primer apartado:\n",
    "\n",
    "La variable con la que nos piden trabajar es VentasEEUU. Calculamos el valor mínimo y máximo de VentasEEUU para saber los límites inferior y superior que nos interesa utilizar para contener todos los datos."
   ]
  },
  {
   "cell_type": "code",
   "execution_count": 33,
   "metadata": {},
   "outputs": [
    {
     "data": {
      "text/plain": [
       "[0.0, 41.49]"
      ]
     },
     "execution_count": 33,
     "metadata": {},
     "output_type": "execute_result"
    }
   ],
   "source": [
    "VentasEEUU=juegos[\"VentasEEUU\"]\n",
    "[min(VentasEEUU),max(VentasEEUU)]"
   ]
  },
  {
   "cell_type": "markdown",
   "metadata": {},
   "source": [
    "Ahora dibujamos su histograma repartiendo los datos en intervalos de longitud 5:"
   ]
  },
  {
   "cell_type": "code",
   "execution_count": 34,
   "metadata": {},
   "outputs": [
    {
     "data": {
      "text/plain": [
       "array([ 0,  5, 10, 15, 20, 25, 30, 35, 40, 45, 50])"
      ]
     },
     "execution_count": 34,
     "metadata": {},
     "output_type": "execute_result"
    }
   ],
   "source": [
    "cortes1=np.arange(0, 51, 5)\n",
    "cortes1"
   ]
  },
  {
   "cell_type": "code",
   "execution_count": 35,
   "metadata": {},
   "outputs": [
    {
     "data": {
      "text/plain": [
       "(array([16112,    39,     5,     2,     0,     0,     0,     0,     1,\n",
       "            0]),\n",
       " array([ 0,  5, 10, 15, 20, 25, 30, 35, 40, 45, 50]))"
      ]
     },
     "execution_count": 35,
     "metadata": {},
     "output_type": "execute_result"
    }
   ],
   "source": [
    "np.histogram(VentasEEUU, bins=cortes1, range=None, density=False, weights=None)"
   ]
  },
  {
   "cell_type": "code",
   "execution_count": 36,
   "metadata": {},
   "outputs": [
    {
     "data": {
      "image/png": "[encoded data removed]",
      "text/plain": [
       "<Figure size 432x288 with 1 Axes>"
      ]
     },
     "metadata": {
      "needs_background": "light"
     },
     "output_type": "display_data"
    }
   ],
   "source": [
    "plt.hist(VentasEEUU, bins=cortes1, density=False)\n",
    "plt.show()"
   ]
  },
  {
   "cell_type": "markdown",
   "metadata": {},
   "source": [
    "Ahora abordamos el siguiente apartado: Hay que dibujar el histograma de...\n",
    "<font color=\"Blue\">\n",
    "* Los datos de Ventas que sean menores o iguales que 10 en los intervalos [0, 0.1), [0.1, 0.5), [0.5, 1), [1, 5), [5, 20).</font>"
   ]
  },
  {
   "cell_type": "code",
   "execution_count": 37,
   "metadata": {},
   "outputs": [
    {
     "data": {
      "text/plain": [
       "[0.01, 82.74]"
      ]
     },
     "execution_count": 37,
     "metadata": {},
     "output_type": "execute_result"
    }
   ],
   "source": [
    "Ventas=juegos[\"Ventas\"]\n",
    "[min(Ventas),max(Ventas)]"
   ]
  },
  {
   "cell_type": "code",
   "execution_count": 38,
   "metadata": {},
   "outputs": [
    {
     "data": {
      "text/plain": [
       "[0.01, 9.88]"
      ]
     },
     "execution_count": 38,
     "metadata": {},
     "output_type": "execute_result"
    }
   ],
   "source": [
    "Ventas10=Ventas[Ventas<=10]\n",
    "[min(Ventas10),max(Ventas10)]"
   ]
  },
  {
   "cell_type": "code",
   "execution_count": 39,
   "metadata": {},
   "outputs": [
    {
     "data": {
      "text/plain": [
       "array([ 0. ,  0.1,  0.5,  1. ,  5. , 20. ])"
      ]
     },
     "execution_count": 39,
     "metadata": {},
     "output_type": "execute_result"
    }
   ],
   "source": [
    "cortes2=np.array([0,0.1,0.5,1, 5, 20])\n",
    "cortes2"
   ]
  },
  {
   "cell_type": "code",
   "execution_count": 40,
   "metadata": {},
   "outputs": [
    {
     "data": {
      "text/plain": [
       "(array([5727, 6647, 1877, 1721,  134]),\n",
       " array([ 0. ,  0.1,  0.5,  1. ,  5. , 20. ]))"
      ]
     },
     "execution_count": 40,
     "metadata": {},
     "output_type": "execute_result"
    }
   ],
   "source": [
    "np.histogram(Ventas10, bins=cortes2, range=None, density=False, weights=None)"
   ]
  },
  {
   "cell_type": "code",
   "execution_count": 41,
   "metadata": {},
   "outputs": [
    {
     "data": {
      "image/png": "[encoded data removed]",
      "text/plain": [
       "<Figure size 432x288 with 1 Axes>"
      ]
     },
     "metadata": {
      "needs_background": "light"
     },
     "output_type": "display_data"
    }
   ],
   "source": [
    "plt.hist(Ventas10, bins=cortes2, density=False)\n",
    "plt.show()"
   ]
  },
  {
   "cell_type": "markdown",
   "metadata": {},
   "source": [
    "Ahora abordamos el siguiente apartado: Hay que dibujar el histograma de...\n",
    "<font color=\"Blue\">\n",
    "* Los datos de VentasJP que sean menores o iguales que 1 en los intervalos [0, 0.1], (0.1, 0.3], (0.3, 0.7), (0.7, 1].</font>\n",
    "\n"
   ]
  },
  {
   "cell_type": "code",
   "execution_count": 42,
   "metadata": {},
   "outputs": [
    {
     "data": {
      "text/plain": [
       "[0.0, 6.5]"
      ]
     },
     "execution_count": 42,
     "metadata": {},
     "output_type": "execute_result"
    }
   ],
   "source": [
    "VentasJP=juegos[\"VentasJP\"]\n",
    "[min(VentasJP),max(VentasJP)]"
   ]
  },
  {
   "cell_type": "code",
   "execution_count": 43,
   "metadata": {},
   "outputs": [
    {
     "data": {
      "text/plain": [
       "[0.0, 6.5]"
      ]
     },
     "execution_count": 43,
     "metadata": {},
     "output_type": "execute_result"
    }
   ],
   "source": [
    "VentasJP1=VentasJP[VentasJP<=10]\n",
    "[min(VentasJP1),max(VentasJP1)]"
   ]
  },
  {
   "cell_type": "code",
   "execution_count": 44,
   "metadata": {},
   "outputs": [
    {
     "data": {
      "text/plain": [
       "array([0. , 0.1, 0.3, 0.7, 1. ])"
      ]
     },
     "execution_count": 44,
     "metadata": {},
     "output_type": "execute_result"
    }
   ],
   "source": [
    "cortes3=np.array([0,0.1,0.3,0.7,1])\n",
    "cortes3"
   ]
  },
  {
   "cell_type": "code",
   "execution_count": 45,
   "metadata": {},
   "outputs": [
    {
     "data": {
      "text/plain": [
       "(array([13822,  1453,   578,   131]), array([0. , 0.1, 0.3, 0.7, 1. ]))"
      ]
     },
     "execution_count": 45,
     "metadata": {},
     "output_type": "execute_result"
    }
   ],
   "source": [
    "np.histogram(VentasJP1, bins=cortes3)"
   ]
  },
  {
   "cell_type": "code",
   "execution_count": 46,
   "metadata": {},
   "outputs": [
    {
     "data": {
      "image/png": "[encoded data removed]",
      "text/plain": [
       "<Figure size 432x288 with 1 Axes>"
      ]
     },
     "metadata": {
      "needs_background": "light"
     },
     "output_type": "display_data"
    }
   ],
   "source": [
    "plt.hist(VentasJP1, bins=cortes3, density=False)\n",
    "plt.show()"
   ]
  },
  {
   "cell_type": "markdown",
   "metadata": {},
   "source": [
    "<font color=\"blue\"> <strong>Ejercicio 5.</strong> Para el histograma de VentasJP que sean menores o iguales que 1, parte los datos en los intervalos correspondientes y dibuja el barplot correspondiente. Compara el barplot con el histograma calculado. </font>"
   ]
  },
  {
   "cell_type": "code",
   "execution_count": 47,
   "metadata": {},
   "outputs": [
    {
     "data": {
      "text/plain": [
       "0                  NaN\n",
       "1                  NaN\n",
       "2                  NaN\n",
       "3                  NaN\n",
       "4                  NaN\n",
       "             ...      \n",
       "16154    (-0.001, 0.1]\n",
       "16155    (-0.001, 0.1]\n",
       "16156    (-0.001, 0.1]\n",
       "16157    (-0.001, 0.1]\n",
       "16158    (-0.001, 0.1]\n",
       "Name: VentasJP, Length: 16159, dtype: category\n",
       "Categories (4, interval[float64]): [(-0.001, 0.1] < (0.1, 0.3] < (0.3, 0.7] < (0.7, 1.0]]"
      ]
     },
     "execution_count": 47,
     "metadata": {},
     "output_type": "execute_result"
    }
   ],
   "source": [
    "VentasJP1_datos_agrupados=pd.cut(\n",
    "    VentasJP1,\n",
    "    bins = cortes3,\n",
    "    right=True,\n",
    "    include_lowest=True\n",
    ")\n",
    "VentasJP1_datos_agrupados"
   ]
  },
  {
   "cell_type": "code",
   "execution_count": 48,
   "metadata": {},
   "outputs": [
    {
     "data": {
      "text/plain": [
       "(-0.001, 0.1]    13969\n",
       "(0.1, 0.3]        1354\n",
       "(0.3, 0.7]         536\n",
       "(0.7, 1.0]         125\n",
       "Name: VentasJP, dtype: int64"
      ]
     },
     "execution_count": 48,
     "metadata": {},
     "output_type": "execute_result"
    }
   ],
   "source": [
    "counts = VentasJP1_datos_agrupados.value_counts()\n",
    "counts"
   ]
  },
  {
   "cell_type": "code",
   "execution_count": 49,
   "metadata": {},
   "outputs": [
    {
     "data": {
      "image/png": "[encoded data removed]",
      "text/plain": [
       "<Figure size 432x288 with 1 Axes>"
      ]
     },
     "metadata": {
      "needs_background": "light"
     },
     "output_type": "display_data"
    }
   ],
   "source": [
    "counts.plot(kind='bar')\n",
    "plt.show()"
   ]
  },
  {
   "cell_type": "markdown",
   "metadata": {},
   "source": [
    "<font color=\"blue\"> <strong>Ejercicio 6.</strong> Haz las siguientes transformaciones:\n",
    "* Tipifica los datos de VentasOtros.\n",
    "* Dibuja el histograma de VentasOtros antes y después de tipificar\n",
    "* Conviértelos en datos con media 0.5 y desviación típica 0.2. Dibuja el nuevo histograma.\n",
    "</font>\n",
    "\n",
    "<strong> Solución.</strong>  Recordemos que tipificar consiste en transformar los datos en otros con media 0 y desviación típica 1, lo que se hace restando la media de los datos y dividiendo el resultado por la desviación típica:"
   ]
  },
  {
   "cell_type": "code",
   "execution_count": 55,
   "metadata": {},
   "outputs": [],
   "source": [
    "VentasOtros=juegos[\"VentasOtros\"]\n",
    "VentasOtros_tipificados=(VentasOtros-np.mean(VentasOtros))/np.std(VentasOtros)"
   ]
  },
  {
   "cell_type": "code",
   "execution_count": 62,
   "metadata": {},
   "outputs": [
    {
     "data": {
      "text/plain": [
       "[0.048401509994423095, 0.1899672487664457]"
      ]
     },
     "execution_count": 62,
     "metadata": {},
     "output_type": "execute_result"
    }
   ],
   "source": [
    "[np.mean(VentasOtros),np.std(VentasOtros)]"
   ]
  },
  {
   "cell_type": "code",
   "execution_count": 63,
   "metadata": {},
   "outputs": [
    {
     "data": {
      "text/plain": [
       "[6.279447947862069e-14, 0.9999999999998874]"
      ]
     },
     "execution_count": 63,
     "metadata": {},
     "output_type": "execute_result"
    }
   ],
   "source": [
    "[np.mean(VentasOtros_tipificados),np.std(VentasOtros_tipificados)]"
   ]
  },
  {
   "cell_type": "code",
   "execution_count": 67,
   "metadata": {},
   "outputs": [
    {
     "data": {
      "image/png": "[encoded data removed]",
      "text/plain": [
       "<Figure size 432x288 with 1 Axes>"
      ]
     },
     "metadata": {
      "needs_background": "light"
     },
     "output_type": "display_data"
    }
   ],
   "source": [
    "plt.hist(VentasOtros)\n",
    "plt.show()"
   ]
  },
  {
   "cell_type": "code",
   "execution_count": 66,
   "metadata": {},
   "outputs": [
    {
     "data": {
      "image/png": "[encoded data removed]",
      "text/plain": [
       "<Figure size 432x288 with 1 Axes>"
      ]
     },
     "metadata": {
      "needs_background": "light"
     },
     "output_type": "display_data"
    }
   ],
   "source": [
    "plt.hist(VentasOtros_tipificados)\n",
    "plt.show()"
   ]
  },
  {
   "cell_type": "markdown",
   "metadata": {},
   "source": [
    "Respondemos ahora al apartado final:"
   ]
  },
  {
   "cell_type": "code",
   "execution_count": 58,
   "metadata": {},
   "outputs": [
    {
     "data": {
      "text/plain": [
       "[0.5000000000000145, 0.19999999999991486]"
      ]
     },
     "execution_count": 58,
     "metadata": {},
     "output_type": "execute_result"
    }
   ],
   "source": [
    "VentasOtros_nuevos=VentasOtros_tipificados*0.2+0.5\n",
    "[np.mean(VentasOtros_nuevos),np.std(VentasOtros_nuevos)]"
   ]
  },
  {
   "cell_type": "code",
   "execution_count": 59,
   "metadata": {},
   "outputs": [
    {
     "data": {
      "image/png": "[encoded data removed]",
      "text/plain": [
       "<Figure size 432x288 with 1 Axes>"
      ]
     },
     "metadata": {
      "needs_background": "light"
     },
     "output_type": "display_data"
    }
   ],
   "source": [
    "plt.hist(VentasOtros_nuevos)\n",
    "plt.show()"
   ]
  },
  {
   "cell_type": "code",
   "execution_count": null,
   "metadata": {},
   "outputs": [],
   "source": []
  }
 ],
 "metadata": {
  "kernelspec": {
   "display_name": "Python 3",
   "language": "python",
   "name": "python3"
  },
  "language_info": {
   "codemirror_mode": {
    "name": "ipython",
    "version": 3
   },
   "file_extension": ".py",
   "mimetype": "text/x-python",
   "name": "python",
   "nbconvert_exporter": "python",
   "pygments_lexer": "ipython3",
   "version": "3.7.6"
  }
 },
 "nbformat": 4,
 "nbformat_minor": 4
}
