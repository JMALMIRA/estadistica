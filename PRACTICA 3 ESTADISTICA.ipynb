{
 "cells": [
  {
   "cell_type": "markdown",
   "metadata": {},
   "source": [
    "<font color=\"blue\"><strong>Ejercicio 1.</strong> Importa los datos del fichero ''Juegos.csv''. Se pide:\n",
    "\n",
    "* Coge la variable VentasEEUU, calcula los cuartiles y dibuja su boxplot\n",
    "*  Define la variable datos como los valores de VentasEEUU que estén entre 0.1 y 1.\n",
    "* Calcula sus deciles y cuartiles. \n",
    "* Calcula mediante su definición el rango intercuartílico\n",
    "* Indica a partir de qué valores se considera que un dato es atípico. \n",
    "* Dibuja el boxplot de datos explicando lo que representa.\n",
    "* Se quiere partir los datos en tres categorías de modo que en la primera esté el 20 $\\%$ de los juegos menos vendidos, en la tercera el 20 $\\%$ de los más vendidos y los demás en la categoría dos. ¿Cómo puede hacerse? Comprueba que en la primera categoría hay aproximadamente un 20 $\\%$ de los datos ¿por qué no hay exactamente el 20 $\\%$?\n",
    "* Dibuja los histogramas de las variables VentasEU, VentasEEUU, VentasOtros, filtradas previamente para que se consideren solo valores de las variables en el intervalo $]0.1, 1[$. Dibuja también un histograma de la variable Fecha.</font>\n",
    "\n",
    "<strong>Solución.</strong>  \n",
    "Comenzamos leyendo el fichero ``Juegos.csv''"
   ]
  },
  {
   "cell_type": "code",
   "execution_count": 1,
   "metadata": {},
   "outputs": [],
   "source": [
    "import pandas as pd\n",
    "import numpy as np\n",
    "import matplotlib.pyplot as plt\n",
    "import seaborn as sns"
   ]
  },
  {
   "cell_type": "code",
   "execution_count": 2,
   "metadata": {},
   "outputs": [
    {
     "data": {
      "text/html": [
       "<div>\n",
       "<style scoped>\n",
       "    .dataframe tbody tr th:only-of-type {\n",
       "        vertical-align: middle;\n",
       "    }\n",
       "\n",
       "    .dataframe tbody tr th {\n",
       "        vertical-align: top;\n",
       "    }\n",
       "\n",
       "    .dataframe thead th {\n",
       "        text-align: right;\n",
       "    }\n",
       "</style>\n",
       "<table border=\"1\" class=\"dataframe\">\n",
       "  <thead>\n",
       "    <tr style=\"text-align: right;\">\n",
       "      <th></th>\n",
       "      <th>Nombre</th>\n",
       "      <th>Plataforma</th>\n",
       "      <th>Fecha</th>\n",
       "      <th>Genero</th>\n",
       "      <th>VentasEEUU</th>\n",
       "      <th>VentasEU</th>\n",
       "      <th>VentasJP</th>\n",
       "      <th>VentasOtros</th>\n",
       "      <th>Ventas</th>\n",
       "    </tr>\n",
       "  </thead>\n",
       "  <tbody>\n",
       "    <tr>\n",
       "      <th>0</th>\n",
       "      <td>Wii Sports</td>\n",
       "      <td>Wii</td>\n",
       "      <td>2006.0</td>\n",
       "      <td>Sports</td>\n",
       "      <td>41.49</td>\n",
       "      <td>29.02</td>\n",
       "      <td>3.77</td>\n",
       "      <td>8.46</td>\n",
       "      <td>82.74</td>\n",
       "    </tr>\n",
       "    <tr>\n",
       "      <th>1</th>\n",
       "      <td>Mario Kart Wii</td>\n",
       "      <td>Wii</td>\n",
       "      <td>2008.0</td>\n",
       "      <td>Racing</td>\n",
       "      <td>15.85</td>\n",
       "      <td>12.88</td>\n",
       "      <td>3.79</td>\n",
       "      <td>3.31</td>\n",
       "      <td>35.82</td>\n",
       "    </tr>\n",
       "    <tr>\n",
       "      <th>2</th>\n",
       "      <td>Wii Sports Resort</td>\n",
       "      <td>Wii</td>\n",
       "      <td>2009.0</td>\n",
       "      <td>Sports</td>\n",
       "      <td>15.75</td>\n",
       "      <td>11.01</td>\n",
       "      <td>3.28</td>\n",
       "      <td>2.96</td>\n",
       "      <td>33.00</td>\n",
       "    </tr>\n",
       "    <tr>\n",
       "      <th>3</th>\n",
       "      <td>New Super Mario Bros.</td>\n",
       "      <td>DS</td>\n",
       "      <td>2006.0</td>\n",
       "      <td>Platform</td>\n",
       "      <td>11.38</td>\n",
       "      <td>9.23</td>\n",
       "      <td>6.50</td>\n",
       "      <td>2.90</td>\n",
       "      <td>30.01</td>\n",
       "    </tr>\n",
       "    <tr>\n",
       "      <th>4</th>\n",
       "      <td>Wii Play</td>\n",
       "      <td>Wii</td>\n",
       "      <td>2006.0</td>\n",
       "      <td>Misc</td>\n",
       "      <td>14.03</td>\n",
       "      <td>9.20</td>\n",
       "      <td>2.93</td>\n",
       "      <td>2.85</td>\n",
       "      <td>29.02</td>\n",
       "    </tr>\n",
       "    <tr>\n",
       "      <th>...</th>\n",
       "      <td>...</td>\n",
       "      <td>...</td>\n",
       "      <td>...</td>\n",
       "      <td>...</td>\n",
       "      <td>...</td>\n",
       "      <td>...</td>\n",
       "      <td>...</td>\n",
       "      <td>...</td>\n",
       "      <td>...</td>\n",
       "    </tr>\n",
       "    <tr>\n",
       "      <th>16154</th>\n",
       "      <td>Woody Woodpecker in Crazy Castle 5</td>\n",
       "      <td>GBA</td>\n",
       "      <td>2002.0</td>\n",
       "      <td>Platform</td>\n",
       "      <td>0.01</td>\n",
       "      <td>0.00</td>\n",
       "      <td>0.00</td>\n",
       "      <td>0.00</td>\n",
       "      <td>0.01</td>\n",
       "    </tr>\n",
       "    <tr>\n",
       "      <th>16155</th>\n",
       "      <td>Men in Black II: Alien Escape</td>\n",
       "      <td>GC</td>\n",
       "      <td>2003.0</td>\n",
       "      <td>Shooter</td>\n",
       "      <td>0.01</td>\n",
       "      <td>0.00</td>\n",
       "      <td>0.00</td>\n",
       "      <td>0.00</td>\n",
       "      <td>0.01</td>\n",
       "    </tr>\n",
       "    <tr>\n",
       "      <th>16156</th>\n",
       "      <td>SCORE International Baja 1000: The Official Game</td>\n",
       "      <td>PS2</td>\n",
       "      <td>2008.0</td>\n",
       "      <td>Racing</td>\n",
       "      <td>0.00</td>\n",
       "      <td>0.00</td>\n",
       "      <td>0.00</td>\n",
       "      <td>0.00</td>\n",
       "      <td>0.01</td>\n",
       "    </tr>\n",
       "    <tr>\n",
       "      <th>16157</th>\n",
       "      <td>Know How 2</td>\n",
       "      <td>DS</td>\n",
       "      <td>2010.0</td>\n",
       "      <td>Puzzle</td>\n",
       "      <td>0.00</td>\n",
       "      <td>0.01</td>\n",
       "      <td>0.00</td>\n",
       "      <td>0.00</td>\n",
       "      <td>0.01</td>\n",
       "    </tr>\n",
       "    <tr>\n",
       "      <th>16158</th>\n",
       "      <td>Spirits &amp; Spells</td>\n",
       "      <td>GBA</td>\n",
       "      <td>2003.0</td>\n",
       "      <td>Platform</td>\n",
       "      <td>0.01</td>\n",
       "      <td>0.00</td>\n",
       "      <td>0.00</td>\n",
       "      <td>0.00</td>\n",
       "      <td>0.01</td>\n",
       "    </tr>\n",
       "  </tbody>\n",
       "</table>\n",
       "<p>16159 rows × 9 columns</p>\n",
       "</div>"
      ],
      "text/plain": [
       "                                                 Nombre Plataforma   Fecha  \\\n",
       "0                                            Wii Sports        Wii  2006.0   \n",
       "1                                        Mario Kart Wii        Wii  2008.0   \n",
       "2                                     Wii Sports Resort        Wii  2009.0   \n",
       "3                                 New Super Mario Bros.         DS  2006.0   \n",
       "4                                              Wii Play        Wii  2006.0   \n",
       "...                                                 ...        ...     ...   \n",
       "16154                Woody Woodpecker in Crazy Castle 5        GBA  2002.0   \n",
       "16155                     Men in Black II: Alien Escape         GC  2003.0   \n",
       "16156  SCORE International Baja 1000: The Official Game        PS2  2008.0   \n",
       "16157                                        Know How 2         DS  2010.0   \n",
       "16158                                  Spirits & Spells        GBA  2003.0   \n",
       "\n",
       "         Genero  VentasEEUU  VentasEU  VentasJP  VentasOtros  Ventas  \n",
       "0        Sports       41.49     29.02      3.77         8.46   82.74  \n",
       "1        Racing       15.85     12.88      3.79         3.31   35.82  \n",
       "2        Sports       15.75     11.01      3.28         2.96   33.00  \n",
       "3      Platform       11.38      9.23      6.50         2.90   30.01  \n",
       "4          Misc       14.03      9.20      2.93         2.85   29.02  \n",
       "...         ...         ...       ...       ...          ...     ...  \n",
       "16154  Platform        0.01      0.00      0.00         0.00    0.01  \n",
       "16155   Shooter        0.01      0.00      0.00         0.00    0.01  \n",
       "16156    Racing        0.00      0.00      0.00         0.00    0.01  \n",
       "16157    Puzzle        0.00      0.01      0.00         0.00    0.01  \n",
       "16158  Platform        0.01      0.00      0.00         0.00    0.01  \n",
       "\n",
       "[16159 rows x 9 columns]"
      ]
     },
     "execution_count": 2,
     "metadata": {},
     "output_type": "execute_result"
    }
   ],
   "source": [
    "juegos = pd.read_csv('Juegos.csv')\n",
    "juegos"
   ]
  },
  {
   "cell_type": "markdown",
   "metadata": {},
   "source": [
    "Respondemos ahora a:\n",
    "<font color=\"blue\"> \n",
    "* Coge la variable VentasEEUU, calcula los cuartiles y dibuja su boxplot. </font>"
   ]
  },
  {
   "cell_type": "code",
   "execution_count": 3,
   "metadata": {},
   "outputs": [
    {
     "data": {
      "text/plain": [
       "[0.0, 0.08, 0.23]"
      ]
     },
     "execution_count": 3,
     "metadata": {},
     "output_type": "execute_result"
    }
   ],
   "source": [
    "VentasEEUU=juegos[\"VentasEEUU\"]\n",
    "Q1=np.quantile(VentasEEUU,0.25)\n",
    "Q2=np.quantile(VentasEEUU,0.5)\n",
    "Q3=np.quantile(VentasEEUU,0.75)\n",
    "[Q1,Q2,Q3]"
   ]
  },
  {
   "cell_type": "code",
   "execution_count": 4,
   "metadata": {},
   "outputs": [
    {
     "data": {
      "image/png": "[encoded data removed]",
      "text/plain": [
       "<Figure size 432x288 with 1 Axes>"
      ]
     },
     "metadata": {
      "needs_background": "light"
     },
     "output_type": "display_data"
    }
   ],
   "source": [
    "plt.boxplot(VentasEEUU) \n",
    "plt.title('Boxplot o diagrama de caja-bigotes de VentasEEUU') \n",
    "plt.show()"
   ]
  },
  {
   "cell_type": "markdown",
   "metadata": {},
   "source": [
    "Para entender el boxplot (diagrama de caja y bigotes) quizás deberíamos cancular el rango intercuartílico y, a partir de él, los valores atípicos de VentasEEUU:"
   ]
  },
  {
   "cell_type": "code",
   "execution_count": 5,
   "metadata": {},
   "outputs": [
    {
     "data": {
      "text/plain": [
       "[-0.34500000000000003, 0.5750000000000001]"
      ]
     },
     "execution_count": 5,
     "metadata": {},
     "output_type": "execute_result"
    }
   ],
   "source": [
    "R=Q3-Q1\n",
    "R\n",
    "[o1,o2]=[Q1-1.5*R,Q3+1.5*R]\n",
    "[o1,o2]   # La \"o\" viene de \"outlier\", que es la forma inglesa de \"valor atípico\""
   ]
  },
  {
   "cell_type": "code",
   "execution_count": 6,
   "metadata": {},
   "outputs": [
    {
     "data": {
      "text/plain": [
       "0       41.49\n",
       "1       15.85\n",
       "2       15.75\n",
       "3       11.38\n",
       "4       14.03\n",
       "        ...  \n",
       "3051     0.58\n",
       "3064     0.59\n",
       "3067     0.59\n",
       "3088     0.58\n",
       "3113     0.58\n",
       "Name: VentasEEUU, Length: 1643, dtype: float64"
      ]
     },
     "execution_count": 6,
     "metadata": {},
     "output_type": "execute_result"
    }
   ],
   "source": [
    "VentasEEUU_atipicos = VentasEEUU[(VentasEEUU >= o2) | (VentasEEUU <= o1)]\n",
    "VentasEEUU_atipicos"
   ]
  },
  {
   "cell_type": "code",
   "execution_count": 7,
   "metadata": {},
   "outputs": [
    {
     "data": {
      "text/plain": [
       "124      0.07\n",
       "146      0.47\n",
       "194      0.00\n",
       "198      0.57\n",
       "200      0.28\n",
       "         ... \n",
       "16154    0.01\n",
       "16155    0.01\n",
       "16156    0.00\n",
       "16157    0.00\n",
       "16158    0.01\n",
       "Name: VentasEEUU, Length: 14516, dtype: float64"
      ]
     },
     "execution_count": 7,
     "metadata": {},
     "output_type": "execute_result"
    }
   ],
   "source": [
    "VentasEEUU_tipicos = VentasEEUU[(VentasEEUU >= o1) & (VentasEEUU <= o2)] \n",
    "VentasEEUU_tipicos"
   ]
  },
  {
   "cell_type": "markdown",
   "metadata": {},
   "source": [
    "Ahora respondemos a:\n",
    "    \n",
    "<font color=\"blue\"> \n",
    "*  Define la variable datos como los valores de VentasEEUU que estén entre 0.1 y 1.\n",
    "</font>\n"
   ]
  },
  {
   "cell_type": "code",
   "execution_count": 8,
   "metadata": {},
   "outputs": [
    {
     "data": {
      "text/plain": [
       "74       0.98\n",
       "101      0.78\n",
       "110      0.84\n",
       "113      0.79\n",
       "135      0.66\n",
       "         ... \n",
       "10123    0.10\n",
       "10137    0.10\n",
       "10140    0.10\n",
       "10157    0.10\n",
       "10354    0.10\n",
       "Name: VentasEEUU, Length: 6486, dtype: float64"
      ]
     },
     "execution_count": 8,
     "metadata": {},
     "output_type": "execute_result"
    }
   ],
   "source": [
    "datos = VentasEEUU[(VentasEEUU >= 0.1) & (VentasEEUU <= 1)]\n",
    "datos"
   ]
  },
  {
   "cell_type": "markdown",
   "metadata": {},
   "source": [
    "Ahora respondemos a:\n",
    "    \n",
    "<font color=\"blue\"> \n",
    "*  Calcula sus deciles y cuartiles.\n",
    "</font>"
   ]
  },
  {
   "cell_type": "code",
   "execution_count": 9,
   "metadata": {},
   "outputs": [
    {
     "data": {
      "text/plain": [
       "array([0.1, 0.2, 0.3, 0.4, 0.5, 0.6, 0.7, 0.8, 0.9])"
      ]
     },
     "execution_count": 9,
     "metadata": {},
     "output_type": "execute_result"
    }
   ],
   "source": [
    "np.arange(0.1,1,0.1)"
   ]
  },
  {
   "cell_type": "code",
   "execution_count": 10,
   "metadata": {},
   "outputs": [
    {
     "data": {
      "text/plain": [
       "array([0.11, 0.13, 0.16, 0.19, 0.23, 0.28, 0.35, 0.46, 0.63])"
      ]
     },
     "execution_count": 10,
     "metadata": {},
     "output_type": "execute_result"
    }
   ],
   "source": [
    "deciles=np.quantile(datos,np.arange(0.1,1,0.1))\n",
    "deciles "
   ]
  },
  {
   "cell_type": "code",
   "execution_count": 11,
   "metadata": {},
   "outputs": [
    {
     "data": {
      "text/plain": [
       "array([0.25, 0.5 , 0.75])"
      ]
     },
     "execution_count": 11,
     "metadata": {},
     "output_type": "execute_result"
    }
   ],
   "source": [
    "np.arange(0.25,1,0.25)"
   ]
  },
  {
   "cell_type": "code",
   "execution_count": 12,
   "metadata": {},
   "outputs": [
    {
     "data": {
      "text/plain": [
       "array([0.14, 0.23, 0.4 ])"
      ]
     },
     "execution_count": 12,
     "metadata": {},
     "output_type": "execute_result"
    }
   ],
   "source": [
    "cuartiles=np.quantile(datos,np.arange(0.25,1,0.25))\n",
    "cuartiles "
   ]
  },
  {
   "cell_type": "markdown",
   "metadata": {},
   "source": [
    "Ahora respondemos a:\n",
    "    \n",
    "<font color=\"blue\"> \n",
    "*  Calcula mediante su definición el rango intercuartílico.\n",
    "</font>"
   ]
  },
  {
   "cell_type": "code",
   "execution_count": 13,
   "metadata": {},
   "outputs": [
    {
     "data": {
      "text/plain": [
       "0.26"
      ]
     },
     "execution_count": 13,
     "metadata": {},
     "output_type": "execute_result"
    }
   ],
   "source": [
    "Q1,Q2,Q3=cuartiles\n",
    "R=Q3-Q1\n",
    "R"
   ]
  },
  {
   "cell_type": "markdown",
   "metadata": {},
   "source": [
    "Ahora respondemos a:\n",
    "    \n",
    "<font color=\"blue\"> \n",
    "*  Indica a partir de qué valores se considera que un dato es atípico.\n",
    "</font>\n",
    " \n",
    "\n",
    "Para ello, calculamos los valores extremos del intervalo que contiene los datos típicos:"
   ]
  },
  {
   "cell_type": "code",
   "execution_count": 14,
   "metadata": {},
   "outputs": [
    {
     "data": {
      "text/plain": [
       "[-0.25, 0.79]"
      ]
     },
     "execution_count": 14,
     "metadata": {},
     "output_type": "execute_result"
    }
   ],
   "source": [
    "[o1,o2]=[Q1-1.5*R,Q3+1.5*R]\n",
    "[o1,o2]   # La \"o\" viene de \"outlier\", que es la forma inglesa de \"valor atípico\""
   ]
  },
  {
   "cell_type": "markdown",
   "metadata": {},
   "source": [
    "Por tanto, los datos atípicos son los datos cuyo valores queda por debajo de o1 o por encima de o2. Los podemos filtrar:"
   ]
  },
  {
   "cell_type": "code",
   "execution_count": 15,
   "metadata": {},
   "outputs": [
    {
     "data": {
      "text/plain": [
       "74      0.98\n",
       "110     0.84\n",
       "170     0.96\n",
       "232     0.92\n",
       "245     0.88\n",
       "        ... \n",
       "2140    0.81\n",
       "2146    0.82\n",
       "2164    0.81\n",
       "2205    0.82\n",
       "2236    0.81\n",
       "Name: VentasEEUU, Length: 299, dtype: float64"
      ]
     },
     "execution_count": 15,
     "metadata": {},
     "output_type": "execute_result"
    }
   ],
   "source": [
    "datos_atipicos = datos[(datos < o1) | (datos > o2)] \n",
    "datos_atipicos"
   ]
  },
  {
   "cell_type": "code",
   "execution_count": 16,
   "metadata": {},
   "outputs": [
    {
     "data": {
      "text/plain": [
       "299"
      ]
     },
     "execution_count": 16,
     "metadata": {},
     "output_type": "execute_result"
    }
   ],
   "source": [
    "len(datos_atipicos)"
   ]
  },
  {
   "cell_type": "markdown",
   "metadata": {},
   "source": [
    "Ahora respondemos a:\n",
    "    \n",
    "<font color=\"blue\"> \n",
    "*  Dibuja el boxplot de datos explicando lo que representa.\n",
    "</font>"
   ]
  },
  {
   "cell_type": "code",
   "execution_count": 17,
   "metadata": {},
   "outputs": [
    {
     "data": {
      "image/png": "[encoded data removed]",
      "text/plain": [
       "<Figure size 432x288 with 1 Axes>"
      ]
     },
     "metadata": {
      "needs_background": "light"
     },
     "output_type": "display_data"
    }
   ],
   "source": [
    "plt.boxplot(datos) \n",
    "plt.title('Boxplot o diagrama de caja-bigotes de datos') \n",
    "plt.show()"
   ]
  },
  {
   "cell_type": "markdown",
   "metadata": {},
   "source": [
    "El rectángulo tiene como techo el tercer cuartil y como suelo el primer cuartil. La línea gruesa que atraviesa el rectángulo horizontalmente es la mediana. La línea vertical indica hasta dónde llegan los datos no atípicos. Cada dato atípico viene indicado con un círculo. \n",
    "\n",
    "Podemos también dibujar el histograma de los datos:"
   ]
  },
  {
   "cell_type": "code",
   "execution_count": 18,
   "metadata": {},
   "outputs": [
    {
     "data": {
      "image/png": "[encoded data removed]",
      "text/plain": [
       "<Figure size 432x288 with 1 Axes>"
      ]
     },
     "metadata": {
      "needs_background": "light"
     },
     "output_type": "display_data"
    }
   ],
   "source": [
    "plt.hist(datos, density=False)\n",
    "plt.show()"
   ]
  },
  {
   "cell_type": "markdown",
   "metadata": {},
   "source": [
    "<font color=\"blue\"> Se quiere partir los datos en tres categorías de modo que en la primera esté el 20 $\\%$ de los juegos menos vendidos, en la tercera el 20 $\\%$ de los más vendidos y los demás en la categoría dos. ¿Cómo puede hacerse? Comprueba que en la primera categoría hay aproximadamente un 20 $\\%$ de los datos ¿por qué no hay exactamente el 20 $\\%$?</font>\n",
    "\n",
    "\n",
    "<strong> Solución. </strong> Tenemos que partir los datos de la siguiente manera:\n",
    "\n",
    "\n",
    "\n",
    "#       20%        60%       20%\n",
    "#       ----|----------------|----\n",
    "#     cat1        cat 2             cat3\n"
   ]
  },
  {
   "cell_type": "code",
   "execution_count": 19,
   "metadata": {},
   "outputs": [],
   "source": [
    "cat1=np.quantile(datos,0.2)\n",
    "cat3=np.quantile(datos,0.8)\n",
    "datos_cat1=datos[(datos <= cat1)]\n",
    "datos_cat2=datos[(datos > cat1) & (datos < cat3)]\n",
    "datos_cat3=datos[(datos >= cat3)]"
   ]
  },
  {
   "cell_type": "markdown",
   "metadata": {},
   "source": [
    "Ahora comprobamos el tamaño de la primera categoría de datos filtrada, que debería ser del 20$\\%$:\n"
   ]
  },
  {
   "cell_type": "code",
   "execution_count": 20,
   "metadata": {},
   "outputs": [
    {
     "data": {
      "text/plain": [
       "0.2158495220474869"
      ]
     },
     "execution_count": 20,
     "metadata": {},
     "output_type": "execute_result"
    }
   ],
   "source": [
    "len(datos_cat1)/len(datos)"
   ]
  },
  {
   "cell_type": "markdown",
   "metadata": {},
   "source": [
    "Se obtiene un valor un poco por encima del 20$\\%$ porque muchos de los valores de datos$\\_$cat1 son iguales a cat1."
   ]
  },
  {
   "cell_type": "markdown",
   "metadata": {},
   "source": [
    "Ahora respondemos a:\n",
    "    \n",
    "<font color=\"blue\"> \n",
    "*  Dibuja los histogramas de las variables VentasEU, VentasEEUU, VentasOtros, filtradas previamente para que se consideren solo valores de las variables en el intervalo $]0.1, 1[$. Dibuja también un histograma de la variable Fecha.\n",
    "</font>"
   ]
  },
  {
   "cell_type": "code",
   "execution_count": 21,
   "metadata": {},
   "outputs": [
    {
     "data": {
      "image/png": "[encoded data removed]",
      "text/plain": [
       "<Figure size 432x288 with 1 Axes>"
      ]
     },
     "metadata": {
      "needs_background": "light"
     },
     "output_type": "display_data"
    }
   ],
   "source": [
    "VentasEU=juegos[\"VentasEU\"]\n",
    "Filtro2=VentasEU[(VentasEU > 0.1) & (VentasEU < 1)]\n",
    "plt.hist(Filtro2, density=False)\n",
    "plt.show()"
   ]
  },
  {
   "cell_type": "code",
   "execution_count": 22,
   "metadata": {},
   "outputs": [
    {
     "data": {
      "image/png": "[encoded data removed]",
      "text/plain": [
       "<Figure size 432x288 with 1 Axes>"
      ]
     },
     "metadata": {
      "needs_background": "light"
     },
     "output_type": "display_data"
    }
   ],
   "source": [
    "VentasEEUU=juegos[\"VentasEEUU\"]\n",
    "Filtro1=VentasEEUU[(VentasEEUU > 0.1) & (VentasEEUU < 1)]\n",
    "plt.hist(Filtro1, density=False)\n",
    "plt.show()"
   ]
  },
  {
   "cell_type": "code",
   "execution_count": 23,
   "metadata": {},
   "outputs": [
    {
     "data": {
      "image/png": "[encoded data removed]",
      "text/plain": [
       "<Figure size 432x288 with 1 Axes>"
      ]
     },
     "metadata": {
      "needs_background": "light"
     },
     "output_type": "display_data"
    }
   ],
   "source": [
    "VentasOtros=juegos[\"VentasOtros\"]\n",
    "Filtro3=VentasOtros[(VentasOtros > 0.1) & (VentasOtros < 1)]\n",
    "plt.hist(Filtro3, density=False)\n",
    "plt.show()"
   ]
  },
  {
   "cell_type": "code",
   "execution_count": 24,
   "metadata": {},
   "outputs": [
    {
     "name": "stderr",
     "output_type": "stream",
     "text": [
      "/opt/anaconda3/lib/python3.7/site-packages/numpy/lib/histograms.py:839: RuntimeWarning: invalid value encountered in greater_equal\n",
      "  keep = (tmp_a >= first_edge)\n",
      "/opt/anaconda3/lib/python3.7/site-packages/numpy/lib/histograms.py:840: RuntimeWarning: invalid value encountered in less_equal\n",
      "  keep &= (tmp_a <= last_edge)\n"
     ]
    },
    {
     "data": {
      "image/png": "[encoded data removed]",
      "text/plain": [
       "<Figure size 432x288 with 1 Axes>"
      ]
     },
     "metadata": {
      "needs_background": "light"
     },
     "output_type": "display_data"
    }
   ],
   "source": [
    "Fecha=juegos[\"Fecha\"]\n",
    "plt.hist(Fecha, density=False)\n",
    "plt.show()"
   ]
  },
  {
   "cell_type": "markdown",
   "metadata": {},
   "source": [
    "La advertencia que ha aparecido en la respuesta de Python a la orden anterior se debe a que hay entradas en Fecha con NaN (i.e., juegos que no tienen asignada una fecha). De hecho, podemos calcular cuántas veces sucede esto:"
   ]
  },
  {
   "cell_type": "code",
   "execution_count": 44,
   "metadata": {},
   "outputs": [
    {
     "data": {
      "text/plain": [
       "253"
      ]
     },
     "execution_count": 44,
     "metadata": {},
     "output_type": "execute_result"
    }
   ],
   "source": [
    "sum(Fecha.isna())"
   ]
  },
  {
   "cell_type": "markdown",
   "metadata": {},
   "source": [
    "<font color=\"blue\"> <strong> Ejercicio 2.</strong> Haz un estudio de los datos en VentasJP de aquellos datos que estén entre 0.5 y 1. Es decir: dibuja el histograma, calcula media y varianza, parte los datos en los grupos dados por el histograma, haz la tabla de todas las frecuencias de los datos partidos. Calcula los cuartiles, indica mediana, RIC y datos atípicos de los datos, dibuja el boxplot y comenta qué significa.</font>"
   ]
  },
  {
   "cell_type": "markdown",
   "metadata": {},
   "source": [
    "\n",
    "<strong>Solución.</strong>    \n",
    "Comenzamos filtrando los datos de VentasJP para considerar solo aquellos contenidos en el intervalo $]0.5,1[$:"
   ]
  },
  {
   "cell_type": "code",
   "execution_count": 26,
   "metadata": {},
   "outputs": [],
   "source": [
    "VentasJP=juegos[\"VentasJP\"]\n",
    "V_JP_S=VentasJP[(VentasJP>0.5)&(VentasJP<1)]"
   ]
  },
  {
   "cell_type": "markdown",
   "metadata": {},
   "source": [
    "Ahora dibujamos el histograma:"
   ]
  },
  {
   "cell_type": "code",
   "execution_count": 27,
   "metadata": {},
   "outputs": [
    {
     "data": {
      "image/png": "[encoded data removed]",
      "text/plain": [
       "<Figure size 432x288 with 1 Axes>"
      ]
     },
     "metadata": {
      "needs_background": "light"
     },
     "output_type": "display_data"
    }
   ],
   "source": [
    "plt.hist(V_JP_S, density=False)\n",
    "plt.show()"
   ]
  },
  {
   "cell_type": "markdown",
   "metadata": {},
   "source": [
    "Ahora calculamos la media y la varianza (como N es grande, prescindimos de multiplicar por (N-1)/N a la varianza calculada por Python, aunque aquí hago las dos cuentas para que se vea que no hay gran diferencia)"
   ]
  },
  {
   "cell_type": "code",
   "execution_count": 28,
   "metadata": {},
   "outputs": [
    {
     "data": {
      "text/plain": [
       "0.6927956989247315"
      ]
     },
     "execution_count": 28,
     "metadata": {},
     "output_type": "execute_result"
    }
   ],
   "source": [
    "np.mean(V_JP_S)"
   ]
  },
  {
   "cell_type": "code",
   "execution_count": 29,
   "metadata": {},
   "outputs": [
    {
     "data": {
      "text/plain": [
       "0.0188459475083825"
      ]
     },
     "execution_count": 29,
     "metadata": {},
     "output_type": "execute_result"
    }
   ],
   "source": [
    "np.var(V_JP_S) "
   ]
  },
  {
   "cell_type": "code",
   "execution_count": 30,
   "metadata": {},
   "outputs": [
    {
     "data": {
      "text/plain": [
       "0.018778399309427724"
      ]
     },
     "execution_count": 30,
     "metadata": {},
     "output_type": "execute_result"
    }
   ],
   "source": [
    "N=len(V_JP_S)\n",
    "np.var(V_JP_S)*(N-1)/N"
   ]
  },
  {
   "cell_type": "markdown",
   "metadata": {},
   "source": [
    "Ahora partimos los datos de acuerdo con el histograma:"
   ]
  },
  {
   "cell_type": "code",
   "execution_count": 31,
   "metadata": {},
   "outputs": [
    {
     "data": {
      "text/plain": [
       "array([0.51 , 0.558, 0.606, 0.654, 0.702, 0.75 , 0.798, 0.846, 0.894,\n",
       "       0.942, 0.99 ])"
      ]
     },
     "execution_count": 31,
     "metadata": {},
     "output_type": "execute_result"
    }
   ],
   "source": [
    "cortes=np.histogram(V_JP_S)[1]\n",
    "cortes"
   ]
  },
  {
   "cell_type": "code",
   "execution_count": 32,
   "metadata": {},
   "outputs": [
    {
     "data": {
      "text/plain": [
       "11       (0.942, 0.99]\n",
       "26      (0.606, 0.654]\n",
       "45      (0.798, 0.846]\n",
       "76      (0.654, 0.702]\n",
       "81       (0.942, 0.99]\n",
       "             ...      \n",
       "3604    (0.509, 0.558]\n",
       "3631    (0.509, 0.558]\n",
       "3641    (0.509, 0.558]\n",
       "3670    (0.509, 0.558]\n",
       "3672    (0.509, 0.558]\n",
       "Name: VentasJP, Length: 279, dtype: category\n",
       "Categories (10, interval[float64]): [(0.509, 0.558] < (0.558, 0.606] < (0.606, 0.654] < (0.654, 0.702] ... (0.798, 0.846] < (0.846, 0.894] < (0.894, 0.942] < (0.942, 0.99]]"
      ]
     },
     "execution_count": 32,
     "metadata": {},
     "output_type": "execute_result"
    }
   ],
   "source": [
    "V_JP_S_agrupados=pd.cut(\n",
    "    V_JP_S,\n",
    "    bins = cortes,\n",
    "    right=True,\n",
    "    include_lowest=True\n",
    ")\n",
    "V_JP_S_agrupados"
   ]
  },
  {
   "cell_type": "code",
   "execution_count": 33,
   "metadata": {},
   "outputs": [
    {
     "data": {
      "text/plain": [
       "(0.509, 0.558]    59\n",
       "(0.558, 0.606]    38\n",
       "(0.606, 0.654]    37\n",
       "(0.702, 0.75]     34\n",
       "(0.654, 0.702]    23\n",
       "(0.846, 0.894]    20\n",
       "(0.798, 0.846]    20\n",
       "(0.894, 0.942]    17\n",
       "(0.75, 0.798]     17\n",
       "(0.942, 0.99]     14\n",
       "Name: VentasJP, dtype: int64"
      ]
     },
     "execution_count": 33,
     "metadata": {},
     "output_type": "execute_result"
    }
   ],
   "source": [
    "counts = V_JP_S_agrupados.value_counts()\n",
    "counts"
   ]
  },
  {
   "cell_type": "code",
   "execution_count": 34,
   "metadata": {},
   "outputs": [
    {
     "data": {
      "image/png": "[encoded data removed]",
      "text/plain": [
       "<Figure size 432x288 with 1 Axes>"
      ]
     },
     "metadata": {
      "needs_background": "light"
     },
     "output_type": "display_data"
    }
   ],
   "source": [
    "counts.plot(kind='bar')\n",
    "plt.show()"
   ]
  },
  {
   "cell_type": "code",
   "execution_count": 35,
   "metadata": {},
   "outputs": [
    {
     "data": {
      "text/html": [
       "<div>\n",
       "<style scoped>\n",
       "    .dataframe tbody tr th:only-of-type {\n",
       "        vertical-align: middle;\n",
       "    }\n",
       "\n",
       "    .dataframe tbody tr th {\n",
       "        vertical-align: top;\n",
       "    }\n",
       "\n",
       "    .dataframe thead th {\n",
       "        text-align: right;\n",
       "    }\n",
       "</style>\n",
       "<table border=\"1\" class=\"dataframe\">\n",
       "  <thead>\n",
       "    <tr style=\"text-align: right;\">\n",
       "      <th></th>\n",
       "      <th>Frecuencia Absoluta</th>\n",
       "      <th>Frecuencia Relativa</th>\n",
       "      <th>Frec. Absoluta Acumulada</th>\n",
       "      <th>Frec. Relativa Acumulada</th>\n",
       "    </tr>\n",
       "  </thead>\n",
       "  <tbody>\n",
       "    <tr>\n",
       "      <th>(0.509, 0.558]</th>\n",
       "      <td>59</td>\n",
       "      <td>0.211470</td>\n",
       "      <td>59</td>\n",
       "      <td>0.211470</td>\n",
       "    </tr>\n",
       "    <tr>\n",
       "      <th>(0.558, 0.606]</th>\n",
       "      <td>38</td>\n",
       "      <td>0.136201</td>\n",
       "      <td>97</td>\n",
       "      <td>0.347670</td>\n",
       "    </tr>\n",
       "    <tr>\n",
       "      <th>(0.606, 0.654]</th>\n",
       "      <td>37</td>\n",
       "      <td>0.132616</td>\n",
       "      <td>134</td>\n",
       "      <td>0.480287</td>\n",
       "    </tr>\n",
       "    <tr>\n",
       "      <th>(0.702, 0.75]</th>\n",
       "      <td>34</td>\n",
       "      <td>0.121864</td>\n",
       "      <td>168</td>\n",
       "      <td>0.602151</td>\n",
       "    </tr>\n",
       "    <tr>\n",
       "      <th>(0.654, 0.702]</th>\n",
       "      <td>23</td>\n",
       "      <td>0.082437</td>\n",
       "      <td>191</td>\n",
       "      <td>0.684588</td>\n",
       "    </tr>\n",
       "    <tr>\n",
       "      <th>(0.846, 0.894]</th>\n",
       "      <td>20</td>\n",
       "      <td>0.071685</td>\n",
       "      <td>211</td>\n",
       "      <td>0.756272</td>\n",
       "    </tr>\n",
       "    <tr>\n",
       "      <th>(0.798, 0.846]</th>\n",
       "      <td>20</td>\n",
       "      <td>0.071685</td>\n",
       "      <td>231</td>\n",
       "      <td>0.827957</td>\n",
       "    </tr>\n",
       "    <tr>\n",
       "      <th>(0.894, 0.942]</th>\n",
       "      <td>17</td>\n",
       "      <td>0.060932</td>\n",
       "      <td>248</td>\n",
       "      <td>0.888889</td>\n",
       "    </tr>\n",
       "    <tr>\n",
       "      <th>(0.75, 0.798]</th>\n",
       "      <td>17</td>\n",
       "      <td>0.060932</td>\n",
       "      <td>265</td>\n",
       "      <td>0.949821</td>\n",
       "    </tr>\n",
       "    <tr>\n",
       "      <th>(0.942, 0.99]</th>\n",
       "      <td>14</td>\n",
       "      <td>0.050179</td>\n",
       "      <td>279</td>\n",
       "      <td>1.000000</td>\n",
       "    </tr>\n",
       "  </tbody>\n",
       "</table>\n",
       "</div>"
      ],
      "text/plain": [
       "                Frecuencia Absoluta  Frecuencia Relativa  \\\n",
       "(0.509, 0.558]                   59             0.211470   \n",
       "(0.558, 0.606]                   38             0.136201   \n",
       "(0.606, 0.654]                   37             0.132616   \n",
       "(0.702, 0.75]                    34             0.121864   \n",
       "(0.654, 0.702]                   23             0.082437   \n",
       "(0.846, 0.894]                   20             0.071685   \n",
       "(0.798, 0.846]                   20             0.071685   \n",
       "(0.894, 0.942]                   17             0.060932   \n",
       "(0.75, 0.798]                    17             0.060932   \n",
       "(0.942, 0.99]                    14             0.050179   \n",
       "\n",
       "                Frec. Absoluta Acumulada  Frec. Relativa Acumulada  \n",
       "(0.509, 0.558]                        59                  0.211470  \n",
       "(0.558, 0.606]                        97                  0.347670  \n",
       "(0.606, 0.654]                       134                  0.480287  \n",
       "(0.702, 0.75]                        168                  0.602151  \n",
       "(0.654, 0.702]                       191                  0.684588  \n",
       "(0.846, 0.894]                       211                  0.756272  \n",
       "(0.798, 0.846]                       231                  0.827957  \n",
       "(0.894, 0.942]                       248                  0.888889  \n",
       "(0.75, 0.798]                        265                  0.949821  \n",
       "(0.942, 0.99]                        279                  1.000000  "
      ]
     },
     "execution_count": 35,
     "metadata": {},
     "output_type": "execute_result"
    }
   ],
   "source": [
    "ni = counts\n",
    "fi = ni/len(V_JP_S)\n",
    "Ni=np.cumsum(ni)\n",
    "Fi=Ni/len(V_JP_S)\n",
    "tabla_frecuencias = pd.DataFrame(\n",
    "    {'Frecuencia Absoluta': ni, \n",
    "     'Frecuencia Relativa': fi, \n",
    "     'Frec. Absoluta Acumulada': Ni, \n",
    "     'Frec. Relativa Acumulada': Fi})\n",
    "tabla_frecuencias "
   ]
  },
  {
   "cell_type": "code",
   "execution_count": 36,
   "metadata": {},
   "outputs": [
    {
     "data": {
      "image/png": "[encoded data removed]",
      "text/plain": [
       "<Figure size 432x288 with 1 Axes>"
      ]
     },
     "metadata": {
      "needs_background": "light"
     },
     "output_type": "display_data"
    }
   ],
   "source": [
    "plt.boxplot(V_JP_S) \n",
    "plt.title('Boxplot o diagrama de caja-bigotes de V_JP_S') \n",
    "plt.show()"
   ]
  },
  {
   "cell_type": "code",
   "execution_count": 37,
   "metadata": {},
   "outputs": [
    {
     "data": {
      "text/plain": [
       "array([0.57, 0.66, 0.8 ])"
      ]
     },
     "execution_count": 37,
     "metadata": {},
     "output_type": "execute_result"
    }
   ],
   "source": [
    "cuartiles=np.quantile(V_JP_S,np.arange(0.25,1,0.25))\n",
    "cuartiles"
   ]
  },
  {
   "cell_type": "code",
   "execution_count": 38,
   "metadata": {},
   "outputs": [],
   "source": [
    "Q1,Q2,Q3=cuartiles"
   ]
  },
  {
   "cell_type": "code",
   "execution_count": 39,
   "metadata": {},
   "outputs": [
    {
     "data": {
      "text/plain": [
       "Series([], Name: VentasJP, dtype: float64)"
      ]
     },
     "execution_count": 39,
     "metadata": {},
     "output_type": "execute_result"
    }
   ],
   "source": [
    "R=Q3-Q1\n",
    "o1,o2=[Q1-1.5*R,Q3+1.5*R]\n",
    "datos_atipicos = V_JP_S[(V_JP_S < o1) | (V_JP_S > o2)] \n",
    "datos_atipicos"
   ]
  },
  {
   "cell_type": "code",
   "execution_count": 40,
   "metadata": {},
   "outputs": [
    {
     "data": {
      "text/plain": [
       "0"
      ]
     },
     "execution_count": 40,
     "metadata": {},
     "output_type": "execute_result"
    }
   ],
   "source": [
    "len(datos_atipicos)"
   ]
  }
 ],
 "metadata": {
  "kernelspec": {
   "display_name": "Python 3",
   "language": "python",
   "name": "python3"
  },
  "language_info": {
   "codemirror_mode": {
    "name": "ipython",
    "version": 3
   },
   "file_extension": ".py",
   "mimetype": "text/x-python",
   "name": "python",
   "nbconvert_exporter": "python",
   "pygments_lexer": "ipython3",
   "version": "3.7.6"
  }
 },
 "nbformat": 4,
 "nbformat_minor": 4
}
