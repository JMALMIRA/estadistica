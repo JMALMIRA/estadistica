{
 "cells": [
  {
   "cell_type": "markdown",
   "metadata": {},
   "source": [
    "\n",
    "<font color=\"blue\"> Ejercicio 1. Importa los datos del fichero \"Juegos2.dat\". Se pide:\n",
    "* Construye las tablas de contingencia de Genero respecto a Fecha de frecuencias conjuntas absolutas y relativas.\n",
    "  \n",
    "* Dibuja el diagrama de barras de esa tabla.\n",
    "*  Construye la tabla de frecuencias marginales.\n",
    "* Construye las tablas de frecuencias condicionadas.\n",
    "* Indica las siguientes frecuencias relativas:\n",
    "* Proporción de juegos de plataformas que se han hecho en 2003.\n",
    "* Proporción de juegos hechos en 2003.\n",
    "* Proporción de juegos de deportes.\n",
    "* Dentro de los juegos hechos en 2001, proporción de juegos de acción.\n",
    "*  Dentro de los juegos de deportes, proporción de juegos hechos entre 2002 y 2004.\n",
    "</font>\n"
   ]
  },
  {
   "cell_type": "code",
   "execution_count": 2,
   "metadata": {},
   "outputs": [],
   "source": [
    "import pandas as pd\n",
    "import numpy as np\n",
    "import matplotlib.pyplot as plt\n",
    "import seaborn as sns"
   ]
  },
  {
   "cell_type": "code",
   "execution_count": 16,
   "metadata": {},
   "outputs": [
    {
     "name": "stdout",
     "output_type": "stream",
     "text": [
      "                                    Nombre Plataforma  Fecha    Genero  \\\n",
      "18           Grand Theft Auto: San Andreas        PS2   2004    Action   \n",
      "25             Grand Theft Auto: Vice City        PS2   2002    Action   \n",
      "39                    Grand Theft Auto III        PS2   2001    Action   \n",
      "60                          Super Mario 64         DS   2004  Platform   \n",
      "91  Grand Theft Auto: Liberty City Stories        PSP   2005    Action   \n",
      "\n",
      "    VentasEEUU  VentasEU  VentasJP  VentasOtros  Ventas  \n",
      "18        9.43      0.40      0.41        10.57   20.81  \n",
      "25        8.41      5.49      0.47         1.78   16.15  \n",
      "39        6.99      4.51      0.30         1.30   13.10  \n",
      "60        5.08      3.11      1.25         0.98   10.42  \n",
      "91        2.90      2.83      0.24         1.75    7.72  \n"
     ]
    }
   ],
   "source": [
    "juegos2 = pd.read_csv('Juegos2.dat', delimiter=\" \")\n",
    "print(juegos2.head())"
   ]
  },
  {
   "cell_type": "code",
   "execution_count": 17,
   "metadata": {},
   "outputs": [],
   "source": [
    "juegos2.to_csv('Juegos2.csv', index=False)"
   ]
  },
  {
   "cell_type": "code",
   "execution_count": 18,
   "metadata": {},
   "outputs": [
    {
     "data": {
      "text/html": [
       "<div>\n",
       "<style scoped>\n",
       "    .dataframe tbody tr th:only-of-type {\n",
       "        vertical-align: middle;\n",
       "    }\n",
       "\n",
       "    .dataframe tbody tr th {\n",
       "        vertical-align: top;\n",
       "    }\n",
       "\n",
       "    .dataframe thead th {\n",
       "        text-align: right;\n",
       "    }\n",
       "</style>\n",
       "<table border=\"1\" class=\"dataframe\">\n",
       "  <thead>\n",
       "    <tr style=\"text-align: right;\">\n",
       "      <th></th>\n",
       "      <th>Nombre</th>\n",
       "      <th>Plataforma</th>\n",
       "      <th>Fecha</th>\n",
       "      <th>Genero</th>\n",
       "      <th>VentasEEUU</th>\n",
       "      <th>VentasEU</th>\n",
       "      <th>VentasJP</th>\n",
       "      <th>VentasOtros</th>\n",
       "      <th>Ventas</th>\n",
       "    </tr>\n",
       "  </thead>\n",
       "  <tbody>\n",
       "    <tr>\n",
       "      <th>0</th>\n",
       "      <td>Grand Theft Auto: San Andreas</td>\n",
       "      <td>PS2</td>\n",
       "      <td>2004</td>\n",
       "      <td>Action</td>\n",
       "      <td>9.43</td>\n",
       "      <td>0.40</td>\n",
       "      <td>0.41</td>\n",
       "      <td>10.57</td>\n",
       "      <td>20.81</td>\n",
       "    </tr>\n",
       "    <tr>\n",
       "      <th>1</th>\n",
       "      <td>Grand Theft Auto: Vice City</td>\n",
       "      <td>PS2</td>\n",
       "      <td>2002</td>\n",
       "      <td>Action</td>\n",
       "      <td>8.41</td>\n",
       "      <td>5.49</td>\n",
       "      <td>0.47</td>\n",
       "      <td>1.78</td>\n",
       "      <td>16.15</td>\n",
       "    </tr>\n",
       "    <tr>\n",
       "      <th>2</th>\n",
       "      <td>Grand Theft Auto III</td>\n",
       "      <td>PS2</td>\n",
       "      <td>2001</td>\n",
       "      <td>Action</td>\n",
       "      <td>6.99</td>\n",
       "      <td>4.51</td>\n",
       "      <td>0.30</td>\n",
       "      <td>1.30</td>\n",
       "      <td>13.10</td>\n",
       "    </tr>\n",
       "    <tr>\n",
       "      <th>3</th>\n",
       "      <td>Super Mario 64</td>\n",
       "      <td>DS</td>\n",
       "      <td>2004</td>\n",
       "      <td>Platform</td>\n",
       "      <td>5.08</td>\n",
       "      <td>3.11</td>\n",
       "      <td>1.25</td>\n",
       "      <td>0.98</td>\n",
       "      <td>10.42</td>\n",
       "    </tr>\n",
       "    <tr>\n",
       "      <th>4</th>\n",
       "      <td>Grand Theft Auto: Liberty City Stories</td>\n",
       "      <td>PSP</td>\n",
       "      <td>2005</td>\n",
       "      <td>Action</td>\n",
       "      <td>2.90</td>\n",
       "      <td>2.83</td>\n",
       "      <td>0.24</td>\n",
       "      <td>1.75</td>\n",
       "      <td>7.72</td>\n",
       "    </tr>\n",
       "    <tr>\n",
       "      <th>...</th>\n",
       "      <td>...</td>\n",
       "      <td>...</td>\n",
       "      <td>...</td>\n",
       "      <td>...</td>\n",
       "      <td>...</td>\n",
       "      <td>...</td>\n",
       "      <td>...</td>\n",
       "      <td>...</td>\n",
       "      <td>...</td>\n",
       "    </tr>\n",
       "    <tr>\n",
       "      <th>1636</th>\n",
       "      <td>Razor Freestyle Scooter</td>\n",
       "      <td>GBA</td>\n",
       "      <td>2001</td>\n",
       "      <td>Sports</td>\n",
       "      <td>0.01</td>\n",
       "      <td>0.00</td>\n",
       "      <td>0.00</td>\n",
       "      <td>0.00</td>\n",
       "      <td>0.01</td>\n",
       "    </tr>\n",
       "    <tr>\n",
       "      <th>1637</th>\n",
       "      <td>E.T. The Extra-Terrestrial</td>\n",
       "      <td>GBA</td>\n",
       "      <td>2001</td>\n",
       "      <td>Action</td>\n",
       "      <td>0.01</td>\n",
       "      <td>0.00</td>\n",
       "      <td>0.00</td>\n",
       "      <td>0.00</td>\n",
       "      <td>0.01</td>\n",
       "    </tr>\n",
       "    <tr>\n",
       "      <th>1638</th>\n",
       "      <td>Planet Monsters</td>\n",
       "      <td>GBA</td>\n",
       "      <td>2001</td>\n",
       "      <td>Action</td>\n",
       "      <td>0.01</td>\n",
       "      <td>0.00</td>\n",
       "      <td>0.00</td>\n",
       "      <td>0.00</td>\n",
       "      <td>0.01</td>\n",
       "    </tr>\n",
       "    <tr>\n",
       "      <th>1639</th>\n",
       "      <td>Woody Woodpecker in Crazy Castle 5</td>\n",
       "      <td>GBA</td>\n",
       "      <td>2002</td>\n",
       "      <td>Platform</td>\n",
       "      <td>0.01</td>\n",
       "      <td>0.00</td>\n",
       "      <td>0.00</td>\n",
       "      <td>0.00</td>\n",
       "      <td>0.01</td>\n",
       "    </tr>\n",
       "    <tr>\n",
       "      <th>1640</th>\n",
       "      <td>Spirits &amp; Spells</td>\n",
       "      <td>GBA</td>\n",
       "      <td>2003</td>\n",
       "      <td>Platform</td>\n",
       "      <td>0.01</td>\n",
       "      <td>0.00</td>\n",
       "      <td>0.00</td>\n",
       "      <td>0.00</td>\n",
       "      <td>0.01</td>\n",
       "    </tr>\n",
       "  </tbody>\n",
       "</table>\n",
       "<p>1641 rows × 9 columns</p>\n",
       "</div>"
      ],
      "text/plain": [
       "                                      Nombre Plataforma  Fecha    Genero  \\\n",
       "0              Grand Theft Auto: San Andreas        PS2   2004    Action   \n",
       "1                Grand Theft Auto: Vice City        PS2   2002    Action   \n",
       "2                       Grand Theft Auto III        PS2   2001    Action   \n",
       "3                             Super Mario 64         DS   2004  Platform   \n",
       "4     Grand Theft Auto: Liberty City Stories        PSP   2005    Action   \n",
       "...                                      ...        ...    ...       ...   \n",
       "1636                 Razor Freestyle Scooter        GBA   2001    Sports   \n",
       "1637              E.T. The Extra-Terrestrial        GBA   2001    Action   \n",
       "1638                         Planet Monsters        GBA   2001    Action   \n",
       "1639      Woody Woodpecker in Crazy Castle 5        GBA   2002  Platform   \n",
       "1640                        Spirits & Spells        GBA   2003  Platform   \n",
       "\n",
       "      VentasEEUU  VentasEU  VentasJP  VentasOtros  Ventas  \n",
       "0           9.43      0.40      0.41        10.57   20.81  \n",
       "1           8.41      5.49      0.47         1.78   16.15  \n",
       "2           6.99      4.51      0.30         1.30   13.10  \n",
       "3           5.08      3.11      1.25         0.98   10.42  \n",
       "4           2.90      2.83      0.24         1.75    7.72  \n",
       "...          ...       ...       ...          ...     ...  \n",
       "1636        0.01      0.00      0.00         0.00    0.01  \n",
       "1637        0.01      0.00      0.00         0.00    0.01  \n",
       "1638        0.01      0.00      0.00         0.00    0.01  \n",
       "1639        0.01      0.00      0.00         0.00    0.01  \n",
       "1640        0.01      0.00      0.00         0.00    0.01  \n",
       "\n",
       "[1641 rows x 9 columns]"
      ]
     },
     "execution_count": 18,
     "metadata": {},
     "output_type": "execute_result"
    }
   ],
   "source": [
    "# Cargar los datos del archivo 'Juegos2.dat'\n",
    "juegos = pd.read_csv('Juegos2.csv')\n",
    "juegos"
   ]
  },
  {
   "cell_type": "code",
   "execution_count": 19,
   "metadata": {},
   "outputs": [
    {
     "name": "stdout",
     "output_type": "stream",
     "text": [
      "Index(['Nombre', 'Plataforma', 'Fecha', 'Genero', 'VentasEEUU', 'VentasEU',\n",
      "       'VentasJP', 'VentasOtros', 'Ventas'],\n",
      "      dtype='object')\n"
     ]
    },
    {
     "data": {
      "text/plain": [
       "0         Action\n",
       "1         Action\n",
       "2         Action\n",
       "3       Platform\n",
       "4         Action\n",
       "          ...   \n",
       "1636      Sports\n",
       "1637      Action\n",
       "1638      Action\n",
       "1639    Platform\n",
       "1640    Platform\n",
       "Name: Genero, Length: 1641, dtype: object"
      ]
     },
     "execution_count": 19,
     "metadata": {},
     "output_type": "execute_result"
    }
   ],
   "source": [
    "# Mostrar las primeras filas del dataframe para ver su estructura\n",
    "#print(juegos2.head())\n",
    "print(juegos.columns)\n",
    "juegos['Genero']"
   ]
  },
  {
   "cell_type": "code",
   "execution_count": 20,
   "metadata": {},
   "outputs": [
    {
     "name": "stdout",
     "output_type": "stream",
     "text": [
      "Fecha     2001  2002  2003  2004  2005\n",
      "Genero                                \n",
      "Action      64   125   144   125   192\n",
      "Platform    41    77    87    66    83\n",
      "Sports      96   188   125   106   122\n"
     ]
    }
   ],
   "source": [
    "# (a) Construir las tablas de contingencia de Genero respecto a Fecha\n",
    "n_ij = pd.crosstab(juegos['Genero'], juegos['Fecha'])\n",
    "print(n_ij)"
   ]
  },
  {
   "cell_type": "code",
   "execution_count": 21,
   "metadata": {},
   "outputs": [
    {
     "name": "stdout",
     "output_type": "stream",
     "text": [
      "Fecha         2001      2002      2003      2004      2005\n",
      "Genero                                                    \n",
      "Action    0.039001  0.076173  0.087751  0.076173  0.117002\n",
      "Platform  0.024985  0.046923  0.053016  0.040219  0.050579\n",
      "Sports    0.058501  0.114564  0.076173  0.064595  0.074345\n"
     ]
    }
   ],
   "source": [
    "# Calcular las frecuencias relativas conjuntas\n",
    "f_ij = n_ij / n_ij.sum().sum()\n",
    "print(f_ij)"
   ]
  },
  {
   "cell_type": "code",
   "execution_count": 22,
   "metadata": {},
   "outputs": [
    {
     "data": {
      "image/png": "[encoded data removed]",
      "text/plain": [
       "<Figure size 432x288 with 1 Axes>"
      ]
     },
     "metadata": {
      "needs_background": "light"
     },
     "output_type": "display_data"
    }
   ],
   "source": [
    "# (b) Dibujar el diagrama de barras\n",
    "n_ij.plot(kind='bar', stacked=True)\n",
    "plt.title('Diagrama de barras de Frecuencias Conjuntas de Genero vs Fecha')\n",
    "plt.ylabel('Frecuencia')\n",
    "plt.show()"
   ]
  },
  {
   "cell_type": "code",
   "execution_count": 23,
   "metadata": {},
   "outputs": [
    {
     "name": "stdout",
     "output_type": "stream",
     "text": [
      "Genero\n",
      "Action      650\n",
      "Platform    354\n",
      "Sports      637\n",
      "dtype: int64\n"
     ]
    }
   ],
   "source": [
    "# (c) Construir la tabla de frecuencias marginales\n",
    "marginales_absolutas = n_ij.sum(axis=1)  # Marginales por filas (Genero)\n",
    "print(marginales_absolutas)"
   ]
  },
  {
   "cell_type": "code",
   "execution_count": 24,
   "metadata": {},
   "outputs": [
    {
     "name": "stdout",
     "output_type": "stream",
     "text": [
      "Genero\n",
      "Action      0.396100\n",
      "Platform    0.215722\n",
      "Sports      0.388178\n",
      "dtype: float64\n"
     ]
    }
   ],
   "source": [
    "marginales_relativas = n_ij.sum(axis=1) / n_ij.sum().sum()  # Relativas por filas\n",
    "print(marginales_relativas)"
   ]
  },
  {
   "cell_type": "code",
   "execution_count": 25,
   "metadata": {},
   "outputs": [
    {
     "name": "stdout",
     "output_type": "stream",
     "text": [
      "Fecha         2001      2002      2003      2004      2005\n",
      "Genero                                                    \n",
      "Action    0.318408  0.320513  0.404494  0.420875  0.483627\n",
      "Platform  0.203980  0.197436  0.244382  0.222222  0.209068\n",
      "Sports    0.477612  0.482051  0.351124  0.356902  0.307305\n"
     ]
    }
   ],
   "source": [
    "# (d) Tablas de frecuencias condicionadas\n",
    "\n",
    "# Frecuencias condicionadas por columnas (Genero condicionado a Fecha)\n",
    "cond_columnas = n_ij.div(n_ij.sum(axis=0), axis=1)\n",
    "print(cond_columnas)"
   ]
  },
  {
   "cell_type": "code",
   "execution_count": 27,
   "metadata": {},
   "outputs": [
    {
     "name": "stdout",
     "output_type": "stream",
     "text": [
      "Fecha          2001       2002       2003       2004       2005\n",
      "Genero                                                         \n",
      "Action    31.840796  32.051282  40.449438  42.087542  48.362720\n",
      "Platform  20.398010  19.743590  24.438202  22.222222  20.906801\n",
      "Sports    47.761194  48.205128  35.112360  35.690236  30.730479\n"
     ]
    }
   ],
   "source": [
    "\n",
    "# Mostrar frecuencias condicionadas por columnas en porcentaje\n",
    "cond_columnas_percent = cond_columnas * 100\n",
    "print(cond_columnas_percent)\n"
   ]
  },
  {
   "cell_type": "code",
   "execution_count": 28,
   "metadata": {},
   "outputs": [
    {
     "name": "stdout",
     "output_type": "stream",
     "text": [
      "Fecha         2001      2002      2003      2004      2005\n",
      "Genero                                                    \n",
      "Action    0.098462  0.192308  0.221538  0.192308  0.295385\n",
      "Platform  0.115819  0.217514  0.245763  0.186441  0.234463\n",
      "Sports    0.150706  0.295133  0.196232  0.166405  0.191523\n"
     ]
    }
   ],
   "source": [
    "# Frecuencias condicionadas por filas (Fecha condicionada a Genero)\n",
    "cond_filas = n_ij.div(n_ij.sum(axis=1), axis=0)\n",
    "print(cond_filas)"
   ]
  },
  {
   "cell_type": "code",
   "execution_count": 29,
   "metadata": {},
   "outputs": [
    {
     "name": "stdout",
     "output_type": "stream",
     "text": [
      "Fecha          2001       2002       2003       2004       2005\n",
      "Genero                                                         \n",
      "Action     9.846154  19.230769  22.153846  19.230769  29.538462\n",
      "Platform  11.581921  21.751412  24.576271  18.644068  23.446328\n",
      "Sports    15.070644  29.513344  19.623234  16.640502  19.152276\n"
     ]
    }
   ],
   "source": [
    "# Mostrar frecuencias condicionadas por filas en porcentaje\n",
    "cond_filas_percent = cond_filas * 100\n",
    "print(cond_filas_percent)"
   ]
  },
  {
   "cell_type": "code",
   "execution_count": 30,
   "metadata": {},
   "outputs": [
    {
     "name": "stdout",
     "output_type": "stream",
     "text": [
      "Proporción de juegos de plataformas que se han hecho en 2003: 5.301645338208409%\n"
     ]
    }
   ],
   "source": [
    "# (e) Frecuencias relativas:\n",
    "\n",
    "# Proporción de juegos de plataformas que se han hecho en 2003\n",
    "prop_plataformas_2003 = f_ij.loc['Platform', 2003] * 100\n",
    "print(f'Proporción de juegos de plataformas que se han hecho en 2003: {prop_plataformas_2003}%')"
   ]
  },
  {
   "cell_type": "code",
   "execution_count": 31,
   "metadata": {},
   "outputs": [
    {
     "name": "stdout",
     "output_type": "stream",
     "text": [
      "Proporción de juegos hechos en 2003: 21.694088970140157%\n"
     ]
    }
   ],
   "source": [
    "# Proporción de juegos hechos en 2003\n",
    "prop_juegos_2003 = f_ij.loc[:, 2003].sum() * 100\n",
    "print(f'Proporción de juegos hechos en 2003: {prop_juegos_2003}%')"
   ]
  },
  {
   "cell_type": "code",
   "execution_count": 32,
   "metadata": {},
   "outputs": [
    {
     "name": "stdout",
     "output_type": "stream",
     "text": [
      "Proporción de juegos de deportes: 38.81779402803169%\n"
     ]
    }
   ],
   "source": [
    "\n",
    "# Proporción de juegos de deportes\n",
    "prop_deportes = f_ij.loc['Sports', :].sum() * 100\n",
    "print(f'Proporción de juegos de deportes: {prop_deportes}%')"
   ]
  },
  {
   "cell_type": "code",
   "execution_count": 33,
   "metadata": {},
   "outputs": [
    {
     "name": "stdout",
     "output_type": "stream",
     "text": [
      "Proporción de juegos de acción hechos en 2001: 31.8407960199005%\n"
     ]
    }
   ],
   "source": [
    "# Dentro de los juegos hechos en 2001, proporción de juegos de acción\n",
    "prop_accion_2001 = cond_columnas.loc['Action', 2001] * 100\n",
    "print(f'Proporción de juegos de acción hechos en 2001: {prop_accion_2001}%')"
   ]
  },
  {
   "cell_type": "code",
   "execution_count": 34,
   "metadata": {},
   "outputs": [
    {
     "name": "stdout",
     "output_type": "stream",
     "text": [
      "Proporción de juegos de deportes hechos entre 2002 y 2004: 65.77708006279434%\n"
     ]
    }
   ],
   "source": [
    "# Dentro de los juegos de deportes, proporción de juegos hechos entre 2002 y 2004\n",
    "prop_deportes_2002_2004 = cond_filas.loc['Sports', 2002:2004].sum() * 100\n",
    "print(f'Proporción de juegos de deportes hechos entre 2002 y 2004: {prop_deportes_2002_2004}%')\n"
   ]
  },
  {
   "cell_type": "code",
   "execution_count": 35,
   "metadata": {},
   "outputs": [
    {
     "name": "stdout",
     "output_type": "stream",
     "text": [
      "col_0   Castaño  Moreno  Rubio\n",
      "row_0                         \n",
      "Hombre       12       8      5\n",
      "Mujer        20      10     25\n"
     ]
    }
   ],
   "source": [
    "# Ejercicio 2: Construcción de la tabla de contingencia\n",
    "gen = ['Hombre', 'Hombre', 'Hombre', 'Mujer', 'Mujer', 'Mujer']\n",
    "pelo = ['Castaño', 'Moreno', 'Rubio', 'Castaño', 'Moreno', 'Rubio']\n",
    "frec = [12, 8, 5, 20, 10, 25]\n",
    "\n",
    "# Construir la tabla de contingencia\n",
    "tabla_contingencia = pd.crosstab(pd.Series(gen), pd.Series(pelo), values=frec, aggfunc='sum')\n",
    "print(tabla_contingencia)\n"
   ]
  },
  {
   "cell_type": "code",
   "execution_count": 36,
   "metadata": {},
   "outputs": [
    {
     "name": "stdout",
     "output_type": "stream",
     "text": [
      "count    38.000000\n",
      "mean      0.825000\n",
      "std       0.260776\n",
      "min       0.510000\n",
      "25%       0.555000\n",
      "50%       0.830000\n",
      "75%       1.032500\n",
      "max       1.390000\n",
      "Name: VentasJP, dtype: float64\n"
     ]
    },
    {
     "data": {
      "image/png": "[encoded data removed]",
      "text/plain": [
       "<Figure size 432x288 with 1 Axes>"
      ]
     },
     "metadata": {
      "needs_background": "light"
     },
     "output_type": "display_data"
    },
    {
     "name": "stdout",
     "output_type": "stream",
     "text": [
      "count    15.000000\n",
      "mean      0.815333\n",
      "std       0.212901\n",
      "min       0.510000\n",
      "25%       0.670000\n",
      "50%       0.830000\n",
      "75%       0.985000\n",
      "max       1.130000\n",
      "Name: VentasJP, dtype: float64\n"
     ]
    },
    {
     "data": {
      "image/png": "[encoded data removed]",
      "text/plain": [
       "<Figure size 432x288 with 1 Axes>"
      ]
     },
     "metadata": {
      "needs_background": "light"
     },
     "output_type": "display_data"
    },
    {
     "data": {
      "image/png": "[encoded data removed]",
      "text/plain": [
       "<Figure size 720x432 with 1 Axes>"
      ]
     },
     "metadata": {
      "needs_background": "light"
     },
     "output_type": "display_data"
    }
   ],
   "source": [
    "\n",
    "# Ejercicio 3: Análisis de las VentasJP mayores que 0.5\n",
    "VentasJP = juegos2['VentasJP']\n",
    "\n",
    "# (a) Sumario y histograma para VentasJP > 0.5\n",
    "VentasJP_0_5 = VentasJP[VentasJP > 0.5]\n",
    "print(VentasJP_0_5.describe())\n",
    "\n",
    "# Histograma\n",
    "plt.hist(VentasJP_0_5, bins=20, color='blue', alpha=0.7)\n",
    "plt.title('Histograma de VentasJP > 0.5')\n",
    "plt.xlabel('VentasJP')\n",
    "plt.ylabel('Frecuencia')\n",
    "plt.show()\n",
    "\n",
    "# (b) Repetir para los datos de juegos de Acción\n",
    "juegos_accion = juegos2[juegos2['Genero'] == 'Action']\n",
    "VentasJP_accion = juegos_accion['VentasJP'][juegos_accion['VentasJP'] > 0.5]\n",
    "print(VentasJP_accion.describe())\n",
    "\n",
    "# Histograma\n",
    "plt.hist(VentasJP_accion, bins=20, color='green', alpha=0.7)\n",
    "plt.title('Histograma de VentasJP para juegos de Acción > 0.5')\n",
    "plt.xlabel('VentasJP')\n",
    "plt.ylabel('Frecuencia')\n",
    "plt.show()\n",
    "\n",
    "# (c) Boxplot dependiendo del género\n",
    "plt.figure(figsize=(10, 6))\n",
    "sns.boxplot(x='Genero', y='VentasJP', data=juegos2)\n",
    "plt.title('Boxplot de VentasJP dependiendo del Género')\n",
    "plt.show()\n"
   ]
  },
  {
   "cell_type": "code",
   "execution_count": null,
   "metadata": {},
   "outputs": [],
   "source": []
  }
 ],
 "metadata": {
  "kernelspec": {
   "display_name": "Python 3",
   "language": "python",
   "name": "python3"
  },
  "language_info": {
   "codemirror_mode": {
    "name": "ipython",
    "version": 3
   },
   "file_extension": ".py",
   "mimetype": "text/x-python",
   "name": "python",
   "nbconvert_exporter": "python",
   "pygments_lexer": "ipython3",
   "version": "3.7.6"
  }
 },
 "nbformat": 4,
 "nbformat_minor": 4
}
