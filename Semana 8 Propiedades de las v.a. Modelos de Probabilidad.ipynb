{
 "cells": [
  {
   "cell_type": "markdown",
   "metadata": {},
   "source": [
    "<h2> Propiedades de las v.a. Modelos de Probabilidad. </h2>"
   ]
  },
  {
   "cell_type": "markdown",
   "metadata": {},
   "source": [
    "Comencemos explicando algunas propiedades generales de las v.a. \n",
    "\n",
    "Sean $X,Y$ v.a. Se verifican las siguientes propiedades: \n",
    "\n",
    "* $E(X+Y)=E(X)+E(Y)$\n",
    "* $E(\\alpha X)=\\alpha E(X)$\n",
    "* Si la v.a. es continua, y $h(x)$ es una función, entonces  $E(h(X)) = \\int_{-\\infty}^{\\infty} h(x)f_X(x)dx$. \n",
    "* Si la v.a. $X$ es discreta con $X(\\Omega)=\\{x_k\\}_{k=0}^{\\infty}$, entonces \n",
    "$E(h(X))=\\sum_{k=0}^{\\infty} h(x_k)P(X=x_k)$.\n",
    "\n",
    "Recordemos que la varianza y la covarianza están definidas como sigue:\n",
    "$$V(X)=E((X-E(X))^2), \\quad Cov(X,Y)= E((X-E(X))(Y-E(Y)))$$\n",
    "Se tiene que:\n",
    "* $$V(X)= E(X^2)-E(X)^2$$\n",
    "* $$Cov(X,Y)=E(XY)-E(X)E(Y)$$\n",
    "\n",
    "Además:\n",
    "* Si $\\alpha$ es un número real, entonces $V(\\alpha X)=\\alpha^2 V(X)$\n",
    "\n",
    "\n",
    "<strong> Definición </strong> Las v.a. $X,Y$ son independientes si:\n",
    "\n",
    "* (Caso discreto) Si las v.a. son ambas discretas....: $$P(X=x_k,Y=y_s)=P(X=x_k)P(Y=y_s)$$\n",
    "\n",
    "* (Caso continuo) Si las v.a. son ambas continuas....: $$F_{X,Y}(t,s)=P(X\\leq t,Y\\leq s)=P(X\\leq t)P(Y\\leq s)=F_X(t)F_Y(s)$$\n",
    "\n",
    "\n",
    "\n",
    "<strong> Proposición </strong> Si las v.a. $X,Y$ son independientes, entonces $V(X+Y)=V(X)+V(Y)$ y $Cov(X,Y)=0$.</strong>\n",
    "\n",
    "\n",
    "\n"
   ]
  },
  {
   "cell_type": "markdown",
   "metadata": {},
   "source": [
    "<h3> Desigualdad de Tchebychev, Ley débil de los grandes números, y el enfoque frecuentista</h3>\n",
    "\n",
    "El siguiente teorema, aunque fácil de demostrar, es muy importante porque nos revela el papel fundamental que tiene la desviación típica para medir lo buena o mala que es la media de una v.a. como resumen del comportamiento de la variable: \n",
    "\n",
    "<font color=\"blue\"> <strong> Teorema (Desigualdad de Tchebychev) </strong> \n",
    "Supongamos que $E(X)=\\mu$, $V(X)=\\sigma^2$ son finitas. Entonces \n",
    "$$\n",
    "P(|X-\\mu|\\geq a)\\leq \\frac{\\sigma^2}{a^2}\n",
    "$$\n",
    "En particular, si $a=k\\sigma$, $$P(|X-\\mu|\\geq k\\sigma)\\leq \\frac{1}{k^2}$$ </font>\n",
    "\n",
    "Así, por ejemplo, la probabilidad de que el valor observado de la v.a. X se aleja de $\\mu$ más de 4 veces su desviación típica -independientemente de qué tipo de v.a. sea $X$- siempre es inferior a $1/16=0.0625$, un $6.25\\%$. \n",
    "\n",
    "<strong>Demostración </strong> Tomemos $$Y=\\left\\{ \\begin{array}{llll}a^2 & \\text{ si } |X-\\mu|\\geq a \\\\ 0 & \\text{resto de casos} \\end{array}\\right.$$\n",
    "  Entonces $Y\\leq (X-\\mu)^2$ y por tanto $E(Y)\\leq E((X-\\mu)^2)=\\sigma^2$. Ahora bien,\n",
    "  $$E(Y)=a^2P(Y=a^2)+0\\cdot P(Y=0)=a^2P(|X-\\mu|\\geq a).$$ Por tanto,\n",
    " $$ P(|X-\\mu|\\geq a)\\leq \\frac{\\sigma^2}{a^2}$$\n",
    " \n",
    " \n",
    "La desigualdad de Tchebychev es también una pieza clave en la demostración de la ley débil de los grandes números, que es un teorema fundamental para los frecuentistas:\n",
    " \n",
    "<strong> Teorema (Ley débil de los grandes números)</strong> Sea $X_1,X_2,,\\cdots $ una sucesión de v.a. independientes  idénticamente distribuidas con esperanza $\\mu$ y varianza $\\sigma^2$ finitas. Sea $M_n=\\frac{X_1+\\cdots+X_n}{n}$. Entonces, para cada $\\varepsilon>0$, se tiene que\n",
    "$$lim_{n\\to\\infty}P(|M_n-\\mu|\\geq \\varepsilon)=0$$\n",
    "\n",
    "\n",
    "<strong> Demostración </strong>  Es evidente que $E(M_n)=\\mu$ y $V(M_n)=\\frac{\\sigma^2}{n}$ son ambas finitas. Aplicando la desigualdad de Tchebychev, tendremos que:\n",
    " $$P(|M_n-\\mu|\\geq \\varepsilon)\\leq \\frac{\\sigma^2/n}{\\varepsilon^2}=\\frac{1}{n}\\frac{\\sigma^2}{\\varepsilon^2},$$\n",
    " que tiende a $0$ cuando $n\\to\\infty$.\n",
    " \n",
    "\n",
    "Supongamos que podemos repetir el mismo experimento $\\mathcal{E}$ tantas veces como queramos, en idénticas condiciones, y de forma independiente. Supongamos que estamos interesados en conocer $P(A)$, donde $A$ es uno de los sucesos posibles del experiemento (es decir, $A\\in \\Sigma$). Definimos la v.a. $X_n$ como sigue:\n",
    "$$X_n=\\left\\{\\begin{array}{lll} 1 & \\text{ si  se produce el suceso A}\\\\ 0& \\text{en otro caso}\\end{array}\\right.$$\n",
    "Entonces $E(X_n)=1\\cdot P(A)+0\\cdot P(A^c)=P(A)$ y $V(X_n)=E(X_n^2)-E(X_n)^2=P(A)-P(A)^2=P(A)(1-P(A))$, de modo que todas las v.a. $X_n$ comparten la misma esperanza y también comparten la misma varianza, ambas finitas. Y, además, son v.a. independientes. Esto significa que podemos aplicar a esta sucesión de v.a. la Ley débil de los grandes números.  \n",
    "\n",
    "Ahora bien, la v.a. $M_n=\\frac{X_1+\\cdots+X_n}{n}$ representa la frecuencia relativa con la que hemos observado -tras repetir $n$ veces el experimento $\\mathcal{E}$- el suceso $A$, y la Ley débil de los grandes números (que acabamos de probar) garantiza que, por muy pequeño que tomemos $\\varepsilon>0$,  la probabilidad $P(|M_n-P(A)|\\geq \\varepsilon)=P(|M_n-\\mu|\\geq \\varepsilon)$ tiende a $0$ cuando $n$ tiende a infinito. Es decir, $M_n$ debe ser una buena estimación de $P(A)$ para $n$ grande. ¡La base del frecuentismo!\n",
    "\n",
    "\n",
    "\n",
    " "
   ]
  },
  {
   "cell_type": "markdown",
   "metadata": {},
   "source": [
    "<h2> Modelos de probabilidad </h2>\n",
    "\n",
    "Aunque la definición de v.a. permite construir funciones de distribución bastante arbitrarias (de hecho, hay una infinidad de posibles funciones de distribución diferentes, tanto para v.a. discretas como continuas), lo cierto es que en el mundo real (en la Naturaleza) hay unos pocos modelos de función de distribución que aparecen de forma pertinaz, insistentemente, en todo tipo de situaciones. Vamos a mostrar algunos de estos modelos porque son utilizados con frecuencia y representan la base sobre la que se apoya, en gran medida, la Estadística. \n",
    "\n",
    "Una forma sencilla de comprobar que los datos generados tomando muestras de una v.a. $X$ realmente se ajustan al comportamiento teórico de la variable, es construir los diagramas Q-Q. Estos consisten en lo siguiente: Se calculan los deciles de la v.a $X$ (teniendo en cuenta su distribución de probabilidad $F_X$) $DT_1,DT_2,\\cdots, DT_9$. A continuación, se calculan los deciles de los datos obtenidos (las muestras): $DM_1,DM_2,\\cdots, DM_9$. Si los datos se han tomado de la v.a. $X$, los puntos $(DT_k,DM_k)$ deben estar sobre la recta $y=x$ del plano $OXY$. El diagrama Q-Q se obtiene precisamente dibujando en el mismo gráfico estos puntos y la diagonal. \n",
    "\n",
    "<h3> Variables discretas </h3>\n",
    "\n",
    "* <strong> Variable de Bernoulli</strong>\n",
    "\n",
    "Sea $0<p<1$. Entonces $X\\sim \\mathbf{Be}(p)$ si $X(\\Omega)=\\{0,1\\}$, $P(X=1)=p$, $P(X=0)=q=1-p$.\n",
    "\n",
    "<font color=\"brown\"> Esta v.a. se usa para indicar, cuando realizamos un experimento aleatorio $\\mathcal{E}$, si se ha producido un evento $A$ (lo cual consideramos un éxito y anotamos como $X=1$) o no (un fracaso, lo anotamos como $X=0$). </font> \n",
    "\n",
    "Veamos cómo se usa esta v.a. con Python. Necesitamos cargar algunas librerías:"
   ]
  },
  {
   "cell_type": "code",
   "execution_count": 1,
   "metadata": {},
   "outputs": [],
   "source": [
    "import pandas as pd\n",
    "import numpy as np\n",
    "import random\n",
    "import matplotlib.pyplot as plt\n",
    "\n",
    "### Antes de ejecutar esto, es necesario hacer \n",
    "## pip install empiricaldist \n",
    "## en Terminal\n",
    "from empiricaldist import Pmf"
   ]
  },
  {
   "cell_type": "code",
   "execution_count": 2,
   "metadata": {},
   "outputs": [],
   "source": [
    "from scipy.stats import bernoulli"
   ]
  },
  {
   "cell_type": "markdown",
   "metadata": {},
   "source": [
    "Lo más sencillo es definir la v.a. directamente:"
   ]
  },
  {
   "cell_type": "code",
   "execution_count": 3,
   "metadata": {},
   "outputs": [],
   "source": [
    "# Parameters\n",
    "p = 0.7  # Probability of success\n",
    "X = bernoulli(p=0.7)"
   ]
  },
  {
   "cell_type": "markdown",
   "metadata": {},
   "source": [
    "Ahora podemos calcular los valores de su pmf y su cdf directamente:"
   ]
  },
  {
   "cell_type": "code",
   "execution_count": 4,
   "metadata": {},
   "outputs": [
    {
     "data": {
      "text/plain": [
       "[0.30000000000000004, 0.7]"
      ]
     },
     "execution_count": 4,
     "metadata": {},
     "output_type": "execute_result"
    }
   ],
   "source": [
    "[X.pmf(0),X.pmf(1)]"
   ]
  },
  {
   "cell_type": "code",
   "execution_count": 5,
   "metadata": {},
   "outputs": [
    {
     "data": {
      "text/plain": [
       "[0.30000000000000004, 1.0]"
      ]
     },
     "execution_count": 5,
     "metadata": {},
     "output_type": "execute_result"
    }
   ],
   "source": [
    "[X.cdf(0),X.cdf(1)]"
   ]
  },
  {
   "cell_type": "markdown",
   "metadata": {},
   "source": [
    "Y, por supuesto, podemos generar una muestra aleatoria simple del tamaño que deseemos de la v.a. $X$:"
   ]
  },
  {
   "cell_type": "code",
   "execution_count": 6,
   "metadata": {},
   "outputs": [
    {
     "name": "stdout",
     "output_type": "stream",
     "text": [
      "[1 1 1 1 1 1 1 1 0 0 0 0 1 1 1 1 1 1 1 1 0 1 1 1 1 0 1 1 0 1 1 1 0 1 1 1 1\n",
      " 1 1 1 1 1 0 1 0 1 1 1 1 0]\n"
     ]
    }
   ],
   "source": [
    "print(X.rvs(50))"
   ]
  },
  {
   "cell_type": "markdown",
   "metadata": {},
   "source": [
    "Y calcular la media y la varianza de la variable:"
   ]
  },
  {
   "cell_type": "code",
   "execution_count": 13,
   "metadata": {},
   "outputs": [
    {
     "data": {
      "text/plain": [
       "0.7"
      ]
     },
     "execution_count": 13,
     "metadata": {},
     "output_type": "execute_result"
    }
   ],
   "source": [
    "X.mean()"
   ]
  },
  {
   "cell_type": "code",
   "execution_count": 14,
   "metadata": {},
   "outputs": [
    {
     "data": {
      "text/plain": [
       "0.21000000000000002"
      ]
     },
     "execution_count": 14,
     "metadata": {},
     "output_type": "execute_result"
    }
   ],
   "source": [
    "X.var()"
   ]
  },
  {
   "cell_type": "markdown",
   "metadata": {},
   "source": [
    "Veamos cómo se dibujan las pmf y cdf de la variable:"
   ]
  },
  {
   "cell_type": "code",
   "execution_count": 15,
   "metadata": {},
   "outputs": [
    {
     "data": {
      "image/png": "[encoded data removed]",
      "text/plain": [
       "<Figure size 720x432 with 2 Axes>"
      ]
     },
     "metadata": {
      "needs_background": "light"
     },
     "output_type": "display_data"
    }
   ],
   "source": [
    "# Parameters\n",
    "p = 0.7  # Probability of success\n",
    "\n",
    "k_values = np.arange(-1, 3)  \n",
    "\n",
    "# PMF: \n",
    "pmf_values = X.pmf(k_values)\n",
    "\n",
    "# CDF: \n",
    "cdf_values = X.cdf(k_values)\n",
    "\n",
    "# Plot PMF\n",
    "plt.figure(figsize=(10, 6))\n",
    "\n",
    "# Plot the PMF\n",
    "plt.subplot(1, 2, 1) ## 1 fila, 2 columnas, primer elemento de la fila\n",
    "plt.stem(k_values, pmf_values, basefmt=\" \", use_line_collection=True)\n",
    "plt.title(\"PMF of Geometric Distribution (p = 0.3)\")\n",
    "plt.xlabel(\"Number of trials (k)\")\n",
    "plt.ylabel(\"Probability (P(X = k))\")\n",
    "plt.grid(True)\n",
    "\n",
    "# Plot the CDF\n",
    "plt.subplot(1, 2, 2) ## 1 fila, 2 columnas, segundo elemento de la fila\n",
    "plt.step(k_values, cdf_values, where='post', color='r', linestyle='-')\n",
    "plt.title(\"CDF of Geometric Distribution (p = 0.3)\")\n",
    "plt.xlabel(\"Number of trials (k)\")\n",
    "plt.ylabel(\"Cumulative Probability (P(X ≤ k))\")\n",
    "plt.grid(True)\n",
    "\n",
    "# Show the plots\n",
    "plt.tight_layout()\n",
    "plt.show()"
   ]
  },
  {
   "cell_type": "markdown",
   "metadata": {},
   "source": [
    "* <strong> Variable Geométrica </strong>\n",
    "\n",
    "Sea $0<p<1$. Entonces $X\\sim \\mathbf{Geom}(p)$ si $X(\\Omega)=\\mathbb{N}$, $$P(X=k)=q^{k}p,$$ donde $q=1-p$.\n",
    "\n",
    "    \n",
    "<font color=\"brown\"> En este caso la v.a. se usa para indicar, cuando realizamos repetidas veces un experimento aleatorio $\\mathcal{E}$, el momento en el que se ha producido un evento $A$ por primera vez (Lo cual consideramos un éxito) La variable cuenta el número $k$ de fracasos hasta obterner el primer éxito. </font>"
   ]
  },
  {
   "cell_type": "markdown",
   "metadata": {},
   "source": [
    "Veamos cómo se trabaja con Python esta v.a.:"
   ]
  },
  {
   "cell_type": "code",
   "execution_count": 16,
   "metadata": {},
   "outputs": [],
   "source": [
    "from scipy.stats import geom"
   ]
  },
  {
   "cell_type": "code",
   "execution_count": 17,
   "metadata": {},
   "outputs": [],
   "source": [
    "from scipy.stats import geom\n",
    "X = geom(p=0.3)"
   ]
  },
  {
   "cell_type": "code",
   "execution_count": 18,
   "metadata": {},
   "outputs": [
    {
     "name": "stdout",
     "output_type": "stream",
     "text": [
      "Random samples: [ 2  1  1  5  5  6  2  1  2  1  3 15  1  6  3  4  3  4 13  2  1  1  4  1\n",
      "  3  3  1  5 13  3  1  9  1 17  3 17  3  2  3 11  1  7  2  5  2  5  3  4\n",
      "  4 11]\n"
     ]
    }
   ],
   "source": [
    "muestras = X.rvs(50)\n",
    "print(f\"Random samples: {muestras}\")"
   ]
  },
  {
   "cell_type": "code",
   "execution_count": 19,
   "metadata": {},
   "outputs": [
    {
     "data": {
      "text/plain": [
       "0.14699999999999996"
      ]
     },
     "execution_count": 19,
     "metadata": {},
     "output_type": "execute_result"
    }
   ],
   "source": [
    "X.pmf(3)"
   ]
  },
  {
   "cell_type": "code",
   "execution_count": 20,
   "metadata": {},
   "outputs": [
    {
     "data": {
      "text/plain": [
       "0.6569999999999999"
      ]
     },
     "execution_count": 20,
     "metadata": {},
     "output_type": "execute_result"
    }
   ],
   "source": [
    "X.cdf(3)"
   ]
  },
  {
   "cell_type": "code",
   "execution_count": 21,
   "metadata": {},
   "outputs": [
    {
     "data": {
      "text/plain": [
       "3.3333333333333335"
      ]
     },
     "execution_count": 21,
     "metadata": {},
     "output_type": "execute_result"
    }
   ],
   "source": [
    "X.mean()"
   ]
  },
  {
   "cell_type": "code",
   "execution_count": 22,
   "metadata": {},
   "outputs": [
    {
     "data": {
      "text/plain": [
       "7.777777777777779"
      ]
     },
     "execution_count": 22,
     "metadata": {},
     "output_type": "execute_result"
    }
   ],
   "source": [
    "X.var()"
   ]
  },
  {
   "cell_type": "code",
   "execution_count": 23,
   "metadata": {},
   "outputs": [
    {
     "data": {
      "image/png": "[encoded data removed]",
      "text/plain": [
       "<Figure size 720x432 with 2 Axes>"
      ]
     },
     "metadata": {
      "needs_background": "light"
     },
     "output_type": "display_data"
    }
   ],
   "source": [
    "k_values = np.arange(1, 21)  # k = 1 to 20 (number of trials)\n",
    "\n",
    "# PMF: Probability of having exactly k trials before the first success\n",
    "pmf_values = X.pmf(k_values)\n",
    "\n",
    "# CDF: Probability of having k or fewer trials before the first success\n",
    "cdf_values = X.cdf(k_values)\n",
    "\n",
    "# Plot PMF\n",
    "plt.figure(figsize=(10, 6))\n",
    "\n",
    "# Plot the PMF\n",
    "plt.subplot(1, 2, 1) ## 1 fila, 2 columnas, primer elemento de la fila\n",
    "plt.stem(k_values, pmf_values, basefmt=\" \", use_line_collection=True)\n",
    "plt.title(\"PMF of Geometric Distribution (p = 0.3)\")\n",
    "plt.xlabel(\"Number of trials (k)\")\n",
    "plt.ylabel(\"Probability (P(X = k))\")\n",
    "plt.grid(True)\n",
    "\n",
    "# Plot the CDF\n",
    "plt.subplot(1, 2, 2) ## 1 fila, 2 columnas, segundo elemento de la fila\n",
    "plt.step(k_values, cdf_values, where='post', color='r', linestyle='-')\n",
    "plt.title(\"CDF of Geometric Distribution (p = 0.3)\")\n",
    "plt.xlabel(\"Number of trials (k)\")\n",
    "plt.ylabel(\"Cumulative Probability (P(X ≤ k))\")\n",
    "plt.grid(True)\n",
    "\n",
    "# Show the plots\n",
    "plt.tight_layout()\n",
    "plt.show()"
   ]
  },
  {
   "cell_type": "markdown",
   "metadata": {},
   "source": [
    "* <strong> Variable  Binomial</strong>\n",
    "\n",
    " Sea $0<p<1$ y sea $N\\geq 1$. Entonces $X\\sim \\mathbf{Binom}(N,p)$ si $X(\\Omega)=\\{0,1,\\cdots, N\\}$ y \n",
    " $$\n",
    " P(X=k)=\\binom{N}{k}p^kq^{N-k}, \\text{ para } 0\\leq k\\leq N\n",
    " $$\n",
    "donde $q=1-p$. \n",
    "\n",
    "\n",
    "<font color=\"brown\"> En este caso la v.a. se usa para indicar, cuando realizamos exactamente $N$ repeticiones independientes  del experimento aleatorio $\\mathcal{E}$, el número de veces que se ha producido un evento $A$  (Lo cual consideramos un éxito) La variable cuenta el número $k$ de éxitos en $N$ repeticiones del experimento. </font>\n",
    "\n",
    "\n",
    "<strong> Proposición </strong> Si $X_1,\\cdots, X_N\\sim \\mathbf{Be}(p)$ son v.a. indep., entonces $S_N=X_1+\\cdots+X_N\\sim \\mathbf{Binom}(N,p)$.\n",
    "\n",
    "\n"
   ]
  },
  {
   "cell_type": "code",
   "execution_count": 24,
   "metadata": {},
   "outputs": [],
   "source": [
    "from scipy.stats import binom\n",
    "X = binom(n=20,p=0.3)"
   ]
  },
  {
   "cell_type": "code",
   "execution_count": 25,
   "metadata": {},
   "outputs": [
    {
     "name": "stdout",
     "output_type": "stream",
     "text": [
      "[10 10  8  5  3  9 10  5  6  5  2  9  6  8  3  5  6  7  7  9  7  8  8  7\n",
      "  6  4  6  4  7  3  9  3  6  6  5  6  4  8  6  5  2  5  4  3  6 11  3  7\n",
      "  7  5]\n"
     ]
    }
   ],
   "source": [
    "print(X.rvs(50))"
   ]
  },
  {
   "cell_type": "code",
   "execution_count": 26,
   "metadata": {},
   "outputs": [
    {
     "data": {
      "text/plain": [
       "0.003859281930901176"
      ]
     },
     "execution_count": 26,
     "metadata": {},
     "output_type": "execute_result"
    }
   ],
   "source": [
    "X.pmf(12)"
   ]
  },
  {
   "cell_type": "code",
   "execution_count": 27,
   "metadata": {},
   "outputs": [
    {
     "data": {
      "text/plain": [
       "0.9987211203957798"
      ]
     },
     "execution_count": 27,
     "metadata": {},
     "output_type": "execute_result"
    }
   ],
   "source": [
    "X.cdf(12)"
   ]
  },
  {
   "cell_type": "code",
   "execution_count": 28,
   "metadata": {},
   "outputs": [
    {
     "data": {
      "text/plain": [
       "6.0"
      ]
     },
     "execution_count": 28,
     "metadata": {},
     "output_type": "execute_result"
    }
   ],
   "source": [
    "X.mean()"
   ]
  },
  {
   "cell_type": "code",
   "execution_count": 29,
   "metadata": {},
   "outputs": [
    {
     "data": {
      "text/plain": [
       "4.199999999999999"
      ]
     },
     "execution_count": 29,
     "metadata": {},
     "output_type": "execute_result"
    }
   ],
   "source": [
    "X.var()"
   ]
  },
  {
   "cell_type": "code",
   "execution_count": 30,
   "metadata": {},
   "outputs": [
    {
     "data": {
      "image/png": "[encoded data removed]",
      "text/plain": [
       "<Figure size 864x432 with 2 Axes>"
      ]
     },
     "metadata": {
      "needs_background": "light"
     },
     "output_type": "display_data"
    }
   ],
   "source": [
    "# Parameters for Binomial distribution\n",
    "n = 20  # Number of trials\n",
    "p = 0.3  # Probability of success\n",
    "\n",
    "# Values of k (number of successes)\n",
    "k_values = np.arange(0, n + 1)  # k = 0, 1, ..., n\n",
    "\n",
    "# PMF: Probability of having exactly k successes\n",
    "pmf_values = X.pmf(k_values)\n",
    "\n",
    "# CDF: Probability of having at most k successes\n",
    "cdf_values = X.cdf(k_values)\n",
    "\n",
    "# Plot PMF\n",
    "plt.figure(figsize=(12, 6))\n",
    "\n",
    "# Plot the PMF\n",
    "plt.subplot(1, 2, 1)\n",
    "plt.stem(k_values, pmf_values, basefmt=\" \", use_line_collection=True)\n",
    "plt.title(f\"PMF of Binomial Distribution (n = {n}, p = {p})\")\n",
    "plt.xlabel(\"Number of successes (k)\")\n",
    "plt.ylabel(\"Probability (P(X = k))\")\n",
    "plt.grid(True)\n",
    "\n",
    "# Plot the CDF\n",
    "plt.subplot(1, 2, 2)\n",
    "plt.step(k_values, cdf_values, where='post', color='r', linestyle='-')\n",
    "plt.title(f\"CDF of Binomial Distribution (n = {n}, p = {p})\")\n",
    "plt.xlabel(\"Number of successes (k)\")\n",
    "plt.ylabel(\"Cumulative Probability (P(X ≤ k))\")\n",
    "plt.grid(True)\n",
    "\n",
    "# Show the plots\n",
    "plt.tight_layout()\n",
    "plt.show()"
   ]
  },
  {
   "cell_type": "markdown",
   "metadata": {},
   "source": [
    "Ahora, como podemos tomar muestras de la v.a., veamos cómo simularla y cómo los datos encajan con las propiedades de la variable:"
   ]
  },
  {
   "cell_type": "code",
   "execution_count": 31,
   "metadata": {},
   "outputs": [
    {
     "data": {
      "image/png": "[encoded data removed]",
      "text/plain": [
       "<Figure size 864x432 with 2 Axes>"
      ]
     },
     "metadata": {
      "needs_background": "light"
     },
     "output_type": "display_data"
    }
   ],
   "source": [
    "# Generate random samples\n",
    "size=1000\n",
    "samples = X.rvs(size)\n",
    "\n",
    "# Evaluate the PMF and CDF for each sample\n",
    "pmf_values = X.pmf(samples)\n",
    "cdf_values = X.cdf(samples)\n",
    "\n",
    "\n",
    "\n",
    "# Plot the histogram of the samples\n",
    "plt.figure(figsize=(12, 6))\n",
    "\n",
    "# Plot histogram of the samples\n",
    "plt.subplot(1, 2, 1)\n",
    "plt.hist(samples, bins=np.arange(n + 2) - 0.5, density=True, alpha=0.6, color='g', edgecolor='black')\n",
    "plt.title(f\"Histogram of {size} Random Samples (Binomial Distribution)\")\n",
    "plt.xlabel(\"Number of successes (k)\")\n",
    "plt.ylabel(\"Frequency (normalized)\")\n",
    "\n",
    "# Plot the PMF for the same samples\n",
    "plt.subplot(1, 2, 2)\n",
    "plt.stem(np.arange(n + 1), binom.pmf(np.arange(n + 1), n, p), basefmt=\" \", use_line_collection=True, label=\"PMF\")\n",
    "plt.title(f\"PMF of Binomial Distribution (n = {n}, p = {p})\")\n",
    "plt.xlabel(\"Number of successes (k)\")\n",
    "plt.ylabel(\"Probability (P(X = k))\")\n",
    "plt.grid(True)\n",
    "\n",
    "plt.tight_layout()\n",
    "plt.show()"
   ]
  },
  {
   "cell_type": "markdown",
   "metadata": {},
   "source": [
    "Veamos ahora el cálculo del diagrama Q-Q:"
   ]
  },
  {
   "cell_type": "code",
   "execution_count": 32,
   "metadata": {},
   "outputs": [
    {
     "name": "stdout",
     "output_type": "stream",
     "text": [
      "[4. 4. 5. 5. 6. 6. 7. 8. 9.]\n",
      "[3 4 5 5 6 6 7 8 9]\n"
     ]
    }
   ],
   "source": [
    "# Function to compute the percentile (similar to the R version)\n",
    "val=k_values\n",
    "def percentile(p):\n",
    "    for a in val:\n",
    "        if X.cdf(a) >= p:\n",
    "            return a\n",
    "        \n",
    "## Aquí es importante observar que val se presenta ordenado de menor a mayor \n",
    "## y se lee (con el for) de izquierda a derecha\n",
    "\n",
    "percentile_vec = np.vectorize(percentile)\n",
    "QT=percentile_vec(np.arange(1, 10)/10)\n",
    "Q = np.quantile(samples, np.arange(1, 10)/10)\n",
    "print(Q)\n",
    "print(QT)"
   ]
  },
  {
   "cell_type": "code",
   "execution_count": 33,
   "metadata": {},
   "outputs": [
    {
     "data": {
      "image/png": "[encoded data removed]",
      "text/plain": [
       "<Figure size 432x288 with 1 Axes>"
      ]
     },
     "metadata": {
      "needs_background": "light"
     },
     "output_type": "display_data"
    }
   ],
   "source": [
    "a=np.min([Q,QT])\n",
    "b=np.max([Q,QT])\n",
    "plt.stem(QT, Q, basefmt=\" \", use_line_collection=True, label=\"PMF\")\n",
    "plt.plot([a,b], [a,b])\n",
    "plt.title(\"Diagrama Q-Q\")\n",
    "#plt.xlabel(\"Number of successes (k)\")\n",
    "#plt.ylabel(\"Probability (P(X = k))\")\n",
    "plt.grid(True)\n",
    "\n",
    "#plt.tight_layout()\n",
    "plt.show()"
   ]
  },
  {
   "cell_type": "markdown",
   "metadata": {},
   "source": [
    "\n",
    "* <strong> Variable de Poisson </strong>\n",
    "\n",
    " Sea $\\lambda>0$. Entonces $X\\sim \\mathbf{Poiss}(\\lambda)$ si $ X(\\Omega)=\\mathbb{N}$ y \n",
    " $$\n",
    " P(X=k)=\\frac{e^{-\\lambda}\\lambda^{k}}{k!}, \\text{ para } k\\in \\mathbb{N}\n",
    " $$  "
   ]
  },
  {
   "cell_type": "markdown",
   "metadata": {},
   "source": [
    "<font color=\"brown\"> Esta v.a. aparece en ciertos procesos aleatorios. Concretamente... </font>"
   ]
  },
  {
   "cell_type": "code",
   "execution_count": 34,
   "metadata": {},
   "outputs": [],
   "source": [
    "from scipy.stats import poisson\n",
    "X=poisson(3)"
   ]
  },
  {
   "cell_type": "code",
   "execution_count": 35,
   "metadata": {},
   "outputs": [
    {
     "data": {
      "text/plain": [
       "array([2, 3, 6, 4, 6, 6, 4, 5, 3, 4, 2, 5, 2, 1, 3, 5, 2, 3, 4, 5, 3, 2,\n",
       "       6, 4, 2, 4, 4, 4, 4, 7, 2, 2, 5, 5, 1, 3, 1, 3, 2, 1, 4, 4, 3, 0,\n",
       "       5, 5, 1, 2, 2, 6])"
      ]
     },
     "execution_count": 35,
     "metadata": {},
     "output_type": "execute_result"
    }
   ],
   "source": [
    "X.rvs(50)"
   ]
  },
  {
   "cell_type": "code",
   "execution_count": 36,
   "metadata": {},
   "outputs": [
    {
     "data": {
      "text/plain": [
       "0.22404180765538775"
      ]
     },
     "execution_count": 36,
     "metadata": {},
     "output_type": "execute_result"
    }
   ],
   "source": [
    "X.pmf(3)"
   ]
  },
  {
   "cell_type": "code",
   "execution_count": 37,
   "metadata": {},
   "outputs": [
    {
     "data": {
      "text/plain": [
       "0.6472318887822313"
      ]
     },
     "execution_count": 37,
     "metadata": {},
     "output_type": "execute_result"
    }
   ],
   "source": [
    "X.cdf(3)"
   ]
  },
  {
   "cell_type": "code",
   "execution_count": 38,
   "metadata": {},
   "outputs": [
    {
     "data": {
      "text/plain": [
       "3.0"
      ]
     },
     "execution_count": 38,
     "metadata": {},
     "output_type": "execute_result"
    }
   ],
   "source": [
    "X.mean()"
   ]
  },
  {
   "cell_type": "code",
   "execution_count": 39,
   "metadata": {},
   "outputs": [
    {
     "data": {
      "text/plain": [
       "3.0"
      ]
     },
     "execution_count": 39,
     "metadata": {},
     "output_type": "execute_result"
    }
   ],
   "source": [
    "X.var()"
   ]
  },
  {
   "cell_type": "code",
   "execution_count": 40,
   "metadata": {},
   "outputs": [
    {
     "data": {
      "image/png": "[encoded data removed]",
      "text/plain": [
       "<Figure size 864x432 with 2 Axes>"
      ]
     },
     "metadata": {
      "needs_background": "light"
     },
     "output_type": "display_data"
    }
   ],
   "source": [
    "\n",
    "# Values of k (number of successes)\n",
    "k_values = np.arange(0, 21)  \n",
    "\n",
    "# PMF: Probability of having exactly k successes\n",
    "pmf_values = X.pmf(k_values)\n",
    "\n",
    "# CDF: Probability of having at most k successes\n",
    "cdf_values = X.cdf(k_values)\n",
    "\n",
    "# Plot PMF\n",
    "plt.figure(figsize=(12, 6))\n",
    "\n",
    "# Plot the PMF\n",
    "plt.subplot(1, 2, 1)\n",
    "plt.stem(k_values, pmf_values, basefmt=\" \", use_line_collection=True)\n",
    "plt.title(f\"PMF of Binomial Distribution (n = {n}, p = {p})\")\n",
    "plt.xlabel(\"Number of successes (k)\")\n",
    "plt.ylabel(\"Probability (P(X = k))\")\n",
    "plt.grid(True)\n",
    "\n",
    "# Plot the CDF\n",
    "plt.subplot(1, 2, 2)\n",
    "plt.step(k_values, cdf_values, where='post', color='r', linestyle='-')\n",
    "plt.title(f\"CDF of Binomial Distribution (n = {n}, p = {p})\")\n",
    "plt.xlabel(\"Number of successes (k)\")\n",
    "plt.ylabel(\"Cumulative Probability (P(X ≤ k))\")\n",
    "plt.grid(True)\n",
    "\n",
    "# Show the plots\n",
    "plt.tight_layout()\n",
    "plt.show()"
   ]
  },
  {
   "cell_type": "code",
   "execution_count": 41,
   "metadata": {},
   "outputs": [
    {
     "data": {
      "image/png": "[encoded data removed]",
      "text/plain": [
       "<Figure size 864x432 with 2 Axes>"
      ]
     },
     "metadata": {
      "needs_background": "light"
     },
     "output_type": "display_data"
    }
   ],
   "source": [
    "# Generate random samples\n",
    "size=1000\n",
    "samples = X.rvs(size)\n",
    "\n",
    "# Evaluate the PMF and CDF for each sample\n",
    "pmf_values = X.pmf(samples)\n",
    "cdf_values = X.cdf(samples)\n",
    "\n",
    "\n",
    "\n",
    "# Plot the histogram of the samples\n",
    "plt.figure(figsize=(12, 6))\n",
    "\n",
    "# Plot histogram of the samples\n",
    "plt.subplot(1, 2, 1)\n",
    "plt.hist(samples, bins=np.arange(n + 2) - 0.5, density=True, alpha=0.6, color='g', edgecolor='black')\n",
    "plt.title(f\"Histogram of {size} Random Samples (Binomial Distribution)\")\n",
    "plt.xlabel(\"Number of successes (k)\")\n",
    "plt.ylabel(\"Frequency (normalized)\")\n",
    "\n",
    "# Plot the PMF for the same samples\n",
    "plt.subplot(1, 2, 2)\n",
    "plt.stem(np.arange(n + 1), binom.pmf(np.arange(n + 1), n, p), basefmt=\" \", use_line_collection=True, label=\"PMF\")\n",
    "plt.title(f\"PMF of Binomial Distribution (n = {n}, p = {p})\")\n",
    "plt.xlabel(\"Number of successes (k)\")\n",
    "plt.ylabel(\"Probability (P(X = k))\")\n",
    "plt.grid(True)\n",
    "\n",
    "plt.tight_layout()\n",
    "plt.show()"
   ]
  },
  {
   "cell_type": "code",
   "execution_count": 42,
   "metadata": {},
   "outputs": [
    {
     "name": "stdout",
     "output_type": "stream",
     "text": [
      "[1.  1.8 2.  2.  3.  3.  4.  4.  5. ]\n",
      "[1 2 2 2 3 3 4 4 5]\n",
      "[1. 2. 2. 2. 3. 3. 4. 4. 5.]\n"
     ]
    }
   ],
   "source": [
    "# Function to compute the percentile\n",
    "val=k_values\n",
    "def percentile(p):\n",
    "    for a in val:\n",
    "        if X.cdf(a) >= p:\n",
    "            return a\n",
    "        \n",
    "## Aquí es importante observar que val se presenta ordenado de menor a mayor \n",
    "## y se lee (con el for) de izquierda a derecha\n",
    "\n",
    "percentile_vec = np.vectorize(percentile)\n",
    "QT=percentile_vec(np.arange(1, 10)/10)\n",
    "\n",
    "\n",
    "## Otro modo de calcular los percentiles teóricos de la v.a. es usar ppf (\"percentil probability function\"):\n",
    "QTT=X.ppf(np.arange(1, 10)/10)\n",
    "Q = np.quantile(samples, np.arange(1, 10)/10)\n",
    "print(Q)\n",
    "print(QT)\n",
    "print(QTT)"
   ]
  },
  {
   "cell_type": "code",
   "execution_count": 43,
   "metadata": {},
   "outputs": [],
   "source": [
    "a=np.min([Q,QT])\n",
    "b=np.max([Q,QT])"
   ]
  },
  {
   "cell_type": "code",
   "execution_count": 44,
   "metadata": {},
   "outputs": [
    {
     "data": {
      "image/png": "[encoded data removed]",
      "text/plain": [
       "<Figure size 432x288 with 1 Axes>"
      ]
     },
     "metadata": {
      "needs_background": "light"
     },
     "output_type": "display_data"
    }
   ],
   "source": [
    "plt.stem(QT, Q, basefmt=\" \", use_line_collection=True, label=\"PMF\")\n",
    "plt.plot([a,b], [a,b])\n",
    "plt.title(\"Diagrama Q-Q\")\n",
    "#plt.xlabel(\"Number of successes (k)\")\n",
    "#plt.ylabel(\"Probability (P(X = k))\")\n",
    "plt.grid(True)\n",
    "\n",
    "#plt.tight_layout()\n",
    "plt.show()"
   ]
  },
  {
   "cell_type": "markdown",
   "metadata": {},
   "source": [
    "<h3> Variables continuas </h3>\n",
    "\n",
    "* <strong> Variable uniforme </strong> \n",
    "\n",
    " Entonces $X\\sim \\mathbf{U}(a,b)$ si $ X(\\Omega)= [a,b]$ y \n",
    "$$\n",
    "F_X(t)= P(X\\leq t)= \\frac{1}{b-a}\\int_ a^t  dx, \\text{ para } a\\leq t\\leq b \n",
    "$$  \n",
    "Equivalentemente,\n",
    "$$\n",
    "f_X(t)=\\frac{1}{b-a} \\chi_{[a,b]}(t).\n",
    "$$\n",
    "<font color=\"brown\"> Esta v.a. simula un experimento aleatorio en el que seleccionamos completamente al azar un número en un cierto intervalo $[a,b]$ (todos los valores del intervalo tienen la misma probabilidad, lo cual se expresa forzando que la fdp sea constante en dicho intervalo y nula fuera) </font> "
   ]
  },
  {
   "cell_type": "code",
   "execution_count": 45,
   "metadata": {},
   "outputs": [],
   "source": [
    "from scipy.stats import uniform\n",
    "X = uniform(0,1)   # Uniform Distribution\n",
    "\n",
    "## Nota importante: La v.a. X\\sim Unif([a,b]) se genera como X = uniform(a,b-a)"
   ]
  },
  {
   "cell_type": "code",
   "execution_count": 46,
   "metadata": {},
   "outputs": [
    {
     "name": "stdout",
     "output_type": "stream",
     "text": [
      "[0.01132756 0.90841722 0.07947931 0.27718281 0.66264774 0.96243433\n",
      " 0.87606279 0.09432366 0.87911043 0.64743638 0.71321942 0.69176465\n",
      " 0.973172   0.85388602 0.99937468 0.92703161 0.01800227 0.62835399\n",
      " 0.45871557 0.11943778 0.6256208  0.06790305 0.11131533 0.44540199\n",
      " 0.37656604 0.34923113 0.70764441 0.92594501 0.669396   0.09652685]\n"
     ]
    }
   ],
   "source": [
    "print(X.rvs(30))"
   ]
  },
  {
   "cell_type": "code",
   "execution_count": 47,
   "metadata": {},
   "outputs": [
    {
     "data": {
      "text/plain": [
       "1.0"
      ]
     },
     "execution_count": 47,
     "metadata": {},
     "output_type": "execute_result"
    }
   ],
   "source": [
    "X.pdf(0.3)"
   ]
  },
  {
   "cell_type": "code",
   "execution_count": 48,
   "metadata": {},
   "outputs": [
    {
     "data": {
      "text/plain": [
       "0.3"
      ]
     },
     "execution_count": 48,
     "metadata": {},
     "output_type": "execute_result"
    }
   ],
   "source": [
    "X.cdf(0.3)"
   ]
  },
  {
   "cell_type": "markdown",
   "metadata": {},
   "source": [
    "\n",
    "* <strong> Variable normal </strong> \n",
    "\n",
    " Sea $\\mu\\in\\mathbb{R}$, $\\sigma>0$. Entonces $X\\sim \\mathbf{N}(\\mu,\\sigma)$ si $ X(\\Omega)=\\mathbb{R}$ y \n",
    "$$\n",
    " F_X(t) = P(X\\leq t)=\\int_{-\\infty}^t \\frac{1}{\\sqrt{2\\pi \\sigma^2}}e^{\\frac{-(x-\\mu)^2}{2\\sigma^2}} dx\n",
    "$$  \n",
    " Equivalentemente, \n",
    "$$\n",
    " f_X(t)=  \\frac{1}{\\sqrt{2\\pi \\sigma^2}}e^{\\frac{-(t-\\mu)^2}{2\\sigma^2}}\n",
    "$$"
   ]
  },
  {
   "cell_type": "code",
   "execution_count": 49,
   "metadata": {},
   "outputs": [],
   "source": [
    "from scipy.stats import norm\n",
    "X = norm(0,1)   # Normal Distribution"
   ]
  },
  {
   "cell_type": "markdown",
   "metadata": {},
   "source": [
    "* <strong> Variable exponencial </strong> \n",
    "\n",
    " Sea $\\lambda>0$. Entonces $X\\sim \\mathbf{Exp}(\\lambda)$ si $ X(\\Omega)=\\mathbb{R}^+$ y \n",
    "$$\n",
    "F_X(t)= P(X\\leq t)=\\int_ 0^t \\lambda e^{-\\lambda x} dx, \\text{ para } t\\geq 0 \n",
    "$$  \n",
    "Equivalentemente,\n",
    "$$\n",
    "f_X(t)= \\chi_{[0,\\infty)}(t) \\lambda e^{-\\lambda t}.\n",
    "$$"
   ]
  },
  {
   "cell_type": "code",
   "execution_count": 50,
   "metadata": {},
   "outputs": [],
   "source": [
    "from scipy.stats import expon\n",
    "import matplotlib.pyplot as plt\n",
    "\n",
    "# La distribución tiene media 1/lambda y en Python se usa la media para definirla:\n",
    "\n",
    "X = expon(scale=1/3)   # Exponential Distribution"
   ]
  },
  {
   "cell_type": "code",
   "execution_count": 51,
   "metadata": {},
   "outputs": [
    {
     "data": {
      "text/plain": [
       "0.3333333333333333"
      ]
     },
     "execution_count": 51,
     "metadata": {},
     "output_type": "execute_result"
    }
   ],
   "source": [
    "X.mean()"
   ]
  },
  {
   "cell_type": "code",
   "execution_count": 52,
   "metadata": {},
   "outputs": [
    {
     "data": {
      "image/png": "[encoded data removed]",
      "text/plain": [
       "<Figure size 432x288 with 1 Axes>"
      ]
     },
     "metadata": {
      "needs_background": "light"
     },
     "output_type": "display_data"
    }
   ],
   "source": [
    "# Generate random samples from the exponential distribution\n",
    "size = 1000  # Number of samples\n",
    "samples = X.rvs(size)\n",
    "\n",
    "# Plot histogram of the generated samples\n",
    "plt.hist(samples, bins=30, density=True, alpha=0.6, color='g')\n",
    "\n",
    "# Plot the theoretical probability density function\n",
    "x = np.linspace(0, np.max(samples), 1000)\n",
    "pdf = X.pdf(x)\n",
    "plt.plot(x, pdf, 'r-', lw=2)\n",
    "\n",
    "plt.title('Exponential Distribution (lambda = 3)')\n",
    "plt.xlabel('Time (hours)')\n",
    "plt.ylabel('Density')\n",
    "plt.show()"
   ]
  },
  {
   "cell_type": "markdown",
   "metadata": {},
   "source": [
    "Ahora calculamos el diagrama Q-Q:"
   ]
  },
  {
   "cell_type": "code",
   "execution_count": 49,
   "metadata": {},
   "outputs": [
    {
     "data": {
      "image/png": "[encoded data removed]",
      "text/plain": [
       "<Figure size 432x288 with 1 Axes>"
      ]
     },
     "metadata": {
      "needs_background": "light"
     },
     "output_type": "display_data"
    }
   ],
   "source": [
    "QT=X.ppf(np.arange(1, 10)/10)\n",
    "Q = np.quantile(samples, np.arange(1, 10)/10)\n",
    "a=np.min([Q,QT])\n",
    "b=np.max([Q,QT])\n",
    "plt.stem(QT, Q, basefmt=\" \", use_line_collection=True, label=\"PMF\")\n",
    "plt.plot([a,b], [a,b])\n",
    "plt.title(\"Diagrama Q-Q\")\n",
    "#plt.xlabel(\"Number of successes (k)\")\n",
    "#plt.ylabel(\"Probability (P(X = k))\")\n",
    "plt.grid(True)\n",
    "\n",
    "#plt.tight_layout()\n",
    "plt.show()"
   ]
  },
  {
   "cell_type": "markdown",
   "metadata": {},
   "source": [
    "* <strong> Variable $\\chi^2(n)$ </strong> \n",
    "\n",
    "Sea $n\\in\\mathbb{N}$. Entonces $X\\sim \\chi^2(n)$ si $ X(\\Omega)=\\mathbb{R}^+$ y \n",
    "$$\n",
    "F_X(t)= P(X\\leq t)=\\int_ 0^t \\frac{1}{2^{n/2}\\Gamma(n/2)}x^{\\frac{n}{2}-1}e^{-\\frac{x}{2}} dx, \\text{ para } t\\geq 0 \n",
    "$$  \n",
    "Equivalentemente,\n",
    "$$\n",
    "f_X(t)= \\chi_{[0,\\infty)}(t) \\frac{1}{2^{n/2}\\Gamma(n/2)}t^{\\frac{n}{2}-1}e^{-\\frac{t}{2}}.\n",
    "$$\n",
    "\n",
    "Recuérdese que $\\Gamma(z)=\\int_0^{\\infty}x^{z-1}e^{-x}dx$ es una función que extiende de forma natural $n!$, pues $\\Gamma(n+1)=n!$. De hecho, $\\Gamma(1)=1$ y $\\Gamma(z+1)=z\\Gamma(z)$."
   ]
  },
  {
   "cell_type": "code",
   "execution_count": 61,
   "metadata": {},
   "outputs": [
    {
     "name": "stdout",
     "output_type": "stream",
     "text": [
      "[ 1.53058555  1.06089199  5.3991735   5.10931815  5.50749251  2.26444902\n",
      "  6.58446262 12.78919633  2.8526948   3.00882381  1.59044179  9.7647426\n",
      "  3.65818135  3.05945961  3.43949565  7.15013056  2.99083248  2.16816529\n",
      "  7.48756262  4.70800547  8.47222007  8.60596398  1.72775306  4.44457672\n",
      "  6.25780975  8.64311281  3.20330648  2.32980917  7.57449997  4.97148204\n",
      "  6.51361666  6.46904302  1.54299803  3.07170605  1.05023747  3.83459559\n",
      "  3.53446984  4.24838421  9.51728701  3.22221233  4.43763419  9.68219806\n",
      "  6.84307363  0.2946785   7.37949992  1.17056966  2.04123083  7.34628798\n",
      "  3.93618322  9.03598226  3.67173329  3.38612749  2.84386552  0.7398384\n",
      "  5.39845049  1.91630923  5.60121845  5.24322959  3.78747261  2.0235672\n",
      "  6.34021505  1.91019139  3.45364998  3.15345669  4.92274175  7.98406819\n",
      "  1.5759515   6.37047277  8.77267627  9.33507375  3.13397235  7.72389557\n",
      "  4.80932603 10.39380517  4.7023501   5.71364905  5.46702395  9.52858967\n",
      "  0.87946859  2.46498552  4.08191879  6.45707263  8.3474874   6.28750453\n",
      "  5.06848235  4.48181626  9.94596092  1.43843084  0.43210867  7.03569478\n",
      "  3.52844289  9.85817347  7.34435543  4.6017345   1.45915567  1.13446\n",
      "  1.89590806  6.92065662  2.42323907 12.40110356]\n",
      "PDF at x=3: 0.15418032980376928\n",
      "CDF at x=3: 0.3000141641213724\n",
      "90th percentile: 9.236356899781123\n"
     ]
    }
   ],
   "source": [
    "from scipy.stats import chi2\n",
    "  \n",
    "\n",
    "# Set degrees of freedom\n",
    "df = 5\n",
    "\n",
    "X = chi2(5) \n",
    "\n",
    "# 1. Generate 1000 random variables from a chi-squared distribution\n",
    "samples = X.rvs(100)\n",
    "print(samples)\n",
    "\n",
    "# 2. Calculate the PDF at x=3\n",
    "pdf_value = X.pdf(3)\n",
    "\n",
    "# 3. Calculate the CDF at x=3\n",
    "cdf_value = X.cdf(3)\n",
    "\n",
    "# 4. Find the 90th percentile (quantile) value\n",
    "quantile_value = X.ppf(0.90)\n",
    "\n",
    "# 5. Print the results\n",
    "print(f\"PDF at x=3: {pdf_value}\")\n",
    "print(f\"CDF at x=3: {cdf_value}\")\n",
    "print(f\"90th percentile: {quantile_value}\")"
   ]
  },
  {
   "cell_type": "code",
   "execution_count": 62,
   "metadata": {},
   "outputs": [
    {
     "data": {
      "image/png": "[encoded data removed]",
      "text/plain": [
       "<Figure size 432x288 with 1 Axes>"
      ]
     },
     "metadata": {
      "needs_background": "light"
     },
     "output_type": "display_data"
    }
   ],
   "source": [
    "# Generate random samples from the exponential distribution\n",
    "size = 1000  # Number of samples\n",
    "samples = X.rvs(size)\n",
    "\n",
    "# Plot histogram of the generated samples\n",
    "plt.hist(samples, bins=30, density=True, alpha=0.6, color='g')\n",
    "\n",
    "# Plot the theoretical probability density function\n",
    "x = np.linspace(np.min(samples), np.max(samples), 1000)\n",
    "pdf = X.pdf(x)\n",
    "plt.plot(x, pdf, 'r-', lw=2)\n",
    "\n",
    "plt.title('Distribución Chi^2(5)')\n",
    "plt.show()"
   ]
  },
  {
   "cell_type": "code",
   "execution_count": 63,
   "metadata": {},
   "outputs": [
    {
     "data": {
      "image/png": "[encoded data removed]",
      "text/plain": [
       "<Figure size 432x288 with 1 Axes>"
      ]
     },
     "metadata": {
      "needs_background": "light"
     },
     "output_type": "display_data"
    }
   ],
   "source": [
    "QT=X.ppf(np.arange(1, 10)/10)\n",
    "Q = np.quantile(samples, np.arange(1, 10)/10)\n",
    "a=np.min([Q,QT])\n",
    "b=np.max([Q,QT])\n",
    "plt.stem(QT, Q, basefmt=\" \", use_line_collection=True, label=\"PMF\")\n",
    "plt.plot([a,b], [a,b])\n",
    "plt.title(\"Diagrama Q-Q\")\n",
    "#plt.xlabel(\"Number of successes (k)\")\n",
    "#plt.ylabel(\"Probability (P(X = k))\")\n",
    "plt.grid(True)\n",
    "\n",
    "#plt.tight_layout()\n",
    "plt.show()"
   ]
  },
  {
   "cell_type": "markdown",
   "metadata": {},
   "source": [
    "* <strong> Variable t de Student </strong> \n",
    "\n",
    "\n",
    "Sea $n\\in\\mathbb{N}$.  Entonces $X\\sim t(n)$ si $ X(\\Omega)=\\mathbb{R}$ y \n",
    "$$\n",
    "F_X(t)= P(X\\leq t)=\\int_ {-\\infty}^t \\frac{\\Gamma((n+1)/2)}{\\Gamma(n/2)\\sqrt{n\\pi}}(1+\\frac{x^{2}}{n})^{\\frac{-(n+1)}{2}} dx, \\text{ para } t\\in\\mathbb{R} \n",
    "$$  \n",
    "Equivalentemente,\n",
    "$$\n",
    "f_X(t)=\\frac{\\Gamma((n+1)/2)}{\\Gamma(n/2)\\sqrt{n\\pi}}(1+\\frac{t^{2}}{n})^{\\frac{-(n+1)}{2}}.\n",
    "$$"
   ]
  },
  {
   "cell_type": "code",
   "execution_count": 64,
   "metadata": {},
   "outputs": [
    {
     "name": "stdout",
     "output_type": "stream",
     "text": [
      "[ 1.7798225  -4.00728102 -0.37701819  1.22857224 -1.511724   -0.40881841\n",
      " -0.71688327 -1.13644088 -0.28207271 -0.81010038 -0.61514673  0.38779099\n",
      " -1.13001211  1.4399069   0.06710143 -0.41693072  1.21005169  0.6829366\n",
      "  0.24642269  2.76204456 -0.34750269 -0.40761793 -2.48986827  0.62447465\n",
      "  1.12121987 -0.72422062 -0.5005618   2.47388294  0.11123997  0.09210147\n",
      " -0.55718702  0.36349631 -1.05450611 -0.52598618  1.5588444   1.21826666\n",
      "  0.88133913  0.06535408 -0.09466892  0.87348592  0.30660536  0.52414802\n",
      " -0.09064904 -1.51884306  0.37426111 -0.81666154  0.49008029 -0.28074054\n",
      " -0.58292886  0.82297344  0.6430858  -1.79272917  0.71081054  0.32527776\n",
      " -1.41390939  0.36443939  0.2198963  -0.40688182  0.08019775 -1.52443135\n",
      " -0.85759634  0.32732442  2.96499435  0.83396077  0.00647151 -0.72912679\n",
      "  0.11143724 -0.61475264  1.02665454  0.13049174  1.08908192 -0.70741979\n",
      " -0.47136004 -0.6464689   0.58959869 -0.80370029 -0.26219079  0.35134509\n",
      " -1.08739112 -0.46789904  0.330206    1.00739899  1.40728869 -0.00668218\n",
      "  0.03178418 -2.19290969 -0.12093742 -0.80310375 -1.9262339  -0.27788373\n",
      "  0.31235994 -0.22305427  0.20578672 -1.86938114 -0.37042229 -0.9410704\n",
      " -0.32022941 -1.74535384 -1.40293154  0.04201117]\n",
      "PDF at x=3: 0.017292578800222964\n",
      "CDF at x=3: 0.9849503760512688\n",
      "90th percentile: 1.4758840487820273\n"
     ]
    }
   ],
   "source": [
    "from scipy.stats import t\n",
    "  \n",
    "\n",
    "# Set degrees of freedom\n",
    "df = 5\n",
    "\n",
    "X = t(5) \n",
    "\n",
    "# 1. Generate 1000 random variables from a chi-squared distribution\n",
    "samples = X.rvs(100)\n",
    "print(samples)\n",
    "\n",
    "# 2. Calculate the PDF at x=3\n",
    "pdf_value = X.pdf(3)\n",
    "\n",
    "# 3. Calculate the CDF at x=3\n",
    "cdf_value = X.cdf(3)\n",
    "\n",
    "# 4. Find the 90th percentile (quantile) value\n",
    "quantile_value = X.ppf(0.90)\n",
    "\n",
    "# 5. Print the results\n",
    "print(f\"PDF at x=3: {pdf_value}\")\n",
    "print(f\"CDF at x=3: {cdf_value}\")\n",
    "print(f\"90th percentile: {quantile_value}\")"
   ]
  },
  {
   "cell_type": "code",
   "execution_count": 65,
   "metadata": {},
   "outputs": [
    {
     "data": {
      "image/png": "[encoded data removed]",
      "text/plain": [
       "<Figure size 432x288 with 1 Axes>"
      ]
     },
     "metadata": {
      "needs_background": "light"
     },
     "output_type": "display_data"
    }
   ],
   "source": [
    "# Generate random samples from the exponential distribution\n",
    "size = 1000  # Number of samples\n",
    "samples = X.rvs(size)\n",
    "\n",
    "# Plot histogram of the generated samples\n",
    "plt.hist(samples, bins=30, density=True, alpha=0.6, color='g')\n",
    "\n",
    "# Plot the theoretical probability density function\n",
    "x = np.linspace(np.min(samples), np.max(samples), 1000)\n",
    "pdf = X.pdf(x)\n",
    "plt.plot(x, pdf, 'r-', lw=2)\n",
    "\n",
    "plt.title('Distribución t_5')\n",
    "plt.show()"
   ]
  },
  {
   "cell_type": "markdown",
   "metadata": {},
   "source": [
    "\n",
    "\n",
    "\n",
    "\n",
    "\n",
    "\n",
    "\n"
   ]
  },
  {
   "cell_type": "code",
   "execution_count": 70,
   "metadata": {},
   "outputs": [
    {
     "data": {
      "image/png": "[encoded data removed]",
      "text/plain": [
       "<Figure size 432x288 with 1 Axes>"
      ]
     },
     "metadata": {
      "needs_background": "light"
     },
     "output_type": "display_data"
    }
   ],
   "source": [
    "QT=X.ppf(np.arange(1, 10)/10)\n",
    "Q = np.quantile(samples, np.arange(1, 10)/10)\n",
    "a=np.min([Q,QT])\n",
    "b=np.max([Q,QT])\n",
    "plt.stem(QT, Q,basefmt=\" \",use_line_collection=True, label=\"PMF\")\n",
    "plt.plot([a,b], [a,b])\n",
    "plt.title(\"Diagrama Q-Q\")\n",
    "#plt.xlabel(\"Number of successes (k)\")\n",
    "#plt.ylabel(\"Probability (P(X = k))\")\n",
    "plt.grid(True)\n",
    "\n",
    "#plt.tight_layout()\n",
    "plt.show()"
   ]
  },
  {
   "cell_type": "markdown",
   "metadata": {},
   "source": [
    "<h2>Vectores aleatorios</h2>\n",
    "\n",
    "<strong>Definición (Distribución conjunta) </strong> Supongamos que tenemos $n$ v.a. $X_1,\\cdots,X_n$. Podemos pensar que $(X_1,\\cdots,X_n)$ es un vector aleatorio y podríamos estar interesados en estudiar su comportamiento global (en vez de estudiar cada v.a. $X_i$ por separado). Esto conduce a considerar una función de distribución conjunta $$F_{X_1,\\cdots,X_n}(t_1.\\cdots,t_n)=P(X_1\\leq t_1,\\cdots,X_n\\leq t_n)$$\n",
    "En el caso de que las v.a. $X_i$ sean todas continuas, esta función se puede escribir como sigue:\n",
    "$$F_{X_1,\\cdots,X_n}(t_1.\\cdots,t_n)=\\int_{-\\infty}^{t_1}\\cdots\\int_{-\\infty}^{t_n}f_{X_1,X_2,\\cdots,X_n}(x_1,\\cdots,x_n)$$\n",
    "para cierta función $f_{X_1,X_2,\\cdots,X_n}(x_1,\\cdots,x_n)$ a la que llamamos función densidad de probabilidad (conjunta) del vector aleatorio $(X_1,\\cdots,X_n)$\n",
    "\n",
    "* Si las v.a. son independientes, entonces $$ f_{X_1,X_2,\\cdots,X_n}= f_{X_1}f_{X_2}\\cdots f_{X_n}$$\n",
    "\n",
    "<strong>Distribuciones marginales (caso continuo)</strong> <font color=\"brown\">(el caso discreto es similar)</font>\n",
    "Sea $(X,Y)$ vector aleatorio continuo con fdp $f_{X,Y}(t,s)$. Entonces podemos definir las distribuciones de probabilidad marginales:\n",
    "*  $P(X\\leq t, Y<\\infty)=\\int_{-\\infty}^t\\left( \\int_{-\\infty}^{\\infty}f_{X,Y}(x,y)dy\\right) dx$, que nos conduce a la función densidad de probabilidad marginal\n",
    "$$\n",
    "f_X(x)= \\int_{-\\infty}^{\\infty}f_{X,Y}(x,y)dy\n",
    "$$\n",
    "* Análogamente, $P(X<\\infty, Y\\leq s)=\\int_{-\\infty}^s\\left( \\int_{-\\infty}^{\\infty}f_{X,Y}(x,y)dx\\right) dy$, que nos conduce a la función densidad de probabilidad marginal\n",
    "$$\n",
    "f_Y(y)= \\int_{-\\infty}^{\\infty}f_{X,Y}(x,y)dx\n",
    "$$\n",
    "Evidentemente, este concepto se generaliza de forma trivial a vectores aleatorios de dimensión arbitraria $n>1$. \n"
   ]
  },
  {
   "cell_type": "markdown",
   "metadata": {},
   "source": [
    "<strong> Distribuciones condicionadas (caso continuo)</strong> <font color= \"brown\">(el caso discreto es similar)</font> \n",
    " Sea $(X,Y)$ vector aleatorio continuo con fdp $f_{X,Y}(t,s)$ y con fdp's marginales $f_X$ y $f_Y$. Entonces podemos definir las distribuciones de probabilidad condicionadas:\n",
    "    \n",
    "*  $P(X\\leq t |Y=y)=\\int_{-\\infty}^t\\frac{f_{X,Y}(x,y)}{f_Y(y)}dx$, que nos conduce a la función densidad de probabilidad condicionada\n",
    "$$\n",
    "f_{X|Y=y}(x)=\\frac{f_{X,Y}(x,y)}{f_Y(y)}\n",
    "$$\n",
    "* Análogamente, $P(Y\\leq s |X=x)=\\int_{-\\infty}^s\\frac{f_{X,Y}(x,y)}{f_X(x)}dy$, que nos conduce a la función densidad de probabilidad condicionada\n",
    "$$\n",
    "f_{Y|X=x}(y)=\\frac{f_{X,Y}(x,y)}{f_X(x)}\n",
    "$$\n",
    "  \n"
   ]
  },
  {
   "cell_type": "markdown",
   "metadata": {},
   "source": [
    "<h3> Distribución de la suma de dos v.a  independientes </h3>\n",
    "\n",
    "<font color=\"blue\"> <strong> Teorema (Distribución de una suma de v.a. independientes continuas)</strong>  Supongamos que $X,Y$ son v.a. continuas independientes y tomemos $Z=X+Y$. Entonces $$f_Z(t)=(f_X\\ast f_Y)(t)=\\int_{-\\infty}^{\\infty}f_X(s)f_Y(t-s)ds.$$ </font> \n",
    "\n",
    "\n",
    "<strong>Demostración </strong>  Recordemos el Teorema del cambio de variables:\n",
    "\n",
    "<font color=\"red\"> <strong> Teorema </strong>  Sea $T:W\\to \\Omega$ un cambio de variables entre abiertos de $\\mathbb{R}^d$. Entonces $$ \\int_\\Omega f(x) =\\int_W f(T(z))|\\det(T'(z))|$$\n",
    "</font>\n",
    "\n",
    "Ahora bien, por hipótesis, $f_{X,Y}=f_Xf_Y$, de modo que\n",
    "$$\n",
    "F_{X+Y}(t)=P(X+Y\\leq t)=\\int_{\\{(x,y):x+y\\leq t\\}}f_X(x)f_Y(y)\n",
    "$$\n",
    " Si tomamos $T(z,w)=(w,z-w)$, tendremos que $T(\\{(z,w):z\\leq t\\})=\\{(x,y):x+y\\leq t\\}$. Además,\n",
    " $T'=\\left(\\begin{array}{llll} 0 & 1 \\\\ 1& -1 \\end{array}\\right)$, por lo que $|\\det(T')|=1$.\n",
    " Se sigue que\n",
    "$$\n",
    " \\int_{\\{(x,y):x+y\\leq t\\}}f_X(x)f_Y(y) = \\int_{\\{(z,w):z\\leq t\\}}f_X(T(z,w))f_Y(T(z,w)) $$\n",
    "$$ =  \\int_{\\{(z,w):z\\leq t\\}}f_X(w)f_Y(z-w) $$\n",
    "$$ =  \\int_{-\\infty}^t (\\int_{-\\infty}^{\\infty}f_X(w)f_Y(z-w) dw)dz$$"
   ]
  },
  {
   "cell_type": "markdown",
   "metadata": {},
   "source": [
    "<h3> Teorema central del límite </h3>\n",
    "\n",
    "<font color=\"blue\"> <strong> Teorema (Teorema Central del límite)</strong>  Sea $X_1,X_2,\\cdots,$ una sucesión de v.a. independientes idénticamente distribuidas, todas ellas con $E(X_i)=\\mu<\\infty$ y $V(X_i)=\\sigma^2<\\infty$. Consideremos la v.a. \n",
    " $$S_n=\\frac{X_1+X_2+\\cdots+X_n}{n}.$$\n",
    " Entonces $Z_n=\\frac{\\sqrt{n}(S_n-\\mu)}{\\sigma}$ converge, en distribución, a una v.a. $N(0,1)$.  (En otras palabras, $$lim_{n\\to\\infty}F_{Z_n}(t)= \\frac{1}{\\sqrt{2\\pi}}\\int_{-\\infty}^te^{-x^2/2}dx,$$ con convergencia puntual en toda la recta.) </font>\n",
    " \n",
    "\n",
    "La prueba del teorema anterior se basa en utilizar las propiedades de la <strong>Función generatriz de momentos</strong> de una v.a. $X$, que viene definida por: \n",
    "\n",
    "$$\n",
    "M_X(t)=E(e^{tX})\n",
    "$$\n",
    "\n",
    "<strong> Proposición </strong> \n",
    "En condiciones generales,\n",
    "$$M_X(t)=\\sum_{k=0}^{\\infty} \\frac{E(X^n)}{n!}t^n,$$\n",
    "de modo que $E(X^n)=M_X^{(n)}(0)$, $n=0,1,\\cdots.$ Además:\n",
    "\n",
    "* Si $M_X(t)=M_Y(t)$ para todo $t$, entonces las v.a. $X$ e $Y$ están idénticamente distribuidas.\n",
    "\n",
    "Además:\n",
    "\n",
    "* Si $Y=\\alpha X+\\beta$, entonces $M_Y(t)=e^{\\beta t}M_X(\\alpha t)$.\n",
    "\n",
    "* Si $X,Y$ son v.a. independientes. Entonces $M_{X+Y}(t)=M_X(t)M_Y(t)$.\n",
    "\n",
    "\n",
    " <strong> Proposición </strong> \n",
    "Sean $X_1,\\cdots,X_n$ v.a. independientes y sea $Z=X_1+\\cdots+X_n$. Entonces:\n",
    "\n",
    " \n",
    "*   Si $X_i\\sim N(\\mu_i,\\sigma_i^2)$, $i=1,\\cdots,n$, entonces\n",
    "    $Z\\sim N(\\sum_{i=1}^n\\mu_i,\\sum_{i=1}^n\\sigma_i^2)$ \n",
    "    \n",
    "*  Si $X_i\\sim \\mathbf{Poiss}(\\alpha_i)$, $i=1,\\cdots, n$, entonces\n",
    "$Z\\sim \\mathbf{Poiss}(\\sum_{i=1}^n\\alpha_i)$ \n",
    "\n",
    "*  Si $X_i\\sim \\chi^2(n_i)$, $i=1,\\cdots,n$, entonces \n",
    "$$ Z \\sim \\chi^2(\\sum_{i=1}^nn_i)$$ \n",
    "\n",
    "*  Si $X_i\\sim N(0,1)$, $i=1,\\cdots,n$, entonces \n",
    "$$ X_1^2+X_2^2+\\cdots+X_n^2 \\sim \\chi^2(n)$$ \n",
    "\n",
    "\n",
    "<strong> Proposición </strong> \n",
    "Sea $X_1,\\dots,X_n$ una muestra aleatoria proveniente de una población con distribución $N(\\mu,\\sigma^2)$. Sean $\\overline{X}=\\frac{1}{n}\\sum_{i=1}^nX_i$ la media muestral y $$S^2=\\frac{1}{n-1}\\sum_{i=1}^n\\left(X_i-\\overline{X}\\right)^2$$ la cuasi-varianza muestral. Entonces\n",
    "\n",
    "* $\\overline{X}$ y el vector $\\left(X_1-\\overline{X},\\dots,X_n-\\overline{X}\\right)$ son independientes.\n",
    "*  $\\overline{X}$ y $S^2$ son independientes.\n",
    "*  $\\frac{(n-1)S^2}{\\sigma^2}\\sim\\chi_{n-1}^2$.\n",
    "*  $\\operatorname{E}[S^2]=\\sigma^2$ y $\\operatorname{Var}(S^2)=\\frac{2\\sigma^4}{n-1}$.\n",
    "\n",
    "\n",
    " <strong> Proposición </strong> \n",
    "Sean $Z,X$ v.a. independientes. Supongamos además que $Z\\sim N(0,1)$ y $X\\sim \\chi^2(n)$. Entonces \n",
    "$$T=\\frac{Z}{\\sqrt{X/n}}\\sim t(n).$$\n",
    "\n",
    "\n",
    "(Este último resultado se puede probar con un cálculo directo, sin necesidad de utilizar $M_T(t)$ ...)"
   ]
  },
  {
   "cell_type": "code",
   "execution_count": null,
   "metadata": {},
   "outputs": [],
   "source": []
  }
 ],
 "metadata": {
  "kernelspec": {
   "display_name": "Python 3",
   "language": "python",
   "name": "python3"
  },
  "language_info": {
   "codemirror_mode": {
    "name": "ipython",
    "version": 3
   },
   "file_extension": ".py",
   "mimetype": "text/x-python",
   "name": "python",
   "nbconvert_exporter": "python",
   "pygments_lexer": "ipython3",
   "version": "3.7.6"
  }
 },
 "nbformat": 4,
 "nbformat_minor": 4
}
